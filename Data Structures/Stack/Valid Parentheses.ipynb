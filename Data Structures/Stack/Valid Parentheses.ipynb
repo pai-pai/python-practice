{
 "cells": [
  {
   "cell_type": "markdown",
   "id": "7ed8a832",
   "metadata": {
    "tags": [
     "LeetCode",
     "Data_Structues",
     "Stack",
     "Easy"
    ]
   },
   "source": [
    "Given a string $s$ containing just the characters '(', ')', '{', '}', '[' and ']', determine if the input string is valid.\n",
    "\n",
    "An input string is valid if:\n",
    "1. Open brackets must be closed by the same type of brackets.\n",
    "2. Open brackets must be closed in the correct order.\n",
    "\n",
    "*Example 1*\n",
    "\n",
    "$s$ = \"()\"<br />\n",
    "Returns `true`\n",
    "\n",
    "*Example 2*\n",
    "\n",
    "$s$ = \"()[]{}\"<br />\n",
    "Returns `true`\n",
    "\n",
    "*Example 3*\n",
    "\n",
    "$s$ = \"(]\"<br />\n",
    "Returns `false`\n",
    "\n",
    "*Code*"
   ]
  },
  {
   "cell_type": "code",
   "execution_count": 1,
   "id": "8c32bfeb",
   "metadata": {},
   "outputs": [],
   "source": [
    "def is_valid(s):\n",
    "    if len(s) < 2:\n",
    "        return False\n",
    "    pairs = {\")\": \"(\", \"]\": \"[\", \"}\": \"{\"}\n",
    "    st = []\n",
    "    for br in s:\n",
    "        if br in pairs:\n",
    "            if not st or st[-1] != pairs[br]:\n",
    "                return False\n",
    "            st.pop()\n",
    "        else:\n",
    "            st.append(br)\n",
    "    return not st"
   ]
  },
  {
   "cell_type": "code",
   "execution_count": 2,
   "id": "d0de20a3",
   "metadata": {},
   "outputs": [
    {
     "name": "stdout",
     "output_type": "stream",
     "text": [
      "True\n"
     ]
    }
   ],
   "source": [
    "print(is_valid(\"()\"))"
   ]
  },
  {
   "cell_type": "code",
   "execution_count": 3,
   "id": "10941ca4",
   "metadata": {},
   "outputs": [
    {
     "name": "stdout",
     "output_type": "stream",
     "text": [
      "True\n"
     ]
    }
   ],
   "source": [
    "print(is_valid(\"()[]{}\"))"
   ]
  },
  {
   "cell_type": "code",
   "execution_count": 4,
   "id": "363aee72",
   "metadata": {},
   "outputs": [
    {
     "name": "stdout",
     "output_type": "stream",
     "text": [
      "False\n"
     ]
    }
   ],
   "source": [
    "print(is_valid(\"(]\"))"
   ]
  },
  {
   "cell_type": "code",
   "execution_count": 5,
   "id": "ff0f2b18",
   "metadata": {},
   "outputs": [
    {
     "name": "stdout",
     "output_type": "stream",
     "text": [
      "True\n"
     ]
    }
   ],
   "source": [
    "print(is_valid(\"(({(){}[]}))\"))"
   ]
  },
  {
   "cell_type": "code",
   "execution_count": 6,
   "id": "246e01b5",
   "metadata": {},
   "outputs": [
    {
     "name": "stdout",
     "output_type": "stream",
     "text": [
      "False\n"
     ]
    }
   ],
   "source": [
    "print(is_valid(\"(({([]}))\"))"
   ]
  }
 ],
 "metadata": {
  "celltoolbar": "Tags",
  "kernelspec": {
   "display_name": "Python 3",
   "language": "python",
   "name": "python3"
  },
  "language_info": {
   "codemirror_mode": {
    "name": "ipython",
    "version": 3
   },
   "file_extension": ".py",
   "mimetype": "text/x-python",
   "name": "python",
   "nbconvert_exporter": "python",
   "pygments_lexer": "ipython3",
   "version": "3.8.8"
  }
 },
 "nbformat": 4,
 "nbformat_minor": 5
}
