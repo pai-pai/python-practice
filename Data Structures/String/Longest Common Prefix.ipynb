{
 "cells": [
  {
   "cell_type": "markdown",
   "id": "333d9af2",
   "metadata": {
    "tags": [
     "LeetCode",
     "Data_Structures",
     "String"
    ]
   },
   "source": [
    "Write a function to find the longest common prefix string amongst an array of strings.\n",
    "\n",
    "If there is no common prefix, return an empty string \"\".\n",
    "\n",
    "*Example 1*\n",
    "\n",
    "$strs$ = [\"flower\",\"flow\",\"flight\"]<br />\n",
    "Returns \"fl\"\n",
    "\n",
    "*Example 2*\n",
    "\n",
    "$strs$ = [\"dog\",\"racecar\",\"car\"]<br />\n",
    "Returns \"\". There is no common prefix among the input strings.\n",
    "\n",
    "*Code*"
   ]
  },
  {
   "cell_type": "code",
   "execution_count": 5,
   "id": "6c31a784",
   "metadata": {},
   "outputs": [],
   "source": [
    "def longest_common_prefix(strs):\n",
    "    if not strs:\n",
    "        return \"\"\n",
    "    shortest = min(strs, key=len)\n",
    "    for i in range(len(shortest)):\n",
    "        for word in strs:\n",
    "            if shortest[i] != word[i]:\n",
    "                return shortest[:i]\n",
    "    return shortest"
   ]
  },
  {
   "cell_type": "code",
   "execution_count": 7,
   "id": "40206c75",
   "metadata": {},
   "outputs": [
    {
     "name": "stdout",
     "output_type": "stream",
     "text": [
      "fl\n"
     ]
    }
   ],
   "source": [
    "print(longest_common_prefix([\"flower\",\"flow\",\"flight\"]))"
   ]
  },
  {
   "cell_type": "code",
   "execution_count": 8,
   "id": "49aade2e",
   "metadata": {},
   "outputs": [
    {
     "name": "stdout",
     "output_type": "stream",
     "text": [
      "\n"
     ]
    }
   ],
   "source": [
    "print(longest_common_prefix([\"dog\",\"racecar\",\"car\"]))"
   ]
  }
 ],
 "metadata": {
  "celltoolbar": "Tags",
  "kernelspec": {
   "display_name": "Python 3",
   "language": "python",
   "name": "python3"
  },
  "language_info": {
   "codemirror_mode": {
    "name": "ipython",
    "version": 3
   },
   "file_extension": ".py",
   "mimetype": "text/x-python",
   "name": "python",
   "nbconvert_exporter": "python",
   "pygments_lexer": "ipython3",
   "version": "3.8.8"
  }
 },
 "nbformat": 4,
 "nbformat_minor": 5
}
