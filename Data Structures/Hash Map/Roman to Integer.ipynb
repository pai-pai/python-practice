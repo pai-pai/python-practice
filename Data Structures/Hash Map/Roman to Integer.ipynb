{
 "cells": [
  {
   "cell_type": "markdown",
   "id": "d70ba329",
   "metadata": {
    "tags": [
     "LeetCode",
     "Data_Structures",
     "Hash_Map",
     "Easy"
    ]
   },
   "source": [
    "Roman numerals are represented by seven different symbols: $I = 1$, $V = 5$, $X = 10$, $L = 50$, $C = 100$, $D = 500$ and $M = 1000$.\n",
    "\n",
    "For example, $2$ is written as $II$ in Roman numeral, just two one's added together. $12$ is written as $XII$, which is simply $X + II$. The number $27$ is written as $XXVII$, which is $XX + V + II$.\n",
    "\n",
    "Roman numerals are usually written largest to smallest from left to right. However, the numeral for $4$ is not $IIII$. Instead, the number $4$ is written as $IV$. Because the one is before the $5$ we subtract it making $4$. The same principle applies to the number $9$, which is written as $IX$. There are six instances where subtraction is used:\n",
    "- $I$ can be placed before $V$ ($5$) and $X$ ($10$) to make $4$ and $9$. \n",
    "- $X$ can be placed before $L$ ($50$) and $C$ ($100$) to make $40$ and $90$. \n",
    "- $C$ can be placed before $D$ ($500$) and $M$ ($1000$) to make $400$ and $900$.\n",
    "\n",
    "Given a roman numeral, convert it to an integer.\n",
    "\n",
    "*Example 1*\n",
    "\n",
    "$s$ = \"III\"<br />\n",
    "Returns 3: $III = 3$.\n",
    "\n",
    "*Example 2*\n",
    "\n",
    "$s$ = \"LVIII\"<br />\n",
    "Returns 58: $L = 50$, $V= 5$, $III = 3$.\n",
    "\n",
    "*Example 3*\n",
    "\n",
    "$s$ = \"MCMXCIV\"<br />\n",
    "Returns 1994: $M = 1000$, $CM = 900$, $XC = 90$ and $IV = 4$.\n",
    "\n",
    "*Code*"
   ]
  },
  {
   "cell_type": "code",
   "execution_count": 12,
   "id": "f187bbc5",
   "metadata": {},
   "outputs": [],
   "source": [
    "def roman_to_int(s):\n",
    "    r_to_i = {'I': 1, 'V': 5, 'X': 10, 'L': 50, 'C': 100, 'D': 500, 'M': 1000,}\n",
    "    total = 0\n",
    "    prev, current = 0, 0\n",
    "    for el in s[::-1]:\n",
    "        current = r_to_i[el]\n",
    "        total = total + (current if current >= prev else (-current))\n",
    "        prev = current\n",
    "    return total"
   ]
  },
  {
   "cell_type": "code",
   "execution_count": 13,
   "id": "af82b635",
   "metadata": {},
   "outputs": [
    {
     "name": "stdout",
     "output_type": "stream",
     "text": [
      "3\n"
     ]
    }
   ],
   "source": [
    "print(roman_to_int(\"III\"))"
   ]
  },
  {
   "cell_type": "code",
   "execution_count": 14,
   "id": "25039070",
   "metadata": {},
   "outputs": [
    {
     "name": "stdout",
     "output_type": "stream",
     "text": [
      "58\n"
     ]
    }
   ],
   "source": [
    "print(roman_to_int(\"LVIII\"))"
   ]
  },
  {
   "cell_type": "code",
   "execution_count": 15,
   "id": "cdc4c202",
   "metadata": {},
   "outputs": [
    {
     "name": "stdout",
     "output_type": "stream",
     "text": [
      "1994\n"
     ]
    }
   ],
   "source": [
    "print(roman_to_int(\"MCMXCIV\"))"
   ]
  }
 ],
 "metadata": {
  "celltoolbar": "Tags",
  "kernelspec": {
   "display_name": "Python 3",
   "language": "python",
   "name": "python3"
  },
  "language_info": {
   "codemirror_mode": {
    "name": "ipython",
    "version": 3
   },
   "file_extension": ".py",
   "mimetype": "text/x-python",
   "name": "python",
   "nbconvert_exporter": "python",
   "pygments_lexer": "ipython3",
   "version": "3.8.8"
  }
 },
 "nbformat": 4,
 "nbformat_minor": 5
}
