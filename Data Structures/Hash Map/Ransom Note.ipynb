{
 "cells": [
  {
   "cell_type": "markdown",
   "id": "ba8bc594",
   "metadata": {
    "tags": [
     "HackerRank",
     "Data_Structures",
     "Easy",
     "Hash_Map"
    ]
   },
   "source": [
    "Harold is a kidnapper who wrote a ransom note, but now he is worried it will be traced back to him through his handwriting. He found a magazine and wants to know if he can cut out whole words from it and use them to create an untraceable replica of his ransom note. The words in his note are case-sensitive and he must use only whole words available in the magazine. He cannot use substrings or concatenation to create the words he needs.\n",
    "\n",
    "Given the words in the $\\textit{magazine}$ and the words in the ransom $\\textit{note}$, print `Yes` if he can replicate his ransom note exactly using whole words from the magazine; otherwise, print `No`.\n",
    "\n",
    "\n",
    "*Example 1*\n",
    "\n",
    "$\\textit{magazine}$ = [\"give\", \"me\", \"one\", \"grand\", \"today\", \"night\"]<br />\n",
    "$\\textit{note}$ = [\"give\", \"one\", \"grand\", \"today\"]<br />\n",
    "Returns `Yes`\n",
    "\n",
    "*Example 2*\n",
    "\n",
    "$\\textit{magazine}$ = [\"two\", \"times\", \"three\", \"is\", \"not\", \"four\"]<br />\n",
    "$\\textit{note}$ = [\"two\", \"times\", \"two\", \"is\", \"four\"]<br />\n",
    "Returns `No`. 'two' only occurs once in the magazine.\n",
    "\n",
    "*Example 3*\n",
    "\n",
    "$\\textit{magazine}$ = [\"ive\", \"got\", \"a\", \"lovely\", \"bunch\", \"of\", \"coconuts\"]<br />\n",
    "$\\textit{note}$ = [\"ive\", \"got\", \"some\", \"coconuts\"]<br />\n",
    "Returns `No`. Harold's magazine is missing the word 'some'.\n",
    "\n",
    "\n",
    "*Code*"
   ]
  },
  {
   "cell_type": "code",
   "execution_count": 9,
   "id": "1a6d5004",
   "metadata": {},
   "outputs": [],
   "source": [
    "def check_magazine(magazine, note):\n",
    "    md = {}\n",
    "    for word in magazine:\n",
    "        md[word] = md.get(word, 0) + 1\n",
    "    for word in note:\n",
    "        if md.get(word, 0) == 0:\n",
    "            return 'No'\n",
    "        md[word] -= 1\n",
    "    return 'Yes'"
   ]
  },
  {
   "cell_type": "code",
   "execution_count": 11,
   "id": "0806b833",
   "metadata": {},
   "outputs": [
    {
     "name": "stdout",
     "output_type": "stream",
     "text": [
      "Yes\n"
     ]
    }
   ],
   "source": [
    "magazine = [\"give\", \"me\", \"one\", \"grand\", \"today\", \"night\"]\n",
    "note = [\"give\", \"one\", \"grand\", \"today\"]\n",
    "print(check_magazine(magazine, note))"
   ]
  },
  {
   "cell_type": "code",
   "execution_count": 12,
   "id": "7e1ff79e",
   "metadata": {},
   "outputs": [
    {
     "name": "stdout",
     "output_type": "stream",
     "text": [
      "No\n"
     ]
    }
   ],
   "source": [
    "magazine = [\"two\", \"times\", \"three\", \"is\", \"not\", \"four\"]\n",
    "note = [\"two\", \"times\", \"two\", \"is\", \"four\"]\n",
    "print(check_magazine(magazine, note))"
   ]
  },
  {
   "cell_type": "code",
   "execution_count": 13,
   "id": "62c8724f",
   "metadata": {},
   "outputs": [
    {
     "name": "stdout",
     "output_type": "stream",
     "text": [
      "No\n"
     ]
    }
   ],
   "source": [
    "magazine = [\"ive\", \"got\", \"a\", \"lovely\", \"bunch\", \"of\", \"coconuts\"]\n",
    "note = [\"ive\", \"got\", \"some\", \"coconuts\"]\n",
    "print(check_magazine(magazine, note))"
   ]
  },
  {
   "cell_type": "code",
   "execution_count": 10,
   "id": "03eb36db",
   "metadata": {},
   "outputs": [
    {
     "name": "stdout",
     "output_type": "stream",
     "text": [
      "Yes\n"
     ]
    }
   ],
   "source": [
    "magazine = [\"apgo\", \"clm\", \"w\", \"lxkvg\", \"mwz\", \"elo\", \"bg\", \n",
    "            \"elo\", \"lxkvg\", \"elo\", \"apgo\", \"apgo\", \"w\", \"elo\", \"bg\"]\n",
    "note = [\"elo\", \"lxkvg\", \"bg\", \"mwz\", \"clm\", \"w\"]\n",
    "print(check_magazine(magazine, note))"
   ]
  }
 ],
 "metadata": {
  "celltoolbar": "Tags",
  "kernelspec": {
   "display_name": "Python 3",
   "language": "python",
   "name": "python3"
  },
  "language_info": {
   "codemirror_mode": {
    "name": "ipython",
    "version": 3
   },
   "file_extension": ".py",
   "mimetype": "text/x-python",
   "name": "python",
   "nbconvert_exporter": "python",
   "pygments_lexer": "ipython3",
   "version": "3.8.8"
  }
 },
 "nbformat": 4,
 "nbformat_minor": 5
}
