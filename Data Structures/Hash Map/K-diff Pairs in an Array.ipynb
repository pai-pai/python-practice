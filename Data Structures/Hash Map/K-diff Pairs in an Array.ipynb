{
 "cells": [
  {
   "cell_type": "markdown",
   "id": "f3141ef3",
   "metadata": {},
   "source": [
    "Given an array of integers $\\textit{nums}$ and an integer $k$, return the number of unique $k$-diff pairs in the array.\n",
    "\n",
    "A $k$-diff pair is an integer pair ($\\textit{nums}[i]$, $\\textit{nums}[j]$), where the following are true:\n",
    "\n",
    "```\n",
    "0 <= i < j < nums.length\n",
    "|nums[i] - nums[j]| == k\n",
    "```\n",
    "\n",
    "Notice that $|\\textit{val}|$ denotes the absolute value of $\\textit{val}$.\n",
    "\n",
    "\n",
    "*Example 1*\n",
    "\n",
    "$\\textit{nums}$ = [3,1,4,1,5], $k$ = 2<br />\n",
    "Returns 2. There are two 2-diff pairs in the array, (1, 3) and (3, 5). Although we have two 1s in the input, we should only return the number of unique pairs.\n",
    "\n",
    "*Example 2*\n",
    "\n",
    "$\\textit{nums}$ = [1,2,3,4,5], $k$ = 1<br />\n",
    "Returns 4. There are four 1-diff pairs in the array, (1, 2), (2, 3), (3, 4) and (4, 5).\n",
    "\n",
    "*Example 3*\n",
    "\n",
    "$\\textit{nums}$ = [1,3,1,5,4], $k$ = 0<br />\n",
    "Returns 1. There is one 0-diff pair in the array, (1, 1).\n",
    "\n",
    "\n",
    "*Code*"
   ]
  },
  {
   "cell_type": "code",
   "execution_count": 128,
   "id": "d275ee01",
   "metadata": {},
   "outputs": [],
   "source": [
    "class Solution:\n",
    "    def findPairs(self, nums, k):\n",
    "        total = 0\n",
    "        d, seen = {}, set()\n",
    "        for num in nums:\n",
    "            d[num] = d.get(num, 0) + 1\n",
    "        for num in nums:\n",
    "            if num + k not in d or num in seen:\n",
    "                continue\n",
    "            seen.add(num)\n",
    "            if k > 0 or (k == 0 and d[num] > 1):\n",
    "                total += 1\n",
    "        return total"
   ]
  },
  {
   "cell_type": "code",
   "execution_count": 129,
   "id": "52dfa376",
   "metadata": {},
   "outputs": [
    {
     "data": {
      "text/plain": [
       "2"
      ]
     },
     "execution_count": 129,
     "metadata": {},
     "output_type": "execute_result"
    }
   ],
   "source": [
    "Solution().findPairs(nums=[3,-1,1], k=2)  # exp. 2: (3,1) and (-1,1)"
   ]
  },
  {
   "cell_type": "code",
   "execution_count": 130,
   "id": "f3de5639",
   "metadata": {},
   "outputs": [
    {
     "data": {
      "text/plain": [
       "2"
      ]
     },
     "execution_count": 130,
     "metadata": {},
     "output_type": "execute_result"
    }
   ],
   "source": [
    "Solution().findPairs(nums=[3,1,-1], k=2)  # exp. 2: (3,1) and (1,-1)"
   ]
  },
  {
   "cell_type": "code",
   "execution_count": 131,
   "id": "37d5b5dc",
   "metadata": {},
   "outputs": [
    {
     "data": {
      "text/plain": [
       "1"
      ]
     },
     "execution_count": 131,
     "metadata": {},
     "output_type": "execute_result"
    }
   ],
   "source": [
    "Solution().findPairs(nums=[3,1,1], k=2)  # exp. 1: (3,1)"
   ]
  },
  {
   "cell_type": "code",
   "execution_count": 132,
   "id": "b6de97dd",
   "metadata": {},
   "outputs": [
    {
     "data": {
      "text/plain": [
       "2"
      ]
     },
     "execution_count": 132,
     "metadata": {},
     "output_type": "execute_result"
    }
   ],
   "source": [
    "Solution().findPairs(nums=[3,1,4,1,5], k=2)  # exp. 2: (1, 3) and (3,5)"
   ]
  },
  {
   "cell_type": "code",
   "execution_count": 133,
   "id": "8707aa23",
   "metadata": {},
   "outputs": [
    {
     "data": {
      "text/plain": [
       "4"
      ]
     },
     "execution_count": 133,
     "metadata": {},
     "output_type": "execute_result"
    }
   ],
   "source": [
    "Solution().findPairs(nums=[1,2,3,4,5], k=1)  # exp. 4: (1, 2), (2, 3), (3, 4) and (4, 5)"
   ]
  },
  {
   "cell_type": "code",
   "execution_count": 134,
   "id": "6d7b38ad",
   "metadata": {},
   "outputs": [
    {
     "data": {
      "text/plain": [
       "1"
      ]
     },
     "execution_count": 134,
     "metadata": {},
     "output_type": "execute_result"
    }
   ],
   "source": [
    "Solution().findPairs(nums=[1,3,1,5,4], k=0)  # exp. 1: (1, 1)"
   ]
  },
  {
   "cell_type": "code",
   "execution_count": 135,
   "id": "366d592c",
   "metadata": {},
   "outputs": [
    {
     "data": {
      "text/plain": [
       "2"
      ]
     },
     "execution_count": 135,
     "metadata": {},
     "output_type": "execute_result"
    }
   ],
   "source": [
    "Solution().findPairs(nums=[1,2,4,4,3,3,0,9,2,3], k=3)  # exp. 2"
   ]
  }
 ],
 "metadata": {
  "kernelspec": {
   "display_name": "Python 3",
   "language": "python",
   "name": "python3"
  },
  "language_info": {
   "codemirror_mode": {
    "name": "ipython",
    "version": 3
   },
   "file_extension": ".py",
   "mimetype": "text/x-python",
   "name": "python",
   "nbconvert_exporter": "python",
   "pygments_lexer": "ipython3",
   "version": "3.8.8"
  }
 },
 "nbformat": 4,
 "nbformat_minor": 5
}
