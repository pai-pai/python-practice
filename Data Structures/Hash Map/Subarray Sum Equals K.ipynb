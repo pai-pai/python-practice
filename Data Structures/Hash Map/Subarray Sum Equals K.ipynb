{
 "cells": [
  {
   "cell_type": "markdown",
   "id": "60587396",
   "metadata": {},
   "source": [
    "Given an array of integers $\\textit{nums}$ and an integer $k$, return the total number of continuous subarrays whose sum equals to $k$.\n",
    "\n",
    "\n",
    "*Example 1*\n",
    "\n",
    "$\\textit{nums}$ = [1,1,1], k = 2<br />\n",
    "Returns 2\n",
    "\n",
    "*Example 2*\n",
    "\n",
    "$\\textit{nums}$ = [1,2,3], k = 3<br />\n",
    "Returns 2\n",
    "\n",
    "\n",
    "*Code*"
   ]
  },
  {
   "cell_type": "code",
   "execution_count": 98,
   "id": "bcb7d32d",
   "metadata": {},
   "outputs": [],
   "source": [
    "class Solution:\n",
    "    def subarraySum(self, nums, k):\n",
    "        total = 0\n",
    "        running_sum = 0\n",
    "        d = {0: 1}\n",
    "        for i in range(len(nums)):\n",
    "            running_sum += nums[i]\n",
    "            total += d.get(running_sum - k, 0)\n",
    "            d[running_sum] = d.get(running_sum, 0) + 1\n",
    "        return total\n",
    "    \n",
    "    def subarraySum2(self, nums, k):\n",
    "        # Time Limit Exceeded\n",
    "        total = 0\n",
    "        for i in range(len(nums)):\n",
    "            current_sum = 0\n",
    "            for j in range(i, len(nums)):\n",
    "                current_sum += nums[j]\n",
    "                if current_sum == k:\n",
    "                    total += 1\n",
    "        return total"
   ]
  },
  {
   "cell_type": "code",
   "execution_count": 99,
   "id": "69d7c35b",
   "metadata": {},
   "outputs": [
    {
     "data": {
      "text/plain": [
       "2"
      ]
     },
     "execution_count": 99,
     "metadata": {},
     "output_type": "execute_result"
    }
   ],
   "source": [
    "Solution().subarraySum(nums = [1,1,1], k = 2)"
   ]
  },
  {
   "cell_type": "code",
   "execution_count": 100,
   "id": "0ab9dcf4",
   "metadata": {},
   "outputs": [
    {
     "data": {
      "text/plain": [
       "2"
      ]
     },
     "execution_count": 100,
     "metadata": {},
     "output_type": "execute_result"
    }
   ],
   "source": [
    "Solution().subarraySum([1,2,3], k = 3)"
   ]
  },
  {
   "cell_type": "code",
   "execution_count": 101,
   "id": "679f9a6c",
   "metadata": {},
   "outputs": [
    {
     "data": {
      "text/plain": [
       "1"
      ]
     },
     "execution_count": 101,
     "metadata": {},
     "output_type": "execute_result"
    }
   ],
   "source": [
    "Solution().subarraySum([3,1,4,2], k = 3)"
   ]
  },
  {
   "cell_type": "code",
   "execution_count": 103,
   "id": "f06fd1bf",
   "metadata": {},
   "outputs": [
    {
     "data": {
      "text/plain": [
       "3"
      ]
     },
     "execution_count": 103,
     "metadata": {},
     "output_type": "execute_result"
    }
   ],
   "source": [
    "Solution().subarraySum([1,-1,0], k = 0)"
   ]
  },
  {
   "cell_type": "markdown",
   "id": "b7ce8573",
   "metadata": {},
   "source": [
    "*Explanation*\n",
    "\n",
    "For example $\\textit{nums}$ = [5, 1, 2] and $k$ = 3.\n",
    "\n",
    "The array of running sum for it is: `[5, 6, 8]`.\n",
    "\n",
    "For each running sum item we have to know \"Is there `running sum - k` number in the previous part of running sum array?\". If so, it means that there is an subarray with sum equals to k between `running sum - k` and `running sum` itself (including number with this runnung sum):\n",
    "\n",
    "For `running sum == 8` there is number `running sum - k == 5` with index 0 in the array of running sum. And as we can see subarray [1, 2] starts right after number 5 and ends at index 3.\n",
    "\n",
    "**Note** we have to initialize hash with (0, 1) key-value pair because for cases when k == some number in initial array (nums = [3], k = 3) subarray [3] gives us sum equals to k but there is no 0 running sum value before it."
   ]
  }
 ],
 "metadata": {
  "kernelspec": {
   "display_name": "Python 3",
   "language": "python",
   "name": "python3"
  },
  "language_info": {
   "codemirror_mode": {
    "name": "ipython",
    "version": 3
   },
   "file_extension": ".py",
   "mimetype": "text/x-python",
   "name": "python",
   "nbconvert_exporter": "python",
   "pygments_lexer": "ipython3",
   "version": "3.8.8"
  }
 },
 "nbformat": 4,
 "nbformat_minor": 5
}
