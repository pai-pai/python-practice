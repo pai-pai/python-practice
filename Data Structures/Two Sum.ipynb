{
 "cells": [
  {
   "cell_type": "markdown",
   "id": "4b58ee8f",
   "metadata": {
    "tags": [
     "LeetCode",
     "Data_Structures",
     "Hash"
    ]
   },
   "source": [
    "Given an array of integers $nums$ and an integer $target$, return indices of the two numbers such that they add up to $target$.\n",
    "\n",
    "You may assume that each input would have **exactly one solution**, and you may not use the same element twice.\n",
    "\n",
    "You can return the answer in any order.\n",
    "\n",
    "*Example 1*\n",
    "\n",
    "$nums = [2,7,11,15]\\\\\n",
    "target = 9$\n",
    "Because $nums[0] + nums[1] == 9$, we return $[0, 1]$.\n",
    "\n",
    "*Example 2*\n",
    "\n",
    "$nums = [3,2,4]\\\\\n",
    "target = 6$\n",
    "Result is $[1, 2]$.\n",
    "\n",
    "*Example 3*\n",
    "\n",
    "$nums = [3,3]\\\\\n",
    "target = 6$\n",
    "Result is $[0, 1]$.\n",
    "\n",
    "*Code*"
   ]
  },
  {
   "cell_type": "code",
   "execution_count": 1,
   "id": "2837a1c1",
   "metadata": {},
   "outputs": [],
   "source": [
    "def two_sum(nums, target):\n",
    "    pairs = {}\n",
    "    for i, el in enumerate(nums):\n",
    "        if target - el in pairs:\n",
    "            return [pairs[target - el], i]\n",
    "        else:\n",
    "            pairs[el] = i\n",
    "    return []"
   ]
  },
  {
   "cell_type": "code",
   "execution_count": 3,
   "id": "882a07d4",
   "metadata": {},
   "outputs": [
    {
     "data": {
      "text/plain": [
       "[0, 1]"
      ]
     },
     "execution_count": 3,
     "metadata": {},
     "output_type": "execute_result"
    }
   ],
   "source": [
    "nums = [2,7,11,15]\n",
    "target = 9\n",
    "two_sum(nums, target)"
   ]
  },
  {
   "cell_type": "code",
   "execution_count": 2,
   "id": "a85f52bf",
   "metadata": {},
   "outputs": [
    {
     "data": {
      "text/plain": [
       "[1, 2]"
      ]
     },
     "execution_count": 2,
     "metadata": {},
     "output_type": "execute_result"
    }
   ],
   "source": [
    "nums = [3, 2, 4]\n",
    "target = 6\n",
    "two_sum(nums, target)"
   ]
  },
  {
   "cell_type": "code",
   "execution_count": 4,
   "id": "c17d399c",
   "metadata": {},
   "outputs": [
    {
     "data": {
      "text/plain": [
       "[0, 1]"
      ]
     },
     "execution_count": 4,
     "metadata": {},
     "output_type": "execute_result"
    }
   ],
   "source": [
    "nums = [3, 3]\n",
    "target = 6\n",
    "two_sum(nums, target)"
   ]
  },
  {
   "cell_type": "markdown",
   "id": "edcf3f65",
   "metadata": {},
   "source": [
    "*Explanation*\n",
    "\n",
    "Keep seen elements at a dictionary as keys with values equal to their indexes. For every element we have to check if the difference between target value and this element in the dictionary. If so, pair is founded. If not, add the element to the dictionary."
   ]
  }
 ],
 "metadata": {
  "celltoolbar": "Tags",
  "kernelspec": {
   "display_name": "Python 3",
   "language": "python",
   "name": "python3"
  },
  "language_info": {
   "codemirror_mode": {
    "name": "ipython",
    "version": 3
   },
   "file_extension": ".py",
   "mimetype": "text/x-python",
   "name": "python",
   "nbconvert_exporter": "python",
   "pygments_lexer": "ipython3",
   "version": "3.8.8"
  }
 },
 "nbformat": 4,
 "nbformat_minor": 5
}
