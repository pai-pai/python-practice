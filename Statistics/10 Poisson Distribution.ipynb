{
 "cells": [
  {
   "cell_type": "markdown",
   "id": "41a3dd7d",
   "metadata": {},
   "source": [
    "### Poisson Experiment\n",
    "\n",
    "A Poisson experiment is a statistical experiment that has the following properties: \n",
    "- The outcome of each trial is either success or failure.\n",
    "- The average number of successes $(\\lambda)$ that occurs in a specified region is known.\n",
    "- The probability that a success will occur is proportional to the size of the region.\n",
    "- The probability that a success will occur in an extremely small region is virtually zero. \n",
    "\n",
    "### Poisson Distribution\n",
    "\n",
    "A Poisson random variable is the number of successes that result from a Poisson experiment. The probability distribution of a Poisson random variable is called a Poisson distribution:\n",
    "\n",
    "$$\n",
    "P(k, \\lambda) = \\frac{\\lambda^k e^{-\\lambda}}{k!}\n",
    "$$\n",
    "\n",
    "- $e = 2.71828$\n",
    "- $\\lambda$ is the average number of successes that occur in a specified region\n",
    "- $k$ is the actual number of successes that occur in a specified region\n",
    "- $P(k, \\lambda)$ is the Poisson probability, which is the probability of getting exactly $k$ successes when the average number of successes is $\\lambda$"
   ]
  },
  {
   "cell_type": "markdown",
   "id": "65e0df45",
   "metadata": {},
   "source": [
    "___\n",
    "*Example 1*\n",
    "\n",
    "Acme Realty company sells an average of 2 homes per day. What is the probability that exactly 3 homes will be sold tomorrow? \n",
    "\n",
    "*Solution*\n",
    "\n",
    "- $\\lambda = 2$\n",
    "- $k = 3$\n",
    "\n",
    "$P(3, 2) = \\frac{2^3 e^{-2}}{3!} = 0.180$"
   ]
  },
  {
   "cell_type": "markdown",
   "id": "79e3ff42",
   "metadata": {},
   "source": [
    "___\n",
    "*Example 2*\n",
    "\n",
    "Suppose the average number of lions seen by tourists on a one-day safari is 5. What is the probability that tourists will see fewer than 4 lions on the next one-day safari?\n",
    "\n",
    "*Solution*\n",
    "\n",
    "- $\\lambda = 5$\n",
    "- $k = \\{0, 1, 2, 3\\}$\n",
    "\n",
    "$P(k \\leq 3, 5) = \\sum_{r=0}^{3} \\frac{\\lambda^r e^{-\\lambda}}{r!} = e^{-\\lambda}\\cdot \\sum_{r=0}^{3} \\frac{\\lambda^r}{r!} = 0.265$"
   ]
  },
  {
   "cell_type": "markdown",
   "id": "b38deb77",
   "metadata": {},
   "source": [
    "___\n",
    "*Example 3*\n",
    "\n",
    "A small business receives, on average, 12 customers per day. What is the probability that the business will receive exactly 8 customers in one day?\n",
    "\n",
    "*Solution*\n",
    "\n",
    "- $\\lambda = 12$\n",
    "- $k = 8$\n",
    "\n",
    "$P(8, 12) = \\frac{12^8 e^{-12}}{8!} = 0.0655$"
   ]
  },
  {
   "cell_type": "markdown",
   "id": "29a90744",
   "metadata": {},
   "source": [
    "___\n",
    "*Example 4*\n",
    "\n",
    "A student receives, on average, 7 text messages in a 2 hour period.\n",
    "1. What is the probability that the student will receive exactly 9 text messages in a 2 hour period?\n",
    "2. What is the probability that the student will receive exactly 24 text messages in a 8 hour period?\n",
    "3. What is the probability that the student will receive more than 6 text messages in a 2 hour period?\n",
    "\n",
    "*Solution*\n",
    "\n",
    "1. Exactly 9 text messages in a 2 hour period.\n",
    "\n",
    "- $\\lambda = 7$\n",
    "- $k = 9$\n",
    "\n",
    "$P(9, 7) = \\frac{7^9 e^{-7}}{9!} = 0.1014$\n",
    "\n",
    "2. Exactly 24 text messages in a 8 hour period.\n",
    "\n",
    "- $\\lambda = 28$\n",
    "- $k = 24$\n",
    "\n",
    "$P(24, 28) = \\frac{28^24 e^{-28}}{24!} = 0.0601$\n",
    "\n",
    "3. More than 6 text messages in a 2 hour period.\n",
    "\n",
    "- $\\lambda = 7$\n",
    "\n",
    "$\n",
    "P(k > 6) + P(k \\leq 6) = 1 \\\\\n",
    "P(k > 6) = 1 - P(k \\leq 6) = 1 - \\sum_{r=0}^{6} \\frac{\\lambda^r e^{-\\lambda}}{r!} = 0.6867\n",
    "$"
   ]
  },
  {
   "cell_type": "markdown",
   "id": "c688f327",
   "metadata": {},
   "source": [
    "___\n",
    "*Example 5*\n",
    "\n",
    "A random variable, $X$, follows Poisson distribution with mean of $2.5$. Find the probability with which the random variable $X$ is equal to $5$.\n",
    "\n",
    "- $\\lambda = 2.5$ (because the mean ($\\mu$) is the same as $\\lambda$)\n",
    "- $k = 5$\n",
    "\n",
    "$P(3, 2) = \\frac{2.5^5 e^{-2.5}}{5!} = 0.067$"
   ]
  },
  {
   "cell_type": "markdown",
   "id": "05d13a93",
   "metadata": {},
   "source": [
    "___\n",
    "*Example 6*\n",
    "\n",
    "The manager of a industrial plant is planning to buy a machine of either type $A$ or type $B$. For each day’s operation:\n",
    "The number of repairs, $X$, that machine $A$ needs is a Poisson random variable with mean $0.88$. The daily cost of operating $A$ is $C_{A} = 160 + 40X^2$.\n",
    "The number of repairs, $Y$, that machine $B$ needs is a Poisson random variable with mean $1.55$. The daily cost of operating $B$ is $C_{B} = 128 + 40y^2$.\n",
    "Assume that the repairs take a negligible amount of time and the machines are maintained nightly to ensure that they operate like new at the start of each day. Find and print the expected daily cost for each machine.\n",
    "\n",
    "*Solution*\n",
    "\n",
    "We doesn't need to actually calculate the Poisson distribution (and for that matter, we do not know $k$ anyway). What we should do is realise that for some random Poisson variable, $X$, the expectation value and the variance are:\n",
    "\n",
    "$\\mu = \\lambda = E[X]$ - mean\n",
    "and\n",
    "\n",
    "$\\sigma^2 = \\lambda = Var(X)$ - variance\n",
    "\n",
    "For Poisson distribution mean and variance are the same.\n",
    "\n",
    "The variance of X is equal to the mean of the square of X minus the square of the mean of X:\n",
    "$\n",
    "Var(X) = E[X^2] - (E[X])^2 \\\\\n",
    "\\implies E[X^2] = Var(X) + (E[X])^2 \\\\\n",
    "\\implies E[X^2] = \\lambda + \\lambda^2\n",
    "$\n",
    "\n",
    "The question specifically asks for the average during the day (with each day being independent of each other), and hence the expectation value is that, the average of all possible events over the day.\n",
    "\n",
    "$\n",
    "C_{A} = 160 + 40X^2 = 160 + 40(0.88 + 0.88^2) = 226.176 \\\\\n",
    "C_{B} = 128 + 40y^2 = 128 + 40(1.55 + 1.55^2) = 286.1\n",
    "$"
   ]
  }
 ],
 "metadata": {
  "kernelspec": {
   "display_name": "Python 3",
   "language": "python",
   "name": "python3"
  },
  "language_info": {
   "codemirror_mode": {
    "name": "ipython",
    "version": 3
   },
   "file_extension": ".py",
   "mimetype": "text/x-python",
   "name": "python",
   "nbconvert_exporter": "python",
   "pygments_lexer": "ipython3",
   "version": "3.8.8"
  }
 },
 "nbformat": 4,
 "nbformat_minor": 5
}
