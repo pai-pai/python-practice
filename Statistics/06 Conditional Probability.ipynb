{
 "cells": [
  {
   "cell_type": "markdown",
   "id": "ad627799",
   "metadata": {},
   "source": [
    "### Conditional Probability\n",
    "\n",
    "*Example 1*\n",
    "\n",
    "Suppose a family has 2 children, one of which is a boy. What is the probability that both children are boys?\n",
    "\n",
    "*Solution*\n",
    "\n",
    "There are 3 possible combinations:\n",
    "- $\\{B, B\\}$ with $P(BB) = \\frac{1}{4}$ - both are boys\n",
    "- $\\{G, G\\}$ with $P(GG) = \\frac{1}{4}$ - both are girls\n",
    "- $\\{B, G\\}$ with $P(BG) = \\frac{1}{2}$ - 1 is a boy and 1 is a girl\n",
    "\n",
    "Because of \"one of which is a boy\" statement ($P(A|B)$ means \"probability of A given B\"):\n",
    "- $P(B|BB) = $ at list 1 is a boy if 2 boys given $= 1$.\n",
    "- $P(BB) =$ probability of both boys $= \\frac{1}{4}$ from the prior distribution.\n",
    "- $P(B) =$ probability of at least one being a boy, which includes cases $BB$ and $GB = \\frac{1}{4} + \\frac{1}{2} = \\frac{3}{4}$.\n",
    "\n",
    "Using [Bayes' Theorem](https://en.wikipedia.org/wiki/Bayes%27_theorem), we find:\n",
    "$$\n",
    "P(B|BB) = P(BB|B) \\times \\frac{P(BB)}{P(B)} = 1 \\times \\frac{\\left(\\frac{1}{4}\\right)}{\\left(\\frac{3}{4}\\right)} = \\frac{1}{3}\n",
    "$$\n",
    "\n",
    "This question also has another solution -- $\\frac{1}{2}$. For more information see [Boy or Girl paradox](https://en.wikipedia.org/wiki/Boy_or_Girl_paradox)."
   ]
  },
  {
   "cell_type": "markdown",
   "id": "0324e763",
   "metadata": {},
   "source": [
    "___\n",
    "*Example 2*\n",
    "\n",
    "A bag contains 1 red marbles and 1 blue marbles. Then, 2 marbles are drawn from the bag, at random, without replacement. If the first marble drawn is red, what is the probability that the second marble is blue?\n",
    "\n",
    "*Solution*\n",
    "\n",
    "Using Bayes' Theorem:\n",
    "$$P(RB|R) = P(R|RB) \\times \\frac{P(RB)}{P(R)}$$\n",
    "Where:\n",
    "- $P(RB|R)$ - probability of the combination red|blue marbles if the first marble is a red one was given.\n",
    "- $P(R|RB) =$ - probability of the first ball is red if the combination red|blue marbles is given (is 100%) $= 1$.\n",
    "- $P(RB)$ - probability of occurrence red|blue combination.\n",
    "- $P(R) =$ probability of drawing red marble $= \\frac{3}{7}$.\n",
    "\n",
    "For calculatig $P(RB)$ we need to get all permutations: $_{7}P_{2} = \\frac{7!}{(7 - 2)!} = \\frac{7!}{5!} = 42$.\n",
    "Furthermore, we have to get number of permutations with the first red marble is $\\textit{number of red marbles}\\cdot \\textit{number of blue marbles} = 3 \\cdot 4 = 12$.\n",
    "And after that $P(RB) = \\frac{12}{_{7}P_{2}} = \\frac{12}{42} = \\frac{2}{7}$.\n",
    "\n",
    "$$P(RB|R) = 1 \\times \\frac{\\left(\\frac{2}{7}\\right)}{\\left(\\frac{3}{7}\\right)} = \\frac{2}{3}$$"
   ]
  }
 ],
 "metadata": {
  "kernelspec": {
   "display_name": "Python 3",
   "language": "python",
   "name": "python3"
  },
  "language_info": {
   "codemirror_mode": {
    "name": "ipython",
    "version": 3
   },
   "file_extension": ".py",
   "mimetype": "text/x-python",
   "name": "python",
   "nbconvert_exporter": "python",
   "pygments_lexer": "ipython3",
   "version": "3.8.8"
  }
 },
 "nbformat": 4,
 "nbformat_minor": 5
}
