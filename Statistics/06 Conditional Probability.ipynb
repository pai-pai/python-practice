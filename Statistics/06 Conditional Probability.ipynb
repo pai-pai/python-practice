{
 "cells": [
  {
   "cell_type": "markdown",
   "id": "ad627799",
   "metadata": {},
   "source": [
    "### Conditional Probability\n",
    "\n",
    "*Example*\n",
    "\n",
    "Suppose a family has 2 children, one of which is a boy. What is the probability that both children are boys?\n",
    "\n",
    "*Solution*\n",
    "\n",
    "There are 3 possible combinations:\n",
    "- $\\{B, B\\}$ with $P(BB) = \\frac{1}{4}$\n",
    "- $\\{G, G\\}$ with $P(GG) = \\frac{1}{4}$\n",
    "- $\\{B, G\\}$ with $P(BG) = \\frac{1}{2}$\n",
    "\n",
    "Because of \"one of which is a boy\" statement ($P(A|B)$ means \"probability of A given B\"):\n",
    "- $P(B|BB) = $probability of at least one boy given both are boys $= 1$.\n",
    "- $P(BB) =$ probability of both boys $= \\frac{1}{4}$ from the prior distribution.\n",
    "- $P(B) =$ probability of at least one being a boy, which includes cases $BB$ and $GB = \\frac{1}{4} + \\frac{1}{2} = \\frac{3}{4}$.\n",
    "\n",
    "Using [Bayes' Theorem](https://en.wikipedia.org/wiki/Bayes%27_theorem), we find:\n",
    "$$\n",
    "P(B|BB) = P(BB|B) \\times \\frac{P(BB)}{P(B)} = 1 \\times \\frac{\\left(\\frac{1}{4}\\right)}{\\left(\\frac{3}{4}\\right)} = \\frac{1}{3}\n",
    "$$"
   ]
  },
  {
   "cell_type": "markdown",
   "id": "0324e763",
   "metadata": {},
   "source": [
    "This question also has another solution -- $\\frac{1}{2}$. For more information see [Boy or Girl paradox](https://en.wikipedia.org/wiki/Boy_or_Girl_paradox)."
   ]
  }
 ],
 "metadata": {
  "kernelspec": {
   "display_name": "Python 3",
   "language": "python",
   "name": "python3"
  },
  "language_info": {
   "codemirror_mode": {
    "name": "ipython",
    "version": 3
   },
   "file_extension": ".py",
   "mimetype": "text/x-python",
   "name": "python",
   "nbconvert_exporter": "python",
   "pygments_lexer": "ipython3",
   "version": "3.8.8"
  }
 },
 "nbformat": 4,
 "nbformat_minor": 5
}
