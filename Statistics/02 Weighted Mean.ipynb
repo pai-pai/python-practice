{
 "cells": [
  {
   "cell_type": "markdown",
   "id": "59a8c690",
   "metadata": {},
   "source": [
    "### Weighted Mean\n",
    "\n",
    "There are two tables:\n",
    "\n",
    "Student's score:\n",
    "\n",
    "| Cource | Score |\n",
    "|:-|:-:|\n",
    "| Mathematics | 83 |\n",
    "|Physics | 77 |\n",
    "| Chemistry | 94 |"
   ]
  },
  {
   "cell_type": "markdown",
   "id": "264d7726",
   "metadata": {},
   "source": [
    "Weight of each cource:\n",
    "\n",
    "| Cource | Weight |\n",
    "|:-|:-:|\n",
    "| Mathematics | 50 |\n",
    "|Physics | 35 |\n",
    "| Chemistry | 15 |"
   ]
  },
  {
   "cell_type": "markdown",
   "id": "1899e85f",
   "metadata": {},
   "source": [
    "Weighted mean is a sum of (score) * (weight) of each cource divided by sum of the scores."
   ]
  },
  {
   "cell_type": "markdown",
   "id": "544a41f9",
   "metadata": {},
   "source": [
    "_______\n",
    "*Example*\n",
    "\n",
    "Given two arrays:"
   ]
  },
  {
   "cell_type": "code",
   "execution_count": 2,
   "id": "44d49fbd",
   "metadata": {},
   "outputs": [
    {
     "name": "stdout",
     "output_type": "stream",
     "text": [
      "32.0\n"
     ]
    }
   ],
   "source": [
    "X = [10, 40, 30, 50, 20]  # Array of scores\n",
    "W = [1, 2, 3, 4, 5]       # Array of weights\n",
    "\n",
    "weighted_values = zip(X, W)\n",
    "sum_of_weighted_values = sum([value*weight for value, weight in weighted_values])\n",
    "weighted_mean = sum_of_weighted_values / sum(W)\n",
    "\n",
    "print(round(weighted_mean, 1))"
   ]
  },
  {
   "cell_type": "markdown",
   "id": "d974bf36",
   "metadata": {},
   "source": [
    "It also could be done with `reduce` function:"
   ]
  },
  {
   "cell_type": "code",
   "execution_count": 1,
   "id": "8c19f077",
   "metadata": {},
   "outputs": [
    {
     "name": "stdout",
     "output_type": "stream",
     "text": [
      "32.0\n"
     ]
    }
   ],
   "source": [
    "from functools import reduce\n",
    "\n",
    "X = [10, 40, 30, 50, 20]  # Array of scores\n",
    "W = [1, 2, 3, 4, 5]       # Array of weights\n",
    "\n",
    "weighted_mean = reduce(\n",
    "    lambda subsum, value_weight: subsum + (value_weight[0]* value_weight[1]), zip(X, W), 0\n",
    ") / sum(W)\n",
    "\n",
    "print(round(weighted_mean, 1))"
   ]
  }
 ],
 "metadata": {
  "kernelspec": {
   "display_name": "Python 3",
   "language": "python",
   "name": "python3"
  },
  "language_info": {
   "codemirror_mode": {
    "name": "ipython",
    "version": 3
   },
   "file_extension": ".py",
   "mimetype": "text/x-python",
   "name": "python",
   "nbconvert_exporter": "python",
   "pygments_lexer": "ipython3",
   "version": "3.8.8"
  }
 },
 "nbformat": 4,
 "nbformat_minor": 5
}
