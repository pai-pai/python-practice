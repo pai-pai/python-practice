{
 "cells": [
  {
   "cell_type": "markdown",
   "id": "19663b4e",
   "metadata": {},
   "source": [
    "### Basic Probability"
   ]
  },
  {
   "cell_type": "markdown",
   "id": "3676d636",
   "metadata": {},
   "source": [
    "___\n",
    "*Example 1*\n",
    "\n",
    "Find the probability of getting an odd number when rolling a $6$-sided fair die.\n",
    "\n",
    "*Solution*\n",
    "\n",
    "Given the above question, we can extract the following:\n",
    "- Experiment: rolling a $6$-sided die.\n",
    "- Sample space ($S$): $S = \\{1, 2, 3, 4, 5, 6\\}$.\n",
    "- Event ($A$): that the number rolled is odd (i.e., $A = \\{1, 3, 5\\}$). \n",
    "\n",
    "If we refer back to the basic formula for the probability of the occurrence of an event, we can say:\n",
    "$$\n",
    "P(A)=\\frac{\\textit{Number  of  favorable  outcomes}}{\\textit{Total  number  of  outcomes}} = \\frac{|A|}{|S|} = \\frac{3}{6} = \\frac{1}{2}\n",
    "$$"
   ]
  },
  {
   "cell_type": "markdown",
   "id": "4c6af6dd",
   "metadata": {},
   "source": [
    "___\n",
    "*Example* 2\n",
    "\n",
    "Find the probability of getting $1$ head and $1$ tail when $2$ fair coins are tossed.\n",
    "\n",
    "*Solution*\n",
    "\n",
    "Given the above question, we can extract the following:\n",
    "Experiment: tossing $2$ coins.\n",
    "Sample space ($S$): The possible outcomes for the toss of $1$ coin are $\\{H, T\\}$, where $H = \\textit{heads}$ and $T = \\textit{tails}$. As our experiment tosses $2$ coins, we have to consider all possible toss outcomes by finding the Cartesian Product of the possible outcomes for each coin: $S = \\{H, T\\} \\times \\{H, T\\} = \\{(H, H), (H, T), (T, H), (T, T)\\}$.\n",
    "Event ($A \\cap B$): that the outcome of $1$ toss will be $H$, and the outcome of the other toss will be $T$ (i.e., $A = \\{(H, T), (T, H)\\}$).\n",
    "Connecting this information back to our basic formula for $P(A)$, we can say: \n",
    "$$\n",
    "P(A)=\\frac{\\textit{Number  of  favorable  outcomes}}{\\textit{Total  number  of  outcomes}} = \\frac{|A|}{|S|} = \\frac{2}{4} = \\frac{1}{2}\n",
    "$$"
   ]
  },
  {
   "cell_type": "markdown",
   "id": "7d0e75fe",
   "metadata": {},
   "source": [
    "___\n",
    "*Example 3* \n",
    "\n",
    "Let $A$ and $B$ be two events such that $P(A)=\\frac{2}{5}$ and $P(B)=\\frac{4}{5}$. If the probability of the occurrence of either $A$ or $B$ is $\\frac{3}{5}$, find the probability of the occurrence of both $A$ and $B$ together (i.e., $A \\cap B$).\n",
    "\n",
    "*Solution*\n",
    "\n",
    "We can use our fundamental rules of probability to solve this problem:\n",
    "$\\\\ |A \\cup B| = |A| + |B| - |A \\cap B| \\\\\n",
    "\\Rightarrow P(A \\cup B) = P(A) + P(B) - P(A \\cap B) \\\\\n",
    "\\Rightarrow P(A \\cap B) = P(A) + P(B) - P(A \\cup B) \\\\\n",
    "\\Rightarrow P(A \\cap B) = \\frac{2}{5} + \\frac{4}{5} - \\frac{3}{5} = \\frac{3}{5}$"
   ]
  },
  {
   "cell_type": "markdown",
   "id": "bd9c4af4",
   "metadata": {},
   "source": [
    "______\n",
    "*Example 4*\n",
    "\n",
    "In a single toss of $2$ fair (evenly-weighted) six-sided dice, find the probability that their sum will be at most $9$.\n",
    "\n",
    "*Code*"
   ]
  },
  {
   "cell_type": "code",
   "execution_count": 1,
   "id": "279630d5",
   "metadata": {},
   "outputs": [
    {
     "name": "stdout",
     "output_type": "stream",
     "text": [
      "Total number of outcomes = 36\n",
      "Number of favorable outcomes = 30\n"
     ]
    }
   ],
   "source": [
    "import itertools\n",
    "\n",
    "posible_outcomes = [1, 2, 3, 4, 5, 6]\n",
    "total_outcomes = list(itertools.product(posible_outcomes, posible_outcomes))\n",
    "print('Total number of outcomes = {}'.format(len(total_outcomes)))\n",
    "favorable_outcomes = [pair for pair in total_outcomes if pair[0] + pair[1] <= 9]\n",
    "print('Number of favorable outcomes = {}'.format(len(favorable_outcomes)))"
   ]
  },
  {
   "cell_type": "markdown",
   "id": "2a7afb31",
   "metadata": {},
   "source": [
    "$$\n",
    "P(A)=\\frac{\\textit{Number  of  favorable  outcomes}}{\\textit{Total  number  of  outcomes}} = \\frac{|A|}{|S|} = \\frac{30}{36} = \\frac{5}{6}\n",
    "$$"
   ]
  },
  {
   "cell_type": "markdown",
   "id": "30cf39c3",
   "metadata": {},
   "source": [
    "___\n",
    "*Example 5*\n",
    "\n",
    "In a single toss of $2$ fair (evenly-weighted) six-sided dice, find the probability that the values rolled by each die will be different and the two dice have a sum of $6$.\n",
    "\n",
    "*Code*"
   ]
  },
  {
   "cell_type": "code",
   "execution_count": 1,
   "id": "ab57e0f3",
   "metadata": {},
   "outputs": [
    {
     "name": "stdout",
     "output_type": "stream",
     "text": [
      "Total number of outcomes = 36\n",
      "Number of favorable outcomes = 4\n"
     ]
    }
   ],
   "source": [
    "import itertools\n",
    "\n",
    "posible_outcomes = [1, 2, 3, 4, 5, 6]\n",
    "total_outcomes = list(itertools.product(posible_outcomes, posible_outcomes))\n",
    "print('Total number of outcomes = {}'.format(len(total_outcomes)))\n",
    "favorable_outcomes = [pair for pair in total_outcomes if (pair[0] + pair[1] == 6 and pair[0] != pair[1])]\n",
    "print('Number of favorable outcomes = {}'.format(len(favorable_outcomes)))"
   ]
  },
  {
   "cell_type": "markdown",
   "id": "64a67e28",
   "metadata": {},
   "source": [
    "$$\n",
    "P(A)=\\frac{\\textit{Number  of  favorable  outcomes}}{\\textit{Total  number  of  outcomes}} = \\frac{|A|}{|S|} = \\frac{4}{36} = \\frac{1}{9}\n",
    "$$"
   ]
  },
  {
   "cell_type": "markdown",
   "id": "79398587",
   "metadata": {},
   "source": [
    "____\n",
    "*Example 6*\n",
    "\n",
    "There are $3$ urns labeled $X$, $Y$, and $Z$.\n",
    "\n",
    "- Urn $X$ contains $4$ red balls and $3$ black balls.\n",
    "- Urn $Y$ contains $5$ red balls and $4$ black balls.\n",
    "- Urn $Z$ contains $4$ red balls and $4$ black balls.\n",
    "\n",
    "One ball is drawn from each of the $3$ urns. What is the probability that, of the $3$ balls drawn, $2$ are red and $1$ is black?"
   ]
  },
  {
   "cell_type": "markdown",
   "id": "30ca7b06",
   "metadata": {},
   "source": [
    "*Solution*\n",
    "\n",
    "- For urn $X$ probability of drawning red ball is $\\frac{4}{7}$ and for black ball is $\\frac{3}{7}$.\n",
    "- For urn $Y$ probability of drawning red ball is $\\frac{5}{9}$ and for black ball is $\\frac{4}{9}$.\n",
    "- For urn $Z$ probability of drawning red ball is $\\frac{1}{2}$ and for black ball is $\\frac{1}{2}$.\n",
    "\n",
    "There are three combinations of $2$ red and $1$ black balls:\n",
    "- X(R) | Y(R) | Z(B)\n",
    "- X(R) | Y(B) | Z(R)\n",
    "- X(B) | Y(R) | Z(R)\n",
    "\n",
    "And because drawning of each ball does not affect result of next drawning. So, if these events are independent ($\\cap$), then the probability of all events is the product of the probabilities for each event (the multiplication rule):\n",
    "- $\\frac{4}{7} \\times \\frac{5}{9} \\times \\frac{1}{2} = \\frac{4 \\times 5 \\times 1}{7 \\times 9 \\times 2} = \\frac{20}{126}$\n",
    "- $\\frac{4}{7} \\times \\frac{4}{9} \\times \\frac{1}{2} = \\frac{4 \\times 4 \\times 1}{7 \\times 9 \\times 2} = \\frac{16}{126}$\n",
    "- $\\frac{3}{7} \\times \\frac{5}{9} \\times \\frac{1}{2} = \\frac{3 \\times 5 \\times 1}{7 \\times 9 \\times 2} = \\frac{15}{126}$\n",
    "\n",
    "Appearing of each of these combos are disjoint events ($\\cup$). So the probability of either event is the sum of the probabilities of the  events:\n",
    "\n",
    "$\\frac{20}{126} + \\frac{16}{126} + \\frac{15}{126} = \\frac{51}{126} = \\frac{17}{42}$"
   ]
  }
 ],
 "metadata": {
  "kernelspec": {
   "display_name": "Python 3",
   "language": "python",
   "name": "python3"
  },
  "language_info": {
   "codemirror_mode": {
    "name": "ipython",
    "version": 3
   },
   "file_extension": ".py",
   "mimetype": "text/x-python",
   "name": "python",
   "nbconvert_exporter": "python",
   "pygments_lexer": "ipython3",
   "version": "3.8.8"
  }
 },
 "nbformat": 4,
 "nbformat_minor": 5
}
