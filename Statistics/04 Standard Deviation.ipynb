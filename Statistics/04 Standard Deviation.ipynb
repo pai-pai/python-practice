{
 "cells": [
  {
   "cell_type": "markdown",
   "id": "088e31d9",
   "metadata": {},
   "source": [
    "### Standard Deviation\n",
    "\n",
    "Given a data set:\n",
    "{1, 2, 3, 4, 5}\n",
    "\n",
    "Mean for this set is 3 ($\\mu$).\n",
    "\n",
    "**Variance ($\\sigma^2$)** is an avarage squared distance to the mean: $\\sigma^2 = \\frac{\\sum \\limits _{i=1} ^{n}(x_{i} - \\mu)^2}{n}$. This is the average magnitude of fluctuations of $X$ from its expected value, $\\mu$.\n",
    "\n",
    "**Standard Deviation ($\\sigma$)** quantifies the amount of variation in a set of data values: $\\sigma = \\sqrt{\\frac{\\sum \\limits _{i=1} ^{n}(x_{i} - \\mu)^2}{n}}$. Or **kind of** an avarage distance to the mean.\n",
    "\n",
    "*Code*"
   ]
  },
  {
   "cell_type": "code",
   "execution_count": 4,
   "id": "0b493b63",
   "metadata": {},
   "outputs": [
    {
     "name": "stdout",
     "output_type": "stream",
     "text": [
      "Standard Deviation = 14.1\n"
     ]
    }
   ],
   "source": [
    "def stdDev(arr):\n",
    "    n = len(arr)\n",
    "    mean = sum(arr) / n\n",
    "    std_dev = math.sqrt(sum(((el - mean)**2 for el in arr)) / n)\n",
    "    return std_dev\n",
    "\n",
    "std_dev = stdDev([10, 40, 30, 50, 20])\n",
    "print('Standard Deviation = {}'.format(round(std_dev, 1)))"
   ]
  }
 ],
 "metadata": {
  "kernelspec": {
   "display_name": "Python 3",
   "language": "python",
   "name": "python3"
  },
  "language_info": {
   "codemirror_mode": {
    "name": "ipython",
    "version": 3
   },
   "file_extension": ".py",
   "mimetype": "text/x-python",
   "name": "python",
   "nbconvert_exporter": "python",
   "pygments_lexer": "ipython3",
   "version": "3.8.8"
  }
 },
 "nbformat": 4,
 "nbformat_minor": 5
}
