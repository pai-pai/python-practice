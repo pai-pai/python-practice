{
 "cells": [
  {
   "cell_type": "markdown",
   "id": "005dddb9",
   "metadata": {},
   "source": [
    "### Correlation Coefficient\n",
    "\n",
    "Pearson correlation coefficient ($r$ or $\\rho$) is a measure of linear correlation between two sets of data.\n",
    "$$\n",
    "\\rho_{X,Y} = \\frac{n\\cdot \\sum{XY} - \\sum{X}\\cdot \\sum{Y}}{\\sqrt{[n\\cdot \\sum{X^2} - (\\sum{X})^2][n\\cdot \\sum{Y^2} - (\\sum{Y})^2]}}\n",
    "$$\n",
    "Where $n$ is a number of values.\n",
    "___\n",
    "The formula for $\\rho$ can also be written as:<br /><br />\n",
    "$$\n",
    "\\rho_{X,Y} = \\frac{\\operatorname{cov}(X, Y)}{\\sigma_{X}\\sigma_{Y}}\n",
    "$$\n",
    "Where:<br />\n",
    "$\\operatorname{cov}$ is the covariance<br />\n",
    "$\\sigma_{X}$ is the standard deviation of $X$<br />\n",
    "$\\sigma_{Y}$ is the standard deviation of $Y$<br />\n",
    "\n",
    "The formula for $\\rho$ can be expressed in terms of mean and expectation. Since<br />\n",
    "$\n",
    "\\operatorname{cov}(X, Y) = E[(X - \\mu_{X})(Y - \\mu_{Y})]\n",
    "$\n",
    "the formula for $\\rho$ can also be written as:<br /><br />\n",
    "$$\n",
    "\\rho_{X,Y} = \\frac{E[(X - \\mu_{X})(Y - \\mu_{Y})]}{\\sigma_{X}\\sigma_{Y}} = \\frac{\\sum_i{(x_i - \\mu_{X})(y_i - \\mu_{Y})}}{n\\sigma_{X}\\sigma_{Y}}\n",
    "$$\n",
    "Where:<br />\n",
    "$\\mu_{X}$ is the mean of $X$<br />\n",
    "$\\mu_{Y}$ is the mean of $Y$<br />\n",
    "$E$ is the expectation"
   ]
  },
  {
   "cell_type": "markdown",
   "id": "06e5be6e",
   "metadata": {},
   "source": [
    "___\n",
    "*Example 1*\n",
    "\n",
    "Calculate the correlation coefficient between the two variables $X$ and $Y$ shown below:<br />\n",
    "$X$: 1 2 3 4 5  6<br />\n",
    "$Y$: 2 4 7 9 12 14<br />\n",
    "\n",
    "*Solution*\n",
    "\n",
    "|  X |  Y |  XY | X^2 | Y^2 |\n",
    "|:--:|:--:|:---:|:---:|:---:|\n",
    "| 1  | 2  | 2   | 1   | 2   |\n",
    "| 2  | 4  | 8   | 4   | 16  |\n",
    "| 3  | 7  | 27  | 9   | 49  |\n",
    "| 4  | 9  | 36  | 16  | 81  |\n",
    "| 5  | 12 | 60  | 25  | 144 |\n",
    "| 6  | 14 | 84  | 36  | 196 |\n",
    "| **21** | **48** | **211** | **91**  | **490** |"
   ]
  },
  {
   "cell_type": "markdown",
   "id": "efc34dcc",
   "metadata": {},
   "source": [
    "Here:\n",
    "$\n",
    "\\sum{X} = 21 \\\\\n",
    "\\sum{Y} = 48 \\\\\n",
    "\\sum{XY} = 211 \\\\\n",
    "\\sum{X^2} = 91 \\\\\n",
    "\\sum{Y^2} = 490\n",
    "$\n",
    "\n",
    "$\n",
    "\\rho = \\frac{6\\cdot 211 - 21\\cdot 48}{\\sqrt{[6\\cdot 91 - 21^2][6\\cdot 490 - 48^2]}} = \\frac{258}{\\sqrt{105\\cdot 636}} = \\frac{258}{\\sqrt{66780}} = 0.998\n",
    "$\n",
    "\n",
    "*Code*"
   ]
  },
  {
   "cell_type": "code",
   "execution_count": 1,
   "id": "25c3a99a",
   "metadata": {},
   "outputs": [
    {
     "name": "stdout",
     "output_type": "stream",
     "text": [
      "Pearson correlation coefficient = 0.998\n"
     ]
    }
   ],
   "source": [
    "import math\n",
    "\n",
    "n = 6\n",
    "X = [1, 2, 3, 4, 5, 6]\n",
    "Y = [2, 4, 7, 9, 12, 14]\n",
    "\n",
    "std = lambda arr, mu, n: math.sqrt(sum(((el - mu)**2 for el in arr)) / n)\n",
    "\n",
    "mu_x = sum(X) / n\n",
    "mu_y = sum(Y) / n\n",
    "cov = sum([(X[i] - mu_x) * (Y[i] - mu_y) for i in range(n)])\n",
    "r = cov / (n * std(X, mu_x, n) * std(Y, mu_y, n))\n",
    "\n",
    "print('Pearson correlation coefficient = {}'.format(round(r, 3)))"
   ]
  }
 ],
 "metadata": {
  "kernelspec": {
   "display_name": "Python 3",
   "language": "python",
   "name": "python3"
  },
  "language_info": {
   "codemirror_mode": {
    "name": "ipython",
    "version": 3
   },
   "file_extension": ".py",
   "mimetype": "text/x-python",
   "name": "python",
   "nbconvert_exporter": "python",
   "pygments_lexer": "ipython3",
   "version": "3.8.8"
  }
 },
 "nbformat": 4,
 "nbformat_minor": 5
}
