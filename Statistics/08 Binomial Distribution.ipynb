{
 "cells": [
  {
   "cell_type": "markdown",
   "id": "f2474378",
   "metadata": {},
   "source": [
    "### Binomial Distribution\n",
    "\n",
    "$$\n",
    "P(x) = \\binom{n}{x}\\cdot p^x \\cdot q^{(n - x)}\n",
    "$$\n",
    "\n",
    "Where:\n",
    "- $n$ - number of trials\n",
    "- $x$ - successes in $n$ trials\n",
    "- binomial coefficient $\\binom{n}{x}$ is a combinations $_{n}C_{x} = \\frac{n!}{(n - x)!\\cdot x!}$\n",
    "- $p$ - success probability for each trial\n",
    "- $q = 1 - p$ - probability of failure"
   ]
  },
  {
   "cell_type": "markdown",
   "id": "7ff200d6",
   "metadata": {},
   "source": [
    "___\n",
    "*Example 1*\n",
    "\n",
    "A six-sided die is rolled 12 times. What is the probability of getting a 4 five times?\n",
    "\n",
    "*Solution*\n",
    "\n",
    "- $n = 12$\n",
    "- $x = 5$\n",
    "- $p = \\frac{1}{6}$\n",
    "- $q = \\frac{5}{6}$\n",
    "- $\\binom{12}{5} = _{12}C_{5} = \\frac{12!}{(12 - 5)!\\cdot 5!} = \\frac{12!}{7!\\cdot 5!} = 792$\n",
    "\n",
    "$$\n",
    "P(5) = \\binom{12}{5}\\cdot (\\frac{1}{6})^5 \\cdot (\\frac{5}{6})^{(12 - 5)} = 792\\cdot (\\frac{1}{6})^5 \\cdot (\\frac{5}{6})^{7} = 0.028425\n",
    "$$\n",
    "\n",
    "Or 2.84%"
   ]
  },
  {
   "cell_type": "markdown",
   "id": "dadcb152",
   "metadata": {},
   "source": [
    "___\n",
    "*Example 2*\n",
    "\n",
    "A multiple choice test contains 20 questions with answers choices A, B, C and D. Only one answer choice to each question represents a correct answer. Find the probability that a student will answer exactly 6 questions correct if he makes random guesses on all 20 questions.\n",
    "\n",
    "*Solution*\n",
    "- $n = 20$\n",
    "- $x = 6$\n",
    "- $p = \\frac{1}{4} = 0.25$\n",
    "- $q = \\frac{3}{4} = 0.75$\n",
    "- $\\binom{20}{6} = _{20}C_{6} = \\frac{20!}{(20 - 6)!\\cdot 6!} = \\frac{20!}{14!\\cdot 6!} = 38760$\n",
    "\n",
    "$$\n",
    "P(5) = \\binom{20}{6}\\cdot 0.25^6 \\cdot 0.75^{(20 - 6)} = 38760\\cdot 0.25^6 \\cdot 0.75^{14} = 0.168609\n",
    "$$\n",
    "\n",
    "Or 16.86%"
   ]
  },
  {
   "cell_type": "markdown",
   "id": "7065ba2d",
   "metadata": {},
   "source": [
    "___\n",
    "*Example 3*\n",
    "\n",
    "25% of all students enrolled in high school XYZ are taking Algebra. 30 students are chosen at random.\n",
    "1. Find the probability that exactly 7 students out of the 30 chosen are taking Algebra.\n",
    "2. What is the probability that fewer than 5 students out of the 30 who are selected are taking Algebra?\n",
    "3. Calculate the mean and standard deviation of this binominal distribution.\n",
    "\n",
    "*Solution*\n",
    "\n",
    "- $n = 30$\n",
    "- $p = 0.25$\n",
    "- $q = 0.75$\n",
    "\n",
    "**1. Exactly 7 students out of the 30 are taking Algebra.**\n",
    "- $x = 7$\n",
    "- $\\binom{30}{7} = _{30}C_{7} = \\frac{30!}{(30 - 7)!\\cdot 7!} = \\frac{30!}{23!\\cdot 7!} = 2035800$.\n",
    "\n",
    "$\n",
    "P(5) = \\binom{30}{7}\\cdot 0.25^7 \\cdot 0.75^{(30 - 7)} = 2035800\\cdot 0.25^7 \\cdot 0.75^{23} = 0.16624\n",
    "$\n",
    "Or ~16.62%\n",
    "\n",
    "**2. Fewer than 5 students out of the 30 are taking Algebra.**\n",
    "- $x = \\{0, 1, 2, 3, 4\\}$\n",
    "\n",
    "$\n",
    "P(0) = \\binom{30}{0}\\cdot 0.25^0 \\cdot 0.75^{(30 - 0)} = 1\\cdot 0.25^0 \\cdot 0.75^{30} = 0.00017858\\\\\n",
    "P(1) = \\binom{30}{1}\\cdot 0.25^1 \\cdot 0.75^{(30 - 1)} = 30\\cdot 0.25^1 \\cdot 0.75^{29} = 0.00178582\\\\\n",
    "P(2) = 0.00863147\\\\\n",
    "P(3) = 0.02685346\\\\\n",
    "P(4) = \\binom{30}{4}\\cdot 0.25^4 \\cdot 0.75^{(30 - 4)} = 27405\\cdot 0.25^4 \\cdot 0.75^{26} = 0.06042027\\\\\n",
    "P(\\{0, 1, 2, 3, 4\\}) = 0.0978696\n",
    "$\n",
    "\n",
    "Or ~9.79%\n",
    "\n",
    "**3. The mean and standard deviation of this binominal distribution.**\n",
    "\n",
    "$\\mu = n\\cdot p =$ multiplicatin of the number of trials and positive posibility $= 30\\cdot 0.25 = 7.5$\n",
    "\n",
    "$\\sigma = \\sqrt{n\\cdot p\\cdot q} = \\sqrt{30\\cdot 0.25\\cdot 0.75} = 2.3717$"
   ]
  },
  {
   "cell_type": "markdown",
   "id": "6147441c",
   "metadata": {},
   "source": [
    "___\n",
    "*Example 4*\n",
    "\n",
    "The ratio of boys to girls for babies born in Russia is 1.09 : 1. If there is 1 child born per birth, what proportion of Russian families with exactly 6 children will have at least 3 boys?\n",
    "\n",
    "*Solution*\n",
    "- $n = 6$\n",
    "- $x = \\{3, 4, 5, 6\\}$ - because \"at least 3 boys out of 6\", simply mean 3 or more boys\n",
    "- $p = $1.09/(1 + 1.09) = 1.09/2.09 - because 1.09 (boy) is a number of favourable outcomes and (1 + 1.09) (boy + girl) is a number of total outcomes\n",
    "- $q = 1 - p =$ 1 - 1.09/2.09\n",
    "\n",
    "*Code*"
   ]
  },
  {
   "cell_type": "code",
   "execution_count": 3,
   "id": "4b706325",
   "metadata": {},
   "outputs": [
    {
     "name": "stdout",
     "output_type": "stream",
     "text": [
      "Proportion of Russian families with exactly 6 children which have at least 3 boys = 0.696\n"
     ]
    }
   ],
   "source": [
    "import math\n",
    "\n",
    "n = 6  # number of trials\n",
    "boys_ratio, girls_ratio = 1.09, 1\n",
    "p = boys_ratio / (boys_ratio + girls_ratio)  # probability of success\n",
    "\n",
    "def binomial_distribution(n, x, p):\n",
    "    q = 1 - p  # probability of failure\n",
    "    binom = math.factorial(n) / (math.factorial(n - x) * math.factorial(x))\n",
    "    return binom * math.pow(p, x) * math.pow(q, n - x)\n",
    "\n",
    "probability = sum((binomial_distribution(n, x, p) for x in range(3, 7)))\n",
    "\n",
    "print('Proportion of Russian families with exactly 6 children which have at least 3 boys = {}'.format(\n",
    "    round(probability, 3)))"
   ]
  },
  {
   "cell_type": "markdown",
   "id": "21dcbe56",
   "metadata": {},
   "source": [
    "___\n",
    "*Example 5*\n",
    "\n",
    "A manufacturer of metal pistons finds that, on average, 12% of the pistons they manufacture are rejected because they are incorrectly sized. What is the probability that a batch of 10 pistons will contain:\n",
    "1. No more than 2 rejects?\n",
    "2. At least 2 rejects?\n",
    "\n",
    "*Solution*\n",
    "\n",
    "- $n = 10$ - batch contains 10 pistons\n",
    "- $x = \\{0, 1, 2\\}$ for the first question and $\\{2, 3,\\dotsc, 10\\}$ for the second case\n",
    "- $p = $12% or 0.12 - is the probability of rejection of a piston\n",
    "- $q = 1 - p = 0.88$ - is the probability for valid piston\n",
    "\n",
    "*Code*"
   ]
  },
  {
   "cell_type": "code",
   "execution_count": 4,
   "id": "05148717",
   "metadata": {},
   "outputs": [
    {
     "name": "stdout",
     "output_type": "stream",
     "text": [
      "Probability of no more than 2 rejects = 0.891\n",
      "Probability of at least 2 rejects = 0.342\n"
     ]
    }
   ],
   "source": [
    "import math\n",
    "\n",
    "n = 10\n",
    "p = 12/100\n",
    "\n",
    "def binomial_distribution(n, x, p):\n",
    "    q = 1 - p\n",
    "    binom = math.factorial(n) / (math.factorial(n - x) * math.factorial(x))\n",
    "    return binom * math.pow(p, x) * math.pow(q, n - x)\n",
    "\n",
    "pr1 = sum((binomial_distribution(n, x, p) for x in range(3)))\n",
    "pr2 = sum((binomial_distribution(n, x, p) for x in range(2, n + 1)))\n",
    "\n",
    "print('Probability of no more than 2 rejects = {}'.format(round(pr1, 3)))\n",
    "print('Probability of at least 2 rejects = {}'.format(round(pr2, 3)))"
   ]
  }
 ],
 "metadata": {
  "kernelspec": {
   "display_name": "Python 3",
   "language": "python",
   "name": "python3"
  },
  "language_info": {
   "codemirror_mode": {
    "name": "ipython",
    "version": 3
   },
   "file_extension": ".py",
   "mimetype": "text/x-python",
   "name": "python",
   "nbconvert_exporter": "python",
   "pygments_lexer": "ipython3",
   "version": "3.8.8"
  }
 },
 "nbformat": 4,
 "nbformat_minor": 5
}
