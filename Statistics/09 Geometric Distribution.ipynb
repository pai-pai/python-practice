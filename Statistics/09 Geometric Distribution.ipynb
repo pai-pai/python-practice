{
 "cells": [
  {
   "cell_type": "markdown",
   "id": "20f9caba",
   "metadata": {},
   "source": [
    "### Negative Binomial Experiment\n",
    "\n",
    "A negative binomial experiment is a statistical experiment that has the following properties:\n",
    "- The experiment consists of $n$ repeated trials.\n",
    "- The trials are independent.\n",
    "- The outcome of each trial is either success ($s$) or failure ($f$).\n",
    "- $P(s)$ is the same for every trial.\n",
    "The experiment continues until $x$ successes are observed. \n",
    "\n",
    "If $X$ is the number of experiments until the $x^{th}$ success occurs, then $X$ is a discrete random variable called a negative binomial. \n",
    "\n",
    "### Negative Binomial Distribution\n",
    "\n",
    "$$\n",
    "b^{*}(x, n, p) = \\binom{n - 1}{x - 1}\\cdot p^x \\cdot q^{(n-x)}\n",
    "$$\n",
    "\n",
    "Where:\n",
    "- $x$ - the number of successes to be observed\n",
    "- $n$ - the total number of trials\n",
    "- $p$ - the probability of success of $1$ trial\n",
    "- $q = 1 - p$ - the probability of failure of $1$ trial\n",
    "- $b^{*}(x, n, p)$ - the negative binomial probability, meaning the probability of having $x - 1$ successes after $n - 1$ trials and having $x$ successes after $n$ trials.\n",
    "\n",
    "### Geometric Distribution\n",
    "\n",
    "The geometric distribution is a negative binomial distribution where the number of successes is $1$:\n",
    "\n",
    "$$\n",
    "g(n,p) = q^{(n - 1)}\\cdot p\n",
    "$$"
   ]
  },
  {
   "cell_type": "markdown",
   "id": "0273df8b",
   "metadata": {},
   "source": [
    "___\n",
    "*Example 1*\n",
    "\n",
    "The probability that a machine produces a defective product is $\\frac{1}{3}$. What is the probability that the first defect occurs the $5^{th}$ item produced?\n",
    "\n",
    "*Solution*\n",
    "\n",
    "- $n = 5$\n",
    "- $p = \\frac{1}{3}$\n",
    "- $q = 1 - p = \\frac{2}{3}$\n",
    "\n",
    "$g(5,\\frac{1}{3}) = \\frac{2}{3}^{(5 - 1)}\\cdot \\frac{1}{3} = 0.066$"
   ]
  },
  {
   "cell_type": "markdown",
   "id": "179f7775",
   "metadata": {},
   "source": [
    "___\n",
    "*Example 2*\n",
    "\n",
    "The probability that a machine produces a defective product is $\\frac{1}{3}$. What is the probability that the first defect is found during the first $5$ inspections?\n",
    "\n",
    "*Solution 1*\n",
    "\n",
    "- $n = \\{1, 2, 3, 4, 5\\}$\n",
    "- $p = \\frac{1}{3}$\n",
    "- $q = 1 - p = \\frac{2}{3}$\n",
    "\n",
    "$\n",
    "g(1,\\frac{1}{3}) = \\frac{2}{3}^{(1 - 1)}\\cdot \\frac{1}{3} = 0.333\\\\\n",
    "g(2,\\frac{1}{3}) = \\frac{2}{3}^{(2 - 1)}\\cdot \\frac{1}{3} = 0.222\\\\\n",
    "g(3,\\frac{1}{3}) = \\frac{2}{3}^{(3 - 1)}\\cdot \\frac{1}{3} = 0.148\\\\\n",
    "g(4,\\frac{1}{3}) = \\frac{2}{3}^{(4 - 1)}\\cdot \\frac{1}{3} = 0.099\\\\\n",
    "g(5,\\frac{1}{3}) = \\frac{2}{3}^{(5 - 1)}\\cdot \\frac{1}{3} = 0.066\\\\\n",
    "P = g(1,\\frac{1}{3}) + g(2,\\frac{1}{3}) + g(3,\\frac{1}{3}) + g(4,\\frac{1}{3}) + g(5,\\frac{1}{3}) = 0.868\n",
    "$\n",
    "\n",
    "*Solution 2*\n",
    "\n",
    "Another way is to find the probability of the opposite situation occuring, i.e. that none of the first 5 products are defective. The probability that none of the first $5$ are defective must be $q^n$ ($n = 5$), hence the probability that at least 1 is defective must be $1 - q^n$.\n",
    "\n",
    "$P = 1 - q^n = 1 - (1 - p)^n = 1 - (1 - \\frac{1}{3})^5 = 0.868$"
   ]
  }
 ],
 "metadata": {
  "kernelspec": {
   "display_name": "Python 3",
   "language": "python",
   "name": "python3"
  },
  "language_info": {
   "codemirror_mode": {
    "name": "ipython",
    "version": 3
   },
   "file_extension": ".py",
   "mimetype": "text/x-python",
   "name": "python",
   "nbconvert_exporter": "python",
   "pygments_lexer": "ipython3",
   "version": "3.8.8"
  }
 },
 "nbformat": 4,
 "nbformat_minor": 5
}
