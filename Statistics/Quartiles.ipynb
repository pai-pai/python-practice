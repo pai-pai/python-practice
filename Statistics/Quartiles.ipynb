{
 "cells": [
  {
   "cell_type": "markdown",
   "id": "905780b9",
   "metadata": {},
   "source": [
    "### Quartiles\n",
    "\n",
    "Each of four equal groups into which population of results can be divided.\n",
    "_____\n",
    "*Example*\n",
    "\n",
    "There are scores of students:\n",
    "98 90 70 18 92 92 55 83 45 95 88 76\n",
    "\n",
    "Sort it:\n",
    "18 45 55 70 76 83 88 90 92 92 95 98\n",
    "\n",
    "Get median:\n",
    "Q2 = Median = (83 + 88) / 2 = 85.5\n",
    "\n",
    "Split in two parts (if there are an odd number of data points in the original ordered data set, do not include the median (the central value in the ordered list) in either half):\n",
    "18 45 55 70 76 83 (< Q) and 88 90 92 92 95 98 (> Q)\n",
    "\n",
    "Find median for each part:\n",
    "Q1 = (55 + 70) / 2 = 62.5\n",
    "Q3 = (92 + 92) / 2 = 92.0\n",
    "\n",
    "Now there is four groups and three quartiles:\n",
    "18 45 55 (Q1 = 62.5) 70 76 83 (Q2 = 85.5) 88 90 92 (Q3 = 92.0) 92 95 98\n",
    "\n",
    "Interquartile range (IQR):\n",
    "IQR = 92.0 - 62.5 (higher 25% - lower 25%) = 29.5\n",
    "\n",
    "The maximum difference in test scores for the middle 50% of the data is 29.5 points.\n",
    "_________\n",
    "*Code*"
   ]
  },
  {
   "cell_type": "code",
   "execution_count": 2,
   "id": "edc49d58",
   "metadata": {},
   "outputs": [
    {
     "name": "stdout",
     "output_type": "stream",
     "text": [
      "Q1=6, Q2=12, Q3=16\n"
     ]
    }
   ],
   "source": [
    "def quartiles(arr):\n",
    "    arr = sorted(arr)\n",
    "    first_half, second_half = arr[:len(arr)//2], arr[-(len(arr)//2):]\n",
    "    get_median = lambda l: (l[len(l)//2] + l[-(len(l)//2 + 1)]) // 2\n",
    "    Q1 = get_median(first_half)\n",
    "    Q2 = get_median(arr)\n",
    "    Q3 = get_median(second_half)\n",
    "    return (Q1, Q2, Q3)\n",
    "\n",
    "quartiles = quartiles([3, 7, 8, 5, 12, 14, 21, 13, 18])\n",
    "print('Q1={}, Q2={}, Q3={}'.format(*quartiles))"
   ]
  }
 ],
 "metadata": {
  "kernelspec": {
   "display_name": "Python 3",
   "language": "python",
   "name": "python3"
  },
  "language_info": {
   "codemirror_mode": {
    "name": "ipython",
    "version": 3
   },
   "file_extension": ".py",
   "mimetype": "text/x-python",
   "name": "python",
   "nbconvert_exporter": "python",
   "pygments_lexer": "ipython3",
   "version": "3.8.8"
  }
 },
 "nbformat": 4,
 "nbformat_minor": 5
}
