{
 "cells": [
  {
   "cell_type": "markdown",
   "id": "95dcd0e3",
   "metadata": {},
   "source": [
    "### Mean (Avarage)\n",
    "\n",
    "Mean ($\\mu$) is the average of all the integers in a set of values."
   ]
  },
  {
   "cell_type": "code",
   "execution_count": 1,
   "id": "6b7b550a",
   "metadata": {},
   "outputs": [
    {
     "name": "stdout",
     "output_type": "stream",
     "text": [
      "43900.6\n"
     ]
    }
   ],
   "source": [
    "arr = [64630, 11735, 14216, 99233, 14470, 4978, 73429, 38120, 51135, 67060]\n",
    "arr = sorted(arr)\n",
    "n = len(arr)\n",
    "\n",
    "mean = round(sum(arr) / n, 1)\n",
    "print(mean)"
   ]
  },
  {
   "cell_type": "markdown",
   "id": "c0d81af8",
   "metadata": {},
   "source": [
    "### Median\n",
    "\n",
    "The midpoint value of a data set for which an equal number of samples are less than and greater than the value. For an odd sample size, this is the middle element of the sorted sample; for an even sample size, this is the average of the  middle elements of the sorted sample."
   ]
  },
  {
   "cell_type": "code",
   "execution_count": 3,
   "id": "b3af56a2",
   "metadata": {},
   "outputs": [
    {
     "name": "stdout",
     "output_type": "stream",
     "text": [
      "44627.5\n"
     ]
    }
   ],
   "source": [
    "arr = [64630, 11735, 14216, 99233, 14470, 4978, 73429, 38120, 51135, 67060]\n",
    "arr = sorted(arr)\n",
    "n = len(arr)\n",
    "\n",
    "median_item_index = n // 2\n",
    "if n % 2 == 0:  # Given array has an even number of elements.\n",
    "    second_median_item_index = n // 2 - 1\n",
    "    median = round((arr[median_item_index] + arr[second_median_item_index])/2, 1)\n",
    "else:\n",
    "    median = round(arr[median_item_index], 1)\n",
    "print(median)"
   ]
  },
  {
   "cell_type": "markdown",
   "id": "8f69e887",
   "metadata": {},
   "source": [
    "### Mode\n",
    "\n",
    "The element(s) that occur most frequently in a data set. For the set {1, 1, 1, 2, 2, 3, 4, 4}, the mode is 1 because the number 1 appears three times in the set and every other number in the set has a frequency < 3. In contrast, the set {1, 2, 3, 4} is multimodal because no number in the set appears more than 1 time, so every number in the set is a valid mode. "
   ]
  },
  {
   "cell_type": "code",
   "execution_count": 4,
   "id": "e9e07328",
   "metadata": {},
   "outputs": [
    {
     "name": "stdout",
     "output_type": "stream",
     "text": [
      "4978\n"
     ]
    }
   ],
   "source": [
    "arr = [64630, 11735, 14216, 99233, 14470, 4978, 73429, 38120, 51135, 67060]\n",
    "arr = sorted(arr)\n",
    "n = len(arr)\n",
    "\n",
    "mode = max(arr, key=arr.count)\n",
    "print(mode)"
   ]
  }
 ],
 "metadata": {
  "kernelspec": {
   "display_name": "Python 3",
   "language": "python",
   "name": "python3"
  },
  "language_info": {
   "codemirror_mode": {
    "name": "ipython",
    "version": 3
   },
   "file_extension": ".py",
   "mimetype": "text/x-python",
   "name": "python",
   "nbconvert_exporter": "python",
   "pygments_lexer": "ipython3",
   "version": "3.8.8"
  }
 },
 "nbformat": 4,
 "nbformat_minor": 5
}
