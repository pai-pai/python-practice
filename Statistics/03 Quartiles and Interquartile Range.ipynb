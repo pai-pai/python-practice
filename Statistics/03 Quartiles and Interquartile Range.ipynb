{
 "cells": [
  {
   "cell_type": "markdown",
   "id": "905780b9",
   "metadata": {},
   "source": [
    "### Quartiles and Interquartile Range\n",
    "\n",
    "Each of four equal groups into which population of results can be divided.\n",
    "_____\n",
    "*Example*\n",
    "\n",
    "There are scores of students:\n",
    "98 90 70 18 92 92 55 83 45 95 88 76\n",
    "\n",
    "Sort it:\n",
    "18 45 55 70 76 83 88 90 92 92 95 98\n",
    "\n",
    "Get median:\n",
    "Q2 = Median = (83 + 88) / 2 = 85.5\n",
    "\n",
    "Split in two parts (if there are an odd number of data points in the original ordered data set, do not include the median (the central value in the ordered list) in either half):\n",
    "18 45 55 70 76 83 (< Q) and 88 90 92 92 95 98 (> Q)\n",
    "\n",
    "Find median for each part:\n",
    "Q1 = (55 + 70) / 2 = 62.5\n",
    "Q3 = (92 + 92) / 2 = 92.0\n",
    "\n",
    "Now there is four groups and three quartiles:\n",
    "18 45 55 (Q1 = 62.5) 70 76 83 (Q2 = 85.5) 88 90 92 (Q3 = 92.0) 92 95 98\n",
    "\n",
    "Interquartile range (IQR):\n",
    "IQR = 92.0 - 62.5 (higher 25% - lower 25%) = 29.5\n",
    "\n",
    "The maximum difference in test scores for the middle 50% of the data is 29.5 points.\n",
    "\n",
    "*Code*"
   ]
  },
  {
   "cell_type": "code",
   "execution_count": 1,
   "id": "edc49d58",
   "metadata": {},
   "outputs": [
    {
     "name": "stdout",
     "output_type": "stream",
     "text": [
      "Q1=6, Q2=12, Q3=16\n"
     ]
    }
   ],
   "source": [
    "def quartiles(arr):\n",
    "    arr = sorted(arr)\n",
    "    first_half, second_half = arr[:len(arr)//2], arr[-(len(arr)//2):]\n",
    "    get_median = lambda l: (l[len(l)//2] + l[-(len(l)//2 + 1)]) // 2\n",
    "    Q1 = get_median(first_half)\n",
    "    Q2 = get_median(arr)\n",
    "    Q3 = get_median(second_half)\n",
    "    return (Q1, Q2, Q3)\n",
    "\n",
    "quartiles = quartiles([3, 7, 8, 5, 12, 14, 21, 13, 18])\n",
    "print('Q1={}, Q2={}, Q3={}'.format(*quartiles))"
   ]
  },
  {
   "cell_type": "markdown",
   "id": "e22c1f4d",
   "metadata": {},
   "source": [
    "_____\n",
    "But it works well for small sequences. For larger arrays it has to get indexes of median (or pair of indexes in case of even number of points).\n",
    "\n",
    "*Example*\n",
    "\n",
    "Given an array, `values`, of `n` integers and an array, `freqs`, representing the respective frequencies of `values`'s elements:\n",
    "```\n",
    "n = 3\n",
    "values = [1, 2, 3]\n",
    "freqs = [3, 2, 1]\n",
    "```\n",
    "Apply the frequencies to the values to get the expanded array:\n",
    "```\n",
    "s = [1, 1, 1, 2, 2, 3]\n",
    "```\n",
    "Here `left=[1, 1, 1]` and `right=[2, 2, 3]`. The median of the left half, `Q1=1.0`, the middle element. For the right half, `Q3=2.0`. Print the difference to one decimal place: `Q3 - Q1 = 2.0 - 1.0 = 1.0`.\n",
    "\n",
    "*Code*"
   ]
  },
  {
   "cell_type": "code",
   "execution_count": 6,
   "id": "5bc058e0",
   "metadata": {},
   "outputs": [
    {
     "name": "stdout",
     "output_type": "stream",
     "text": [
      "Interquartile Range = 9.0\n"
     ]
    }
   ],
   "source": [
    "def interQuartile(values, freqs):\n",
    "    # values = [4, 8,  11, 13, 14, 19]\n",
    "    # freqs = [6, 12, 8,  10, 20, 16]\n",
    "    length = sum(freqs)\n",
    "    half = length//2\n",
    "    \n",
    "    # Step 0: sort values and depending frequences because median can be calculated\n",
    "    # for ORDERED sequence only:\n",
    "    # values = [6, 8, 10, 12, 16, 20]\n",
    "    # freqs =  [5, 3, 2,  4,  5,  1]\n",
    "    data = sorted(zip(values, freqs), key=lambda v_f: v_f[0])\n",
    "    \n",
    "    # Step 1: get indexes of Q1 and Q2 (both can be tuple of pair of indexes\n",
    "    # or tuple of a single index, it depends on length of s (see above)).\n",
    "    q1_indexes = (half//2,) if half % 2 != 0 else (half//2 - 1, half//2)\n",
    "    q3_indexes = tuple(i + length//2 + length % 2 for i in q1_indexes)\n",
    "    q_indexes = q1_indexes + q3_indexes\n",
    "    \n",
    "    # Step 2: get according values for quartiles indexes.\n",
    "    # Complexity is O(n) because we have to iterate through frequences array.\n",
    "    q_values = []\n",
    "    current_q_index = 0\n",
    "    current_f_index = 0\n",
    "    current_stop_index = data[current_f_index][1] - 1\n",
    "    # Here current_stop_index shows the last index of repeated sequence:\n",
    "    #  0  1  2  3  4  5  6  7  8   9   10  11  12  13  14  15  16  17  18  19\n",
    "    # [6, 6, 6, 6, 6, 8, 8, 8, 10, 10, 12, 12, 12, 12, 16, 16, 16, 16, 16, 20]\n",
    "    # OR\n",
    "    # [6, 8, 10, 12, 16, 20]\n",
    "    # [4, 7, 9,  13, 18, 19]\n",
    "    while len(q_values) < len(q_indexes):\n",
    "        if q_indexes[current_q_index] <= current_stop_index:\n",
    "            current_q_index += 1\n",
    "            q_values.append(data[current_f_index][0])\n",
    "        else:\n",
    "            current_f_index += 1\n",
    "            current_stop_index += data[current_f_index][1]\n",
    "    \n",
    "    q1_values = q_values[:len(q1_indexes)]\n",
    "    q3_values = q_values[len(q3_indexes):]\n",
    "    iqr = (q3_values[0] + q3_values[-1])/2 - (q1_values[0] + q1_values[-1])/2\n",
    "    return round(iqr, 1)\n",
    "    \n",
    "iqr = interQuartile([6, 12, 8, 10, 20, 16], [5, 4, 3, 2, 1, 5])\n",
    "print('Interquartile Range = {}'.format(iqr))"
   ]
  }
 ],
 "metadata": {
  "kernelspec": {
   "display_name": "Python 3",
   "language": "python",
   "name": "python3"
  },
  "language_info": {
   "codemirror_mode": {
    "name": "ipython",
    "version": 3
   },
   "file_extension": ".py",
   "mimetype": "text/x-python",
   "name": "python",
   "nbconvert_exporter": "python",
   "pygments_lexer": "ipython3",
   "version": "3.8.8"
  }
 },
 "nbformat": 4,
 "nbformat_minor": 5
}
