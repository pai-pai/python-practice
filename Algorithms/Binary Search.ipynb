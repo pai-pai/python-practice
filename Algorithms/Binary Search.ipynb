{
 "cells": [
  {
   "cell_type": "code",
   "execution_count": 1,
   "id": "3839f38a",
   "metadata": {},
   "outputs": [],
   "source": [
    "def binary_search(sorted_data, item):\n",
    "    start = 0\n",
    "    stop = len(sorted_data) - 1\n",
    "    while start <= stop:\n",
    "        test_position = (start + stop) // 2  # the middle between start and stop positions\n",
    "        guess_item = sorted_data[test_position]\n",
    "        if guess_item == item:\n",
    "            return test_position\n",
    "        if guess_item > item:\n",
    "            stop = test_position - 1\n",
    "        else:\n",
    "            start = test_position + 1\n",
    "    return None"
   ]
  },
  {
   "cell_type": "code",
   "execution_count": 4,
   "id": "1d3cf27e",
   "metadata": {},
   "outputs": [
    {
     "name": "stdout",
     "output_type": "stream",
     "text": [
      "None\n"
     ]
    }
   ],
   "source": [
    "print(binary_search([1, 3, 5, 7, 9], -9))"
   ]
  },
  {
   "cell_type": "markdown",
   "id": "e0a343ef",
   "metadata": {},
   "source": [
    "- Бинарный поиск по словам?\n",
    "\n",
    "https://ru.wikibooks.org/wiki/Реализации_алгоритмов/Двоичный_поиск#Python_3"
   ]
  },
  {
   "cell_type": "code",
   "execution_count": null,
   "id": "d00fc386",
   "metadata": {},
   "outputs": [],
   "source": []
  }
 ],
 "metadata": {
  "kernelspec": {
   "display_name": "Python 3",
   "language": "python",
   "name": "python3"
  },
  "language_info": {
   "codemirror_mode": {
    "name": "ipython",
    "version": 3
   },
   "file_extension": ".py",
   "mimetype": "text/x-python",
   "name": "python",
   "nbconvert_exporter": "python",
   "pygments_lexer": "ipython3",
   "version": "3.8.8"
  }
 },
 "nbformat": 4,
 "nbformat_minor": 5
}
