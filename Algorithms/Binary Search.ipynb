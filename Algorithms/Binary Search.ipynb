{
 "cells": [
  {
   "cell_type": "code",
   "execution_count": 1,
   "id": "3839f38a",
   "metadata": {},
   "outputs": [],
   "source": [
    "def binary_search(nums, target):\n",
    "    low = 0\n",
    "    high = len(nums)-1\n",
    "    while low <= high:\n",
    "        mid = (low+high)//2\n",
    "        if nums[mid] == target:\n",
    "            return mid\n",
    "            \n",
    "        if target < nums[mid]:\n",
    "            high = mid-1\n",
    "            \n",
    "        if target > nums[mid]:\n",
    "            low = mid + 1\n",
    "                \n",
    "    return -1"
   ]
  },
  {
   "cell_type": "code",
   "execution_count": 3,
   "id": "1d3cf27e",
   "metadata": {},
   "outputs": [
    {
     "name": "stdout",
     "output_type": "stream",
     "text": [
      "4\n"
     ]
    }
   ],
   "source": [
    "print(binary_search([1, 3, 5, 7, 9], 9))"
   ]
  }
 ],
 "metadata": {
  "kernelspec": {
   "display_name": "Python 3",
   "language": "python",
   "name": "python3"
  },
  "language_info": {
   "codemirror_mode": {
    "name": "ipython",
    "version": 3
   },
   "file_extension": ".py",
   "mimetype": "text/x-python",
   "name": "python",
   "nbconvert_exporter": "python",
   "pygments_lexer": "ipython3",
   "version": "3.8.8"
  }
 },
 "nbformat": 4,
 "nbformat_minor": 5
}
