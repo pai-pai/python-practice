{
 "cells": [
  {
   "cell_type": "markdown",
   "id": "f71a1c9a",
   "metadata": {},
   "source": [
    "A message containing letters from `A-Z` can be **encoded** into numbers using the following mapping:\n",
    "```\n",
    "'A' -> \"1\"\n",
    "'B' -> \"2\"\n",
    "...\n",
    "'Z' -> \"26\"\n",
    "```\n",
    "To **decode** an encoded message, all the digits must be grouped then mapped back into letters using the reverse of the mapping above (there may be multiple ways). For example, `\"11106\"` can be mapped into:\n",
    "\n",
    "- `\"AAJF\"` with the grouping `(1 1 10 6)`\n",
    "- `\"KJF\"` with the grouping `(11 10 6)`\n",
    "\n",
    "Note that the grouping `(1 11 06)` is invalid because `\"06\"` cannot be mapped into `'F'` since `\"6\"` is different from `\"06\"`.\n",
    "\n",
    "Given a string $s$ containing only digits, return the **number** of ways to **decode** it.\n",
    "\n",
    "\n",
    "*Example 1*\n",
    "\n",
    "$s$ = \"12\"<br />\n",
    "Returns 2. \"12\" could be decoded as \"AB\" (1 2) or \"L\" (12).\n",
    "\n",
    "*Example 2*\n",
    "\n",
    "$s$ = \"226\"<br />\n",
    "Returns 3. \"226\" could be decoded as \"BZ\" (2 26), \"VF\" (22 6), or \"BBF\" (2 2 6).\n",
    "\n",
    "*Example 3*\n",
    "\n",
    "$s$ = \"06\"<br />\n",
    "Returns 0. \"06\" cannot be mapped to \"F\" because of the leading zero (\"6\" is different from \"06\").\n",
    "\n",
    "\n",
    "*Code*"
   ]
  },
  {
   "cell_type": "code",
   "execution_count": 5,
   "id": "80b483f7",
   "metadata": {},
   "outputs": [],
   "source": [
    "class Solution():\n",
    "    def numDecodings(self, s):\n",
    "        prev1, prev2 = 1, 0\n",
    "        n = len(s)\n",
    "        for i in range(n-1, -1, -1):\n",
    "            current = 0 if s[i] == '0' else prev1\n",
    "            if i+1 < n and ((s[i] == '1') or (s[i] == '2' and s[i+1] in '0123456')):\n",
    "                current += prev2\n",
    "            prev1, prev2 = current, prev1\n",
    "        return prev1"
   ]
  },
  {
   "cell_type": "code",
   "execution_count": 6,
   "id": "89d7b85d",
   "metadata": {},
   "outputs": [
    {
     "name": "stdout",
     "output_type": "stream",
     "text": [
      "2\n"
     ]
    }
   ],
   "source": [
    "print(Solution().numDecodings(\"12\"))"
   ]
  },
  {
   "cell_type": "code",
   "execution_count": 7,
   "id": "f32b76d6",
   "metadata": {},
   "outputs": [
    {
     "name": "stdout",
     "output_type": "stream",
     "text": [
      "3\n"
     ]
    }
   ],
   "source": [
    "print(Solution().numDecodings(\"226\"))"
   ]
  },
  {
   "cell_type": "code",
   "execution_count": 8,
   "id": "dd5dc61e",
   "metadata": {},
   "outputs": [
    {
     "name": "stdout",
     "output_type": "stream",
     "text": [
      "0\n"
     ]
    }
   ],
   "source": [
    "print(Solution().numDecodings(\"06\"))"
   ]
  },
  {
   "cell_type": "code",
   "execution_count": 9,
   "id": "23c6e5f3",
   "metadata": {},
   "outputs": [
    {
     "name": "stdout",
     "output_type": "stream",
     "text": [
      "2\n"
     ]
    }
   ],
   "source": [
    "print(Solution().numDecodings(\"11106\"))"
   ]
  }
 ],
 "metadata": {
  "kernelspec": {
   "display_name": "Python 3",
   "language": "python",
   "name": "python3"
  },
  "language_info": {
   "codemirror_mode": {
    "name": "ipython",
    "version": 3
   },
   "file_extension": ".py",
   "mimetype": "text/x-python",
   "name": "python",
   "nbconvert_exporter": "python",
   "pygments_lexer": "ipython3",
   "version": "3.8.8"
  }
 },
 "nbformat": 4,
 "nbformat_minor": 5
}
