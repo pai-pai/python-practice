{
 "cells": [
  {
   "cell_type": "markdown",
   "id": "bfcaf024",
   "metadata": {},
   "source": [
    "You are given an integer array $\\textit{coins}$ representing coins of different denominations and an integer $\\textit{amount}$ representing a total amount of money.\n",
    "\n",
    "Return the fewest number of coins that you need to make up that amount. If that amount of money cannot be made up by any combination of the coins, return -1.\n",
    "\n",
    "You may assume that you have an infinite number of each kind of coin.\n",
    "\n",
    " \n",
    "\n",
    "*Example 1*\n",
    "\n",
    "$\\textit{coins}$ = [1,2,5], $\\textit{amount}$ = 11<br />\n",
    "Returns 3. 11 = 5 + 5 + 1\n",
    "\n",
    "*Example 2*\n",
    "\n",
    "$\\textit{coins}$ = [2], $\\textit{amount}$ = 3<br />\n",
    "Returns -1\n",
    "\n",
    "*Example 3*\n",
    "\n",
    "$\\textit{coins}$ = [1], $\\textit{amount}$ = 0<br />\n",
    "Returns 0\n",
    "\n",
    "\n",
    "*Code*"
   ]
  },
  {
   "cell_type": "code",
   "execution_count": 1,
   "id": "32349b86",
   "metadata": {},
   "outputs": [],
   "source": [
    "class Solution:\n",
    "    def coinChange(self, coins, amount):\n",
    "        dp = [amount+1] * (amount + 1)\n",
    "        dp[0] = 0\n",
    "        for a in range(1, amount+1):\n",
    "            for coin in coins:\n",
    "                if a - coin >= 0:\n",
    "                    dp[a] = min(dp[a], dp[a-coin] + 1)\n",
    "        return dp[amount] if dp[amount] != amount+1 else -1"
   ]
  },
  {
   "cell_type": "code",
   "execution_count": 2,
   "id": "ac968217",
   "metadata": {},
   "outputs": [
    {
     "data": {
      "text/plain": [
       "3"
      ]
     },
     "execution_count": 2,
     "metadata": {},
     "output_type": "execute_result"
    }
   ],
   "source": [
    "Solution().coinChange(coins=[1,2,5], amount=11)"
   ]
  },
  {
   "cell_type": "code",
   "execution_count": 3,
   "id": "9bb569ef",
   "metadata": {},
   "outputs": [
    {
     "data": {
      "text/plain": [
       "-1"
      ]
     },
     "execution_count": 3,
     "metadata": {},
     "output_type": "execute_result"
    }
   ],
   "source": [
    "Solution().coinChange(coins=[2], amount=3)"
   ]
  },
  {
   "cell_type": "code",
   "execution_count": 4,
   "id": "64641b3c",
   "metadata": {},
   "outputs": [
    {
     "data": {
      "text/plain": [
       "0"
      ]
     },
     "execution_count": 4,
     "metadata": {},
     "output_type": "execute_result"
    }
   ],
   "source": [
    "Solution().coinChange(coins=[1], amount=0)"
   ]
  }
 ],
 "metadata": {
  "kernelspec": {
   "display_name": "Python 3",
   "language": "python",
   "name": "python3"
  },
  "language_info": {
   "codemirror_mode": {
    "name": "ipython",
    "version": 3
   },
   "file_extension": ".py",
   "mimetype": "text/x-python",
   "name": "python",
   "nbconvert_exporter": "python",
   "pygments_lexer": "ipython3",
   "version": "3.8.8"
  }
 },
 "nbformat": 4,
 "nbformat_minor": 5
}
