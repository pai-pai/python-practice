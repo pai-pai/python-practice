{
 "cells": [
  {
   "cell_type": "markdown",
   "id": "dd61c278",
   "metadata": {},
   "source": [
    "Given a string $s$, return the longest palindromic substring in $s$.\n",
    "\n",
    "\n",
    "*Example 1*\n",
    "\n",
    "$s$ = \"babad\"<br />\n",
    "Return \"bab\". \"aba\" is also a valid answer.\n",
    "\n",
    "*Example 2*\n",
    "\n",
    "$s$ = \"cbbd\"<br />\n",
    "Return \"bb\"\n",
    "\n",
    "\n",
    "*Code*"
   ]
  },
  {
   "cell_type": "code",
   "execution_count": 4,
   "id": "dc66d8e2",
   "metadata": {},
   "outputs": [],
   "source": [
    "class Solution:\n",
    "    def longestPalindrome(self, s):\n",
    "        pal = \"\"\n",
    "        for i in range(len(s)):\n",
    "            l, r = i, i\n",
    "            while l >= 0 and r < len(s) and s[l] == s[r]:\n",
    "                if r - l + 1 > len(pal):\n",
    "                    pal = s[l:r+1]\n",
    "                l -= 1\n",
    "                r += 1\n",
    "                \n",
    "            l, r = i, i+1\n",
    "            while l >= 0 and r < len(s) and s[l] == s[r]:\n",
    "                if r - l + 1 > len(pal):\n",
    "                    pal = s[l:r+1]\n",
    "                l -= 1\n",
    "                r += 1\n",
    "        return pal"
   ]
  },
  {
   "cell_type": "code",
   "execution_count": 5,
   "id": "852be190",
   "metadata": {},
   "outputs": [
    {
     "name": "stdout",
     "output_type": "stream",
     "text": [
      "bab\n"
     ]
    }
   ],
   "source": [
    "print(Solution().longestPalindrome(\"babad\"))"
   ]
  },
  {
   "cell_type": "code",
   "execution_count": 6,
   "id": "43fa10b2",
   "metadata": {},
   "outputs": [
    {
     "name": "stdout",
     "output_type": "stream",
     "text": [
      "bb\n"
     ]
    }
   ],
   "source": [
    "print(Solution().longestPalindrome(\"cbbd\"))"
   ]
  },
  {
   "cell_type": "code",
   "execution_count": 7,
   "id": "d1702cce",
   "metadata": {},
   "outputs": [
    {
     "name": "stdout",
     "output_type": "stream",
     "text": [
      "babab\n"
     ]
    }
   ],
   "source": [
    "print(Solution().longestPalindrome(\"babab\"))"
   ]
  },
  {
   "cell_type": "code",
   "execution_count": 9,
   "id": "1659596c",
   "metadata": {},
   "outputs": [
    {
     "name": "stdout",
     "output_type": "stream",
     "text": [
      "rabtbabtbar\n"
     ]
    }
   ],
   "source": [
    "print(Solution().longestPalindrome(\"drabtbabtbarki\"))"
   ]
  },
  {
   "cell_type": "code",
   "execution_count": 10,
   "id": "b54a38d8",
   "metadata": {},
   "outputs": [
    {
     "name": "stdout",
     "output_type": "stream",
     "text": [
      "b\n"
     ]
    }
   ],
   "source": [
    "print(Solution().longestPalindrome(\"ba\"))"
   ]
  }
 ],
 "metadata": {
  "kernelspec": {
   "display_name": "Python 3",
   "language": "python",
   "name": "python3"
  },
  "language_info": {
   "codemirror_mode": {
    "name": "ipython",
    "version": 3
   },
   "file_extension": ".py",
   "mimetype": "text/x-python",
   "name": "python",
   "nbconvert_exporter": "python",
   "pygments_lexer": "ipython3",
   "version": "3.8.8"
  }
 },
 "nbformat": 4,
 "nbformat_minor": 5
}
