{
 "cells": [
  {
   "cell_type": "markdown",
   "id": "1b731996",
   "metadata": {},
   "source": [
    "Given an $n \\times n$ array of integers $\\textit{matrix}$, return the **minimum sum** of any **falling path** through $\\textit{matrix}$.\n",
    "\n",
    "A **falling path** starts at any element in the first row and chooses the element in the next row that is either directly below or diagonally left/right. Specifically, the next element from position (row, col) will be (row + 1, col - 1), (row + 1, col), or (row + 1, col + 1).\n",
    "\n",
    "\n",
    "*Example 1*\n",
    "\n",
    "```\n",
    " 2 | 1 | 3          | 1 |           | 1 |\n",
    "---|---|---      ---|---|---     ---|---|---\n",
    " 6 | 5 | 4    =>    | 5 |     OR    |   | 4\n",
    "---|---|---      ---|---|---     ---|---|---\n",
    " 7 | 8 | 9        7 |   |           | 8 |\n",
    "```\n",
    "$\\textit{matrix}$ = [[2,1,3],[6,5,4],[7,8,9]]<br />\n",
    "Returns 13. There are two falling paths with a minimum sum as shown.\n",
    "\n",
    "*Example 2*\n",
    "\n",
    "```\n",
    " -19 | 57         -19 | \n",
    "-----|-----   => -----|-----\n",
    " -40 | -5         -40 |     \n",
    "```\n",
    "$\\textit{matrix}$ = [[-19,57],[-40,-5]]<br />\n",
    "Returns -59. The falling path with a minimum sum is shown.\n",
    "\n",
    "\n",
    "*Code*"
   ]
  },
  {
   "cell_type": "code",
   "execution_count": 19,
   "id": "1a51e5cc",
   "metadata": {},
   "outputs": [],
   "source": [
    "class Solution:\n",
    "    def minFallingPathSum(self, matrix):\n",
    "        cols = len(matrix[0])\n",
    "        for row in range(len(matrix)-1, 0, -1):\n",
    "            for col in range(cols):\n",
    "                from_col = col-1 if col > 0 else 0\n",
    "                to_col = col+2 if col < cols-1 else col+1\n",
    "                matrix[row-1][col] += min(matrix[row][from_col:to_col])\n",
    "        return min(matrix[0])"
   ]
  },
  {
   "cell_type": "code",
   "execution_count": 20,
   "id": "55ccfdc2",
   "metadata": {},
   "outputs": [
    {
     "name": "stdout",
     "output_type": "stream",
     "text": [
      "13\n"
     ]
    }
   ],
   "source": [
    "print(Solution().minFallingPathSum([[2,1,3],[6,5,4],[7,8,9]]))"
   ]
  },
  {
   "cell_type": "code",
   "execution_count": 21,
   "id": "458094df",
   "metadata": {},
   "outputs": [
    {
     "name": "stdout",
     "output_type": "stream",
     "text": [
      "-59\n"
     ]
    }
   ],
   "source": [
    "print(Solution().minFallingPathSum([[-19,57],[-40,-5]]))"
   ]
  }
 ],
 "metadata": {
  "kernelspec": {
   "display_name": "Python 3",
   "language": "python",
   "name": "python3"
  },
  "language_info": {
   "codemirror_mode": {
    "name": "ipython",
    "version": 3
   },
   "file_extension": ".py",
   "mimetype": "text/x-python",
   "name": "python",
   "nbconvert_exporter": "python",
   "pygments_lexer": "ipython3",
   "version": "3.8.8"
  }
 },
 "nbformat": 4,
 "nbformat_minor": 5
}
