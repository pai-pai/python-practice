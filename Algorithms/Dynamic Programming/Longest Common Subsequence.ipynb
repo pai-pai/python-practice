{
 "cells": [
  {
   "cell_type": "markdown",
   "id": "12001ceb",
   "metadata": {},
   "source": [
    "Given two strings $\\textit{text1}$ and $\\textit{text2}$, return the length of their longest **common subsequence**. If there is no **common subsequence**, return 0.\n",
    "\n",
    "A **subsequence** of a string is a new string generated from the original string with some characters (can be none) deleted without changing the relative order of the remaining characters.\n",
    "\n",
    "- For example, \"ace\" is a subsequence of \"abcde\".\n",
    "\n",
    "A **common subsequence** of two strings is a subsequence that is common to both strings.\n",
    "\n",
    "\n",
    "*Example 1*\n",
    "\n",
    "$\\textit{text1}$ = \"abcde\", $\\textit{text2}$ = \"ace\"<br />\n",
    "Returns 3. The longest common subsequence is \"ace\" and its length is 3.\n",
    "\n",
    "*Example 2*\n",
    "\n",
    "$\\textit{text1}$ = \"abc\", $\\textit{text2}$ = \"abc\"<br />\n",
    "Returns 3. The longest common subsequence is \"abc\" and its length is 3.\n",
    "\n",
    "*Example 3*\n",
    "\n",
    "$\\textit{text1}$ = \"abc\", $\\textit{text2}$ = \"def\"<br />\n",
    "Returns 0. There is no such common subsequence, so the result is 0.\n",
    "\n",
    "\n",
    "*Code*"
   ]
  },
  {
   "cell_type": "code",
   "execution_count": 42,
   "id": "182a6dc0",
   "metadata": {},
   "outputs": [],
   "source": [
    "class Solution:\n",
    "    def longestCommonSubsequence(self, text1, text2):\n",
    "        res = [[0]*len(text2) for _ in range(len(text1))]\n",
    "        for i in range(len(text1)):\n",
    "            for j in range(len(text2)):\n",
    "                if text1[i] == text2[j]:\n",
    "                    res[i][j] = 1 + (res[i-1][j-1] if i > 0 and j > 0 else 0)\n",
    "                else:\n",
    "                    res[i][j] = max(res[i-1][j] if i > 0 else 0,\n",
    "                                    res[i][j-1] if j > 0 else 0)\n",
    "        return res[-1][-1]"
   ]
  },
  {
   "cell_type": "code",
   "execution_count": 43,
   "id": "43e63787",
   "metadata": {},
   "outputs": [
    {
     "data": {
      "text/plain": [
       "3"
      ]
     },
     "execution_count": 43,
     "metadata": {},
     "output_type": "execute_result"
    }
   ],
   "source": [
    "Solution().longestCommonSubsequence(\"abcde\", \"ace\")"
   ]
  },
  {
   "cell_type": "code",
   "execution_count": 44,
   "id": "afb89a40",
   "metadata": {},
   "outputs": [
    {
     "data": {
      "text/plain": [
       "3"
      ]
     },
     "execution_count": 44,
     "metadata": {},
     "output_type": "execute_result"
    }
   ],
   "source": [
    "Solution().longestCommonSubsequence(\"abc\", \"abc\")"
   ]
  },
  {
   "cell_type": "code",
   "execution_count": 45,
   "id": "3c12f7ae",
   "metadata": {},
   "outputs": [
    {
     "data": {
      "text/plain": [
       "0"
      ]
     },
     "execution_count": 45,
     "metadata": {},
     "output_type": "execute_result"
    }
   ],
   "source": [
    "Solution().longestCommonSubsequence(\"abc\", \"def\")"
   ]
  },
  {
   "cell_type": "code",
   "execution_count": 46,
   "id": "5b559529",
   "metadata": {},
   "outputs": [
    {
     "data": {
      "text/plain": [
       "3"
      ]
     },
     "execution_count": 46,
     "metadata": {},
     "output_type": "execute_result"
    }
   ],
   "source": [
    "Solution().longestCommonSubsequence(\"abcde\", \"kacfnte\")"
   ]
  },
  {
   "cell_type": "code",
   "execution_count": 47,
   "id": "3b797516",
   "metadata": {},
   "outputs": [
    {
     "data": {
      "text/plain": [
       "1"
      ]
     },
     "execution_count": 47,
     "metadata": {},
     "output_type": "execute_result"
    }
   ],
   "source": [
    "Solution().longestCommonSubsequence(\"bsbininm\", \"jmjkbkjkv\")  # exp 1"
   ]
  }
 ],
 "metadata": {
  "kernelspec": {
   "display_name": "Python 3",
   "language": "python",
   "name": "python3"
  },
  "language_info": {
   "codemirror_mode": {
    "name": "ipython",
    "version": 3
   },
   "file_extension": ".py",
   "mimetype": "text/x-python",
   "name": "python",
   "nbconvert_exporter": "python",
   "pygments_lexer": "ipython3",
   "version": "3.8.8"
  }
 },
 "nbformat": 4,
 "nbformat_minor": 5
}
