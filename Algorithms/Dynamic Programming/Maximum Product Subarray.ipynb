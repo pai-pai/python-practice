{
 "cells": [
  {
   "cell_type": "markdown",
   "id": "de29bd25",
   "metadata": {},
   "source": [
    "Given an integer array $\\textit{nums}$, find a contiguous non-empty subarray within the array that has the largest product, and return the product.\n",
    "\n",
    "The test cases are generated so that the answer will fit in a **32-bit** integer.\n",
    "\n",
    "A **subarray** is a contiguous subsequence of the array.\n",
    "\n",
    "\n",
    "*Example 1*\n",
    "\n",
    "$\\textit{nums}$ = [2,3,-2,4]<br />\n",
    "Returns 6. [2,3] has the largest product 6.\n",
    "\n",
    "*Example 2*\n",
    "\n",
    "$\\textit{nums}$ = [-2,0,-1]<br />\n",
    "Returns 0. The result cannot be 2, because [-2,-1] is not a subarray.\n",
    "\n",
    "\n",
    "*Code*"
   ]
  },
  {
   "cell_type": "code",
   "execution_count": 2,
   "id": "3baabe97",
   "metadata": {},
   "outputs": [],
   "source": [
    "class Solution:\n",
    "    def maxProduct(self, nums):\n",
    "        total_max = nums[0]\n",
    "        current_max, current_min = 1, 1\n",
    "        for num in nums:\n",
    "            vals = (num, num * current_max, num * current_min)\n",
    "            current_max, current_min = max(vals), min(vals)\n",
    "            total_max = max(total_max, current_max)\n",
    "        return total_max"
   ]
  },
  {
   "cell_type": "code",
   "execution_count": 3,
   "id": "54c55945",
   "metadata": {},
   "outputs": [
    {
     "name": "stdout",
     "output_type": "stream",
     "text": [
      "6\n"
     ]
    }
   ],
   "source": [
    "print(Solution().maxProduct([2,3,-2,4]))"
   ]
  },
  {
   "cell_type": "code",
   "execution_count": 5,
   "id": "21beb323",
   "metadata": {},
   "outputs": [
    {
     "name": "stdout",
     "output_type": "stream",
     "text": [
      "0\n"
     ]
    }
   ],
   "source": [
    "print(Solution().maxProduct([-2,0,-1]))"
   ]
  }
 ],
 "metadata": {
  "kernelspec": {
   "display_name": "Python 3",
   "language": "python",
   "name": "python3"
  },
  "language_info": {
   "codemirror_mode": {
    "name": "ipython",
    "version": 3
   },
   "file_extension": ".py",
   "mimetype": "text/x-python",
   "name": "python",
   "nbconvert_exporter": "python",
   "pygments_lexer": "ipython3",
   "version": "3.8.8"
  }
 },
 "nbformat": 4,
 "nbformat_minor": 5
}
