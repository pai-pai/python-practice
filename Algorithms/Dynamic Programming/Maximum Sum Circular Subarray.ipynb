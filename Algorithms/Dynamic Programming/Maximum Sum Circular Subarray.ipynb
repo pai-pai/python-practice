{
 "cells": [
  {
   "cell_type": "markdown",
   "id": "b42d560f",
   "metadata": {},
   "source": [
    "Given a **circular integer array** $\\textit{nums}$ of length $n$, return the maximum possible sum of a non-empty **subarray** of $\\textit{nums}$.\n",
    "\n",
    "A **circular array** means the end of the array connects to the beginning of the array. Formally, the next element of `nums[i]` is `nums[(i + 1) % n]` and the previous element of `nums[i]` is `nums[(i - 1 + n) % n]`.\n",
    "\n",
    "A **subarray** may only include each element of the fixed buffer $\\textit{nums}$ at most once. Formally, for a subarray `nums[i]`, `nums[i + 1]`, ..., `nums[j]`, there does not exist `i <= k1`, `k2 <= j` with `k1 % n == k2 % n`.\n",
    "\n",
    "\n",
    "*Example 1*\n",
    "\n",
    "$\\textit{nums}$ = [1,-2,3,-2]<br />\n",
    "Returns 3. Subarray [3] has maximum sum 3.\n",
    "\n",
    "*Example 2*\n",
    "\n",
    "$\\textit{nums}$ = [5,-3,5]<br />\n",
    "Returns 10. Subarray [5,5] has maximum sum 5 + 5 = 10.\n",
    "\n",
    "*Example 3*\n",
    "\n",
    "$\\textit{nums}$ = [-3,-2,-3]<br />\n",
    "Returns -2. Subarray [-2] has maximum sum -2.\n",
    "\n",
    "\n",
    "*Code*"
   ]
  },
  {
   "cell_type": "code",
   "execution_count": 40,
   "id": "12892618",
   "metadata": {},
   "outputs": [],
   "source": [
    "class Solution:\n",
    "    def maxSubarraySumCircular(self, nums):\n",
    "        total = 0\n",
    "        total_max = total_min = nums[0]\n",
    "        current_max = current_min = 0\n",
    "        for num in nums:\n",
    "            total += num\n",
    "            \n",
    "            current_max += num\n",
    "            total_max = max(total_max, current_max)\n",
    "            if current_max < 0:\n",
    "                current_max = 0\n",
    "            \n",
    "            current_min += num\n",
    "            total_min = min(total_min, current_min)\n",
    "            if current_min > 0:\n",
    "                current_min = 0\n",
    "                \n",
    "        return total_max if total == total_min else max(total_max, total - total_min)"
   ]
  },
  {
   "cell_type": "code",
   "execution_count": 41,
   "id": "66b81bee",
   "metadata": {},
   "outputs": [
    {
     "name": "stdout",
     "output_type": "stream",
     "text": [
      "3\n"
     ]
    }
   ],
   "source": [
    "print(Solution().maxSubarraySumCircular([1,-2,3,-2]))  # exp 3 (subarray is [3])"
   ]
  },
  {
   "cell_type": "code",
   "execution_count": 42,
   "id": "e61365e6",
   "metadata": {},
   "outputs": [
    {
     "name": "stdout",
     "output_type": "stream",
     "text": [
      "10\n"
     ]
    }
   ],
   "source": [
    "print(Solution().maxSubarraySumCircular([5,-3,5]))  # exp 10 (subarray is [5, 5])"
   ]
  },
  {
   "cell_type": "code",
   "execution_count": 43,
   "id": "7ef16148",
   "metadata": {},
   "outputs": [
    {
     "name": "stdout",
     "output_type": "stream",
     "text": [
      "-2\n"
     ]
    }
   ],
   "source": [
    "print(Solution().maxSubarraySumCircular([-3,-2,-3]))  # exp -2 (subarray is [-2])"
   ]
  }
 ],
 "metadata": {
  "kernelspec": {
   "display_name": "Python 3",
   "language": "python",
   "name": "python3"
  },
  "language_info": {
   "codemirror_mode": {
    "name": "ipython",
    "version": 3
   },
   "file_extension": ".py",
   "mimetype": "text/x-python",
   "name": "python",
   "nbconvert_exporter": "python",
   "pygments_lexer": "ipython3",
   "version": "3.8.8"
  }
 },
 "nbformat": 4,
 "nbformat_minor": 5
}
