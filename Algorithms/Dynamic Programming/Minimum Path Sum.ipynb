{
 "cells": [
  {
   "attachments": {
    "image.png": {
     "image/png": "[encoded data removed]"
    }
   },
   "cell_type": "markdown",
   "id": "44d44311",
   "metadata": {},
   "source": [
    "Given a $m \\times n$ $\\textit{grid}$ filled with non-negative numbers, find a path from top left to bottom right, which minimizes the sum of all numbers along its path.\n",
    "\n",
    "**Note:** You can only move either down or right at any point in time.\n",
    "\n",
    "\n",
    "*Example 1*\n",
    "\n",
    "![image.png](attachment:image.png)\n",
    "$\\textit{grid}$ = [[1,3,1],[1,5,1],[4,2,1]]<br />\n",
    "Returns 7<br />\n",
    "Explanation: Because the path 1 → 3 → 1 → 1 → 1 minimizes the sum.\n",
    "\n",
    "*Example 2*\n",
    "\n",
    "$\\textit{grid}$ = [[1,2,3],[4,5,6]]<br />\n",
    "Returns 12\n",
    "\n",
    "\n",
    "*Code*"
   ]
  },
  {
   "cell_type": "code",
   "execution_count": 22,
   "id": "ca7f0530",
   "metadata": {},
   "outputs": [],
   "source": [
    "class Solution:\n",
    "    def minPathSum(self, grid):\n",
    "        for row in range(len(grid)):\n",
    "            for col in range(len(grid[0])):\n",
    "                if row == 0 and col == 0:\n",
    "                    continue\n",
    "                left = grid[row][col-1] if col > 0 else float('inf')\n",
    "                above = grid[row-1][col] if row > 0 else float('inf')\n",
    "                grid[row][col] += min(left, above)\n",
    "        return grid[-1][-1]"
   ]
  },
  {
   "cell_type": "code",
   "execution_count": 24,
   "id": "64a8bc99",
   "metadata": {},
   "outputs": [
    {
     "name": "stdout",
     "output_type": "stream",
     "text": [
      "7\n"
     ]
    }
   ],
   "source": [
    "print(Solution().minPathSum([[1,3,1],[1,5,1],[4,2,1]]))"
   ]
  },
  {
   "cell_type": "code",
   "execution_count": 25,
   "id": "28ede933",
   "metadata": {},
   "outputs": [
    {
     "name": "stdout",
     "output_type": "stream",
     "text": [
      "12\n"
     ]
    }
   ],
   "source": [
    "print(Solution().minPathSum([[1,2,3],[4,5,6]]))"
   ]
  },
  {
   "cell_type": "code",
   "execution_count": 26,
   "id": "49a1ac95",
   "metadata": {},
   "outputs": [
    {
     "name": "stdout",
     "output_type": "stream",
     "text": [
      "23\n"
     ]
    }
   ],
   "source": [
    "print(Solution().minPathSum([[10,5,3],[2,100,4],[100,3,1]]))"
   ]
  },
  {
   "cell_type": "markdown",
   "id": "f458e7ff",
   "metadata": {},
   "source": [
    "*Explanation*\n",
    "\n",
    "For example, we have a grid:\n",
    "```\n",
    "  10 |  5  |  3\n",
    "-----|-----|-----\n",
    "  2  | 100 |  4\n",
    "-----|-----|-----\n",
    " 100 |  3  |  1\n",
    "```\n",
    "\n",
    "The minimal cost of every step on a path is the minimum between *left cell value* or *above cell value*. And for every next cell on a path cost of every previous cell have to be included.\n",
    "\n",
    "For the first row:\n",
    "```\n",
    "  10 |  5  |  3\n",
    "        |\n",
    "        v\n",
    "  10 |  15 |  18        \n",
    "  \n",
    "Keep 10 because there are no cells on a left or above the left top cell.\n",
    "5 + 10 = 15 -- there is no any cell above.\n",
    "3 + 15 = 18 -- there is no any cell above.\n",
    "```\n",
    "And now the grid looks as shown below:\n",
    "```\n",
    "  10 |  15 |  18\n",
    "-----|-----|-----\n",
    "  2  | 100 |  4\n",
    "-----|-----|-----\n",
    " 100 |  3  |  1\n",
    "```\n",
    "\n",
    "For the second row:\n",
    "```\n",
    "  2  | 100 |  4\n",
    "        |\n",
    "        v\n",
    "  12 | 112 |  22\n",
    "\n",
    "2 + 10 (because there is no cell on a left) = 12\n",
    "100 + min(left cell value or top cell value) = 100 + min(12 or 15) = 112\n",
    "4 + min(112 or 18) = 22\n",
    "```\n",
    "Updated grid:\n",
    "```\n",
    "  10 |  15 |  18\n",
    "-----|-----|-----\n",
    "  12 | 112 |  22\n",
    "-----|-----|-----\n",
    " 100 |  3  |  1\n",
    "```\n",
    "\n",
    "And the last row:\n",
    "```\n",
    " 100 |  3  |  1\n",
    "        |\n",
    "        v\n",
    " 112 | 115 |  23\n",
    "\n",
    "100 + 12 (because there is no cell on a left) = 112\n",
    "3 + min(112 or 112) = 115\n",
    "1 + min(115 or 22) = 23\n",
    "```\n",
    "\n",
    "The final grid:\n",
    "```\n",
    "  10 |  15 |  18\n",
    "-----|-----|-----\n",
    "  12 | 112 |  22\n",
    "-----|-----|-----\n",
    " 112 | 115 |  23\n",
    "```\n",
    "\n",
    "The minimum path sum is in the right bottom cell."
   ]
  }
 ],
 "metadata": {
  "kernelspec": {
   "display_name": "Python 3",
   "language": "python",
   "name": "python3"
  },
  "language_info": {
   "codemirror_mode": {
    "name": "ipython",
    "version": 3
   },
   "file_extension": ".py",
   "mimetype": "text/x-python",
   "name": "python",
   "nbconvert_exporter": "python",
   "pygments_lexer": "ipython3",
   "version": "3.8.8"
  }
 },
 "nbformat": 4,
 "nbformat_minor": 5
}
