{
 "cells": [
  {
   "cell_type": "markdown",
   "id": "0c3ada0c",
   "metadata": {
    "tags": [
     "LeetCode",
     "Dynamic_Programming",
     "Greedy",
     "Medium"
    ]
   },
   "source": [
    "You are given an integer array $\\textit{nums}$. You are initially positioned at the array's **first index**, and each element in the array represents your maximum jump length at that position.\n",
    "\n",
    "Return `true` if you can reach the last index, or `false` otherwise.\n",
    "\n",
    "\n",
    "*Example 1*\n",
    "\n",
    "$\\textit{nums}$ = [2,3,1,1,4]<br />\n",
    "Returns `true`<br />\n",
    "Explanation: Jump 1 step from index 0 to 1, then 3 steps to the last index.\n",
    "\n",
    "*Example 2*\n",
    "\n",
    "$\\textit{nums}$ = [3,2,1,0,4]<br />\n",
    "Returns `false`<br />\n",
    "Explanation: You will always arrive at index 3 no matter what. Its maximum jump length is 0, which makes it impossible to reach the last index.\n",
    "\n",
    "\n",
    "*Code*"
   ]
  },
  {
   "cell_type": "code",
   "execution_count": 26,
   "id": "9a1bb407",
   "metadata": {},
   "outputs": [],
   "source": [
    "class Solution:\n",
    "    def canJump(self, nums):\n",
    "        goal_pos = len(nums) - 1\n",
    "        for i in range(len(nums) - 1, -1, -1):\n",
    "            if nums[i] >= goal_pos - i:\n",
    "                goal_pos = i\n",
    "        return goal_pos == 0"
   ]
  },
  {
   "cell_type": "code",
   "execution_count": 27,
   "id": "df9bd624",
   "metadata": {},
   "outputs": [
    {
     "name": "stdout",
     "output_type": "stream",
     "text": [
      "True\n"
     ]
    }
   ],
   "source": [
    "print(Solution().canJump([2,3,1,1,4]))  # exp True (2 -> 1 -> 1 -> 4 or 2 -> 3 -> 4)"
   ]
  },
  {
   "cell_type": "code",
   "execution_count": 28,
   "id": "ebd8cc52",
   "metadata": {},
   "outputs": [
    {
     "name": "stdout",
     "output_type": "stream",
     "text": [
      "True\n"
     ]
    }
   ],
   "source": [
    "print(Solution().canJump([2,3,1,3,1]))  # exp True (2 -> 3 -> 1)"
   ]
  },
  {
   "cell_type": "code",
   "execution_count": 29,
   "id": "6ca629a0",
   "metadata": {},
   "outputs": [
    {
     "name": "stdout",
     "output_type": "stream",
     "text": [
      "False\n"
     ]
    }
   ],
   "source": [
    "print(Solution().canJump([3,2,1,0,4]))  # exp False (3 -> 0 or 3 -> 2 -> 0 or 3 -> 2 -> 1 -> 0)"
   ]
  },
  {
   "cell_type": "code",
   "execution_count": 30,
   "id": "0a2edc70",
   "metadata": {},
   "outputs": [
    {
     "name": "stdout",
     "output_type": "stream",
     "text": [
      "True\n"
     ]
    }
   ],
   "source": [
    "print(Solution().canJump([3,0,8,2,0,0,1]))  # exp True (3 -> 8 -> 1)"
   ]
  },
  {
   "cell_type": "code",
   "execution_count": 31,
   "id": "21e08f35",
   "metadata": {},
   "outputs": [
    {
     "name": "stdout",
     "output_type": "stream",
     "text": [
      "True\n"
     ]
    }
   ],
   "source": [
    "print(Solution().canJump([2]))  # exp True (2)"
   ]
  }
 ],
 "metadata": {
  "celltoolbar": "Tags",
  "kernelspec": {
   "display_name": "Python 3",
   "language": "python",
   "name": "python3"
  },
  "language_info": {
   "codemirror_mode": {
    "name": "ipython",
    "version": 3
   },
   "file_extension": ".py",
   "mimetype": "text/x-python",
   "name": "python",
   "nbconvert_exporter": "python",
   "pygments_lexer": "ipython3",
   "version": "3.8.8"
  }
 },
 "nbformat": 4,
 "nbformat_minor": 5
}
