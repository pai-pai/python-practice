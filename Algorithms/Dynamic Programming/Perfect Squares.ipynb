{
 "cells": [
  {
   "cell_type": "markdown",
   "id": "a3926efe",
   "metadata": {},
   "source": [
    "Given an integer $n$, return the least number of perfect square numbers that sum to $n$.\n",
    "\n",
    "A **perfect square** is an integer that is the square of an integer; in other words, it is the product of some integer with itself. For example, 1, 4, 9, and 16 are perfect squares while 3 and 11 are not.\n",
    "\n",
    "\n",
    "*Example 1*\n",
    "\n",
    "$n$ = 12<br />\n",
    "Returns 3. 12 = 4 + 4 + 4.\n",
    "\n",
    "*Example 2*\n",
    "\n",
    "$n$ = 13<br />\n",
    "Returns 2. 13 = 4 + 9.\n",
    "\n",
    "\n",
    "*Code*"
   ]
  },
  {
   "cell_type": "code",
   "execution_count": 5,
   "id": "6009c534",
   "metadata": {},
   "outputs": [],
   "source": [
    "class Solution:\n",
    "    def numSquares(self, n):\n",
    "        dp = [0] + [float(\"inf\")] * n\n",
    "        for i in range(1, n+1):\n",
    "            for s in range(1, i+1):\n",
    "                square = s*s\n",
    "                if square > i:\n",
    "                    break\n",
    "                dp[i] = min(dp[i], 1 + dp[i-square])\n",
    "        return dp[n]"
   ]
  },
  {
   "cell_type": "code",
   "execution_count": 6,
   "id": "7cac1c71",
   "metadata": {},
   "outputs": [
    {
     "data": {
      "text/plain": [
       "3"
      ]
     },
     "execution_count": 6,
     "metadata": {},
     "output_type": "execute_result"
    }
   ],
   "source": [
    "Solution().numSquares(12)"
   ]
  },
  {
   "cell_type": "code",
   "execution_count": 7,
   "id": "2159586a",
   "metadata": {},
   "outputs": [
    {
     "data": {
      "text/plain": [
       "2"
      ]
     },
     "execution_count": 7,
     "metadata": {},
     "output_type": "execute_result"
    }
   ],
   "source": [
    "Solution().numSquares(13)"
   ]
  }
 ],
 "metadata": {
  "kernelspec": {
   "display_name": "Python 3",
   "language": "python",
   "name": "python3"
  },
  "language_info": {
   "codemirror_mode": {
    "name": "ipython",
    "version": 3
   },
   "file_extension": ".py",
   "mimetype": "text/x-python",
   "name": "python",
   "nbconvert_exporter": "python",
   "pygments_lexer": "ipython3",
   "version": "3.8.8"
  }
 },
 "nbformat": 4,
 "nbformat_minor": 5
}
