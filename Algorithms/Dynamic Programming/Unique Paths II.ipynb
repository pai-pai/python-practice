{
 "cells": [
  {
   "cell_type": "markdown",
   "id": "9a6903e5",
   "metadata": {},
   "source": [
    "A robot is located at the top-left corner of a $m \\times n$ grid.\n",
    "\n",
    "The robot can only move either down or right at any point in time. The robot is trying to reach the bottom-right corner of the grid.\n",
    "\n",
    "Now consider if some obstacles are added to the grids. How many unique paths would there be?\n",
    "\n",
    "An obstacle and space is marked as 1 and 0 respectively in the grid.\n",
    "\n",
    "\n",
    "*Example 1*\n",
    "\n",
    "$\\textit{obstacleGrid}$ = [[0,0,0],[0,1,0],[0,0,0]]<br />\n",
    "Returns 2<br />\n",
    "Explanation: There is one obstacle in the middle of the $3 \\times 3$ grid above.<br />\n",
    "There are two ways to reach the bottom-right corner:\n",
    "1. Right -> Right -> Down -> Down\n",
    "2. Down -> Down -> Right -> Right\n",
    "\n",
    "*Example 2*\n",
    "\n",
    "$\\textit{obstacleGrid}$ = [[0,1],[0,0]]<br />\n",
    "Returns 1\n",
    "\n",
    "\n",
    "*Code*"
   ]
  },
  {
   "cell_type": "code",
   "execution_count": 114,
   "id": "67519228",
   "metadata": {},
   "outputs": [],
   "source": [
    "class Solution:\n",
    "    def uniquePathsWithObstacles(self, obstacleGrid):\n",
    "        if obstacleGrid[0][0] == 1 or obstacleGrid[-1][-1] == 1:\n",
    "            return 0\n",
    "        rows, cols = len(obstacleGrid), len(obstacleGrid[0])\n",
    "        obstacleGrid[0][0] = 1\n",
    "        for row in range(rows):\n",
    "            for col in range(cols):\n",
    "                if row == 0 and col == 0:\n",
    "                    continue\n",
    "                if obstacleGrid[row][col] == 1:\n",
    "                    obstacleGrid[row][col] = 0\n",
    "                else:\n",
    "                    obstacleGrid[row][col] += obstacleGrid[row-1][col] if row > 0 else 0\n",
    "                    obstacleGrid[row][col] += obstacleGrid[row][col-1] if col > 0 else 0\n",
    "        return obstacleGrid[-1][-1]"
   ]
  },
  {
   "cell_type": "code",
   "execution_count": 115,
   "id": "bf91f85b",
   "metadata": {},
   "outputs": [
    {
     "name": "stdout",
     "output_type": "stream",
     "text": [
      "2\n"
     ]
    }
   ],
   "source": [
    "print(Solution().uniquePathsWithObstacles([[0,0,0],[0,1,0],[0,0,0]]))"
   ]
  },
  {
   "cell_type": "code",
   "execution_count": 116,
   "id": "e486ee20",
   "metadata": {},
   "outputs": [
    {
     "name": "stdout",
     "output_type": "stream",
     "text": [
      "1\n"
     ]
    }
   ],
   "source": [
    "print(Solution().uniquePathsWithObstacles([[0,1],[0,0]]))"
   ]
  },
  {
   "cell_type": "code",
   "execution_count": 117,
   "id": "a397c0f7",
   "metadata": {},
   "outputs": [
    {
     "name": "stdout",
     "output_type": "stream",
     "text": [
      "1\n"
     ]
    }
   ],
   "source": [
    "print(Solution().uniquePathsWithObstacles([[0,0],[0,1],[0,0]]))"
   ]
  },
  {
   "cell_type": "code",
   "execution_count": 118,
   "id": "e3701073",
   "metadata": {},
   "outputs": [
    {
     "name": "stdout",
     "output_type": "stream",
     "text": [
      "0\n"
     ]
    }
   ],
   "source": [
    "print(Solution().uniquePathsWithObstacles([[1,0],[0,0]]))"
   ]
  },
  {
   "cell_type": "code",
   "execution_count": 119,
   "id": "ea70fdf9",
   "metadata": {},
   "outputs": [
    {
     "name": "stdout",
     "output_type": "stream",
     "text": [
      "2\n"
     ]
    }
   ],
   "source": [
    "print(Solution().uniquePathsWithObstacles([[0,0],[0,0]]))"
   ]
  },
  {
   "cell_type": "code",
   "execution_count": 120,
   "id": "db6a1a14",
   "metadata": {},
   "outputs": [
    {
     "name": "stdout",
     "output_type": "stream",
     "text": [
      "0\n"
     ]
    }
   ],
   "source": [
    "print(Solution().uniquePathsWithObstacles([[0,0],[0,1]]))"
   ]
  },
  {
   "cell_type": "code",
   "execution_count": 121,
   "id": "61d7a9fd",
   "metadata": {},
   "outputs": [
    {
     "name": "stdout",
     "output_type": "stream",
     "text": [
      "1\n"
     ]
    }
   ],
   "source": [
    "print(Solution().uniquePathsWithObstacles([[0,1,0],[0,1,0],[0,0,0]]))"
   ]
  },
  {
   "cell_type": "code",
   "execution_count": 122,
   "id": "5edc4ed5",
   "metadata": {},
   "outputs": [
    {
     "name": "stdout",
     "output_type": "stream",
     "text": [
      "1\n"
     ]
    }
   ],
   "source": [
    "print(Solution().uniquePathsWithObstacles([[0,1,0],[0,0,0],[0,1,0]]))"
   ]
  },
  {
   "cell_type": "code",
   "execution_count": 123,
   "id": "e343ebc8",
   "metadata": {},
   "outputs": [
    {
     "name": "stdout",
     "output_type": "stream",
     "text": [
      "0\n"
     ]
    }
   ],
   "source": [
    "print(Solution().uniquePathsWithObstacles([[0,0,0],[1,1,1],[1,0,0]]))"
   ]
  },
  {
   "cell_type": "code",
   "execution_count": 124,
   "id": "0b65d645",
   "metadata": {},
   "outputs": [
    {
     "name": "stdout",
     "output_type": "stream",
     "text": [
      "0\n"
     ]
    }
   ],
   "source": [
    "print(Solution().uniquePathsWithObstacles([[0,0],[1,1],[0,0]]))"
   ]
  }
 ],
 "metadata": {
  "kernelspec": {
   "display_name": "Python 3",
   "language": "python",
   "name": "python3"
  },
  "language_info": {
   "codemirror_mode": {
    "name": "ipython",
    "version": 3
   },
   "file_extension": ".py",
   "mimetype": "text/x-python",
   "name": "python",
   "nbconvert_exporter": "python",
   "pygments_lexer": "ipython3",
   "version": "3.8.8"
  }
 },
 "nbformat": 4,
 "nbformat_minor": 5
}
