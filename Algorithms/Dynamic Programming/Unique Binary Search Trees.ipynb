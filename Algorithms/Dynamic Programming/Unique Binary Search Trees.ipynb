{
 "cells": [
  {
   "cell_type": "markdown",
   "id": "711d04ba",
   "metadata": {},
   "source": [
    "Given an integer $n$, return the number of structurally unique **BST**'s (binary search trees) which has exactly $n$ nodes of unique values from 1 to $n$.\n",
    "\n",
    "*Example 1*\n",
    "\n",
    "$n$ = 3<br />\n",
    "Returns 5<br />\n",
    "Exaplanation:\n",
    "```\n",
    "1        3    3     2     1\n",
    " \\      /    /     / \\     \\\n",
    "  3    2    1     1   3     2\n",
    " /    /      \\               \\\n",
    "2    1        2               3\n",
    "```\n",
    "\n",
    "*Example 2*\n",
    "\n",
    "$n$ = 1<br />\n",
    "Returns 1\n",
    "\n",
    "\n",
    "*Code*"
   ]
  },
  {
   "cell_type": "code",
   "execution_count": 19,
   "id": "d9b14c5b",
   "metadata": {},
   "outputs": [],
   "source": [
    "class Solution:\n",
    "    def numTrees(self, n):\n",
    "        trees = [0] * (n + 1)\n",
    "        trees[0] = trees[1] = 1\n",
    "        for nodes in range(2, n + 1):\n",
    "            for root in range(1, nodes + 1):\n",
    "                left = root - 1\n",
    "                right = nodes - root\n",
    "                trees[nodes] += trees[left] * trees[right]\n",
    "        return trees[n]"
   ]
  },
  {
   "cell_type": "code",
   "execution_count": 20,
   "id": "bf4f693d",
   "metadata": {},
   "outputs": [
    {
     "name": "stdout",
     "output_type": "stream",
     "text": [
      "5\n"
     ]
    }
   ],
   "source": [
    "print(Solution().numTrees(3))"
   ]
  },
  {
   "cell_type": "code",
   "execution_count": 21,
   "id": "05a8caa2",
   "metadata": {},
   "outputs": [
    {
     "name": "stdout",
     "output_type": "stream",
     "text": [
      "1\n"
     ]
    }
   ],
   "source": [
    "print(Solution().numTrees(1))"
   ]
  }
 ],
 "metadata": {
  "kernelspec": {
   "display_name": "Python 3",
   "language": "python",
   "name": "python3"
  },
  "language_info": {
   "codemirror_mode": {
    "name": "ipython",
    "version": 3
   },
   "file_extension": ".py",
   "mimetype": "text/x-python",
   "name": "python",
   "nbconvert_exporter": "python",
   "pygments_lexer": "ipython3",
   "version": "3.8.8"
  }
 },
 "nbformat": 4,
 "nbformat_minor": 5
}
