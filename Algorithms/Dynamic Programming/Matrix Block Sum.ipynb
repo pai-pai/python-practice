{
 "cells": [
  {
   "cell_type": "markdown",
   "id": "cc736d35",
   "metadata": {},
   "source": [
    "Given a $m \\times n$ matrix $\\textit{mat}$ and an integer $k$, return a matrix $\\textit{answer}$ where each $\\textit{answer}[i][j]$ is the sum of all elements $\\textit{mat}[r][c]$ for:\n",
    "\n",
    "- i - k <= r <= i + k,\n",
    "- j - k <= c <= j + k, and\n",
    "- (r, c) is a valid position in the matrix.\n",
    " \n",
    "\n",
    "*Example 1*\n",
    "\n",
    "$\\textit{mat}$ = [[1,2,3],[4,5,6],[7,8,9]], $k$ = 1<br />\n",
    "Returns [[12,21,16],[27,45,33],[24,39,28]]\n",
    "\n",
    "*Example 2*\n",
    "\n",
    "$\\textit{mat}$ = [[1,2,3],[4,5,6],[7,8,9]], $k$ = 2<br />\n",
    "Returns [[45,45,45],[45,45,45],[45,45,45]]\n",
    "\n",
    "\n",
    "*Code*"
   ]
  },
  {
   "cell_type": "code",
   "execution_count": 7,
   "id": "852f018e",
   "metadata": {},
   "outputs": [],
   "source": [
    "class Solution:\n",
    "    def matrixBlockSum(self, mat, k):\n",
    "        m, n = len(mat), len(mat[0])\n",
    "        range_sum = [[0] * (n + 1) for _ in range(m + 1)]\n",
    "        for i in range(m):\n",
    "            for j in range(n):\n",
    "                range_sum[i + 1][j + 1] = range_sum[i + 1][j] + range_sum[i][j + 1] - range_sum[i][j] + mat[i][j]\n",
    "        ans = [[0] * n for _ in range(m)]        \n",
    "        for i in range(m):\n",
    "            for j in range(n):\n",
    "                r1, c1 = max(0, i - k), max(0, j - k)\n",
    "                r2, c2 = min(m, i + k + 1), min(n, j + k + 1)\n",
    "                ans[i][j] = range_sum[r2][c2] - range_sum[r1][c2] - range_sum[r2][c1] + range_sum[r1][c1]\n",
    "        return ans"
   ]
  },
  {
   "cell_type": "code",
   "execution_count": 8,
   "id": "a56b7849",
   "metadata": {},
   "outputs": [
    {
     "name": "stdout",
     "output_type": "stream",
     "text": [
      "[[12, 21, 16], [27, 45, 33], [24, 39, 28]]\n"
     ]
    }
   ],
   "source": [
    "print(Solution().matrixBlockSum(mat = [[1,2,3],[4,5,6],[7,8,9]], k = 1))"
   ]
  },
  {
   "cell_type": "code",
   "execution_count": 9,
   "id": "af6ca6fc",
   "metadata": {},
   "outputs": [
    {
     "name": "stdout",
     "output_type": "stream",
     "text": [
      "[[45, 45, 45], [45, 45, 45], [45, 45, 45]]\n"
     ]
    }
   ],
   "source": [
    "print(Solution().matrixBlockSum(mat = [[1,2,3],[4,5,6],[7,8,9]], k = 2))"
   ]
  }
 ],
 "metadata": {
  "kernelspec": {
   "display_name": "Python 3",
   "language": "python",
   "name": "python3"
  },
  "language_info": {
   "codemirror_mode": {
    "name": "ipython",
    "version": 3
   },
   "file_extension": ".py",
   "mimetype": "text/x-python",
   "name": "python",
   "nbconvert_exporter": "python",
   "pygments_lexer": "ipython3",
   "version": "3.8.8"
  }
 },
 "nbformat": 4,
 "nbformat_minor": 5
}
