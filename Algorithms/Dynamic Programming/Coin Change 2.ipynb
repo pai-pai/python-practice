{
 "cells": [
  {
   "cell_type": "markdown",
   "id": "78bd256d",
   "metadata": {},
   "source": [
    "You are given an integer array $\\textit{coins}$ representing coins of different denominations and an integer $\\textit{amount}$ representing a total amount of money.\n",
    "\n",
    "Return the number of combinations that make up that amount. If that amount of money cannot be made up by any combination of the coins, return 0.\n",
    "\n",
    "You may assume that you have an infinite number of each kind of coin.\n",
    "\n",
    "The answer is guaranteed to fit into a signed 32-bit integer.\n",
    "\n",
    "\n",
    "*Example 1*\n",
    "\n",
    "$\\textit{amount}$ = 5, $\\textit{coins}$ = [1,2,5]<br />\n",
    "Returns 4. There are four ways to make up the amount:\n",
    "- 5=5\n",
    "- 5=2+2+1\n",
    "- 5=2+1+1+1\n",
    "- 5=1+1+1+1+1\n",
    "\n",
    "*Example 2*\n",
    "\n",
    "$\\textit{amount}$ = 3, $\\textit{coins}$ = [2]<br />\n",
    "Returns 0. The amount of 3 cannot be made up just with coins of 2.\n",
    "\n",
    "*Example 3*\n",
    "\n",
    "$\\textit{amount}$ = 10, $\\textit{coins}$ = [10]<br />\n",
    "Returns 1\n",
    "\n",
    "\n",
    "*Code*"
   ]
  },
  {
   "cell_type": "code",
   "execution_count": 9,
   "id": "a8edc2b2",
   "metadata": {},
   "outputs": [],
   "source": [
    "class Solution:\n",
    "    def change(self, amount, coins):\n",
    "        dp = [0] * (amount+1)\n",
    "        dp[0] = 1\n",
    "        for coin in coins:\n",
    "            for a in range(coin, amount+1):\n",
    "                dp[a] += dp[a-coin]\n",
    "        return dp[amount]"
   ]
  },
  {
   "cell_type": "code",
   "execution_count": 10,
   "id": "98f6a762",
   "metadata": {},
   "outputs": [
    {
     "data": {
      "text/plain": [
       "4"
      ]
     },
     "execution_count": 10,
     "metadata": {},
     "output_type": "execute_result"
    }
   ],
   "source": [
    "Solution().change(amount=5, coins=[1,2,5])"
   ]
  },
  {
   "cell_type": "code",
   "execution_count": 11,
   "id": "6591b02b",
   "metadata": {},
   "outputs": [
    {
     "data": {
      "text/plain": [
       "0"
      ]
     },
     "execution_count": 11,
     "metadata": {},
     "output_type": "execute_result"
    }
   ],
   "source": [
    "Solution().change(amount=3, coins=[2])"
   ]
  },
  {
   "cell_type": "code",
   "execution_count": 12,
   "id": "1c87e23a",
   "metadata": {},
   "outputs": [
    {
     "data": {
      "text/plain": [
       "1"
      ]
     },
     "execution_count": 12,
     "metadata": {},
     "output_type": "execute_result"
    }
   ],
   "source": [
    "Solution().change(amount=10, coins=[10])"
   ]
  }
 ],
 "metadata": {
  "kernelspec": {
   "display_name": "Python 3",
   "language": "python",
   "name": "python3"
  },
  "language_info": {
   "codemirror_mode": {
    "name": "ipython",
    "version": 3
   },
   "file_extension": ".py",
   "mimetype": "text/x-python",
   "name": "python",
   "nbconvert_exporter": "python",
   "pygments_lexer": "ipython3",
   "version": "3.8.8"
  }
 },
 "nbformat": 4,
 "nbformat_minor": 5
}
