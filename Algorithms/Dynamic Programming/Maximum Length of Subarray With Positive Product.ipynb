{
 "cells": [
  {
   "cell_type": "markdown",
   "id": "31c7c3ed",
   "metadata": {},
   "source": [
    "Given an array of integers $\\textit{nums}$, find the maximum length of a subarray where the product of all its elements is positive.\n",
    "\n",
    "A subarray of an array is a consecutive sequence of zero or more values taken out of that array.\n",
    "\n",
    "Return the maximum length of a subarray with positive product.\n",
    "\n",
    "\n",
    "*Example 1*\n",
    "\n",
    "$\\textit{nums}$ = [1,-2,-3,4]<br />\n",
    "Returns 4. The array $\\textit{nums}$ already has a positive product of 24.\n",
    "\n",
    "*Example 2*\n",
    "\n",
    "$\\textit{nums}$ = [0,1,-2,-3,-4]<br />\n",
    "Returns 3. The longest subarray with positive product is [1,-2,-3] which has a product of 6.\n",
    "Notice that we cannot include 0 in the subarray since that'll make the product 0 which is not positive.\n",
    "\n",
    "*Example 3*\n",
    "\n",
    "$\\textit{nums}$ = [-1,-2,-3,0,1]<br />\n",
    "Returns 2. The longest subarray with positive product is [-1,-2] or [-2,-3].\n",
    "\n",
    "\n",
    "*Code*"
   ]
  },
  {
   "cell_type": "code",
   "execution_count": 103,
   "id": "b8145878",
   "metadata": {},
   "outputs": [],
   "source": [
    "class Solution:\n",
    "    def getMaxLen(self, nums):\n",
    "        pos = neg = 0\n",
    "        result = 0\n",
    "        for num in nums:\n",
    "            if num == 0:\n",
    "                pos = neg = 0\n",
    "            elif num > 0:\n",
    "                pos += 1\n",
    "                neg = neg + 1 if neg else 0\n",
    "            else:\n",
    "                pos, neg = neg + 1 if neg else 0, pos + 1\n",
    "            result = max(result, pos)\n",
    "        return result"
   ]
  },
  {
   "cell_type": "code",
   "execution_count": 104,
   "id": "db802370",
   "metadata": {},
   "outputs": [
    {
     "name": "stdout",
     "output_type": "stream",
     "text": [
      "4\n"
     ]
    }
   ],
   "source": [
    "print(Solution().getMaxLen([1,-2,-1,2,-3,4]))  # exp 4: [1, -2, -1, 2] or [-1, 2, -3, 4]"
   ]
  },
  {
   "cell_type": "code",
   "execution_count": 105,
   "id": "69142bb2",
   "metadata": {},
   "outputs": [
    {
     "name": "stdout",
     "output_type": "stream",
     "text": [
      "3\n"
     ]
    }
   ],
   "source": [
    "print(Solution().getMaxLen([0,1,-2,-3,-4]))  # exp 3: [1, -2, -3]"
   ]
  },
  {
   "cell_type": "code",
   "execution_count": 106,
   "id": "b857ba05",
   "metadata": {},
   "outputs": [
    {
     "name": "stdout",
     "output_type": "stream",
     "text": [
      "2\n"
     ]
    }
   ],
   "source": [
    "print(Solution().getMaxLen([-1,-2,-3,0,1]))  # exp 2: [-1, -2] or [-2, -3]"
   ]
  },
  {
   "cell_type": "code",
   "execution_count": 107,
   "id": "ec562a1b",
   "metadata": {},
   "outputs": [
    {
     "name": "stdout",
     "output_type": "stream",
     "text": [
      "1\n"
     ]
    }
   ],
   "source": [
    "print(Solution().getMaxLen([-1,2]))  # 1: [2]"
   ]
  },
  {
   "cell_type": "code",
   "execution_count": 108,
   "id": "9883623e",
   "metadata": {},
   "outputs": [
    {
     "name": "stdout",
     "output_type": "stream",
     "text": [
      "8\n"
     ]
    }
   ],
   "source": [
    "nums = [5,-20,-20,-39,-5,0,0,0,36,-32,0,-7,-10,-7,21,20,-12,-34,26,2]\n",
    "print(Solution().getMaxLen(nums))  # exp 8: [-10, -7, 21, 20, -12, -34, 26, 2]"
   ]
  }
 ],
 "metadata": {
  "kernelspec": {
   "display_name": "Python 3",
   "language": "python",
   "name": "python3"
  },
  "language_info": {
   "codemirror_mode": {
    "name": "ipython",
    "version": 3
   },
   "file_extension": ".py",
   "mimetype": "text/x-python",
   "name": "python",
   "nbconvert_exporter": "python",
   "pygments_lexer": "ipython3",
   "version": "3.8.8"
  }
 },
 "nbformat": 4,
 "nbformat_minor": 5
}
