{
 "cells": [
  {
   "cell_type": "markdown",
   "id": "43616c2c",
   "metadata": {
    "tags": [
     "LeetCode",
     "Dynamic_Programming",
     "Medium"
    ]
   },
   "source": [
    "Given a $\\textit{triangle}$ array, return the minimum path sum from top to bottom.\n",
    "\n",
    "For each step, you may move to an adjacent number of the row below. More formally, if you are on index $i$ on the current row, you may move to either index $i$ or index $i + 1$ on the next row.\n",
    " \n",
    "\n",
    "*Example 1*\n",
    "\n",
    "$\\textit{triangle}$ = [[2],[3,4],[6,5,7],[4,1,8,3]]<br />\n",
    "Returns 11<br />\n",
    "Explanation: The triangle looks like:\n",
    "```\n",
    "   2\n",
    "  3 4\n",
    " 6 5 7\n",
    "4 1 8 3\n",
    "```\n",
    "The minimum path sum from top to bottom is 2 + 3 + 5 + 1 = 11.\n",
    "\n",
    "*Example 2*\n",
    "\n",
    "$\\textit{triangle}$ = [[-10]]<br />\n",
    "Returns -10\n",
    "\n",
    "\n",
    "*Code (recursive, fails by time limit)*"
   ]
  },
  {
   "cell_type": "code",
   "execution_count": 10,
   "id": "29d2f490",
   "metadata": {},
   "outputs": [],
   "source": [
    "class Solution:\n",
    "    def minimumTotal(self, triangle):\n",
    "        if len(triangle) == 1:\n",
    "            return min(triangle[0])\n",
    "        return self.getPath(triangle, 0, 0)\n",
    "        \n",
    "    def getPath(self, tr, row, col):\n",
    "        current = tr[row][col]\n",
    "        if row == len(tr) - 1:\n",
    "            return current\n",
    "        return current + min(self.getPath(tr, row+1, col), self.getPath(tr, row+1, col+1))"
   ]
  },
  {
   "cell_type": "code",
   "execution_count": 11,
   "id": "b5a5f5c5",
   "metadata": {},
   "outputs": [
    {
     "name": "stdout",
     "output_type": "stream",
     "text": [
      "11\n"
     ]
    }
   ],
   "source": [
    "triangle = [[2],[3,4],[6,5,7],[4,1,8,3]]\n",
    "print(Solution().minimumTotal(triangle))  # exp 11 (2 + 3 + 5 + 1)"
   ]
  },
  {
   "cell_type": "code",
   "execution_count": 12,
   "id": "3d7d9d4f",
   "metadata": {},
   "outputs": [
    {
     "name": "stdout",
     "output_type": "stream",
     "text": [
      "6\n"
     ]
    }
   ],
   "source": [
    "triangle = [[2],[3,4],[6,5,0],[4,1,8,0]]\n",
    "print(Solution().minimumTotal(triangle))  # exp 6 (2 + 4 + 0 + 0)"
   ]
  },
  {
   "cell_type": "markdown",
   "id": "56fdb27f",
   "metadata": {},
   "source": [
    "*Code (looks weird, but it works perfectly: rewrite next row values from top to bottom)*"
   ]
  },
  {
   "cell_type": "code",
   "execution_count": 71,
   "id": "fcbcd2c7",
   "metadata": {},
   "outputs": [],
   "source": [
    "class Solution:\n",
    "    def minimumTotal(self, triangle):\n",
    "        if len(triangle) == 1:\n",
    "            return min(triangle[0])\n",
    "        row = 0\n",
    "        while row < len(triangle) - 1:\n",
    "            for col in range(len(triangle[row+1])):\n",
    "                triangle[row+1][col] += min(triangle[row][col-1:col+1] or triangle[row][0:1])\n",
    "            row += 1\n",
    "        return min(triangle[row])"
   ]
  },
  {
   "cell_type": "code",
   "execution_count": 72,
   "id": "6f619931",
   "metadata": {},
   "outputs": [
    {
     "name": "stdout",
     "output_type": "stream",
     "text": [
      "10\n"
     ]
    }
   ],
   "source": [
    "triangle = [[2],[3,4],[6,5,7]]  # exp 10 (2 + 3 + 5)\n",
    "print(Solution().minimumTotal(triangle))"
   ]
  },
  {
   "cell_type": "code",
   "execution_count": 73,
   "id": "a57309e3",
   "metadata": {},
   "outputs": [
    {
     "name": "stdout",
     "output_type": "stream",
     "text": [
      "11\n"
     ]
    }
   ],
   "source": [
    "triangle = [[2],[3,4],[6,5,7],[4,1,8,3]]\n",
    "print(Solution().minimumTotal(triangle))  # exp 11 (2 + 3 + 5 + 1)"
   ]
  },
  {
   "cell_type": "markdown",
   "id": "7eca02da",
   "metadata": {},
   "source": [
    "*Code (looks nice, and it works perfectly: rewrite next row values from bottom to top)*"
   ]
  },
  {
   "cell_type": "code",
   "execution_count": 1,
   "id": "926c1dfd",
   "metadata": {},
   "outputs": [],
   "source": [
    "class Solution:\n",
    "    def minimumTotal(self, triangle):\n",
    "        row = len(triangle) - 1\n",
    "        while row > 0:\n",
    "            for col in range(len(triangle[row-1])):\n",
    "                triangle[row-1][col] += min(triangle[row][col], triangle[row][col+1])\n",
    "            row -= 1\n",
    "        return triangle[0][0]"
   ]
  },
  {
   "cell_type": "code",
   "execution_count": 2,
   "id": "14710bc7",
   "metadata": {},
   "outputs": [
    {
     "name": "stdout",
     "output_type": "stream",
     "text": [
      "11\n"
     ]
    }
   ],
   "source": [
    "triangle = [[2],[3,4],[6,5,7],[4,1,8,3]]\n",
    "print(Solution().minimumTotal(triangle))  # exp 11 (2 + 3 + 5 + 1)"
   ]
  },
  {
   "cell_type": "code",
   "execution_count": 3,
   "id": "340b696a",
   "metadata": {},
   "outputs": [
    {
     "name": "stdout",
     "output_type": "stream",
     "text": [
      "10\n"
     ]
    }
   ],
   "source": [
    "triangle = [[2],[3,4],[6,5,7]]  # exp 10 (2 + 3 + 5)\n",
    "print(Solution().minimumTotal(triangle))"
   ]
  },
  {
   "cell_type": "code",
   "execution_count": 4,
   "id": "4521f939",
   "metadata": {},
   "outputs": [
    {
     "name": "stdout",
     "output_type": "stream",
     "text": [
      "6\n"
     ]
    }
   ],
   "source": [
    "triangle = [[2],[3,4],[6,5,0],[4,1,8,0]]\n",
    "print(Solution().minimumTotal(triangle))  # exp 6 (2 + 4 + 0 + 0)"
   ]
  },
  {
   "cell_type": "code",
   "execution_count": 5,
   "id": "d01f428f",
   "metadata": {},
   "outputs": [
    {
     "name": "stdout",
     "output_type": "stream",
     "text": [
      "-10\n"
     ]
    }
   ],
   "source": [
    "triangle = [[-10]]\n",
    "print(Solution().minimumTotal(triangle))  # exp -10"
   ]
  }
 ],
 "metadata": {
  "celltoolbar": "Tags",
  "kernelspec": {
   "display_name": "Python 3",
   "language": "python",
   "name": "python3"
  },
  "language_info": {
   "codemirror_mode": {
    "name": "ipython",
    "version": 3
   },
   "file_extension": ".py",
   "mimetype": "text/x-python",
   "name": "python",
   "nbconvert_exporter": "python",
   "pygments_lexer": "ipython3",
   "version": "3.8.8"
  }
 },
 "nbformat": 4,
 "nbformat_minor": 5
}
