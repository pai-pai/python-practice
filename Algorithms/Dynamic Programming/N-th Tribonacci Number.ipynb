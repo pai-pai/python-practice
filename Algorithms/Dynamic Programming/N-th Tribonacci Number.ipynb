{
 "cells": [
  {
   "cell_type": "markdown",
   "id": "539abbb6",
   "metadata": {
    "tags": [
     "LeetCode",
     "Dynamic_Programming",
     "Easy"
    ]
   },
   "source": [
    "The Tribonacci sequence $T_n$ is defined as follows: \n",
    "\n",
    "$T_0$ = 0, $T_1$ = 1, $T_2$ = 1, and $T_{n+3}$ = $T_n$ + $T_{n+1}$ + $T_{n+2}$ for $n >= 0$.\n",
    "\n",
    "Given $n$, return the value of $T_n$.\n",
    "\n",
    "\n",
    "*Example 1*\n",
    "\n",
    "$n$ = 4<br />\n",
    "Returns 4<br />\n",
    "Explanation:<br />\n",
    "$T_3$ = 0 + 1 + 1 = 2<br />\n",
    "$T_4$ = 1 + 1 + 2 = 4\n",
    "\n",
    "*Example 2*\n",
    "\n",
    "$n$ = 25<br />\n",
    "Returns 1389537\n",
    "\n",
    "\n",
    "*Code (recursion)*"
   ]
  },
  {
   "cell_type": "code",
   "execution_count": 1,
   "id": "fd58460c",
   "metadata": {},
   "outputs": [],
   "source": [
    "class Solution:\n",
    "    seen = {0: 0, 1: 1, 2: 1}\n",
    "    \n",
    "    def tribonacci(self, n):\n",
    "        if n in self.seen:\n",
    "            return self.seen[n]\n",
    "        self.seen[n] = self.tribonacci(n - 1) + self.tribonacci(n - 2) + self.tribonacci(n - 3)\n",
    "        return self.seen[n]"
   ]
  },
  {
   "cell_type": "code",
   "execution_count": 2,
   "id": "12df2c11",
   "metadata": {},
   "outputs": [
    {
     "name": "stdout",
     "output_type": "stream",
     "text": [
      "4\n"
     ]
    }
   ],
   "source": [
    "print(Solution().tribonacci(4))"
   ]
  },
  {
   "cell_type": "code",
   "execution_count": 3,
   "id": "5837b6c7",
   "metadata": {},
   "outputs": [
    {
     "name": "stdout",
     "output_type": "stream",
     "text": [
      "1389537\n"
     ]
    }
   ],
   "source": [
    "print(Solution().tribonacci(25))"
   ]
  },
  {
   "cell_type": "markdown",
   "id": "83ab5000",
   "metadata": {},
   "source": [
    "*Code (iterative)*"
   ]
  },
  {
   "cell_type": "code",
   "execution_count": 7,
   "id": "dd827443",
   "metadata": {},
   "outputs": [],
   "source": [
    "class Solution:\n",
    "    def tribonacci(self, n):\n",
    "        calc = [0, 1, 1]\n",
    "        for replaceable_position in range(3, n+1):\n",
    "            calc[replaceable_position % 3] = sum(calc)\n",
    "        return calc[n % 3]"
   ]
  },
  {
   "cell_type": "code",
   "execution_count": 8,
   "id": "14e146f1",
   "metadata": {},
   "outputs": [
    {
     "name": "stdout",
     "output_type": "stream",
     "text": [
      "4\n"
     ]
    }
   ],
   "source": [
    "print(Solution().tribonacci(4))"
   ]
  },
  {
   "cell_type": "code",
   "execution_count": 9,
   "id": "b1c589d7",
   "metadata": {},
   "outputs": [
    {
     "name": "stdout",
     "output_type": "stream",
     "text": [
      "1389537\n"
     ]
    }
   ],
   "source": [
    "print(Solution().tribonacci(25))"
   ]
  },
  {
   "cell_type": "markdown",
   "id": "5c0f7933",
   "metadata": {},
   "source": [
    "*Explanation*\n",
    "\n",
    "Because for any $n$ **we need to know only last 3 values** we can use the array with length equals 3: just replace one of its item every time: 0 -> 1 -> 2 -> 0 -> 1 -> 2 -> ... with sum of current array values.\n",
    "\n",
    "For $n$ = 7:\n",
    "\n",
    "1. $\\textit{calc}$ = [0, 1, 1]<br />\n",
    "$\\textit{replaceable position}$ = 3<br />\n",
    "`calc[3 % 3] = calc[0] = sum([0, 1, 1]) = 2`\n",
    "\n",
    "2. $\\textit{calc}$ = [2, 1, 1]<br />\n",
    "$\\textit{replaceable position}$ = 4<br />\n",
    "`calc[4 % 3] = calc[1] = sum([2, 1, 1]) = 4`\n",
    "\n",
    "3. $\\textit{calc}$ = [2, 4, 1]<br />\n",
    "$\\textit{replaceable position}$ = 5<br />\n",
    "`calc[5 % 3] = calc[2] = sum([2, 4, 1]) = 7`\n",
    "\n",
    "4. $\\textit{calc}$ = [2, 4, 7]<br />\n",
    "$\\textit{replaceable position}$ = 6<br />\n",
    "`calc[6 % 3] = calc[0] = sum([2, 4, 7]) = 13`\n",
    "\n",
    "5. $\\textit{calc}$ = [13, 4, 7]<br />\n",
    "$\\textit{replaceable position}$ = 7<br />\n",
    "`calc[7 % 3] = calc[1] = sum([13, 4, 7]) = 24`\n",
    "\n",
    "$T_7$ = 24"
   ]
  },
  {
   "cell_type": "code",
   "execution_count": 10,
   "id": "f2c328b4",
   "metadata": {},
   "outputs": [
    {
     "name": "stdout",
     "output_type": "stream",
     "text": [
      "24\n"
     ]
    }
   ],
   "source": [
    "print(Solution().tribonacci(7))"
   ]
  }
 ],
 "metadata": {
  "celltoolbar": "Tags",
  "kernelspec": {
   "display_name": "Python 3",
   "language": "python",
   "name": "python3"
  },
  "language_info": {
   "codemirror_mode": {
    "name": "ipython",
    "version": 3
   },
   "file_extension": ".py",
   "mimetype": "text/x-python",
   "name": "python",
   "nbconvert_exporter": "python",
   "pygments_lexer": "ipython3",
   "version": "3.8.8"
  }
 },
 "nbformat": 4,
 "nbformat_minor": 5
}
