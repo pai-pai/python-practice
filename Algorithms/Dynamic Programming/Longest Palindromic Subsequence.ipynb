{
 "cells": [
  {
   "cell_type": "markdown",
   "id": "c25de189",
   "metadata": {},
   "source": [
    "Given a string $s$, find the longest palindromic subsequence's length in $s$.\n",
    "\n",
    "A subsequence is a sequence that can be derived from another sequence by deleting some or no elements without changing the order of the remaining elements.\n",
    "\n",
    "\n",
    "*Example 1*\n",
    "\n",
    "$s$ = \"bbbab\"<br />\n",
    "Returns 4. One possible longest palindromic subsequence is \"bbbb\".\n",
    "\n",
    "*Example 2*\n",
    "\n",
    "$s$ = \"cbbd\"<br />\n",
    "Returns 2. One possible longest palindromic subsequence is \"bb\".\n",
    "\n",
    "\n",
    "*Code*"
   ]
  },
  {
   "cell_type": "code",
   "execution_count": 7,
   "id": "cb2626f4",
   "metadata": {},
   "outputs": [],
   "source": [
    "class Solution:\n",
    "    def longestPalindromeSubseq(self, s):\n",
    "        n = len(s)\n",
    "        res = [[0] * n for _ in range(n)]\n",
    "        for i in range(n):\n",
    "            res[i][i] = 1\n",
    "        for cl in range(2, n+1):\n",
    "            for i in range(n-cl+1):\n",
    "                j = i+cl-1\n",
    "                if s[i] == s[j]:\n",
    "                    res[i][j] = 2 + (0 if cl == 2 else res[i+1][j-1])\n",
    "                else:\n",
    "                    res[i][j] = max(res[i][j-1], res[i+1][j])\n",
    "        return res[0][n-1]"
   ]
  },
  {
   "cell_type": "code",
   "execution_count": 8,
   "id": "c8224023",
   "metadata": {},
   "outputs": [
    {
     "name": "stdout",
     "output_type": "stream",
     "text": [
      "4\n"
     ]
    }
   ],
   "source": [
    "print(Solution().longestPalindromeSubseq(\"bbbab\"))"
   ]
  },
  {
   "cell_type": "code",
   "execution_count": 9,
   "id": "cd0849b7",
   "metadata": {},
   "outputs": [
    {
     "name": "stdout",
     "output_type": "stream",
     "text": [
      "2\n"
     ]
    }
   ],
   "source": [
    "print(Solution().longestPalindromeSubseq(\"cbbd\"))"
   ]
  }
 ],
 "metadata": {
  "kernelspec": {
   "display_name": "Python 3",
   "language": "python",
   "name": "python3"
  },
  "language_info": {
   "codemirror_mode": {
    "name": "ipython",
    "version": 3
   },
   "file_extension": ".py",
   "mimetype": "text/x-python",
   "name": "python",
   "nbconvert_exporter": "python",
   "pygments_lexer": "ipython3",
   "version": "3.8.8"
  }
 },
 "nbformat": 4,
 "nbformat_minor": 5
}
