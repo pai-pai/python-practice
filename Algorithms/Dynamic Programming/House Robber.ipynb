{
 "cells": [
  {
   "cell_type": "markdown",
   "id": "dcd37820",
   "metadata": {
    "tags": [
     "LeetCode",
     "Dynamic_Programming",
     "Medium"
    ]
   },
   "source": [
    "You are a professional robber planning to rob houses along a street. Each house has a certain amount of money stashed, the only constraint stopping you from robbing each of them is that adjacent houses have security systems connected and **it will automatically contact the police if two adjacent houses were broken into on the same night**.\n",
    "\n",
    "Given an integer array nums representing the amount of money of each house, return the maximum amount of money you can rob tonight **without alerting the police**.\n",
    "\n",
    "\n",
    "*Example 1*\n",
    "\n",
    "$\\textit{nums}$ = [1,2,3,1]<br />\n",
    "Returns 4. Rob house 1 (money = 1) and then rob house 3 (money = 3). Total amount you can rob = 1 + 3 = 4.\n",
    "\n",
    "*Example 2*\n",
    "\n",
    "$\\textit{nums}$ = [2,7,9,3,1]<br />\n",
    "Returns 12. Rob house 1 (money = 2), rob house 3 (money = 9) and rob house 5 (money = 1). Total amount you can rob = 2 + 9 + 1 = 12.\n",
    "\n",
    "\n",
    "*Code*"
   ]
  },
  {
   "cell_type": "code",
   "execution_count": 118,
   "id": "b884ed40",
   "metadata": {},
   "outputs": [],
   "source": [
    "class Solution:\n",
    "    def rob(self, nums):\n",
    "        prev, current = 0, 0\n",
    "        for num in nums:\n",
    "            prev_calc = current  # keep previous calculated value\n",
    "            current = max(num + prev, prev_calc)  # calculate for current value: \n",
    "                                                  # pick the max between new value and previous one\n",
    "            prev = prev_calc  # pass previous calculated value as previous for next iteration\n",
    "        return current"
   ]
  },
  {
   "cell_type": "code",
   "execution_count": 119,
   "id": "42893041",
   "metadata": {},
   "outputs": [
    {
     "name": "stdout",
     "output_type": "stream",
     "text": [
      "4\n"
     ]
    }
   ],
   "source": [
    "print(Solution().rob([1,2,3,1]))  # est 4 (1 + 3)"
   ]
  },
  {
   "cell_type": "code",
   "execution_count": 111,
   "id": "56911450",
   "metadata": {},
   "outputs": [
    {
     "name": "stdout",
     "output_type": "stream",
     "text": [
      "12\n"
     ]
    }
   ],
   "source": [
    "print(Solution().rob([9,2,3,1]))  # est 12 (9 + 3)"
   ]
  },
  {
   "cell_type": "code",
   "execution_count": 112,
   "id": "184b9652",
   "metadata": {},
   "outputs": [
    {
     "name": "stdout",
     "output_type": "stream",
     "text": [
      "11\n"
     ]
    }
   ],
   "source": [
    "print(Solution().rob([9,3,1,2]))  # est 11 (9 + 2)"
   ]
  },
  {
   "cell_type": "code",
   "execution_count": 113,
   "id": "25e3253e",
   "metadata": {},
   "outputs": [
    {
     "name": "stdout",
     "output_type": "stream",
     "text": [
      "12\n"
     ]
    }
   ],
   "source": [
    "print(Solution().rob([2,7,9,3,1]))  # est 12 (2 + 9 + 1)"
   ]
  },
  {
   "cell_type": "code",
   "execution_count": 114,
   "id": "3d7c3713",
   "metadata": {},
   "outputs": [
    {
     "name": "stdout",
     "output_type": "stream",
     "text": [
      "16\n"
     ]
    }
   ],
   "source": [
    "print(Solution().rob([1,4,2,3,5,1,6,1,1]))  # est 16 (4 + 5 + 6 + 1)"
   ]
  },
  {
   "cell_type": "code",
   "execution_count": 115,
   "id": "89276923",
   "metadata": {},
   "outputs": [
    {
     "name": "stdout",
     "output_type": "stream",
     "text": [
      "1\n"
     ]
    }
   ],
   "source": [
    "print(Solution().rob([1]))  # est 1"
   ]
  },
  {
   "cell_type": "code",
   "execution_count": 116,
   "id": "11d91349",
   "metadata": {},
   "outputs": [
    {
     "name": "stdout",
     "output_type": "stream",
     "text": [
      "2\n"
     ]
    }
   ],
   "source": [
    "print(Solution().rob([1,2]))  # est 2"
   ]
  },
  {
   "cell_type": "code",
   "execution_count": 117,
   "id": "4e37f069",
   "metadata": {},
   "outputs": [
    {
     "name": "stdout",
     "output_type": "stream",
     "text": [
      "3\n"
     ]
    }
   ],
   "source": [
    "print(Solution().rob([1,3,1]))  # est 3"
   ]
  }
 ],
 "metadata": {
  "celltoolbar": "Tags",
  "kernelspec": {
   "display_name": "Python 3",
   "language": "python",
   "name": "python3"
  },
  "language_info": {
   "codemirror_mode": {
    "name": "ipython",
    "version": 3
   },
   "file_extension": ".py",
   "mimetype": "text/x-python",
   "name": "python",
   "nbconvert_exporter": "python",
   "pygments_lexer": "ipython3",
   "version": "3.8.8"
  }
 },
 "nbformat": 4,
 "nbformat_minor": 5
}
