{
 "cells": [
  {
   "cell_type": "markdown",
   "id": "0f7514a3",
   "metadata": {},
   "source": [
    "There is a robot on an $m \\times n$ grid. The robot is initially located at the top-left corner (i.e., grid[0][0]). The robot tries to move to the bottom-right corner (i.e., grid[m - 1][n - 1]). The robot can only move either down or right at any point in time.\n",
    "\n",
    "Given the two integers $m$ and $n$, return the number of possible unique paths that the robot can take to reach the bottom-right corner.\n",
    "\n",
    "The test cases are generated so that the answer will be less than or equal to 2 * $10^9$.\n",
    "\n",
    "\n",
    "*Example 1*\n",
    "\n",
    "$m$ = 3, $n$ = 7<br />\n",
    "Returns 28\n",
    "\n",
    "*Example 2*\n",
    "\n",
    "$m$ = 3, $n$ = 2<br />\n",
    "Returns 3<br />\n",
    "Explanation: From the top-left corner, there are a total of 3 ways to reach the bottom-right corner:\n",
    "1. Right -> Down -> Down\n",
    "2. Down -> Down -> Right\n",
    "3. Down -> Right -> Down\n",
    "\n",
    "\n",
    "*Code*"
   ]
  },
  {
   "cell_type": "code",
   "execution_count": 12,
   "id": "8149249e",
   "metadata": {},
   "outputs": [],
   "source": [
    "class Solution:\n",
    "    def uniquePaths(self, m, n):\n",
    "        if m < n:\n",
    "            m, n = n, m\n",
    "        res = [0]*n\n",
    "        res[0] = 1\n",
    "        for row in range(m):\n",
    "            for col in range(1,n):\n",
    "                res[col] += res[col-1]\n",
    "        return res[-1]"
   ]
  },
  {
   "cell_type": "code",
   "execution_count": 13,
   "id": "598e4527",
   "metadata": {},
   "outputs": [
    {
     "name": "stdout",
     "output_type": "stream",
     "text": [
      "3\n"
     ]
    }
   ],
   "source": [
    "print(Solution().uniquePaths(3,2))"
   ]
  },
  {
   "cell_type": "code",
   "execution_count": 14,
   "id": "8c9e21f7",
   "metadata": {},
   "outputs": [
    {
     "name": "stdout",
     "output_type": "stream",
     "text": [
      "6\n"
     ]
    }
   ],
   "source": [
    "print(Solution().uniquePaths(3,3))"
   ]
  },
  {
   "cell_type": "code",
   "execution_count": 15,
   "id": "d52d93c5",
   "metadata": {},
   "outputs": [
    {
     "name": "stdout",
     "output_type": "stream",
     "text": [
      "10\n"
     ]
    }
   ],
   "source": [
    "print(Solution().uniquePaths(3,4))"
   ]
  },
  {
   "cell_type": "code",
   "execution_count": 17,
   "id": "8fa8854a",
   "metadata": {},
   "outputs": [
    {
     "name": "stdout",
     "output_type": "stream",
     "text": [
      "28\n"
     ]
    }
   ],
   "source": [
    "print(Solution().uniquePaths(3,7))"
   ]
  },
  {
   "cell_type": "markdown",
   "id": "92b3086e",
   "metadata": {},
   "source": [
    "*Explanation*\n",
    "\n",
    "For example, we have a grid where m = 3 and n = 3:\n",
    "```\n",
    "  S |   | \n",
    " ---|---|---\n",
    "    |   |\n",
    " ---|---|---\n",
    "    |   | E\n",
    "```\n",
    "\n",
    "The base case is a grid $1 \\times 1$. And the quantity of possible unique paths for it is 1.\n",
    "\n",
    "For a grid $1 \\times n$ or $m \\times 1$ the quantity of possible unique paths for it still equals 1:\n",
    "```\n",
    "  S | -> | -> | -> | ... | E \n",
    "```\n",
    "\n",
    "For a grid $3 \\times 2$ the quantity of possible unique paths is:\n",
    "```\n",
    "  1 | 1\n",
    " ---|---\n",
    "  1 | 2  <- there are two paths from (0,0) to (1,1): (0,0) -> (0,1) -> (1,1) and (0,0) -> (1,0) -> (1,1)\n",
    " ---|---\n",
    "  1 | 3  <- cell (1,1) can be reached through 2 different paths, so cell (2,1) can be reached from (0,0) \n",
    "            through cell (1,1) in 2 different ways + the one possible way throught cell (2,0).\n",
    "```\n",
    "\n",
    "For a grid $3 \\times 3$ the quantity of possible unique paths is:\n",
    "```\n",
    "  1 | 1 | 1\n",
    " ---|---|---\n",
    "  1 | 2 | 3\n",
    " ---|---|---\n",
    "  1 | 3 | 6  <- cell (2,2) can be reached through 2 cells: (2,1) and (1,2), both of them have 3 different\n",
    "                paths from (0,0) to it.\n",
    "```"
   ]
  },
  {
   "cell_type": "code",
   "execution_count": null,
   "id": "27c2fd18",
   "metadata": {},
   "outputs": [],
   "source": []
  }
 ],
 "metadata": {
  "kernelspec": {
   "display_name": "Python 3",
   "language": "python",
   "name": "python3"
  },
  "language_info": {
   "codemirror_mode": {
    "name": "ipython",
    "version": 3
   },
   "file_extension": ".py",
   "mimetype": "text/x-python",
   "name": "python",
   "nbconvert_exporter": "python",
   "pygments_lexer": "ipython3",
   "version": "3.8.8"
  }
 },
 "nbformat": 4,
 "nbformat_minor": 5
}
