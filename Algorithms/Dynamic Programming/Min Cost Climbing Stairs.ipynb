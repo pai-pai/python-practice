{
 "cells": [
  {
   "cell_type": "markdown",
   "id": "36f12884",
   "metadata": {
    "tags": [
     "LeetCode",
     "Dynamic_Programming",
     "Easy"
    ]
   },
   "source": [
    "You are given an integer array $\\textit{cost}$ where $\\textit{cost}[i]$ is the cost of $i^{th}$ step on a staircase. Once you pay the cost, you can either climb one or two steps.\n",
    "\n",
    "You can either start from the step with index $0$, or the step with index $1$.\n",
    "\n",
    "Return the minimum cost to reach the top of the floor.\n",
    "\n",
    "\n",
    "*Example 1*\n",
    "\n",
    "$\\textit{cost}$ = [10,15,20]<br />\n",
    "Returns 15. \n",
    "Explanation: You will start at index 1.\n",
    "- pay 15 and climb two steps to reach the top\n",
    "\n",
    "The total cost is 15.\n",
    "\n",
    "*Example 2*\n",
    "\n",
    "$\\textit{cost}$ = [**1**,100,**1**,1,**1**,100,**1**,**1**,100,**1**]<br />\n",
    "Returns 6.\n",
    "Explanation: You will start at index 0.\n",
    "- Pay 1 and climb two steps to reach index 2.\n",
    "- Pay 1 and climb two steps to reach index 4.\n",
    "- Pay 1 and climb two steps to reach index 6.\n",
    "- Pay 1 and climb one step to reach index 7.\n",
    "- Pay 1 and climb two steps to reach index 9.\n",
    "- Pay 1 and climb one step to reach the top.\n",
    "\n",
    "The total cost is 6.\n",
    "\n",
    "\n",
    "*Code*"
   ]
  },
  {
   "cell_type": "code",
   "execution_count": 32,
   "id": "cfedaf2e",
   "metadata": {},
   "outputs": [],
   "source": [
    "class Solution:\n",
    "    def minCostClimbingStairs(self, cost):\n",
    "        prev1, prev2 = 0, cost[-1]\n",
    "        for i in range(len(cost)-2, -1, -1):\n",
    "            prev1, prev2 = prev2, cost[i] + min(prev1, prev2)\n",
    "        return min(prev1, prev2)"
   ]
  },
  {
   "cell_type": "code",
   "execution_count": 33,
   "id": "498f68f0",
   "metadata": {},
   "outputs": [
    {
     "name": "stdout",
     "output_type": "stream",
     "text": [
      "15\n"
     ]
    }
   ],
   "source": [
    "print(Solution().minCostClimbingStairs([10, 15, 20]))"
   ]
  },
  {
   "cell_type": "code",
   "execution_count": 35,
   "id": "6f20bc11",
   "metadata": {},
   "outputs": [
    {
     "name": "stdout",
     "output_type": "stream",
     "text": [
      "6\n"
     ]
    }
   ],
   "source": [
    "print(Solution().minCostClimbingStairs([1,100,1,1,1,100,1,1,100,1]))"
   ]
  },
  {
   "cell_type": "markdown",
   "id": "b1d2690e",
   "metadata": {},
   "source": [
    "*Explanation*\n"
   ]
  }
 ],
 "metadata": {
  "celltoolbar": "Tags",
  "kernelspec": {
   "display_name": "Python 3",
   "language": "python",
   "name": "python3"
  },
  "language_info": {
   "codemirror_mode": {
    "name": "ipython",
    "version": 3
   },
   "file_extension": ".py",
   "mimetype": "text/x-python",
   "name": "python",
   "nbconvert_exporter": "python",
   "pygments_lexer": "ipython3",
   "version": "3.8.8"
  }
 },
 "nbformat": 4,
 "nbformat_minor": 5
}
