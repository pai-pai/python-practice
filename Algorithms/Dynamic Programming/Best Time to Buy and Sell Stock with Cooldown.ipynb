{
 "cells": [
  {
   "cell_type": "markdown",
   "id": "d89045d6",
   "metadata": {},
   "source": [
    "You are given an array $\\textit{prices}$ where $\\textit{prices}[i]$ is the price of a given stock on the ith day.\n",
    "\n",
    "Find the maximum profit you can achieve. You may complete as many transactions as you like (i.e., buy one and sell one share of the stock multiple times) with the following restrictions:\n",
    "\n",
    "- After you sell your stock, you cannot buy stock on the next day (i.e., cooldown one day).\n",
    "\n",
    "**Note:** You may not engage in multiple transactions simultaneously (i.e., you must sell the stock before you buy again).\n",
    "\n",
    "\n",
    "*Example 1*\n",
    "\n",
    "$\\textit{prices}$ = [1,2,3,0,2]<br />\n",
    "Returns 3. Transactions = [buy, sell, cooldown, buy, sell]\n",
    "\n",
    "*Example 2*\n",
    "\n",
    "$\\textit{prices}$ = [1]\n",
    "Returns 0\n",
    "\n",
    "\n",
    "*Code*"
   ]
  },
  {
   "cell_type": "code",
   "execution_count": 2,
   "id": "6bc8071b",
   "metadata": {},
   "outputs": [],
   "source": [
    "class Solution:\n",
    "    def maxProfit(self, prices):\n",
    "        if len(prices) < 2:\n",
    "            return 0\n",
    "        sell, buy, prev_sell, prev_buy = 0, -prices[0], 0, 0\n",
    "        for price in prices:\n",
    "            prev_buy = buy\n",
    "            buy = max(prev_sell - price, prev_buy)\n",
    "            prev_sell = sell\n",
    "            sell = max(prev_buy + price, prev_sell)\n",
    "        return sell"
   ]
  },
  {
   "cell_type": "code",
   "execution_count": 3,
   "id": "2b670571",
   "metadata": {},
   "outputs": [
    {
     "name": "stdout",
     "output_type": "stream",
     "text": [
      "3\n"
     ]
    }
   ],
   "source": [
    "print(Solution().maxProfit([1,2,3,0,2]))"
   ]
  },
  {
   "cell_type": "code",
   "execution_count": 4,
   "id": "37bb7d43",
   "metadata": {},
   "outputs": [
    {
     "name": "stdout",
     "output_type": "stream",
     "text": [
      "0\n"
     ]
    }
   ],
   "source": [
    "print(Solution().maxProfit([1]))"
   ]
  }
 ],
 "metadata": {
  "kernelspec": {
   "display_name": "Python 3",
   "language": "python",
   "name": "python3"
  },
  "language_info": {
   "codemirror_mode": {
    "name": "ipython",
    "version": 3
   },
   "file_extension": ".py",
   "mimetype": "text/x-python",
   "name": "python",
   "nbconvert_exporter": "python",
   "pygments_lexer": "ipython3",
   "version": "3.8.8"
  }
 },
 "nbformat": 4,
 "nbformat_minor": 5
}
