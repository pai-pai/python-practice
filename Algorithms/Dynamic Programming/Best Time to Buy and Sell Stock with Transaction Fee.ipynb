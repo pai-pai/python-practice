{
 "cells": [
  {
   "cell_type": "markdown",
   "id": "0bbdb95d",
   "metadata": {},
   "source": [
    "You are given an array $\\textit{prices}$ where $\\textit{prices}[i]$ is the price of a given stock on the $i^{th}$ day, and an integer $\\textit{fee}$ representing a transaction fee.\n",
    "\n",
    "Find the maximum profit you can achieve. You may complete as many transactions as you like, but you need to pay the transaction fee for each transaction.\n",
    "\n",
    "**Note:** You may not engage in multiple transactions simultaneously (i.e., you must sell the stock before you buy again).\n",
    "\n",
    "\n",
    "*Example 1*\n",
    "\n",
    "$\\textit{prices}$ = [1,3,2,8,4,9], $\\textit{fee}$ = 2<br />\n",
    "Returns 8<br />\n",
    "Explanation: The maximum profit can be achieved by:\n",
    "- Buying at prices[0] = 1\n",
    "- Selling at prices[3] = 8\n",
    "- Buying at prices[4] = 4\n",
    "- Selling at prices[5] = 9\n",
    "The total profit is ((8 - 1) - 2) + ((9 - 4) - 2) = 8.\n",
    "\n",
    "*Example 2*\n",
    "\n",
    "$\\textit{prices}$ = [1,3,7,5,10,3], $\\textit{fee}$ = 3\n",
    "Returns 6\n",
    "\n",
    "\n",
    "*Code*"
   ]
  },
  {
   "cell_type": "code",
   "execution_count": 50,
   "id": "7c0cc815",
   "metadata": {},
   "outputs": [],
   "source": [
    "class Solution:\n",
    "    def maxProfit(self, prices, fee):    \n",
    "        if len(prices) < 2:\n",
    "             return 0\n",
    "        ans = 0\n",
    "        minimum = prices[0]\n",
    "        for i in range(1, len(prices)):\n",
    "            if prices[i] < minimum:\n",
    "                minimum = prices[i]\n",
    "            elif prices[i] > minimum + fee:\n",
    "                ans += prices[i] - fee - minimum\n",
    "                minimum = prices[i] - fee\n",
    "        return ans"
   ]
  },
  {
   "cell_type": "code",
   "execution_count": 51,
   "id": "03129015",
   "metadata": {},
   "outputs": [
    {
     "name": "stdout",
     "output_type": "stream",
     "text": [
      "6\n"
     ]
    }
   ],
   "source": [
    "print(Solution().maxProfit([1,3,2,8,6,9], 2))"
   ]
  },
  {
   "cell_type": "code",
   "execution_count": 52,
   "id": "79f58ca0",
   "metadata": {},
   "outputs": [
    {
     "name": "stdout",
     "output_type": "stream",
     "text": [
      "6\n"
     ]
    }
   ],
   "source": [
    "print(Solution().maxProfit([1,3,7,5,10,3], 3))"
   ]
  },
  {
   "cell_type": "code",
   "execution_count": 53,
   "id": "c7aea55b",
   "metadata": {},
   "outputs": [
    {
     "name": "stdout",
     "output_type": "stream",
     "text": [
      "0\n"
     ]
    }
   ],
   "source": [
    "print(Solution().maxProfit([9,8,7,1,2], 3))  # exp 0"
   ]
  },
  {
   "cell_type": "code",
   "execution_count": 54,
   "id": "c8dd8447",
   "metadata": {},
   "outputs": [
    {
     "name": "stdout",
     "output_type": "stream",
     "text": [
      "0\n"
     ]
    }
   ],
   "source": [
    "print(Solution().maxProfit([4,5,5,2,4,3,5,5,2,3], 3))  # exp 0"
   ]
  }
 ],
 "metadata": {
  "kernelspec": {
   "display_name": "Python 3",
   "language": "python",
   "name": "python3"
  },
  "language_info": {
   "codemirror_mode": {
    "name": "ipython",
    "version": 3
   },
   "file_extension": ".py",
   "mimetype": "text/x-python",
   "name": "python",
   "nbconvert_exporter": "python",
   "pygments_lexer": "ipython3",
   "version": "3.8.8"
  }
 },
 "nbformat": 4,
 "nbformat_minor": 5
}
