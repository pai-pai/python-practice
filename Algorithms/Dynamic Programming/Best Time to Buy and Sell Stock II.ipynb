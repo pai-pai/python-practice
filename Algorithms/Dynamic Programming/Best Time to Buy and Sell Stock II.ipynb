{
 "cells": [
  {
   "cell_type": "markdown",
   "id": "dc4f8263",
   "metadata": {},
   "source": [
    "You are given an integer array $\\textit{prices}$ where $\\textit{prices}[i]$ is the price of a given stock on the ith day.\n",
    "\n",
    "On each day, you may decide to buy and/or sell the stock. You can only hold **at most one** share of the stock at any time. However, you can buy it then immediately sell it on the **same day**.\n",
    "\n",
    "Find and return the **maximum** profit you can achieve.\n",
    "\n",
    "\n",
    "*Example 1*\n",
    "\n",
    "$\\textit{prices}$ = [7,1,5,3,6,4]<br />\n",
    "Returns 7<br />\n",
    "Explanation: Buy on day 2 (price = 1) and sell on day 3 (price = 5), profit = 5-1 = 4.<br />\n",
    "Then buy on day 4 (price = 3) and sell on day 5 (price = 6), profit = 6-3 = 3.<br />\n",
    "Total profit is 4 + 3 = 7.\n",
    "\n",
    "*Example 2*\n",
    "\n",
    "$\\textit{prices}$ = [1,2,3,4,5]<br />\n",
    "Returns 4<br />\n",
    "Explanation: Buy on day 1 (price = 1) and sell on day 5 (price = 5), profit = 5-1 = 4.<br />\n",
    "Total profit is 4.\n",
    "\n",
    "*Example 3*\n",
    "\n",
    "$\\textit{prices}$ = [7,6,4,3,1]<br />\n",
    "Returns 0<br />\n",
    "Explanation: There is no way to make a positive profit, so we never buy the stock to achieve the maximum profit of 0.\n",
    "\n",
    "\n",
    "*Code*"
   ]
  },
  {
   "cell_type": "code",
   "execution_count": 31,
   "id": "62e2c7f1",
   "metadata": {},
   "outputs": [],
   "source": [
    "class Solution:\n",
    "    def maxProfit(self, prices):\n",
    "        profit = 0\n",
    "        buy = sell = 0\n",
    "        for i in range(1, len(prices)):\n",
    "            if prices[i] <= prices[buy] or (prices[i] >= prices[buy] and prices[i] < prices[sell]):\n",
    "                profit += prices[sell] - prices[buy]\n",
    "                buy = sell = i\n",
    "            if prices[i] > prices[sell]:\n",
    "                sell = i\n",
    "        profit += prices[sell] - prices[buy]\n",
    "        return profit"
   ]
  },
  {
   "cell_type": "code",
   "execution_count": 36,
   "id": "02299c24",
   "metadata": {},
   "outputs": [],
   "source": [
    "class Solution:\n",
    "    def maxProfit(self, prices):\n",
    "        profit = 0\n",
    "        for i in range(1, len(prices)):\n",
    "            profit += max(0, prices[i] - prices[i-1])\n",
    "        return profit"
   ]
  },
  {
   "cell_type": "code",
   "execution_count": 37,
   "id": "c23905dd",
   "metadata": {},
   "outputs": [
    {
     "name": "stdout",
     "output_type": "stream",
     "text": [
      "7\n"
     ]
    }
   ],
   "source": [
    "print(Solution().maxProfit([7,1,5,3,6,4]))  # exp 7: 5 - 1 = 4 and 6 - 3 = 3"
   ]
  },
  {
   "cell_type": "code",
   "execution_count": 38,
   "id": "3f1c31fd",
   "metadata": {},
   "outputs": [
    {
     "name": "stdout",
     "output_type": "stream",
     "text": [
      "4\n"
     ]
    }
   ],
   "source": [
    "print(Solution().maxProfit([1,2,3,4,5]))  # exp 4: 5 - 1 = 4"
   ]
  },
  {
   "cell_type": "code",
   "execution_count": 39,
   "id": "cb2b4c6f",
   "metadata": {},
   "outputs": [
    {
     "name": "stdout",
     "output_type": "stream",
     "text": [
      "0\n"
     ]
    }
   ],
   "source": [
    "print(Solution().maxProfit([7,6,4,3,1]))  # exp 0"
   ]
  },
  {
   "cell_type": "code",
   "execution_count": 40,
   "id": "332b5157",
   "metadata": {},
   "outputs": [
    {
     "name": "stdout",
     "output_type": "stream",
     "text": [
      "3\n"
     ]
    }
   ],
   "source": [
    "print(Solution().maxProfit([1,2, 1, 1, 1, 1, 3]))  # exp 3"
   ]
  }
 ],
 "metadata": {
  "kernelspec": {
   "display_name": "Python 3",
   "language": "python",
   "name": "python3"
  },
  "language_info": {
   "codemirror_mode": {
    "name": "ipython",
    "version": 3
   },
   "file_extension": ".py",
   "mimetype": "text/x-python",
   "name": "python",
   "nbconvert_exporter": "python",
   "pygments_lexer": "ipython3",
   "version": "3.8.8"
  }
 },
 "nbformat": 4,
 "nbformat_minor": 5
}
