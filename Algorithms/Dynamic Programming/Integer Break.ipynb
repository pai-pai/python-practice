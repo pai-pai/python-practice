{
 "cells": [
  {
   "cell_type": "markdown",
   "id": "952d03d1",
   "metadata": {},
   "source": [
    "Given an integer $n$, break it into the sum of $k$ **positive integers**, where $k$ >= 2, and maximize the product of those integers.\n",
    "\n",
    "Return the maximum product you can get.\n",
    "\n",
    "\n",
    "*Example 1*\n",
    "\n",
    "$n$ = 2<br />\n",
    "Returns 1. 2 = 1 + 1, 1 × 1 = 1.\n",
    "\n",
    "*Example 2*\n",
    "\n",
    "Input: n = 10<br />\n",
    "Returns 36. 10 = 3 + 3 + 4, 3 × 3 × 4 = 36.\n",
    "\n",
    "\n",
    "*Code*"
   ]
  },
  {
   "cell_type": "code",
   "execution_count": 65,
   "id": "b84da961",
   "metadata": {},
   "outputs": [],
   "source": [
    "class Solution:\n",
    "    def integerBreak(self, n):\n",
    "        if n <= 3:\n",
    "            return n-1\n",
    "        product = 1\n",
    "        while n > 4:\n",
    "            product *= 3\n",
    "            n -= 3\n",
    "        return product * n\n",
    "    \n",
    "    def integerBreak2(self, n):\n",
    "        if n <= 3:\n",
    "            return n-1\n",
    "        d, m = n//3, n%3\n",
    "        if m == 1:\n",
    "            product = 3**(d-1) * 2**2\n",
    "        else:\n",
    "            product = 3**d * (2 if m else 1)\n",
    "        return product\n",
    "\n",
    "s = lambda n: print(\"integerBreak:  {}\".format(Solution().integerBreak(n)),\n",
    "                    \"integerBreak2: {}\".format(Solution().integerBreak2(n)), sep=\"\\n\")"
   ]
  },
  {
   "cell_type": "code",
   "execution_count": 66,
   "id": "a068e894",
   "metadata": {},
   "outputs": [
    {
     "name": "stdout",
     "output_type": "stream",
     "text": [
      "integerBreak:  1\n",
      "integerBreak2: 1\n"
     ]
    }
   ],
   "source": [
    "s(2)"
   ]
  },
  {
   "cell_type": "code",
   "execution_count": 67,
   "id": "a90458d3",
   "metadata": {},
   "outputs": [
    {
     "name": "stdout",
     "output_type": "stream",
     "text": [
      "integerBreak:  36\n",
      "integerBreak2: 36\n"
     ]
    }
   ],
   "source": [
    "s(10)"
   ]
  },
  {
   "cell_type": "code",
   "execution_count": 68,
   "id": "8de27902",
   "metadata": {},
   "outputs": [
    {
     "name": "stdout",
     "output_type": "stream",
     "text": [
      "integerBreak:  27\n",
      "integerBreak2: 27\n"
     ]
    }
   ],
   "source": [
    "s(9)"
   ]
  },
  {
   "cell_type": "code",
   "execution_count": 69,
   "id": "12a800fd",
   "metadata": {},
   "outputs": [
    {
     "name": "stdout",
     "output_type": "stream",
     "text": [
      "integerBreak:  18\n",
      "integerBreak2: 18\n"
     ]
    }
   ],
   "source": [
    "s(8)"
   ]
  },
  {
   "cell_type": "code",
   "execution_count": 70,
   "id": "b44be4e8",
   "metadata": {},
   "outputs": [
    {
     "name": "stdout",
     "output_type": "stream",
     "text": [
      "integerBreak:  12\n",
      "integerBreak2: 12\n"
     ]
    }
   ],
   "source": [
    "s(7)"
   ]
  },
  {
   "cell_type": "code",
   "execution_count": 71,
   "id": "572e29bb",
   "metadata": {},
   "outputs": [
    {
     "name": "stdout",
     "output_type": "stream",
     "text": [
      "integerBreak:  9\n",
      "integerBreak2: 9\n"
     ]
    }
   ],
   "source": [
    "s(6)"
   ]
  },
  {
   "cell_type": "code",
   "execution_count": 72,
   "id": "c4cc0114",
   "metadata": {},
   "outputs": [
    {
     "name": "stdout",
     "output_type": "stream",
     "text": [
      "integerBreak:  1549681956\n",
      "integerBreak2: 1549681956\n"
     ]
    }
   ],
   "source": [
    "s(58)"
   ]
  }
 ],
 "metadata": {
  "kernelspec": {
   "display_name": "Python 3",
   "language": "python",
   "name": "python3"
  },
  "language_info": {
   "codemirror_mode": {
    "name": "ipython",
    "version": 3
   },
   "file_extension": ".py",
   "mimetype": "text/x-python",
   "name": "python",
   "nbconvert_exporter": "python",
   "pygments_lexer": "ipython3",
   "version": "3.8.8"
  }
 },
 "nbformat": 4,
 "nbformat_minor": 5
}
