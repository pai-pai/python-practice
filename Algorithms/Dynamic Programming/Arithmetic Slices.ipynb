{
 "cells": [
  {
   "cell_type": "markdown",
   "id": "f7709143",
   "metadata": {},
   "source": [
    "An integer array is called arithmetic if it consists of **at least three elements** and if the difference between any two consecutive elements is the same.\n",
    "\n",
    "For example, [1,3,5,7,9], [7,7,7,7], and [3,-1,-5,-9] are arithmetic sequences.\n",
    "\n",
    "Given an integer array $\\textit{nums}$, return the number of arithmetic **subarrays** of $\\textit{nums}$.\n",
    "\n",
    "A **subarray** is a contiguous subsequence of the array.\n",
    "\n",
    "\n",
    "*Example 1*\n",
    "\n",
    "$\\textit{nums}$ = [1,2,3,4]<br />\n",
    "Returns 3. We have 3 arithmetic slices in nums: [1, 2, 3], [2, 3, 4] and [1,2,3,4] itself.\n",
    "\n",
    "*Example 2*\n",
    "\n",
    "$\\textit{nums}$ = [1]<br />\n",
    "Returns 0\n",
    "\n",
    "\n",
    "*Code*"
   ]
  },
  {
   "cell_type": "code",
   "execution_count": 35,
   "id": "2fa10a07",
   "metadata": {},
   "outputs": [],
   "source": [
    "# time: O(n) | space: O(n)\n",
    "class Solution:\n",
    "    def numberOfArithmeticSlices(self, nums):\n",
    "        diff = [0] * len(nums)\n",
    "        for i in range(1, len(nums) - 1):\n",
    "            if nums[i] - nums[i-1] == nums[i+1] - nums[i]:\n",
    "                diff[i+1] = diff[i] + 1\n",
    "        return sum(diff)"
   ]
  },
  {
   "cell_type": "code",
   "execution_count": 39,
   "id": "6687739f",
   "metadata": {},
   "outputs": [
    {
     "name": "stdout",
     "output_type": "stream",
     "text": [
      "3\n"
     ]
    }
   ],
   "source": [
    "print(Solution().numberOfArithmeticSlices([1,2,3,4]))"
   ]
  },
  {
   "cell_type": "code",
   "execution_count": 40,
   "id": "af76ac1a",
   "metadata": {},
   "outputs": [
    {
     "name": "stdout",
     "output_type": "stream",
     "text": [
      "0\n"
     ]
    }
   ],
   "source": [
    "print(Solution().numberOfArithmeticSlices([1]))"
   ]
  },
  {
   "cell_type": "code",
   "execution_count": 36,
   "id": "54c774aa",
   "metadata": {},
   "outputs": [
    {
     "name": "stdout",
     "output_type": "stream",
     "text": [
      "13\n"
     ]
    }
   ],
   "source": [
    "print(Solution().numberOfArithmeticSlices([1,2,3,4,5,6,8,10,12]))\n",
    "# exp 13:\n",
    "#  1. [1,2,3]\n",
    "#  2. [2,3,4]\n",
    "#  3. [3,4,5]\n",
    "#  4. [4,5,6]\n",
    "#  5. [1,2,3,4]\n",
    "#  6. [2,3,4,5]\n",
    "#  7. [3,4,5,6]\n",
    "#  8. [1,2,3,4,5]\n",
    "#  9. [2,3,4,5,6]\n",
    "# 10. [1,2,3,4,5,6]\n",
    "# 11. [6,8,10]\n",
    "# 12. [8,10,12]\n",
    "# 13. [6,8,10,12]"
   ]
  },
  {
   "cell_type": "code",
   "execution_count": 41,
   "id": "7fb73390",
   "metadata": {},
   "outputs": [],
   "source": [
    "# time: O(n) | space: O(1)\n",
    "class Solution:\n",
    "    def numberOfArithmeticSlices(self, nums):\n",
    "        res = slices_count = 0\n",
    "        for i in range(1, len(nums) - 1):\n",
    "            if nums[i] - nums[i-1] == nums[i+1] - nums[i]:\n",
    "                slices_count += 1\n",
    "            else:\n",
    "                slices_count = 0\n",
    "            res += slices_count\n",
    "        return res"
   ]
  },
  {
   "cell_type": "code",
   "execution_count": 42,
   "id": "4dd6645a",
   "metadata": {},
   "outputs": [
    {
     "name": "stdout",
     "output_type": "stream",
     "text": [
      "3\n"
     ]
    }
   ],
   "source": [
    "print(Solution().numberOfArithmeticSlices([1,2,3,4]))"
   ]
  },
  {
   "cell_type": "code",
   "execution_count": 43,
   "id": "58435015",
   "metadata": {},
   "outputs": [
    {
     "name": "stdout",
     "output_type": "stream",
     "text": [
      "0\n"
     ]
    }
   ],
   "source": [
    "print(Solution().numberOfArithmeticSlices([1]))"
   ]
  },
  {
   "cell_type": "code",
   "execution_count": 44,
   "id": "3a4d07a0",
   "metadata": {},
   "outputs": [
    {
     "name": "stdout",
     "output_type": "stream",
     "text": [
      "13\n"
     ]
    }
   ],
   "source": [
    "print(Solution().numberOfArithmeticSlices([1,2,3,4,5,6,8,10,12]))"
   ]
  }
 ],
 "metadata": {
  "kernelspec": {
   "display_name": "Python 3",
   "language": "python",
   "name": "python3"
  },
  "language_info": {
   "codemirror_mode": {
    "name": "ipython",
    "version": 3
   },
   "file_extension": ".py",
   "mimetype": "text/x-python",
   "name": "python",
   "nbconvert_exporter": "python",
   "pygments_lexer": "ipython3",
   "version": "3.8.8"
  }
 },
 "nbformat": 4,
 "nbformat_minor": 5
}
