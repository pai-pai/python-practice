{
 "cells": [
  {
   "attachments": {
    "image.png": {
     "image/png": "[encoded data removed]"
    }
   },
   "cell_type": "markdown",
   "id": "de11d37d",
   "metadata": {},
   "source": [
    "Given $n$ non-negative integers representing an elevation map where the width of each bar is 1, compute how much water it can trap after raining.\n",
    "\n",
    "\n",
    "*Example 1*\n",
    "\n",
    "![image.png](attachment:image.png)\n",
    "$\\textit{height}$ = [0,1,0,2,1,0,1,3,2,1,2,1]<br />\n",
    "Returns 6<br />\n",
    "Explanation: The above elevation map (black section) is represented by array [0,1,0,2,1,0,1,3,2,1,2,1]. In this case, 6 units of rain water (blue section) are being trapped.\n",
    "\n",
    "Example 2:\n",
    "\n",
    "$\\textit{height}$ = [4,2,0,3,2,5]<br />\n",
    "Returns 9\n",
    "\n",
    "\n",
    "*Code: (1) with extra memory and (2) two pointers*"
   ]
  },
  {
   "cell_type": "code",
   "execution_count": 25,
   "id": "24065f4a",
   "metadata": {},
   "outputs": [],
   "source": [
    "class Solution:\n",
    "    def trap(self, height):\n",
    "        left = right = res = 0\n",
    "        lefts = []\n",
    "        rights = []\n",
    "        for i in range(len(height)):\n",
    "            lefts.append(left)\n",
    "            rights.append(right)\n",
    "            left = max(left, height[i])\n",
    "            right = max(right, height[-(i+1)])\n",
    "        for i in range(len(height)):\n",
    "            res += max(0, min(lefts[i], rights[-(i+1)]) - height[i])\n",
    "        return res"
   ]
  },
  {
   "cell_type": "code",
   "execution_count": 26,
   "id": "094ae018",
   "metadata": {},
   "outputs": [
    {
     "name": "stdout",
     "output_type": "stream",
     "text": [
      "6\n"
     ]
    }
   ],
   "source": [
    "print(Solution().trap([0,1,0,2,1,0,1,3,2,1,2,1]))"
   ]
  },
  {
   "cell_type": "code",
   "execution_count": 34,
   "id": "2d87d205",
   "metadata": {},
   "outputs": [
    {
     "name": "stdout",
     "output_type": "stream",
     "text": [
      "9\n"
     ]
    }
   ],
   "source": [
    "print(Solution().trap([4,2,0,3,2,5]))"
   ]
  },
  {
   "cell_type": "code",
   "execution_count": 27,
   "id": "a5a2b0c5",
   "metadata": {},
   "outputs": [
    {
     "name": "stdout",
     "output_type": "stream",
     "text": [
      "23\n"
     ]
    }
   ],
   "source": [
    "print(Solution().trap([5,5,1,7,1,1,5,2,7,6]))  # exp 23"
   ]
  },
  {
   "cell_type": "code",
   "execution_count": 35,
   "id": "16f47968",
   "metadata": {},
   "outputs": [],
   "source": [
    "class Solution:\n",
    "    def trap(self, height):\n",
    "        res = 0\n",
    "        left, right = 0, len(height) - 1\n",
    "        max_left, max_right = height[0], height[-1]\n",
    "        while left < right:\n",
    "            if max_left < max_right:\n",
    "                left += 1\n",
    "                max_left = max(max_left, height[left])\n",
    "                res += max(0, max_left - height[left])\n",
    "            else:\n",
    "                right -= 1\n",
    "                max_right = max(max_right, height[right])\n",
    "                res += max(0, max_right - height[right])\n",
    "        return res"
   ]
  },
  {
   "cell_type": "code",
   "execution_count": 32,
   "id": "37f4ffc1",
   "metadata": {},
   "outputs": [
    {
     "name": "stdout",
     "output_type": "stream",
     "text": [
      "6\n"
     ]
    }
   ],
   "source": [
    "print(Solution().trap([0,1,0,2,1,0,1,3,2,1,2,1]))"
   ]
  },
  {
   "cell_type": "code",
   "execution_count": 36,
   "id": "9c43249a",
   "metadata": {},
   "outputs": [
    {
     "name": "stdout",
     "output_type": "stream",
     "text": [
      "9\n"
     ]
    }
   ],
   "source": [
    "print(Solution().trap([4,2,0,3,2,5]))"
   ]
  },
  {
   "cell_type": "code",
   "execution_count": 33,
   "id": "fac735d8",
   "metadata": {},
   "outputs": [
    {
     "name": "stdout",
     "output_type": "stream",
     "text": [
      "23\n"
     ]
    }
   ],
   "source": [
    "print(Solution().trap([5,5,1,7,1,1,5,2,7,6]))  # exp 23"
   ]
  }
 ],
 "metadata": {
  "kernelspec": {
   "display_name": "Python 3",
   "language": "python",
   "name": "python3"
  },
  "language_info": {
   "codemirror_mode": {
    "name": "ipython",
    "version": 3
   },
   "file_extension": ".py",
   "mimetype": "text/x-python",
   "name": "python",
   "nbconvert_exporter": "python",
   "pygments_lexer": "ipython3",
   "version": "3.8.8"
  }
 },
 "nbformat": 4,
 "nbformat_minor": 5
}
