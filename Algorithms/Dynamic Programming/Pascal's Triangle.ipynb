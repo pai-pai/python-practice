{
 "cells": [
  {
   "cell_type": "markdown",
   "id": "d75e28d1",
   "metadata": {},
   "source": [
    "Given an integer $\\textit{numRows}$, return the first $\\textit{numRows}$ of **Pascal's triangle**.\n",
    "\n",
    "\n",
    "*Example 1*\n",
    "\n",
    "$\\textit{numRows}$ = 5<br />\n",
    "Returns [[1],[1,1],[1,2,1],[1,3,3,1],[1,4,6,4,1]]\n",
    "\n",
    "*Example 2*\n",
    "\n",
    "$\\textit{numRows}$ = 1<br />\n",
    "Returns [[1]]\n",
    "\n",
    "\n",
    "*Code*"
   ]
  },
  {
   "cell_type": "code",
   "execution_count": 53,
   "id": "7015e4ed",
   "metadata": {},
   "outputs": [],
   "source": [
    "class Solution:\n",
    "    def generate(self, numRows):\n",
    "        res = [[1]]\n",
    "        for row in range(2, numRows+1):\n",
    "            new_row = [1]*row\n",
    "            for i in range(1, row-1):\n",
    "                new_row[i] = res[row-2][i-1] + res[row-2][i]\n",
    "            res.append(new_row)\n",
    "        return res"
   ]
  },
  {
   "cell_type": "code",
   "execution_count": 54,
   "id": "f429edd8",
   "metadata": {},
   "outputs": [
    {
     "name": "stdout",
     "output_type": "stream",
     "text": [
      "[[1], [1, 1], [1, 2, 1], [1, 3, 3, 1], [1, 4, 6, 4, 1]]\n"
     ]
    }
   ],
   "source": [
    "print(Solution().generate(5))"
   ]
  },
  {
   "cell_type": "code",
   "execution_count": 55,
   "id": "cb157517",
   "metadata": {},
   "outputs": [
    {
     "name": "stdout",
     "output_type": "stream",
     "text": [
      "[[1]]\n"
     ]
    }
   ],
   "source": [
    "print(Solution().generate(1))"
   ]
  }
 ],
 "metadata": {
  "kernelspec": {
   "display_name": "Python 3",
   "language": "python",
   "name": "python3"
  },
  "language_info": {
   "codemirror_mode": {
    "name": "ipython",
    "version": 3
   },
   "file_extension": ".py",
   "mimetype": "text/x-python",
   "name": "python",
   "nbconvert_exporter": "python",
   "pygments_lexer": "ipython3",
   "version": "3.8.8"
  }
 },
 "nbformat": 4,
 "nbformat_minor": 5
}
