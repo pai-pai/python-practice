{
 "cells": [
  {
   "cell_type": "markdown",
   "id": "a858daf6",
   "metadata": {
    "tags": [
     "LeetCode",
     "Dynamic_Programming",
     "Recursion",
     "Memoization",
     "Easy"
    ]
   },
   "source": [
    "The Fibonacci numbers, commonly denoted $F(n)$ form a sequence, called the Fibonacci sequence, such that each number is the sum of the two preceding ones, starting from $0$ and 1. That is,\n",
    "\n",
    "$F(0) = 0, F(1) = 1$<br />\n",
    "$F(n) = F(n - 1) + F(n - 2)$, for $n > 1$.\n",
    "\n",
    "Given $n$, calculate $F(n)$.\n",
    "\n",
    "\n",
    "*Example 1*\n",
    "\n",
    "$n$ = 2<br />\n",
    "Returns 1. $F(2) = F(1) + F(0) = 1 + 0 = 1$.\n",
    "\n",
    "*Example 2*\n",
    "\n",
    "$n$ = 3<br />\n",
    "Returns 2. $F(3) = F(2) + F(1) = 1 + 1 = 2$.\n",
    "\n",
    "*Example 3*\n",
    "\n",
    "$n$ = 4<br />\n",
    "Returns 3. $F(4) = F(3) + F(2) = 2 + 1 = 3$.\n",
    "\n",
    "\n",
    "*Code*"
   ]
  },
  {
   "cell_type": "code",
   "execution_count": 1,
   "id": "66f4712b",
   "metadata": {},
   "outputs": [],
   "source": [
    "def fib(n, seen=None):\n",
    "    seen = {} if seen is None else seen\n",
    "    if n <= 1:\n",
    "        return n\n",
    "    if n in seen:\n",
    "        return seen[n]\n",
    "    seen[n] = fib(n - 1, seen) + fib(n - 2, seen)\n",
    "    return seen[n]"
   ]
  },
  {
   "cell_type": "code",
   "execution_count": 2,
   "id": "9e7f6841",
   "metadata": {},
   "outputs": [
    {
     "name": "stdout",
     "output_type": "stream",
     "text": [
      "1\n"
     ]
    }
   ],
   "source": [
    "print(fib(2))"
   ]
  },
  {
   "cell_type": "code",
   "execution_count": 3,
   "id": "d9ae3f35",
   "metadata": {},
   "outputs": [
    {
     "name": "stdout",
     "output_type": "stream",
     "text": [
      "2\n"
     ]
    }
   ],
   "source": [
    "print(fib(3))"
   ]
  },
  {
   "cell_type": "code",
   "execution_count": 4,
   "id": "ffd9c9f4",
   "metadata": {},
   "outputs": [
    {
     "name": "stdout",
     "output_type": "stream",
     "text": [
      "3\n"
     ]
    }
   ],
   "source": [
    "print(fib(4))"
   ]
  },
  {
   "cell_type": "code",
   "execution_count": 5,
   "id": "cacbb064",
   "metadata": {},
   "outputs": [
    {
     "name": "stdout",
     "output_type": "stream",
     "text": [
      "832040\n"
     ]
    }
   ],
   "source": [
    "print(fib(30))"
   ]
  }
 ],
 "metadata": {
  "celltoolbar": "Tags",
  "kernelspec": {
   "display_name": "Python 3",
   "language": "python",
   "name": "python3"
  },
  "language_info": {
   "codemirror_mode": {
    "name": "ipython",
    "version": 3
   },
   "file_extension": ".py",
   "mimetype": "text/x-python",
   "name": "python",
   "nbconvert_exporter": "python",
   "pygments_lexer": "ipython3",
   "version": "3.8.8"
  }
 },
 "nbformat": 4,
 "nbformat_minor": 5
}
