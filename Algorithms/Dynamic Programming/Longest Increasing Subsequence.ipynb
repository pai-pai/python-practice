{
 "cells": [
  {
   "cell_type": "markdown",
   "id": "a11e9730",
   "metadata": {},
   "source": [
    "Given an integer array $\\textit{nums}$, return the length of the longest strictly increasing subsequence.\n",
    "\n",
    "A **subsequence** is a sequence that can be derived from an array by deleting some or no elements without changing the order of the remaining elements. For example, [3,6,2,7] is a subsequence of the array [0,3,1,6,2,2,7].\n",
    "\n",
    "\n",
    "*Example 1*\n",
    "\n",
    "$\\textit{nums}$ = [10,9,2,5,3,7,101,18]<br />\n",
    "Returns 4. The longest increasing subsequence is [2,3,7,101], therefore the length is 4.\n",
    "\n",
    "*Example 2*\n",
    "\n",
    "$\\textit{nums}$ = [0,1,0,3,2,3]<br />\n",
    "Returns 4\n",
    "\n",
    "*Example 3*\n",
    "\n",
    "$\\textit{nums}$ = [7,7,7,7,7,7,7]<br />\n",
    "Returns 1\n",
    "\n",
    "\n",
    "*Code (based on Patience sort with $O(n log^n)$ time comlexity)* see [Princeton lecture](https://www.cs.princeton.edu/courses/archive/spring13/cos423/lectures/LongestIncreasingSubsequence.pdf) for details"
   ]
  },
  {
   "cell_type": "code",
   "execution_count": 14,
   "id": "8195e059",
   "metadata": {},
   "outputs": [],
   "source": [
    "from bisect import bisect_left\n",
    "\n",
    "class Solution:\n",
    "    def lengthOfLIS(self, nums):\n",
    "        sub = []\n",
    "        for num in nums:\n",
    "            if len(sub) == 0 or sub[-1] < num:\n",
    "                sub.append(num)\n",
    "            else:\n",
    "                num_index = bisect_left(sub, num)\n",
    "                sub[num_index] = num\n",
    "        return len(sub)"
   ]
  },
  {
   "cell_type": "code",
   "execution_count": 15,
   "id": "2d8173eb",
   "metadata": {},
   "outputs": [
    {
     "name": "stdout",
     "output_type": "stream",
     "text": [
      "4\n"
     ]
    }
   ],
   "source": [
    "print(Solution().lengthOfLIS([10,9,2,5,3,7,101,18]))"
   ]
  },
  {
   "cell_type": "code",
   "execution_count": 16,
   "id": "f683c787",
   "metadata": {},
   "outputs": [
    {
     "name": "stdout",
     "output_type": "stream",
     "text": [
      "4\n"
     ]
    }
   ],
   "source": [
    "print(Solution().lengthOfLIS([0,1,0,3,2,3]))"
   ]
  },
  {
   "cell_type": "code",
   "execution_count": 17,
   "id": "329790c5",
   "metadata": {},
   "outputs": [
    {
     "name": "stdout",
     "output_type": "stream",
     "text": [
      "1\n"
     ]
    }
   ],
   "source": [
    "print(Solution().lengthOfLIS([7,7,7,7,7,7,7]))"
   ]
  },
  {
   "cell_type": "markdown",
   "id": "d78769d9",
   "metadata": {},
   "source": [
    "*Code (DP solution with $O(n^2)$ time complexity*"
   ]
  },
  {
   "cell_type": "code",
   "execution_count": 18,
   "id": "c4a4f7a3",
   "metadata": {},
   "outputs": [],
   "source": [
    "class Solution:\n",
    "    def lengthOfLIS(self, nums):\n",
    "        lis = [1] * len(nums)\n",
    "        for r in range(1, len(nums)):\n",
    "            l = 0\n",
    "            while l < r:\n",
    "                if nums[l] < nums[r]:\n",
    "                    lis[r] = max(lis[r], lis[l] + 1)\n",
    "                l += 1\n",
    "        return max(lis)"
   ]
  },
  {
   "cell_type": "code",
   "execution_count": 19,
   "id": "b3b0410e",
   "metadata": {},
   "outputs": [
    {
     "name": "stdout",
     "output_type": "stream",
     "text": [
      "4\n"
     ]
    }
   ],
   "source": [
    "print(Solution().lengthOfLIS([10,9,2,5,3,7,101,18]))"
   ]
  },
  {
   "cell_type": "code",
   "execution_count": 20,
   "id": "ff768155",
   "metadata": {},
   "outputs": [
    {
     "name": "stdout",
     "output_type": "stream",
     "text": [
      "4\n"
     ]
    }
   ],
   "source": [
    "print(Solution().lengthOfLIS([0,1,0,3,2,3]))"
   ]
  },
  {
   "cell_type": "code",
   "execution_count": 21,
   "id": "488147b4",
   "metadata": {},
   "outputs": [
    {
     "name": "stdout",
     "output_type": "stream",
     "text": [
      "1\n"
     ]
    }
   ],
   "source": [
    "print(Solution().lengthOfLIS([7,7,7,7,7,7,7]))"
   ]
  },
  {
   "cell_type": "markdown",
   "id": "c51c0ff9",
   "metadata": {},
   "source": [
    "*Explanation (for DP solution$)*\n",
    "\n",
    "Given array of nums: \n",
    "\n",
    "```\n",
    "         0  1  2  3  4  5    6   7  <- indexes\n",
    "nums = [10, 9, 2, 5, 3, 7, 101, 18]\n",
    "```\n",
    "\n",
    "**Step 0**\n",
    "\n",
    "In a base case, for array with length 1, we can have LIS equals to 1. So, create array of possible longest increasing subsequence for the array:\n",
    "\n",
    "`lis = [1, 1, 1, 1, 1, 1, 1, 1]`\n",
    "\n",
    "Now we have to iterate through array from the second item (because nums[0] is a base case -- there is nothing on the left of it) to the end and check for each element what the longest increasing subsequence is:\n",
    "\n",
    "**Step 1**\n",
    "\n",
    "Check LIS for element with index 1 (is 9) from $0^{th}$ element to $i-1^{th}$ element, iterate throught [10]:\n",
    "- is 10 < 9 ? No, keep 1 for lis[1]: `lis = [1, 1, 1, 1, 1, 1, 1, 1]`\n",
    "\n",
    "**Step 2**\n",
    "\n",
    "Check LIS for element with index 2 (is 2), iterate throught [10, 9]:\n",
    "- is 10 < 2 ? No, keep 1 for lis[2]: `lis = [1, 1, 1, 1, 1, 1, 1, 1]`\n",
    "- is 9 < 2 ? No, keep 1 for lis[2]: `lis = [1, 1, 1, 1, 1, 1, 1, 1]`\n",
    "\n",
    "**Step 3**\n",
    "\n",
    "Check LIS for element with index 3 (is 5), iterate throught [10, 9, 2]:\n",
    "- is 10 < 5 ? No, keep 1 for lis[3]: `lis = [1, 1, 1, 1, 1, 1, 1, 1]`\n",
    "- is 9 < 5 ? No, keep 1 for lis[3]: `lis = [1, 1, 1, 1, 1, 1, 1, 1]`\n",
    "- is 2 < 5 ? Yes, update lis[3] with max of lis[3] or lis[2 <- index of num 2]+1 => max(1, 1+1): `lis = [1, 1, 1, 2, 1, 1, 1, 1]`\n",
    "\n",
    "**Step 4**\n",
    "\n",
    "Check LIS for element with index 4 (is 3), iterate throught [10, 9, 2, 5]:\n",
    "- is 10 < 3 ? No, keep 1 for lis[4]: `lis = [1, 1, 1, 2, 1, 1, 1, 1]`\n",
    "- is 9 < 3 ? No, keep 1 for lis[4]: `lis = [1, 1, 1, 2, 1, 1, 1, 1]`\n",
    "- is 2 < 3 ? Yes, update lis[4] with max of lis[4] or lis[2]+1 => max(1, 1+1): `lis = [1, 1, 1, 2, 2, 1, 1, 1]`\n",
    "- is 5 < 3 ? No, keep 2 for lis[4]: `lis = [1, 1, 1, 2, 2, 1, 1, 1]`\n",
    "\n",
    "**Step 5**\n",
    "\n",
    "Check LIS for element with index 5 (is 7), iterate throught [10, 9, 2, 5, 3]:\n",
    "- is 10 < 7 ? No, keep 1 for lis[5]: `lis = [1, 1, 1, 2, 2, 1, 1, 1]`\n",
    "- is 9 < 7 ? No, keep 1 for lis[5]: `lis = [1, 1, 1, 2, 2, 1, 1, 1]`\n",
    "- is 2 < 7 ? Yes, update lis[5] with max of lis[5] or lis[2]+1 => max(1, 1+1): `lis = [1, 1, 1, 2, 2, 2, 1, 1]`\n",
    "- is 5 < 7 ? Yes, update lis[5] with max of lis[5] or lis[3]+1 => max(2, 2+1): `lis = [1, 1, 1, 2, 2, 3, 1, 1]`\n",
    "- is 3 < 7 ? Yes, update lis[5] with max of lis[5] or lis[4]+1 => max(3, 2+1): `lis = [1, 1, 1, 2, 2, 3, 1, 1]`\n",
    "\n",
    "**Step 6**\n",
    "\n",
    "Check LIS for element with index 6 (is 101), iterate throught [10, 9, 2, 5, 3, 7]:\n",
    "- is 10 < 101 ? Yes, update lis[6] with max of lis[6] or lis[0]+1 => max(1, 1+1): `lis = [1, 1, 1, 2, 2, 3, 2, 1]`\n",
    "- is 9 < 101 ? Yes, update lis[6] with max of lis[6] or lis[1]+1 => max(1, 1+1): `lis = [1, 1, 1, 2, 2, 3, 2, 1]`\n",
    "- is 2 < 101 ? Yes, update lis[6] with max of lis[6] or lis[2]+1 => max(1, 1+1): `lis = [1, 1, 1, 2, 2, 3, 2, 1]`\n",
    "- is 5 < 101 ? Yes, update lis[6] with max of lis[6] or lis[3]+1 => max(2, 2+1): `lis = [1, 1, 1, 2, 2, 3, 3, 1]`\n",
    "- is 3 < 101 ? Yes, update lis[6] with max of lis[6] or lis[4]+1 => max(3, 2+1): `lis = [1, 1, 1, 2, 2, 3, 3, 1]`\n",
    "- is 7 < 101 ? Yes, update lis[6] with max of lis[6] or lis[5]+1 => max(3, 3+1): `lis = [1, 1, 1, 2, 2, 3, 4, 1]`\n",
    "\n",
    "**Step 7**\n",
    "\n",
    "Check LIS for element with index 7 (is 18), iterate throught [10, 9, 2, 5, 3, 7, 101]:\n",
    "- is 10 < 18 ? Yes, update lis[7] with max of lis[7] or lis[0]+1 => max(1, 1+1): `lis = [1, 1, 1, 2, 2, 3, 4, 2]`\n",
    "- is 9 < 18 ? Yes, update lis[7] with max of lis[7] or lis[1]+1 => max(1, 1+1): `lis = [1, 1, 1, 2, 2, 3, 4, 2]`\n",
    "- is 2 < 18 ? Yes, update lis[7] with max of lis[7] or lis[2]+1 => max(1, 1+1): `lis = [1, 1, 1, 2, 2, 3, 4, 2]`\n",
    "- is 5 < 18 ? Yes, update lis[7] with max of lis[7] or lis[3]+1 => max(2, 2+1): `lis = [1, 1, 1, 2, 2, 3, 4, 3]`\n",
    "- is 3 < 18 ? Yes, update lis[7] with max of lis[7] or lis[4]+1 => max(3, 2+1): `lis = [1, 1, 1, 2, 2, 3, 4, 3]`\n",
    "- is 7 < 18 ? Yes, update lis[7] with max of lis[7] or lis[5]+1 => max(3, 3+1): `lis = [1, 1, 1, 2, 2, 3, 4, 4]`\n",
    "- is 101 < 18 ? No, keep 4 for lis[7]: `lis = [1, 1, 1, 2, 2, 3, 4, 4]`\n",
    "\n",
    "Result is the max of lis: 4."
   ]
  }
 ],
 "metadata": {
  "kernelspec": {
   "display_name": "Python 3",
   "language": "python",
   "name": "python3"
  },
  "language_info": {
   "codemirror_mode": {
    "name": "ipython",
    "version": 3
   },
   "file_extension": ".py",
   "mimetype": "text/x-python",
   "name": "python",
   "nbconvert_exporter": "python",
   "pygments_lexer": "ipython3",
   "version": "3.8.8"
  }
 },
 "nbformat": 4,
 "nbformat_minor": 5
}
