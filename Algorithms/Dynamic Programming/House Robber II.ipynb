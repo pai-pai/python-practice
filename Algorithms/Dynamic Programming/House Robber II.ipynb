{
 "cells": [
  {
   "cell_type": "markdown",
   "id": "b89d379b",
   "metadata": {
    "tags": [
     "LeetCode",
     "Dynamic_Programming",
     "Medium"
    ]
   },
   "source": [
    "You are a professional robber planning to rob houses along a street. Each house has a certain amount of money stashed. All houses at this place are **arranged in a circle**. That means the first house is the neighbor of the last one. Meanwhile, adjacent houses have a security system connected, and **it will automatically contact the police if two adjacent houses were broken into on the same night**.\n",
    "\n",
    "Given an integer array $\\textit{nums}$  representing the amount of money of each house, return the maximum amount of money you can rob tonight **without alerting the police**.\n",
    "\n",
    "\n",
    "*Example 1*\n",
    "\n",
    "$\\textit{nums}$  = [2,3,2]<br />\n",
    "Returns 3. You cannot rob house 1 (money = 2) and then rob house 3 (money = 2), because they are adjacent houses.\n",
    "\n",
    "*Example 2*\n",
    "\n",
    "$\\textit{nums}$  = [1,2,3,1]<br />\n",
    "Returns 4. Rob house 1 (money = 1) and then rob house 3 (money = 3). Total amount you can rob = 1 + 3 = 4.\n",
    "\n",
    "*Example 3*\n",
    "\n",
    "$\\textit{nums}$  = [1,2,3]<br />\n",
    "Returns 3\n",
    "\n",
    "\n",
    "*Code*"
   ]
  },
  {
   "cell_type": "code",
   "execution_count": 13,
   "id": "e153cc11",
   "metadata": {},
   "outputs": [],
   "source": [
    "class Solution:\n",
    "    def rob(self, nums):\n",
    "        return max(nums[0], self.rob1(nums[:-1]), self.rob1(nums[1:]))\n",
    "        \n",
    "    def rob1(self, nums):\n",
    "        prev1, prev2 = 0, 0\n",
    "        for num in nums:\n",
    "            current = max(prev1 + num, prev2)\n",
    "            prev1 = prev2\n",
    "            prev2 = current\n",
    "        return prev2"
   ]
  },
  {
   "cell_type": "code",
   "execution_count": 17,
   "id": "e60ff613",
   "metadata": {},
   "outputs": [
    {
     "name": "stdout",
     "output_type": "stream",
     "text": [
      "3\n"
     ]
    }
   ],
   "source": [
    "print(Solution().rob([2,3,2]))"
   ]
  },
  {
   "cell_type": "code",
   "execution_count": 19,
   "id": "325da104",
   "metadata": {},
   "outputs": [
    {
     "name": "stdout",
     "output_type": "stream",
     "text": [
      "4\n"
     ]
    }
   ],
   "source": [
    "print(Solution().rob([1,2,3,1]))"
   ]
  },
  {
   "cell_type": "code",
   "execution_count": 18,
   "id": "960285b3",
   "metadata": {},
   "outputs": [
    {
     "name": "stdout",
     "output_type": "stream",
     "text": [
      "3\n"
     ]
    }
   ],
   "source": [
    "print(Solution().rob([1,2,3]))"
   ]
  },
  {
   "cell_type": "code",
   "execution_count": 15,
   "id": "36efc27c",
   "metadata": {},
   "outputs": [
    {
     "name": "stdout",
     "output_type": "stream",
     "text": [
      "1\n"
     ]
    }
   ],
   "source": [
    "print(Solution().rob([1]))"
   ]
  },
  {
   "cell_type": "markdown",
   "id": "73d57736",
   "metadata": {},
   "source": [
    "*Explanation*\n",
    "\n",
    "We can reuse House Robber solution here. Just apply it twice: from the $0^{th}$ element of $\\textit{nums}$ array to $\\textit{length(nums)} - 1$ AND from the $1^{st}$ element to the end of array.\n",
    "\n",
    "For example, $\\textit{nums}$ = [2, 3, 2]. Previous solution will be applied for [2, 3] and [3, 2] subarrays.\n",
    "\n",
    "But for arrays which length is $1$ `nums[:-1]` and `nums[1:]` both return empty array. That's why we need to add `nums[0]` into the `max` function."
   ]
  }
 ],
 "metadata": {
  "celltoolbar": "Tags",
  "kernelspec": {
   "display_name": "Python 3",
   "language": "python",
   "name": "python3"
  },
  "language_info": {
   "codemirror_mode": {
    "name": "ipython",
    "version": 3
   },
   "file_extension": ".py",
   "mimetype": "text/x-python",
   "name": "python",
   "nbconvert_exporter": "python",
   "pygments_lexer": "ipython3",
   "version": "3.8.8"
  }
 },
 "nbformat": 4,
 "nbformat_minor": 5
}
