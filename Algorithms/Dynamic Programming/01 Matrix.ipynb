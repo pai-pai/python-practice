{
 "cells": [
  {
   "attachments": {
    "image-2.png": {
     "image/png": "[encoded data removed]"
    },
    "image.png": {
     "image/png": "[encoded data removed]"
    }
   },
   "cell_type": "markdown",
   "id": "012319c0",
   "metadata": {
    "tags": [
     "LeetCode",
     "Dynamic_Programming",
     "Breadth-First_Search",
     "Medium"
    ]
   },
   "source": [
    "Given an $m \\times n$ binary matrix $mat$, return the distance of the nearest $0$ for each cell.\n",
    "\n",
    "The distance between two adjacent cells is $1$.\n",
    "\n",
    "\n",
    "*Example 1*\n",
    "\n",
    "![image.png](attachment:image.png)\n",
    "$mat$ = [[0,0,0],[0,1,0],[0,0,0]]<br />\n",
    "Returns [[0,0,0],[0,1,0],[0,0,0]]\n",
    "\n",
    "*Example 2*\n",
    "\n",
    "![image-2.png](attachment:image-2.png)\n",
    "$mat$ = [[0,0,0],[0,1,0],[1,1,1]]<br />\n",
    "Returns [[0,0,0],[0,1,0],[1,2,1]]\n",
    "\n",
    "\n",
    "*Code*\n",
    "\n",
    "Scan twice from top-left and bottom-right separately."
   ]
  },
  {
   "cell_type": "code",
   "execution_count": 54,
   "id": "c37a01a3",
   "metadata": {},
   "outputs": [],
   "source": [
    "def update_matrix(mat):\n",
    "    rows = len(mat)\n",
    "    cols = len(mat[0])\n",
    "    \n",
    "    for r in range(rows):\n",
    "        for c in range(cols):\n",
    "            if mat[r][c]:\n",
    "                top = mat[r-1][c] if r else float('inf')\n",
    "                left = mat[r][c-1] if c else float('inf')\n",
    "                mat[r][c] = min(top, left) + 1\n",
    "    for r in range(rows - 1, -1, -1):\n",
    "        for c in range(cols - 1, -1, -1):\n",
    "            if mat[r][c]:\n",
    "                bottom = mat[r+1][c] if r < rows - 1 else float('inf')\n",
    "                right = mat[r][c+1] if c < cols - 1 else float('inf')\n",
    "                mat[r][c] = min(mat[r][c], bottom + 1, right + 1)\n",
    "    return mat"
   ]
  },
  {
   "cell_type": "code",
   "execution_count": 56,
   "id": "9aa46a20",
   "metadata": {},
   "outputs": [
    {
     "name": "stdout",
     "output_type": "stream",
     "text": [
      "[0, 0, 0]\n",
      "[0, 1, 0]\n",
      "[0, 0, 0]\n"
     ]
    }
   ],
   "source": [
    "mat = [\n",
    "    [0,0,0],\n",
    "    [0,1,0],\n",
    "    [0,0,0]\n",
    "]\n",
    "update_matrix(mat)\n",
    "for r in mat:\n",
    "    print(r)"
   ]
  },
  {
   "cell_type": "code",
   "execution_count": 57,
   "id": "8d9cda03",
   "metadata": {},
   "outputs": [
    {
     "name": "stdout",
     "output_type": "stream",
     "text": [
      "[0, 0, 0]\n",
      "[0, 1, 0]\n",
      "[1, 2, 1]\n"
     ]
    }
   ],
   "source": [
    "mat = [\n",
    "    [0,0,0],\n",
    "    [0,1,0],\n",
    "    [1,1,1]\n",
    "]\n",
    "update_matrix(mat)\n",
    "for r in mat:\n",
    "    print(r)"
   ]
  },
  {
   "cell_type": "code",
   "execution_count": 48,
   "id": "4fdcab11",
   "metadata": {},
   "outputs": [
    {
     "name": "stdout",
     "output_type": "stream",
     "text": [
      "[1, 0, 1, 1, 0, 0, 1, 0, 0, 1]\n",
      "[0, 1, 1, 0, 1, 0, 1, 0, 1, 1]\n",
      "[0, 0, 1, 0, 1, 0, 0, 1, 0, 0]\n",
      "[1, 0, 1, 0, 1, 1, 1, 1, 1, 1]\n",
      "[0, 1, 0, 1, 1, 0, 0, 0, 0, 1]\n",
      "[0, 0, 1, 0, 1, 1, 1, 0, 1, 0]\n",
      "[0, 1, 0, 1, 0, 1, 0, 0, 1, 1]\n",
      "[1, 0, 0, 0, 1, 2, 1, 1, 0, 1]\n",
      "[2, 1, 1, 1, 1, 2, 1, 0, 1, 0]\n",
      "[3, 2, 2, 1, 0, 1, 0, 0, 1, 1]\n"
     ]
    }
   ],
   "source": [
    "mat = [\n",
    "    [1,0,1,1,0,0,1,0,0,1],\n",
    "    [0,1,1,0,1,0,1,0,1,1],\n",
    "    [0,0,1,0,1,0,0,1,0,0],\n",
    "    [1,0,1,0,1,1,1,1,1,1],\n",
    "    [0,1,0,1,1,0,0,0,0,1],\n",
    "    [0,0,1,0,1,1,1,0,1,0],\n",
    "    [0,1,0,1,0,1,0,0,1,1],\n",
    "    [1,0,0,0,1,1,1,1,0,1],\n",
    "    [1,1,1,1,1,1,1,0,1,0],\n",
    "    [1,1,1,1,0,1,0,0,1,1]\n",
    "]\n",
    "update_matrix(mat)\n",
    "for r in mat:\n",
    "    print(r)"
   ]
  },
  {
   "cell_type": "code",
   "execution_count": 49,
   "id": "81119d2d",
   "metadata": {},
   "outputs": [
    {
     "name": "stdout",
     "output_type": "stream",
     "text": [
      "[0, 0, 1, 0, 1, 2, 1, 0, 1, 2]\n",
      "[1, 1, 2, 1, 0, 1, 1, 1, 2, 3]\n",
      "[2, 1, 2, 1, 1, 0, 0, 0, 1, 2]\n",
      "[1, 0, 1, 0, 1, 1, 1, 0, 1, 2]\n",
      "[0, 0, 1, 1, 1, 0, 1, 1, 2, 3]\n",
      "[1, 0, 1, 2, 1, 1, 1, 2, 1, 2]\n",
      "[1, 1, 1, 1, 0, 1, 0, 1, 0, 1]\n",
      "[0, 1, 0, 0, 0, 1, 0, 0, 1, 2]\n",
      "[1, 1, 1, 0, 1, 1, 0, 1, 0, 1]\n",
      "[1, 0, 1, 1, 1, 0, 1, 2, 1, 0]\n"
     ]
    }
   ],
   "source": [
    "mat = [\n",
    "    [0,0,1,0,1,1,1,0,1,1],\n",
    "    [1,1,1,1,0,1,1,1,1,1],\n",
    "    [1,1,1,1,1,0,0,0,1,1],\n",
    "    [1,0,1,0,1,1,1,0,1,1],\n",
    "    [0,0,1,1,1,0,1,1,1,1],\n",
    "    [1,0,1,1,1,1,1,1,1,1],\n",
    "    [1,1,1,1,0,1,0,1,0,1],\n",
    "    [0,1,0,0,0,1,0,0,1,1],\n",
    "    [1,1,1,0,1,1,0,1,0,1],\n",
    "    [1,0,1,1,1,0,1,1,1,0]\n",
    "]\n",
    "update_matrix(mat)\n",
    "for r in mat:\n",
    "    print(r)\n",
    "\n",
    "# Expected:\n",
    "# [0, 0, 1, 0, 1, 2, 1, 0, 1, 2]\n",
    "# [1, 1, 2, 1, 0, 1, 1, 1, 2, 3]\n",
    "# [2, 1, 2, 1, 1, 0, 0, 0, 1, 2]\n",
    "# [1, 0, 1, 0, 1, 1, 1, 0, 1, 2]\n",
    "# [0, 0, 1, 1, 1, 0, 1, 1, 2, 3]\n",
    "# [1, 0, 1, 2, 1, 1, 1, 2, 1, 2]\n",
    "# [1, 1, 1, 1, 0, 1, 0, 1, 0, 1]\n",
    "# [0, 1, 0, 0, 0, 1, 0, 0, 1, 2]\n",
    "# [1, 1, 1, 0, 1, 1, 0, 1, 0, 1]\n",
    "# [1, 0, 1, 1, 1, 0, 1, 2, 1, 0]"
   ]
  },
  {
   "cell_type": "code",
   "execution_count": 55,
   "id": "2a5322ca",
   "metadata": {},
   "outputs": [
    {
     "name": "stdout",
     "output_type": "stream",
     "text": [
      "[5, 4, 3, 2, 1]\n",
      "[4, 3, 2, 1, 0]\n",
      "[5, 4, 3, 2, 1]\n"
     ]
    }
   ],
   "source": [
    "mat = [\n",
    "    [1,1,1,1,1],\n",
    "    [1,1,1,1,0],\n",
    "    [1,1,1,1,1]\n",
    "]\n",
    "update_matrix(mat)\n",
    "for r in mat:\n",
    "    print(r)"
   ]
  }
 ],
 "metadata": {
  "celltoolbar": "Tags",
  "kernelspec": {
   "display_name": "Python 3",
   "language": "python",
   "name": "python3"
  },
  "language_info": {
   "codemirror_mode": {
    "name": "ipython",
    "version": 3
   },
   "file_extension": ".py",
   "mimetype": "text/x-python",
   "name": "python",
   "nbconvert_exporter": "python",
   "pygments_lexer": "ipython3",
   "version": "3.8.8"
  }
 },
 "nbformat": 4,
 "nbformat_minor": 5
}
