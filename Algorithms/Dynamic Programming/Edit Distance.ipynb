{
 "cells": [
  {
   "cell_type": "markdown",
   "id": "dc7d3f21",
   "metadata": {},
   "source": [
    "Given two strings $\\textit{word1}$ and $\\textit{word2}$, return the minimum number of operations required to convert $\\textit{word1}$ to $\\textit{word2}$.\n",
    "\n",
    "You have the following three operations permitted on a word:\n",
    "- Insert a character\n",
    "- Delete a character\n",
    "- Replace a character\n",
    "\n",
    "\n",
    "*Example 1*\n",
    "\n",
    "$\\textit{word1}$ = \"horse\", $\\textit{word2}$ = \"ros\"<br />\n",
    "Returns 3<br />\n",
    "Explanation: \n",
    "- horse -> rorse (replace 'h' with 'r')\n",
    "- rorse -> rose (remove 'r')\n",
    "- rose -> ros (remove 'e')\n",
    "\n",
    "*Example 2*\n",
    "\n",
    "$\\textit{word1}$ = \"intention\", $\\textit{word2}$ = \"execution\"<br />\n",
    "Returns 5<br />\n",
    "Explanation: \n",
    "- intention -> inention (remove 't')\n",
    "- inention -> enention (replace 'i' with 'e')\n",
    "- enention -> exention (replace 'n' with 'x')\n",
    "- exention -> exection (replace 'n' with 'c')\n",
    "- exection -> execution (insert 'u')\n",
    "\n",
    "\n",
    "*Code*"
   ]
  },
  {
   "cell_type": "code",
   "execution_count": 9,
   "id": "44719af9",
   "metadata": {},
   "outputs": [],
   "source": [
    "class Solution:\n",
    "    def minDistance(self, word1, word2):\n",
    "        res = [[float(\"inf\")] * (len(word2)+1) for _ in range(len(word1)+1)]\n",
    "        for j in range(len(word2)+1):\n",
    "            res[len(word1)][j] = len(word2) - j\n",
    "        for i in range(len(word1)+1):\n",
    "            res[i][len(word2)] = len(word1) - i\n",
    "            \n",
    "        for i in range(len(word1)-1, -1, -1):\n",
    "            for j in range(len(word2)-1, -1, -1):\n",
    "                if word1[i] == word2[j]:\n",
    "                    res[i][j] = res[i+1][j+1]\n",
    "                else:\n",
    "                    res[i][j] = 1 + min(res[i+1][j], res[i][j+1], res[i+1][j+1])\n",
    "        return res[0][0]"
   ]
  },
  {
   "cell_type": "code",
   "execution_count": 10,
   "id": "e8bceb52",
   "metadata": {},
   "outputs": [
    {
     "data": {
      "text/plain": [
       "3"
      ]
     },
     "execution_count": 10,
     "metadata": {},
     "output_type": "execute_result"
    }
   ],
   "source": [
    "Solution().minDistance(word1=\"horse\", word2=\"ros\")"
   ]
  },
  {
   "cell_type": "code",
   "execution_count": 11,
   "id": "b9ff7bd6",
   "metadata": {},
   "outputs": [
    {
     "data": {
      "text/plain": [
       "5"
      ]
     },
     "execution_count": 11,
     "metadata": {},
     "output_type": "execute_result"
    }
   ],
   "source": [
    "Solution().minDistance(word1=\"intention\", word2=\"execution\")"
   ]
  }
 ],
 "metadata": {
  "kernelspec": {
   "display_name": "Python 3",
   "language": "python",
   "name": "python3"
  },
  "language_info": {
   "codemirror_mode": {
    "name": "ipython",
    "version": 3
   },
   "file_extension": ".py",
   "mimetype": "text/x-python",
   "name": "python",
   "nbconvert_exporter": "python",
   "pygments_lexer": "ipython3",
   "version": "3.8.8"
  }
 },
 "nbformat": 4,
 "nbformat_minor": 5
}
