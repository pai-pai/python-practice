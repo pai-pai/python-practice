{
 "cells": [
  {
   "cell_type": "markdown",
   "id": "d6178f2f",
   "metadata": {
    "tags": [
     "LeetCode",
     "Dynamic_Programming",
     "Greedy",
     "Medium"
    ]
   },
   "source": [
    "Given an array of non-negative integers $\\textit{nums}$, you are initially positioned at the first index of the array.\n",
    "\n",
    "Each element in the array represents your maximum jump length at that position.\n",
    "\n",
    "Your goal is to reach the last index in the minimum number of jumps.\n",
    "\n",
    "You can assume that you can always reach the last index.\n",
    "\n",
    " \n",
    "*Example 1*\n",
    "\n",
    "$\\textit{nums}$ = [2,3,1,1,4]<br />\n",
    "Returns 2<br />\n",
    "Explanation: The minimum number of jumps to reach the last index is 2. Jump 1 step from index 0 to 1, then 3 steps to the last index.\n",
    "\n",
    "*Example 2*\n",
    "\n",
    "$\\textit{nums}$ = [2,3,0,1,4]<br />\n",
    "Returns 2\n",
    "\n",
    "\n",
    "*Code*"
   ]
  },
  {
   "cell_type": "code",
   "execution_count": 5,
   "id": "ad5c6a34",
   "metadata": {},
   "outputs": [],
   "source": [
    "class Solution:\n",
    "    def jump(self, nums):\n",
    "        count = 0\n",
    "        left = right = 0\n",
    "        while right < len(nums) - 1:\n",
    "            biggest_jump = 0\n",
    "            for i in range(left, right + 1):\n",
    "                biggest_jump = max(biggest_jump, i + nums[i])\n",
    "            left, right = right + 1, biggest_jump\n",
    "            count += 1\n",
    "        return count"
   ]
  },
  {
   "cell_type": "code",
   "execution_count": 9,
   "id": "e1aa8a27",
   "metadata": {},
   "outputs": [
    {
     "name": "stdout",
     "output_type": "stream",
     "text": [
      "2\n"
     ]
    }
   ],
   "source": [
    "print(Solution().jump([2,3,1,1,4]))  # exp 2"
   ]
  },
  {
   "cell_type": "code",
   "execution_count": 10,
   "id": "ed1f9907",
   "metadata": {},
   "outputs": [
    {
     "name": "stdout",
     "output_type": "stream",
     "text": [
      "2\n"
     ]
    }
   ],
   "source": [
    "print(Solution().jump([2,3,0,1,4]))  # exp 2"
   ]
  },
  {
   "cell_type": "code",
   "execution_count": 6,
   "id": "d54e9f99",
   "metadata": {},
   "outputs": [
    {
     "name": "stdout",
     "output_type": "stream",
     "text": [
      "3\n"
     ]
    }
   ],
   "source": [
    "print(Solution().jump([1,3,8,2,1,1,3,4]))  # exp 3"
   ]
  },
  {
   "cell_type": "code",
   "execution_count": 7,
   "id": "173bfd4a",
   "metadata": {},
   "outputs": [
    {
     "name": "stdout",
     "output_type": "stream",
     "text": [
      "3\n"
     ]
    }
   ],
   "source": [
    "print(Solution().jump([2,2,2,2,2,2]))  # exp 3"
   ]
  },
  {
   "cell_type": "code",
   "execution_count": 8,
   "id": "a2e68e0c",
   "metadata": {},
   "outputs": [
    {
     "name": "stdout",
     "output_type": "stream",
     "text": [
      "3\n"
     ]
    }
   ],
   "source": [
    "print(Solution().jump([3,4,3,2,5,4,3]))  # exp 3"
   ]
  },
  {
   "cell_type": "markdown",
   "id": "7facca0d",
   "metadata": {},
   "source": [
    "*Explanation*\n",
    "\n"
   ]
  }
 ],
 "metadata": {
  "celltoolbar": "Tags",
  "kernelspec": {
   "display_name": "Python 3",
   "language": "python",
   "name": "python3"
  },
  "language_info": {
   "codemirror_mode": {
    "name": "ipython",
    "version": 3
   },
   "file_extension": ".py",
   "mimetype": "text/x-python",
   "name": "python",
   "nbconvert_exporter": "python",
   "pygments_lexer": "ipython3",
   "version": "3.8.8"
  }
 },
 "nbformat": 4,
 "nbformat_minor": 5
}
