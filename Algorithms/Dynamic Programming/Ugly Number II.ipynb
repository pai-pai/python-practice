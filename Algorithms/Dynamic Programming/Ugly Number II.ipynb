{
 "cells": [
  {
   "cell_type": "markdown",
   "id": "121965c8",
   "metadata": {},
   "source": [
    "An **ugly number** is a positive integer whose prime factors are limited to 2, 3, and 5.\n",
    "\n",
    "Given an integer $n$, return the $n^{th}$ **ugly number**.\n",
    "\n",
    "\n",
    "*Example 1*\n",
    "\n",
    "$n$ = 10<br />\n",
    "Returns 12. [1, 2, 3, 4, 5, 6, 8, 9, 10, 12] is the sequence of the first 10 ugly numbers.\n",
    "\n",
    "*Example 2*\n",
    "\n",
    "$n$ = 1<br />\n",
    "Returns 1. Has no prime factors, therefore all of its prime factors are limited to 2, 3, and 5.\n",
    "\n",
    "\n",
    "*Code*"
   ]
  },
  {
   "cell_type": "code",
   "execution_count": 4,
   "id": "1d2cd42d",
   "metadata": {},
   "outputs": [],
   "source": [
    "class Solution:\n",
    "    def nthUglyNumber(self, n):\n",
    "        nums = [1]\n",
    "        pos2 = pos3 = pos5 = 0\n",
    "        for i in range(1, n):\n",
    "            values = (2*nums[pos2], 3*nums[pos3], 5*nums[pos5])\n",
    "            nums.append(min(values))\n",
    "            pos2 = pos2 + (1 if nums[i] == values[0] else 0)\n",
    "            pos3 = pos3 + (1 if nums[i] == values[1] else 0)\n",
    "            pos5 = pos5 + (1 if nums[i] == values[2] else 0)\n",
    "        return nums[-1]"
   ]
  },
  {
   "cell_type": "code",
   "execution_count": 5,
   "id": "436c12ec",
   "metadata": {},
   "outputs": [
    {
     "name": "stdout",
     "output_type": "stream",
     "text": [
      "1\n"
     ]
    }
   ],
   "source": [
    "print(Solution().nthUglyNumber(1))"
   ]
  },
  {
   "cell_type": "code",
   "execution_count": 6,
   "id": "03d5e643",
   "metadata": {},
   "outputs": [
    {
     "name": "stdout",
     "output_type": "stream",
     "text": [
      "12\n"
     ]
    }
   ],
   "source": [
    "print(Solution().nthUglyNumber(10))"
   ]
  },
  {
   "cell_type": "markdown",
   "id": "93f09417",
   "metadata": {},
   "source": [
    "*Explanation*\n",
    "\n",
    "An ugly number must be multiplied by either 2, 3, or 5 from a smaller ugly number.\n",
    "\n",
    "0. 1 - is the first ugly number. So, we have: `1`\n",
    "\n",
    "1. We have to pick the minimum of `2 * 1` or `3 * 1` or `5 * 1`. We can update sequence of ugly numbers with 2: `1 2`. Now we have to increase multiplier for prime factor 2 to the next smallest ugly number (2).\n",
    "\n",
    "2. Get minimum from `2 * 2` or `3 * 1` or `5 * 1`. The samllest one is 3: `1 2 3`. Update multiplier for prime factor 3.\n",
    "\n",
    "3. Choose minimum of `2 * 2` or `3 * 2` or `5 * 1`: `1 2 3 4`. And again increase multiplier for prime factor 2 (from 2 to 3).\n",
    "\n",
    "4. Get min of `2 * 3` or `3 * 2` or `5 * 1`: `1 2 3 4 5`. Change multiplier for prime factor 5.\n",
    "\n",
    "5. Get min of `2 * 3` or `3 * 2` or `5 * 2`: `1 2 3 4 5 6`. Because 6 is a product of `2 * 3` and `3 * 2` we have to increase multiplier for both of them: from 3 to 4 for 2 and from 2 to 3 for 3.\n",
    "\n",
    "6. Get min of `2 * 4` or `3 * 3` or `5 * 2`: `1 2 3 4 5 6 8`. Increase multiplier for 2.\n",
    "\n",
    "7. `2 * 5` or `3 * 3` or `5 * 2`: `1 2 3 4 5 6 8 9`. Increase multiplier for 3.\n",
    "\n",
    "8. `2 * 5` or `3 * 4` or `5 * 2`: `1 2 3 4 5 6 8 9 10`. Increase multiplier either for 2 and for 5. \n",
    "\n",
    "9. `2 * 6` or `3 * 4` or `5 * 3`: `1 2 3 4 5 6 8 9 10 12`. Increase multiplier either for 2 and for 3.\n",
    "\n",
    "10. `2 * 8` or `3 * 5` or `5 * 3`: `1 2 3 4 5 6 8 9 10 12 15`. Increase multiplier either for 3 and for 5. \n",
    "\n",
    "11. `2 * 8` or `3 * 6` or `5 * 4`: `1 2 3 4 5 6 8 9 10 12 15 16`. Increase multiplier for 2.\n",
    "\n",
    "12. `2 * 9` or `3 * 6` or `5 * 4`: `1 2 3 4 5 6 8 9 10 12 15 16 18`. Increase multiplier either for 2 and for 3.\n",
    "\n",
    "13. `2 * 12` or `3 * 8` or `5 * 5`: `1 2 3 4 5 6 8 9 10 12 15 16 18 20`. Increase multiplier either for 2 and for 5.\n",
    "\n",
    "14. `2 * 15` or `3 * 9` or `5 * 5`: `1 2 3 4 5 6 8 9 10 12 15 16 18 20 24`. Increase multiplier either for 2 and for 3.\n",
    "\n",
    "15. `2 * 15` or `3 * 9` or `5 * 5`: `1 2 3 4 5 6 8 9 10 12 15 16 18 20 24 25`. Increase multiplier for 5.\n",
    "\n",
    "16. `2 * 15` or `3 * 9` or `5 * 6`: `1 2 3 4 5 6 8 9 10 12 15 16 18 20 24 25 27`. Increase multiplier for 3.\n",
    "\n",
    "17. `2 * 15` or `3 * 10` or `5 * 6`: `1 2 3 4 5 6 8 9 10 12 15 16 18 20 24 25 27 30`. Increase multiplier for all of the prime factors.\n",
    "\n",
    "18. `2 * 16` or `3 * 12` or `5 * 8`: `1 2 3 4 5 6 8 9 10 12 15 16 18 20 24 25 27 30 32`. Increase multiplier for 2.\n",
    "\n",
    "..."
   ]
  }
 ],
 "metadata": {
  "kernelspec": {
   "display_name": "Python 3",
   "language": "python",
   "name": "python3"
  },
  "language_info": {
   "codemirror_mode": {
    "name": "ipython",
    "version": 3
   },
   "file_extension": ".py",
   "mimetype": "text/x-python",
   "name": "python",
   "nbconvert_exporter": "python",
   "pygments_lexer": "ipython3",
   "version": "3.8.8"
  }
 },
 "nbformat": 4,
 "nbformat_minor": 5
}
