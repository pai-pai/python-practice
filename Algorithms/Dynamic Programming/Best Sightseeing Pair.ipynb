{
 "cells": [
  {
   "cell_type": "markdown",
   "id": "89392152",
   "metadata": {},
   "source": [
    "You are given an integer array $\\textit{values}$ where $\\textit{values}[i]$ represents the value of the $i^{th}$ sightseeing spot. Two sightseeing spots $i$ and $j$ have a **distance** $j - i$ between them.\n",
    "\n",
    "The score of a pair (i < j) of sightseeing spots is $\\textit{values}[i] + \\textit{values}[j] + i - j$: the sum of the values of the sightseeing spots, minus the distance between them.\n",
    "\n",
    "Return the maximum score of a pair of sightseeing spots.\n",
    "\n",
    "\n",
    "*Example 1*\n",
    "\n",
    "$\\textit{values}$ = [8,1,5,2,6]<br />\n",
    "Returns 11. i = 0, j = 2, $\\textit{values}[i] + \\textit{values}[j] + i - j$ = 8 + 5 + 0 - 2 = 11\n",
    "\n",
    "*Example 2*\n",
    "\n",
    "$\\textit{values}$ = [1,2]<br />\n",
    "Returns 2\n",
    "\n",
    "\n",
    "*Code*"
   ]
  },
  {
   "cell_type": "code",
   "execution_count": 14,
   "id": "c5cc7588",
   "metadata": {},
   "outputs": [],
   "source": [
    "class Solution:\n",
    "    def maxScoreSightseeingPair(self, values):\n",
    "        max_score, start_score = 0, values[0]\n",
    "        for j in range(1, len(values)):\n",
    "            max_score = max(max_score, start_score + values[j] - j)\n",
    "            start_score = max(start_score, values[j] + j)\n",
    "        return max_score"
   ]
  },
  {
   "cell_type": "code",
   "execution_count": 15,
   "id": "6be76efb",
   "metadata": {},
   "outputs": [
    {
     "name": "stdout",
     "output_type": "stream",
     "text": [
      "11\n"
     ]
    }
   ],
   "source": [
    "print(Solution().maxScoreSightseeingPair([8,1,5,2,6]))"
   ]
  },
  {
   "cell_type": "code",
   "execution_count": 16,
   "id": "5e8b9d23",
   "metadata": {},
   "outputs": [
    {
     "name": "stdout",
     "output_type": "stream",
     "text": [
      "2\n"
     ]
    }
   ],
   "source": [
    "print(Solution().maxScoreSightseeingPair([1,2]))"
   ]
  },
  {
   "cell_type": "markdown",
   "id": "fb192d89",
   "metadata": {},
   "source": [
    "*Explanation*\n",
    "\n",
    "Given array of values: [2, 1, 5, 3, 6].\n",
    "\n",
    "For this array real score for every sightseeing spot *if we start from this spot* is (value of this spot + its index): [2+0, 1+1, 5+2, 3+3, 6+4] = [2, 2, 7, 6, 10]. It leads from the problem description (`values[i] + values[j] + i - j` => `(values[i] + i) + (values[j] - j)`). But we can not start from the last spot (`i < j`). So, array of starting scores is: [2, 2, 7, 6] for `0 <= i <= len(values) - 1`.\n",
    "\n",
    "Initial starting index is 0. We need to iterate through values array from 1 to len(values) - 1 indexes.\n",
    "\n",
    "If the curent value `values[j] + j` is greater than `values[start_index] + start_index` value this means that it is profitable to start next iteration from jth index as starting point because its score bigger. \n",
    "\n",
    "For every step we also need to check if score for current iteration is greater than previous calculated maximum score."
   ]
  }
 ],
 "metadata": {
  "kernelspec": {
   "display_name": "Python 3",
   "language": "python",
   "name": "python3"
  },
  "language_info": {
   "codemirror_mode": {
    "name": "ipython",
    "version": 3
   },
   "file_extension": ".py",
   "mimetype": "text/x-python",
   "name": "python",
   "nbconvert_exporter": "python",
   "pygments_lexer": "ipython3",
   "version": "3.8.8"
  }
 },
 "nbformat": 4,
 "nbformat_minor": 5
}
