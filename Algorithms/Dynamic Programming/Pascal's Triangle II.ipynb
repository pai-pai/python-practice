{
 "cells": [
  {
   "cell_type": "markdown",
   "id": "d62fc9e2",
   "metadata": {},
   "source": [
    "Given an integer $\\textit{rowIndex}$, return the $\\textit{rowIndex}^{th}$ (**0-indexed**) row of the **Pascal's triangle**.\n",
    "\n",
    "\n",
    "*Example 1*\n",
    "\n",
    "$\\textit{rowIndex}$ = 3<br />\n",
    "Returns [1,3,3,1]\n",
    "\n",
    "*Example 2*\n",
    "\n",
    "$\\textit{rowIndex}$ = 0<br />\n",
    "Returns [1]\n",
    "\n",
    "*Example 3*\n",
    "\n",
    "$\\textit{rowIndex}$ = 1<br />\n",
    "Returns [1,1]\n",
    "\n",
    "\n",
    "*Code*"
   ]
  },
  {
   "cell_type": "code",
   "execution_count": 1,
   "id": "ecb51dba",
   "metadata": {},
   "outputs": [],
   "source": [
    "class Solution:\n",
    "    def getRow(self, rowIndex):\n",
    "        res = [1]*(rowIndex+1)\n",
    "        for row in range(1, rowIndex+1):\n",
    "            for i in range(row-1, 0, -1):\n",
    "                res[i] += res[i-1]\n",
    "        return res"
   ]
  },
  {
   "cell_type": "code",
   "execution_count": 2,
   "id": "9758d9fc",
   "metadata": {},
   "outputs": [
    {
     "name": "stdout",
     "output_type": "stream",
     "text": [
      "[1, 3, 3, 1]\n"
     ]
    }
   ],
   "source": [
    "print(Solution().getRow(3))"
   ]
  },
  {
   "cell_type": "code",
   "execution_count": 3,
   "id": "63656e44",
   "metadata": {},
   "outputs": [
    {
     "name": "stdout",
     "output_type": "stream",
     "text": [
      "[1]\n"
     ]
    }
   ],
   "source": [
    "print(Solution().getRow(0))"
   ]
  },
  {
   "cell_type": "code",
   "execution_count": 4,
   "id": "df0288df",
   "metadata": {},
   "outputs": [
    {
     "name": "stdout",
     "output_type": "stream",
     "text": [
      "[1, 1]\n"
     ]
    }
   ],
   "source": [
    "print(Solution().getRow(1))"
   ]
  }
 ],
 "metadata": {
  "kernelspec": {
   "display_name": "Python 3",
   "language": "python",
   "name": "python3"
  },
  "language_info": {
   "codemirror_mode": {
    "name": "ipython",
    "version": 3
   },
   "file_extension": ".py",
   "mimetype": "text/x-python",
   "name": "python",
   "nbconvert_exporter": "python",
   "pygments_lexer": "ipython3",
   "version": "3.8.8"
  }
 },
 "nbformat": 4,
 "nbformat_minor": 5
}
