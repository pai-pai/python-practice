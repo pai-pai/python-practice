{
 "cells": [
  {
   "cell_type": "markdown",
   "id": "8e730560",
   "metadata": {},
   "source": [
    "A **wiggle sequence** is a sequence where the differences between successive numbers strictly alternate between positive and negative. The first difference (if one exists) may be either positive or negative. A sequence with one element and a sequence with two non-equal elements are trivially wiggle sequences.\n",
    "\n",
    "- For example, [1, 7, 4, 9, 2, 5] is a **wiggle sequence** because the differences (6, -3, 5, -7, 3) alternate between positive and negative.\n",
    "- In contrast, [1, 4, 7, 2, 5] and [1, 7, 4, 5, 5] are not wiggle sequences. The first is not because its first two differences are positive, and the second is not because its last difference is zero.\n",
    "\n",
    "A **subsequence** is obtained by deleting some elements (possibly zero) from the original sequence, leaving the remaining elements in their original order.\n",
    "\n",
    "Given an integer array $\\textit{nums}$, return the length of the longest **wiggle subsequence** of $\\textit{nums}$.\n",
    "\n",
    "\n",
    "*Example 1*\n",
    "\n",
    "$\\textit{nums}$ = [1,7,4,9,2,5]<br />\n",
    "Returns 6. The entire sequence is a wiggle sequence with differences (6, -3, 5, -7, 3).\n",
    "\n",
    "*Example 2*\n",
    "\n",
    "$\\textit{nums}$ = [1,17,5,10,13,15,10,5,16,8]<br />\n",
    "Returns 7. There are several subsequences that achieve this length. One is [1, 17, 10, 13, 10, 16, 8] with differences (16, -7, 3, -3, 6, -8).\n",
    "\n",
    "*Example 3*\n",
    "\n",
    "$\\textit{nums}$ = [1,2,3,4,5,6,7,8,9]<br />\n",
    "Returns 2\n",
    "\n",
    "\n",
    "*Code*"
   ]
  },
  {
   "cell_type": "code",
   "execution_count": 145,
   "id": "72edbf4c",
   "metadata": {},
   "outputs": [],
   "source": [
    "class Solution:\n",
    "    def wiggleMaxLength(self, nums):\n",
    "        res = [1]*len(nums)\n",
    "        wiggles = [nums[i] - nums[i-1] for i in range(1, len(nums))]\n",
    "        for r in range(1, len(nums)):\n",
    "            l = r\n",
    "            while l > 0:\n",
    "                l -= 1\n",
    "                if nums[r] == nums[l]:\n",
    "                    continue\n",
    "                if l == 0 or (wiggles[r-1] > 0 and wiggles[l-1] < 0) or (wiggles[r-1] < 0 and wiggles[l-1] > 0):\n",
    "                    res[r] += res[l]\n",
    "                    break\n",
    "        return max(res)\n",
    "    \n",
    "    def wiggleMaxLength2(self, nums):\n",
    "        length = 1\n",
    "        increasing = None\n",
    "        for i in range(1, len(nums)):\n",
    "            if nums[i] > nums[i - 1] and increasing is not True:\n",
    "                length += 1\n",
    "                increasing = True\n",
    "            if nums[i] < nums[i - 1] and increasing is not False:\n",
    "                length += 1\n",
    "                increasing = False\n",
    "        return length\n",
    "    \n",
    "    \n",
    "s = Solution()\n",
    "solution = lambda nums: print(\"wiggleMaxLength:  {}\".format(s.wiggleMaxLength(nums)),\n",
    "                              \"wiggleMaxLength2: {}\".format(s.wiggleMaxLength2(nums)), sep=\"\\n\")"
   ]
  },
  {
   "cell_type": "code",
   "execution_count": 146,
   "id": "1a9e9f07",
   "metadata": {},
   "outputs": [
    {
     "name": "stdout",
     "output_type": "stream",
     "text": [
      "wiggleMaxLength:  1\n",
      "wiggleMaxLength2: 1\n"
     ]
    }
   ],
   "source": [
    "solution([1])"
   ]
  },
  {
   "cell_type": "code",
   "execution_count": 147,
   "id": "eaabacec",
   "metadata": {},
   "outputs": [
    {
     "name": "stdout",
     "output_type": "stream",
     "text": [
      "wiggleMaxLength:  2\n",
      "wiggleMaxLength2: 2\n"
     ]
    }
   ],
   "source": [
    "solution([1,2,3,4,5,6,7,8,9])"
   ]
  },
  {
   "cell_type": "code",
   "execution_count": 148,
   "id": "941675e7",
   "metadata": {},
   "outputs": [
    {
     "name": "stdout",
     "output_type": "stream",
     "text": [
      "wiggleMaxLength:  2\n",
      "wiggleMaxLength2: 2\n"
     ]
    }
   ],
   "source": [
    "solution([1,2])"
   ]
  },
  {
   "cell_type": "code",
   "execution_count": 149,
   "id": "eb5c034c",
   "metadata": {},
   "outputs": [
    {
     "name": "stdout",
     "output_type": "stream",
     "text": [
      "wiggleMaxLength:  3\n",
      "wiggleMaxLength2: 3\n"
     ]
    }
   ],
   "source": [
    "solution([1,3,2])"
   ]
  },
  {
   "cell_type": "code",
   "execution_count": 150,
   "id": "5c7f538d",
   "metadata": {},
   "outputs": [
    {
     "name": "stdout",
     "output_type": "stream",
     "text": [
      "wiggleMaxLength:  1\n",
      "wiggleMaxLength2: 1\n"
     ]
    }
   ],
   "source": [
    "solution([0,0,0])"
   ]
  },
  {
   "cell_type": "code",
   "execution_count": 151,
   "id": "3251e824",
   "metadata": {},
   "outputs": [
    {
     "name": "stdout",
     "output_type": "stream",
     "text": [
      "wiggleMaxLength:  6\n",
      "wiggleMaxLength2: 6\n"
     ]
    }
   ],
   "source": [
    "solution([1,7,4,9,2,5])"
   ]
  },
  {
   "cell_type": "code",
   "execution_count": 152,
   "id": "88691832",
   "metadata": {},
   "outputs": [
    {
     "name": "stdout",
     "output_type": "stream",
     "text": [
      "wiggleMaxLength:  7\n",
      "wiggleMaxLength2: 7\n"
     ]
    }
   ],
   "source": [
    "solution([1,17,5,10,13,15,10,5,16,1])"
   ]
  },
  {
   "cell_type": "code",
   "execution_count": 153,
   "id": "f6cde03c",
   "metadata": {},
   "outputs": [
    {
     "name": "stdout",
     "output_type": "stream",
     "text": [
      "wiggleMaxLength:  3\n",
      "wiggleMaxLength2: 3\n"
     ]
    }
   ],
   "source": [
    "solution([3,3,3,2,5,5,5,5])"
   ]
  }
 ],
 "metadata": {
  "kernelspec": {
   "display_name": "Python 3",
   "language": "python",
   "name": "python3"
  },
  "language_info": {
   "codemirror_mode": {
    "name": "ipython",
    "version": 3
   },
   "file_extension": ".py",
   "mimetype": "text/x-python",
   "name": "python",
   "nbconvert_exporter": "python",
   "pygments_lexer": "ipython3",
   "version": "3.8.8"
  }
 },
 "nbformat": 4,
 "nbformat_minor": 5
}
