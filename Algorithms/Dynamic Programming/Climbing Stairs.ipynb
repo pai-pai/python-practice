{
 "cells": [
  {
   "cell_type": "markdown",
   "id": "4e0d7b6a",
   "metadata": {
    "tags": [
     "LeetCode",
     "Dynamic_Programming",
     "Easy"
    ]
   },
   "source": [
    "You are climbing a staircase. It takes n steps to reach the top.\n",
    "\n",
    "Each time you can either climb $1$ or $2$ steps. In how many distinct ways can you climb to the top?\n",
    "\n",
    "\n",
    "*Example 1*\n",
    "\n",
    "$n$ = 2<br />\n",
    "Returns 2. There are two ways to climb to the top:\n",
    "1. 1 step + 1 step\n",
    "2. 2 steps\n",
    "\n",
    "*Example 2*\n",
    "\n",
    "$n$ = 3<br />\n",
    "Returns 3. There are three ways to climb to the top:\n",
    "1. 1 step + 1 step + 1 step\n",
    "2. 1 step + 2 steps\n",
    "3. 2 steps + 1 step\n",
    "\n",
    "\n",
    "*Code*"
   ]
  },
  {
   "cell_type": "code",
   "execution_count": 68,
   "id": "dbbf1de0",
   "metadata": {},
   "outputs": [],
   "source": [
    "class Solution:\n",
    "    memo = {}\n",
    "    \n",
    "    def climbStairs(self, n):\n",
    "        if n <= 2:\n",
    "            return n\n",
    "        if n in self.memo:\n",
    "            return self.memo[n]\n",
    "        self.memo[n] = self.climbStairs(n-1) + self.climbStairs(n-2)\n",
    "        return self.memo[n]"
   ]
  },
  {
   "cell_type": "code",
   "execution_count": 75,
   "id": "1de30e83",
   "metadata": {},
   "outputs": [
    {
     "name": "stdout",
     "output_type": "stream",
     "text": [
      "2\n"
     ]
    }
   ],
   "source": [
    "print(Solution().climbStairs(2))"
   ]
  },
  {
   "cell_type": "code",
   "execution_count": 76,
   "id": "af3be76d",
   "metadata": {},
   "outputs": [
    {
     "name": "stdout",
     "output_type": "stream",
     "text": [
      "3\n"
     ]
    }
   ],
   "source": [
    "print(Solution().climbStairs(3))"
   ]
  },
  {
   "cell_type": "code",
   "execution_count": 77,
   "id": "c9b3a880",
   "metadata": {},
   "outputs": [
    {
     "name": "stdout",
     "output_type": "stream",
     "text": [
      "5\n"
     ]
    }
   ],
   "source": [
    "print(Solution().climbStairs(4))"
   ]
  },
  {
   "cell_type": "code",
   "execution_count": 78,
   "id": "adc1bef7",
   "metadata": {},
   "outputs": [
    {
     "name": "stdout",
     "output_type": "stream",
     "text": [
      "8\n"
     ]
    }
   ],
   "source": [
    "print(Solution().climbStairs(5))"
   ]
  },
  {
   "cell_type": "code",
   "execution_count": 79,
   "id": "34706aeb",
   "metadata": {},
   "outputs": [
    {
     "name": "stdout",
     "output_type": "stream",
     "text": [
      "13\n"
     ]
    }
   ],
   "source": [
    "print(Solution().climbStairs(6))"
   ]
  },
  {
   "cell_type": "markdown",
   "id": "4a3ae954",
   "metadata": {},
   "source": [
    "*BTW: this question is the fibonanacci!*\n",
    "\n",
    "Base cases:\n",
    "- if n == 0, then the number of ways should be zero.\n",
    "- if n == 1, then there is only way to climb the stair.\n",
    "- if n == 2, then there are two ways to climb the stairs. One solution is one step by another; the other one is two steps at one time.\n",
    "\n",
    "The key intuition to solve the problem is that given a number of stairs n, if we know the number ways to get to the points [n-1] and [n-2] respectively, denoted as n1 and n2, then the total ways to get to the point [n] is n1 + n2. Because from the [n-1] point, we can take one single step to reach [n]. And from the [n-2] point, we could take two steps to get there.\n",
    "\n",
    "The solutions calculated by the above approach are complete and non-redundant. The two solution sets (n1 and n2) cover all the possible cases on how the final step is taken. And there would be *NO overlapping* among the final solutions constructed from these two solution sets, because they differ in the final step.\n",
    "\n",
    "Now given the above intuition, one can construct an array where each node stores the solution for each number n. Or if we look at it closer, it is clear that this is basically a fibonacci number, with the starting numbers as 1 and 2, instead of 1 and 1."
   ]
  }
 ],
 "metadata": {
  "celltoolbar": "Tags",
  "kernelspec": {
   "display_name": "Python 3",
   "language": "python",
   "name": "python3"
  },
  "language_info": {
   "codemirror_mode": {
    "name": "ipython",
    "version": 3
   },
   "file_extension": ".py",
   "mimetype": "text/x-python",
   "name": "python",
   "nbconvert_exporter": "python",
   "pygments_lexer": "ipython3",
   "version": "3.8.8"
  }
 },
 "nbformat": 4,
 "nbformat_minor": 5
}
