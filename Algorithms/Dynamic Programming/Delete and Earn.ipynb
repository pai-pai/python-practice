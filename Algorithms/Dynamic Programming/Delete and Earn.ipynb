{
 "cells": [
  {
   "cell_type": "markdown",
   "id": "d778bab5",
   "metadata": {},
   "source": [
    "You are given an integer array $\\textit{nums}$. You want to maximize the number of points you get by performing the following operation any number of times:\n",
    "\n",
    "- Pick any $\\textit{nums}[i]$ and delete it to earn $\\textit{nums}[i]$ points. Afterwards, you must delete **every** element equal to $\\textit{nums}[i] - 1$ and **every** element equal to $\\textit{nums}[i] + 1$.\n",
    "\n",
    "Return the **maximum number of points** you can earn by applying the above operation some number of times.\n",
    " \n",
    "\n",
    "*Example 1*\n",
    "\n",
    "$\\textit{nums}$ = [3,4,2]<br />\n",
    "Returns 6<br />\n",
    "Explanation: You can perform the following operations:\n",
    "- Delete 4 to earn 4 points. Consequently, 3 is also deleted. $\\textit{nums}$ = [2].\n",
    "- Delete 2 to earn 2 points. $\\textit{nums}$ = [].\n",
    "\n",
    "You earn a total of 6 points.\n",
    "\n",
    "*Example 2*\n",
    "\n",
    "$\\textit{nums}$ = [2,2,3,3,3,4]\n",
    "Returns 9<br />\n",
    "Explanation: You can perform the following operations:\n",
    "- Delete a 3 to earn 3 points. All 2's and 4's are also deleted. $\\textit{nums}$ = [3,3].\n",
    "- Delete a 3 again to earn 3 points. $\\textit{nums}$ = [3].\n",
    "- Delete a 3 once more to earn 3 points. $\\textit{nums}$ = [].\n",
    "\n",
    "You earn a total of 9 points.\n",
    "\n",
    "*Code*"
   ]
  },
  {
   "cell_type": "code",
   "execution_count": 60,
   "id": "f80a6435",
   "metadata": {},
   "outputs": [],
   "source": [
    "class Solution:\n",
    "    def deleteAndEarn(self, nums):\n",
    "        nums = sorted(nums)\n",
    "        count = {}\n",
    "        for num in nums:\n",
    "            count[num] = count.get(num, 0) + num\n",
    "        prev_num = None\n",
    "        prev1, prev2 = 0, 0\n",
    "        for num in set(nums):\n",
    "            if num-1 == prev_num:\n",
    "                current = max(prev1 + count[num], prev2)\n",
    "            else:\n",
    "                current = count[num] + max(prev1, prev2)\n",
    "            prev1, prev2 = prev2, current\n",
    "            prev_num = num\n",
    "        return prev2"
   ]
  },
  {
   "cell_type": "code",
   "execution_count": 68,
   "id": "ab525cdb",
   "metadata": {},
   "outputs": [
    {
     "name": "stdout",
     "output_type": "stream",
     "text": [
      "6\n"
     ]
    }
   ],
   "source": [
    "print(Solution().deleteAndEarn([3,4,2]))  # exp 6: 2 + 4 = 6"
   ]
  },
  {
   "cell_type": "code",
   "execution_count": 64,
   "id": "89484d4a",
   "metadata": {},
   "outputs": [
    {
     "name": "stdout",
     "output_type": "stream",
     "text": [
      "9\n"
     ]
    }
   ],
   "source": [
    "print(Solution().deleteAndEarn([2,2,3,3,3,4]))  # exp 9: 3(3) = 9"
   ]
  },
  {
   "cell_type": "code",
   "execution_count": 62,
   "id": "0f5d7c03",
   "metadata": {},
   "outputs": [
    {
     "name": "stdout",
     "output_type": "stream",
     "text": [
      "4\n"
     ]
    }
   ],
   "source": [
    "print(Solution().deleteAndEarn([3,1]))  # exp 4: 1 + 3 = 4"
   ]
  },
  {
   "cell_type": "code",
   "execution_count": 67,
   "id": "7311fb21",
   "metadata": {},
   "outputs": [
    {
     "name": "stdout",
     "output_type": "stream",
     "text": [
      "41\n"
     ]
    }
   ],
   "source": [
    "print(Solution().deleteAndEarn([1,1,1,1,1,1,2,2,3,3,3,4,4,5,6,20]))  # exp 41:\n",
    "                                                                     # 1(6) + 3(3) + 6(1) + 20(1) = \n",
    "                                                                     # 6 + 9 + 6 + 20 = 41"
   ]
  },
  {
   "cell_type": "markdown",
   "id": "72bf5f92",
   "metadata": {},
   "source": [
    "*Explanation*\n",
    "\n",
    "The problem is very similar to House Robber problem.\n",
    "\n",
    "Except one detail: if the current number is not adjacent to the previous number then current value should be calculated as current number + maximum of previous values."
   ]
  }
 ],
 "metadata": {
  "kernelspec": {
   "display_name": "Python 3",
   "language": "python",
   "name": "python3"
  },
  "language_info": {
   "codemirror_mode": {
    "name": "ipython",
    "version": 3
   },
   "file_extension": ".py",
   "mimetype": "text/x-python",
   "name": "python",
   "nbconvert_exporter": "python",
   "pygments_lexer": "ipython3",
   "version": "3.8.8"
  }
 },
 "nbformat": 4,
 "nbformat_minor": 5
}
