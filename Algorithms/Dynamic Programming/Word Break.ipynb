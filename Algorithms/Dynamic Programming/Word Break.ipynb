{
 "cells": [
  {
   "cell_type": "markdown",
   "id": "ce294b51",
   "metadata": {},
   "source": [
    "Given a string $s$ and a dictionary of strings $\\textit{wordDict}$, return `true` if $s$ can be segmented into a space-separated sequence of one or more dictionary words.\n",
    "\n",
    "**Note** that the same word in the dictionary may be reused multiple times in the segmentation.\n",
    "\n",
    "\n",
    "*Example 1*\n",
    "\n",
    "$s$ = \"leetcode\", $\\textit{wordDict}$ = [\"leet\",\"code\"]<br />\n",
    "Returns `true`<br />\n",
    "Explanation: Return true because \"leetcode\" can be segmented as \"leet code\".\n",
    "\n",
    "*Example 2*\n",
    "\n",
    "$s$ = \"applepenapple\", $\\textit{wordDict}$ = [\"apple\",\"pen\"]<br />\n",
    "Returns `true`<br />\n",
    "Explanation: Return true because \"applepenapple\" can be segmented as \"apple pen apple\".\n",
    "Note that you are allowed to reuse a dictionary word.\n",
    "\n",
    "*Example 3*\n",
    "\n",
    "$s$ = \"catsandog\", $\\textit{wordDict}$ = [\"cats\",\"dog\",\"sand\",\"and\",\"cat\"]<br />\n",
    "Returns `false`<br />\n",
    "\n",
    "\n",
    "*Code*"
   ]
  },
  {
   "cell_type": "code",
   "execution_count": 1,
   "id": "7c17e502",
   "metadata": {},
   "outputs": [],
   "source": [
    "class Solution:\n",
    "    def wordBreak(self, s, wordDict):\n",
    "        d = [False] * (len(s) + 1)\n",
    "        d[-1] = True\n",
    "        for i in range(len(s) - 1, -1, -1):\n",
    "            for w in wordDict:\n",
    "                if (i + len(w)) <= len(s) and s[i:i + len(w)] == w:\n",
    "                    d[i] = d[i + len(w)]\n",
    "                if d[i]:\n",
    "                    break\n",
    "        return d[0]"
   ]
  },
  {
   "cell_type": "code",
   "execution_count": 2,
   "id": "dc564b22",
   "metadata": {},
   "outputs": [
    {
     "name": "stdout",
     "output_type": "stream",
     "text": [
      "True\n"
     ]
    }
   ],
   "source": [
    "print(Solution().wordBreak(s=\"leetcode\", wordDict=[\"leet\",\"code\"]))"
   ]
  },
  {
   "cell_type": "code",
   "execution_count": 4,
   "id": "0fa044d0",
   "metadata": {},
   "outputs": [
    {
     "name": "stdout",
     "output_type": "stream",
     "text": [
      "True\n"
     ]
    }
   ],
   "source": [
    "print(Solution().wordBreak(s=\"applepenapple\", wordDict=[\"apple\",\"pen\"]))"
   ]
  },
  {
   "cell_type": "code",
   "execution_count": 5,
   "id": "0307914b",
   "metadata": {},
   "outputs": [
    {
     "name": "stdout",
     "output_type": "stream",
     "text": [
      "False\n"
     ]
    }
   ],
   "source": [
    "print(Solution().wordBreak(s=\"catsandog\", wordDict = [\"cats\",\"dog\",\"sand\",\"and\",\"cat\"]))"
   ]
  }
 ],
 "metadata": {
  "kernelspec": {
   "display_name": "Python 3",
   "language": "python",
   "name": "python3"
  },
  "language_info": {
   "codemirror_mode": {
    "name": "ipython",
    "version": 3
   },
   "file_extension": ".py",
   "mimetype": "text/x-python",
   "name": "python",
   "nbconvert_exporter": "python",
   "pygments_lexer": "ipython3",
   "version": "3.8.8"
  }
 },
 "nbformat": 4,
 "nbformat_minor": 5
}
