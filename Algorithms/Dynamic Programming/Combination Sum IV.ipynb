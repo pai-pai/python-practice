{
 "cells": [
  {
   "cell_type": "markdown",
   "id": "4e08ad98",
   "metadata": {},
   "source": [
    "Given an array of **distinct** integers $\\textit{nums}$ and a $\\textit{target}$ integer target, return the number of possible combinations that add up to target.\n",
    "\n",
    "The test cases are generated so that the answer can fit in a **32-bit** integer.\n",
    "\n",
    "\n",
    "Example 1:\n",
    "\n",
    "$\\textit{nums}$ = [1,2,3], $\\textit{target}$ = 4<br />\n",
    "Returns 7<br />\n",
    "Explanation:<br />\n",
    "The possible combination ways are:\n",
    "- (1, 1, 1, 1)\n",
    "- (1, 1, 2)\n",
    "- (1, 2, 1)\n",
    "- (1, 3)\n",
    "- (2, 1, 1)\n",
    "- (2, 2)\n",
    "- (3, 1)\n",
    "Note that different sequences are counted as different combinations.\n",
    "\n",
    "Example 2:\n",
    "\n",
    "$\\textit{nums}$ = [9], $\\textit{target}$ = 3<br />\n",
    "Returns 0\n",
    "\n",
    "\n",
    "*Code*"
   ]
  },
  {
   "cell_type": "code",
   "execution_count": 22,
   "id": "420aad98",
   "metadata": {},
   "outputs": [],
   "source": [
    "class Solution:\n",
    "    def combinationSum4(self, nums, target):\n",
    "        res = [1] + [0]*target\n",
    "        for t in range(1, target + 1):\n",
    "            for num in nums:\n",
    "                if t - num >= 0:\n",
    "                    res[t] += res[t-num]\n",
    "        return res[target]"
   ]
  },
  {
   "cell_type": "code",
   "execution_count": 23,
   "id": "94632d7f",
   "metadata": {},
   "outputs": [
    {
     "data": {
      "text/plain": [
       "7"
      ]
     },
     "execution_count": 23,
     "metadata": {},
     "output_type": "execute_result"
    }
   ],
   "source": [
    "Solution().combinationSum4(nums=[1,2,3], target=4)"
   ]
  },
  {
   "cell_type": "code",
   "execution_count": 24,
   "id": "fac44302",
   "metadata": {},
   "outputs": [
    {
     "data": {
      "text/plain": [
       "0"
      ]
     },
     "execution_count": 24,
     "metadata": {},
     "output_type": "execute_result"
    }
   ],
   "source": [
    "Solution().combinationSum4(nums=[9], target=3)"
   ]
  }
 ],
 "metadata": {
  "kernelspec": {
   "display_name": "Python 3",
   "language": "python",
   "name": "python3"
  },
  "language_info": {
   "codemirror_mode": {
    "name": "ipython",
    "version": 3
   },
   "file_extension": ".py",
   "mimetype": "text/x-python",
   "name": "python",
   "nbconvert_exporter": "python",
   "pygments_lexer": "ipython3",
   "version": "3.8.8"
  }
 },
 "nbformat": 4,
 "nbformat_minor": 5
}
