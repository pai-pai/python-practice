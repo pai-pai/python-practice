{
 "cells": [
  {
   "cell_type": "markdown",
   "id": "c0f98d6c",
   "metadata": {},
   "source": [
    "You are given an array $\\textit{prices}$ where $\\textit{prices}[i]$ is the price of a given stock on the $i^{th}$ day.\n",
    "\n",
    "You want to maximize your profit by choosing a **single day** to buy one stock and choosing a **different day in the future** to sell that stock.\n",
    "\n",
    "Return the maximum profit you can achieve from this transaction. If you cannot achieve any profit, return 0.\n",
    "\n",
    "\n",
    "*Example 1*\n",
    "\n",
    "$\\textit{prices}$ = [7,1,5,3,6,4]<br />\n",
    "Returns 5<br />\n",
    "Explanation: Buy on day 2 (price = 1) and sell on day 5 (price = 6), profit = 6-1 = 5.<br />\n",
    "Note that buying on day 2 and selling on day 1 is not allowed because you must buy before you sell.\n",
    "\n",
    "*Example 2*\n",
    "\n",
    "$\\textit{prices}$ = [7,6,4,3,1]<br />\n",
    "Returns 0<br />\n",
    "Explanation: In this case, no transactions are done and the max profit = 0.\n",
    "\n",
    "\n",
    "*Code*"
   ]
  },
  {
   "cell_type": "code",
   "execution_count": 1,
   "id": "155231aa",
   "metadata": {},
   "outputs": [],
   "source": [
    "class Solution:\n",
    "    def maxProfit(self, prices):\n",
    "        profit = 0\n",
    "        buy = prices[0]\n",
    "        for price in prices[1:]:\n",
    "            if buy >= price:\n",
    "                buy = price\n",
    "            if buy < price:\n",
    "                profit = max(profit, price - buy)\n",
    "        return profit"
   ]
  },
  {
   "cell_type": "code",
   "execution_count": 3,
   "id": "1449473e",
   "metadata": {},
   "outputs": [
    {
     "name": "stdout",
     "output_type": "stream",
     "text": [
      "5\n"
     ]
    }
   ],
   "source": [
    "print(Solution().maxProfit([7,1,5,3,6,4]))  # exp 5: buy by 1 and sell by 6"
   ]
  },
  {
   "cell_type": "code",
   "execution_count": 5,
   "id": "4d2b47fd",
   "metadata": {},
   "outputs": [
    {
     "name": "stdout",
     "output_type": "stream",
     "text": [
      "0\n"
     ]
    }
   ],
   "source": [
    "print(Solution().maxProfit([7,6,4,3,1]))  # exp 0"
   ]
  },
  {
   "cell_type": "code",
   "execution_count": 8,
   "id": "316eaf60",
   "metadata": {},
   "outputs": [
    {
     "name": "stdout",
     "output_type": "stream",
     "text": [
      "8\n"
     ]
    }
   ],
   "source": [
    "print(Solution().maxProfit([0,8]))"
   ]
  }
 ],
 "metadata": {
  "kernelspec": {
   "display_name": "Python 3",
   "language": "python",
   "name": "python3"
  },
  "language_info": {
   "codemirror_mode": {
    "name": "ipython",
    "version": 3
   },
   "file_extension": ".py",
   "mimetype": "text/x-python",
   "name": "python",
   "nbconvert_exporter": "python",
   "pygments_lexer": "ipython3",
   "version": "3.8.8"
  }
 },
 "nbformat": 4,
 "nbformat_minor": 5
}
