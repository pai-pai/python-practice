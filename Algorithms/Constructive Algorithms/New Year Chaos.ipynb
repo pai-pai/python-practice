{
 "cells": [
  {
   "cell_type": "markdown",
   "id": "b68a7d35",
   "metadata": {
    "tags": [
     "HackerRank",
     "Algorithms",
     "Constructive"
    ]
   },
   "source": [
    "It is New Year's Day and people are in line for the Wonderland rollercoaster ride. Each person wears a sticker indicating their initial position in the queue from $1$ to $n$. Any person can bribe the person directly in front of them to swap positions, but they still wear their original sticker. One person can bribe at most two others.\n",
    "Determine the minimum number of bribes that took place to get to a given queue order. Print the number of bribes, or, if anyone has bribed more than two people, print `Too chaotic`.\n",
    "\n",
    "*Example*\n",
    "\n",
    "$q = [1, 2, 3, 5, 4, 6, 7, 8]$\n",
    "\n",
    "If person $5$ bribes person $4$, the queue will look like this: 1, 2, 3, 5, 4, 6, 7, 8. Only  bribe is required. Print `1`.\n",
    "\n",
    "$q = [4, 1, 2, 3]$\n",
    "\n",
    "Person $4$ had to bribe $3$ people to get to the current position. Print `Too chaotic`.\n",
    "\n",
    "*Code*"
   ]
  },
  {
   "cell_type": "code",
   "execution_count": 1,
   "id": "a8e483d4",
   "metadata": {},
   "outputs": [],
   "source": [
    "def minimumBribes(q):\n",
    "    given_bribes = 0\n",
    "    for i, val in enumerate(q):\n",
    "        if val - (i + 1) > 2:\n",
    "            print('Too chaotic')\n",
    "            return\n",
    "        queue_part = q[max(val - 2, 0):i]\n",
    "        given_bribes += len(list(filter(lambda x: x > val, queue_part)))\n",
    "    print(given_bribes)"
   ]
  },
  {
   "cell_type": "code",
   "execution_count": 2,
   "id": "992384fe",
   "metadata": {},
   "outputs": [
    {
     "name": "stdout",
     "output_type": "stream",
     "text": [
      "3\n"
     ]
    }
   ],
   "source": [
    "q = [2, 1, 5, 3, 4]\n",
    "minimumBribes(q)"
   ]
  },
  {
   "cell_type": "code",
   "execution_count": 3,
   "id": "951d514c",
   "metadata": {},
   "outputs": [
    {
     "name": "stdout",
     "output_type": "stream",
     "text": [
      "Too chaotic\n"
     ]
    }
   ],
   "source": [
    "q = [2, 5, 1, 3, 4]\n",
    "minimumBribes(q)"
   ]
  },
  {
   "cell_type": "code",
   "execution_count": 4,
   "id": "2b354f38",
   "metadata": {},
   "outputs": [
    {
     "name": "stdout",
     "output_type": "stream",
     "text": [
      "7\n"
     ]
    }
   ],
   "source": [
    "q = [1, 2, 5, 3, 7, 8, 6, 4]\n",
    "minimumBribes(q)"
   ]
  },
  {
   "cell_type": "markdown",
   "id": "a791c430",
   "metadata": {},
   "source": [
    "*Explanation*\n",
    "\n",
    "`if val - (i + 1) > 2:` -- is a simple scenario. It shows how far from its initial position i'th person does (and if 7th person is the first (i=0) person in a row he defenetely bribe more than two people).\n",
    "\n",
    "Next, we need to count *the number of taken bribes*. NOT *the number of given bribes*!!! It can be done by counting persons with the greater numbers than the person:\n",
    "```python\n",
    "queue_part = q[max(val - 2, 0):i]\n",
    "bribes_number = len(list(filter(lambda x: x > val, queue_part)))\n",
    "```\n",
    "Where `queue_part` is a part of que which starts from one person before the initial position of the person and ends one person before the person's currunt position.\n",
    "`bribes_number` is a number of people which sticker number greater than current person number."
   ]
  }
 ],
 "metadata": {
  "celltoolbar": "Tags",
  "kernelspec": {
   "display_name": "Python 3",
   "language": "python",
   "name": "python3"
  },
  "language_info": {
   "codemirror_mode": {
    "name": "ipython",
    "version": 3
   },
   "file_extension": ".py",
   "mimetype": "text/x-python",
   "name": "python",
   "nbconvert_exporter": "python",
   "pygments_lexer": "ipython3",
   "version": "3.8.8"
  }
 },
 "nbformat": 4,
 "nbformat_minor": 5
}
