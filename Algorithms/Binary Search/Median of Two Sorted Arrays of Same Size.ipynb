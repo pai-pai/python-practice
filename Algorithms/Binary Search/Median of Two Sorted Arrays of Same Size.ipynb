{
 "cells": [
  {
   "cell_type": "markdown",
   "id": "7da100d2",
   "metadata": {
    "tags": [
     "LeetCode",
     "Algorithms",
     "Binary_Search"
    ]
   },
   "source": [
    "Given two sorted arrays $nums1$ and $nums2$ of same size $n$ respectively, return the median of the two sorted arrays.\n",
    "\n",
    "The overall run time complexity should be $O(log(n))$.\n",
    "\n",
    "*Example*<br />\n",
    "\n",
    "$nums1 = [1, 2]$<br />\n",
    "$nums2 = [3, 4]$<br />\n",
    "Merged array is $[1, 2, 3, 4]$ and median is $2.5$\n",
    "\n",
    "*Code*"
   ]
  },
  {
   "cell_type": "code",
   "execution_count": 8,
   "id": "2526dda0",
   "metadata": {},
   "outputs": [],
   "source": [
    "def find_median_sorted_arrays(nums1, nums2):\n",
    "    if not nums1 and not nums2:\n",
    "        return 0\n",
    "\n",
    "    l1 = len(nums1)\n",
    "    l2 = len(nums2)\n",
    "\n",
    "    if l1 == 1 and l1 == l2:\n",
    "        return (nums1[0] + nums2[0]) / 2\n",
    "\n",
    "    if l1 == 2 and l2 == 2:\n",
    "        return (max(nums1[0], nums2[0]) + min(nums1[1], nums2[1])) / 2\n",
    "\n",
    "    get_mean = lambda arr: (arr[len(arr)//2] + arr[-(len(arr)//2 + 1)]) / 2\n",
    "\n",
    "    m1 = get_mean(nums1)\n",
    "    m2 = get_mean(nums2)\n",
    "\n",
    "    if m1 == m2:\n",
    "        return m1\n",
    "\n",
    "    if m1 > m2:\n",
    "        sub1 = nums1[:l1//2 + 1]\n",
    "        sub2 = nums2[l2//2 - (1 if l2 % 2 == 0 else 0):]\n",
    "    else:\n",
    "        sub1 = nums1[l1//2 - (1 if l1 % 2 == 0 else 0):]\n",
    "        sub2 = nums2[:l2//2 + 1]\n",
    "\n",
    "    return find_median_sorted_arrays(sub1, sub2)"
   ]
  },
  {
   "cell_type": "code",
   "execution_count": 10,
   "id": "b07db3d1",
   "metadata": {},
   "outputs": [
    {
     "name": "stdout",
     "output_type": "stream",
     "text": [
      "21.5\n"
     ]
    }
   ],
   "source": [
    "m = find_median_sorted_arrays([1, 12, 15, 26, 38, 40], [2, 13, 17, 30, 40, 45])\n",
    "print(m)"
   ]
  },
  {
   "cell_type": "markdown",
   "id": "2df8bf1e",
   "metadata": {},
   "source": [
    "*Explanation*\n",
    "\n",
    "The method works by first getting medians of the two sorted arrays and then comparing them.\n",
    "\n",
    "1. Calculate the medians $m1$ and $m2$ of the input arrays $nums1$ and $nums2$ respectively.\n",
    "2. If $m1$ and $m2$ both are equal then we are done. So, return $m1$ (or $m2$).\n",
    "3. If $m1$ is greater than $m2$, then median is present in one of the below two subarrays:<br />\n",
    "    a) from first element of $nums1$ to $m1$ ($nums1[0 \\dots n/2]$);<br />\n",
    "    b) from $m2$ to last element of $nums2$ ($nums2[n/2 \\dots n-1]$).<br />\n",
    "4. If $m2$ is greater than $m1$, then median is present in one of the below two subarrays:<br />\n",
    "    a) from $m1$ to last element of $nums1$ ($nums1[n/2 \\dots n-1]$);<br />\n",
    "    b) from first element of $nums2$ to $m2$ ($nums2[0 \\dots n/2]$).<br />\n",
    "5. Repeat the above process until size of both the subarrays becomes $2$.\n",
    "6. If size of the two arrays is $2$ then use below formula to get the median:<br />\n",
    "    $m = (max(nums1[0], nums2[0]) + min(nums1[1], nums2[1])) / 2$\n",
    "    \n",
    "*Example*\n",
    "\n",
    "$nums1 = {1, 12, 15, 26, 38, 40} \\\\\n",
    "nums2 = {2, 13, 17, 30, 40, 45}$\n",
    "\n",
    "For above two arrays $m1 = 20.5$ and $m2 = 23.5$. $m2$ is greater than $m1$. So, median is present in one of the following two subarrays:\n",
    "$nums1 = {15, 26, 38, 40} \\\\\n",
    "nums2 = {2, 13, 17, 30}$\n",
    "\n",
    "For above two subarrays $m1 = 32$ and $m2 = 15$. Now $m1$ is greater than $m2$. So:\n",
    "$nums1 = {15, 26, 38} \\\\\n",
    "nums2 = {13, 17, 30}$\n",
    "\n",
    "For updated subarrays $m1 = 26$ and $m2 = 17$. $m1$ is greater than $m2$:\n",
    "$nums1 = {15, 26} \\\\\n",
    "nums2 = {17, 30}$\n",
    "\n",
    "Now size is $2$, so $m = (max(15, 17) + min(26, 30)) / 2 = (17 + 26) / 2 = 21.5$.\n",
    "\n",
    "Get median in a regular way:<br />\n",
    "${1, 2, 12, 13, 15, \\textbf{17}, \\textbf{26}, 30, 38, 40, 40, 45}$<br />\n",
    "$m = (17 + 26) / 2 = 21.5$."
   ]
  }
 ],
 "metadata": {
  "celltoolbar": "Tags",
  "kernelspec": {
   "display_name": "Python 3",
   "language": "python",
   "name": "python3"
  },
  "language_info": {
   "codemirror_mode": {
    "name": "ipython",
    "version": 3
   },
   "file_extension": ".py",
   "mimetype": "text/x-python",
   "name": "python",
   "nbconvert_exporter": "python",
   "pygments_lexer": "ipython3",
   "version": "3.8.8"
  }
 },
 "nbformat": 4,
 "nbformat_minor": 5
}
