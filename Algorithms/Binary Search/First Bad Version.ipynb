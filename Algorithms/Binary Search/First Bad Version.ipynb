{
 "cells": [
  {
   "cell_type": "markdown",
   "id": "fc103efb",
   "metadata": {
    "tags": [
     "LeetCode",
     "Algorithms",
     "Binary_Search",
     "Easy"
    ]
   },
   "source": [
    "You are a product manager and currently leading a team to develop a new product. Unfortunately, the latest version of your product fails the quality check. Since each version is developed based on the previous version, all the versions after a bad version are also bad.\n",
    "\n",
    "Suppose you have $n$ versions ${1, 2,\\dots, n}$ and you want to find out the first bad one, which causes all the following ones to be bad.\n",
    "\n",
    "You are given an API bool `isBadVersion(version)` which returns whether version is bad. Implement a function to find the first bad version. You should minimize the number of calls to the API.\n",
    "\n",
    "*Example*\n",
    "\n",
    "$n = 5 \\\\\n",
    "bad = 4$\n",
    "\n",
    "call `isBadVersion(3)` -> false<br />\n",
    "call `isBadVersion(5)` -> true<br />\n",
    "call `isBadVersion(4)` -> true<br />\n",
    "\n",
    "Then $4$ is the first bad version.\n",
    "\n",
    "*Code*"
   ]
  },
  {
   "cell_type": "code",
   "execution_count": 6,
   "id": "8ef973a0",
   "metadata": {},
   "outputs": [],
   "source": [
    "def is_bad_version(val):\n",
    "    return val >= bad\n",
    "\n",
    "def first_bad_version(n):\n",
    "    left = 1\n",
    "    right = n\n",
    "    while left <= right:\n",
    "        mid = (left + right) // 2\n",
    "        if is_bad_version(mid):\n",
    "            right = mid - 1\n",
    "        else:\n",
    "            left = mid + 1\n",
    "    return left"
   ]
  },
  {
   "cell_type": "code",
   "execution_count": 7,
   "id": "6bf70be2",
   "metadata": {},
   "outputs": [
    {
     "name": "stdout",
     "output_type": "stream",
     "text": [
      "3\n"
     ]
    }
   ],
   "source": [
    "bad = 3\n",
    "print(first_bad_version(5))"
   ]
  }
 ],
 "metadata": {
  "celltoolbar": "Tags",
  "kernelspec": {
   "display_name": "Python 3",
   "language": "python",
   "name": "python3"
  },
  "language_info": {
   "codemirror_mode": {
    "name": "ipython",
    "version": 3
   },
   "file_extension": ".py",
   "mimetype": "text/x-python",
   "name": "python",
   "nbconvert_exporter": "python",
   "pygments_lexer": "ipython3",
   "version": "3.8.8"
  }
 },
 "nbformat": 4,
 "nbformat_minor": 5
}
