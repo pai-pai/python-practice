{
 "cells": [
  {
   "cell_type": "markdown",
   "id": "2c50631b",
   "metadata": {
    "tags": [
     "LeetCode",
     "Algorithms",
     "Binary_Search",
     "Easy"
    ]
   },
   "source": [
    "Given an array of integers $\\textit{nums}$ which is sorted in ascending order, and an integer $\\textit{target}$, write a function to search $\\textit{target}$ in $\\textit{nums}$. If $\\textit{target}$ exists, then return its index. Otherwise, return $-1$.\n",
    "\n",
    "You must write an algorithm with $O(log n)$ runtime complexity.\n",
    "\n",
    "*Example 1*\n",
    "\n",
    "$\\textit{nums} = [-1,0,3,5,9,12] \\\\\n",
    "\\textit{target} = 9$\n",
    "Returns $4$: $9$ exists in $\\textit{nums}$ and its index is $4$.\n",
    "\n",
    "*Example 2*\n",
    "\n",
    "$\\textit{nums} = [-1,0,3,5,9,12] \\\\\n",
    "\\textit{target} = 2$\n",
    "Returns $-1$: $2$ does not exist in $\\textit{nums}$ so return $-1$.\n",
    "\n",
    "*Code*"
   ]
  },
  {
   "cell_type": "code",
   "execution_count": 3,
   "id": "3839f38a",
   "metadata": {},
   "outputs": [],
   "source": [
    "def binary_search(nums, target):\n",
    "    low = 0\n",
    "    high = len(nums)-1\n",
    "    while low <= high:\n",
    "        mid = (low+high)//2\n",
    "        if nums[mid] == target:\n",
    "            return mid\n",
    "            \n",
    "        if target < nums[mid]:\n",
    "            high = mid-1\n",
    "            \n",
    "        if target > nums[mid]:\n",
    "            low = mid + 1\n",
    "                \n",
    "    return -1"
   ]
  },
  {
   "cell_type": "code",
   "execution_count": 4,
   "id": "1d3cf27e",
   "metadata": {},
   "outputs": [
    {
     "name": "stdout",
     "output_type": "stream",
     "text": [
      "4\n"
     ]
    }
   ],
   "source": [
    "print(binary_search([-1, 0, 3, 5, 9, 12], 9))"
   ]
  },
  {
   "cell_type": "code",
   "execution_count": 5,
   "id": "93a59422",
   "metadata": {},
   "outputs": [
    {
     "name": "stdout",
     "output_type": "stream",
     "text": [
      "-1\n"
     ]
    }
   ],
   "source": [
    "print(binary_search([-1, 0, 3, 5, 9, 12], 2))"
   ]
  }
 ],
 "metadata": {
  "celltoolbar": "Tags",
  "kernelspec": {
   "display_name": "Python 3",
   "language": "python",
   "name": "python3"
  },
  "language_info": {
   "codemirror_mode": {
    "name": "ipython",
    "version": 3
   },
   "file_extension": ".py",
   "mimetype": "text/x-python",
   "name": "python",
   "nbconvert_exporter": "python",
   "pygments_lexer": "ipython3",
   "version": "3.8.8"
  }
 },
 "nbformat": 4,
 "nbformat_minor": 5
}
