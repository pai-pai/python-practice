{
 "cells": [
  {
   "cell_type": "markdown",
   "id": "5d33ea5b",
   "metadata": {
    "tags": [
     "LeetCode",
     "Hard"
    ]
   },
   "source": [
    "Given two sorted arrays $nums1$ and $nums2$ of same size $n$ respectively, return the median of the two sorted arrays.\n",
    "\n",
    "The overall run time complexity should be $O(log(n))$.\n",
    "\n",
    "*Example 1*\n",
    "\n",
    "$nums1 = [1, 3, 8, 9, 15]$<br />\n",
    "$nums2 = [7, 11, 18, 19, 21, 25]$<br />\n",
    "Merged array is $[1, 3, 7, 8, 9, 11, 15, 18, 19, 21, 25]$ and median is $11$\n",
    "\n",
    "*Example 2*\n",
    "\n",
    "$nums1 = [3, 5, 7, 9, 11, 16]$<br />\n",
    "$nums2 = [23, 26, 31, 35]$<br />\n",
    "Merged array is $[3, 5, 7, 9, 11, 16, 23, 26, 31, 35]$ and median is $13.5$\n",
    "\n",
    "*Code*"
   ]
  },
  {
   "cell_type": "code",
   "execution_count": 4,
   "id": "01c74c2e",
   "metadata": {},
   "outputs": [],
   "source": [
    "def find_median_sorted_arrays(nums1, nums2):     \n",
    "    l1 = len(nums1)\n",
    "    l2 = len(nums2)\n",
    "        \n",
    "    if l1 > l2:\n",
    "        # the first array have to be less than the second, so let's switch them\n",
    "        return find_median_sorted_arrays(nums2, nums1)\n",
    "        \n",
    "    start = 0\n",
    "    stop = l1\n",
    "    while start <= stop:\n",
    "        part1 = (start + stop) // 2\n",
    "        part2 = (l1 + l2 + 1) // 2 - part1\n",
    "            \n",
    "        # part1 == 0 means that there is no elements in the left part of separated nums1,\n",
    "        # so let's assign the smallest value as possible to maximum left part value\n",
    "        max_left_1 = float('-inf') if part1 == 0 else nums1[part1 - 1]\n",
    "        # part1 == l1 means that the left part contains the whole nums1,\n",
    "        # and there is nothing in the right part,\n",
    "        # so assign the biggest value as possible to its mininum value\n",
    "        min_right_1 = float('inf') if part1 == l1 else nums1[part1]\n",
    "        \n",
    "        # the same for part2\n",
    "        max_left_2 = float('-inf') if part2 == 0 else nums2[part2 - 1]\n",
    "        min_right_2 = float('inf') if part2 == l2 else nums2[part2]\n",
    "        \n",
    "        if max_left_1 <= min_right_2 and max_left_2 <= min_right_1:\n",
    "            # this case means that left part of separated nums1 and left part of nums2\n",
    "            # contains smaller values than both of the right parts\n",
    "            if (l1 + l2) % 2 == 0:\n",
    "                m = (max(max_left_1, max_left_2) + min(min_right_1, min_right_2)) / 2\n",
    "            else:\n",
    "                m = max(max_left_1, max_left_2)\n",
    "            return m\n",
    "        else:\n",
    "            if max_left_1 > min_right_2:\n",
    "                # this case means that max element from the left part of nums1\n",
    "                # to big to be in left part, so reduse left part \n",
    "                stop = part1 - 1\n",
    "            else:\n",
    "                # this case means that max element from the right part of nums1\n",
    "                # to small to be in right part, so increase left part\n",
    "                start = part1 + 1"
   ]
  },
  {
   "cell_type": "code",
   "execution_count": 5,
   "id": "8430ed6a",
   "metadata": {},
   "outputs": [
    {
     "name": "stdout",
     "output_type": "stream",
     "text": [
      "11\n"
     ]
    }
   ],
   "source": [
    "m = find_median_sorted_arrays([1, 3, 8, 9, 15], [7, 11, 18, 19, 21, 25])\n",
    "print(m)"
   ]
  },
  {
   "cell_type": "code",
   "execution_count": 6,
   "id": "ef39a98f",
   "metadata": {},
   "outputs": [
    {
     "name": "stdout",
     "output_type": "stream",
     "text": [
      "13.5\n"
     ]
    }
   ],
   "source": [
    "m = find_median_sorted_arrays([3, 5, 7, 9, 11, 16], [23, 26, 31, 35])\n",
    "print(m)"
   ]
  },
  {
   "cell_type": "markdown",
   "id": "46eaab59",
   "metadata": {},
   "source": [
    "*Explanation*\n",
    "\n",
    "There are two sorted arrays of different size $X$ and $Y$.\n",
    "\n",
    "If we find out how to separate them to the left and right parts in a way when all elements from both of left parts are less than every element from both of right parts, in this case mean is an $avarage$ of $max(leftX, leftY)$ and $min(rightX, rightY)$ (or just $max(leftX, leftY)$ for odd $X + Y$ length).\n",
    "\n",
    "We can use binary search to find that parts:\n",
    "1. Split a smaller array (for example $X$) to two parts: from $0$ to $X / 2 - 1$ elements (left part) and $X / 2$ to $X$ (right part).\n",
    "2. Split the second array ($Y$) to left (from $0$ to $\\frac{X + Y + 1}{2} - (left part of $X$ length)$) and parts.\n",
    "3. Compare max value of left $X$ and min of right $Y$ parts and max value of left $Y$ and min of right $X$ parts.\n",
    "4. If max value of left $X \\leq$ min of right $Y$ and max value of left $Y \\leq$ min of right $X$ this means that parts are separated in a right way and we can find a mean.\n",
    "5. If max of left $X$ greater than min of right $Y$ this means that the left part of $X$ still has got value(s) that should be moved to the right part (left part should be redused).\n",
    "6. If max of left $Y$ greater than min of right $X$ this means that the right part of $X$ contains value(s) that should be moved to the left part (left part should be increased).\n",
    "\n",
    "*Example*\n",
    "\n",
    "$X = {1, 3, 8, 9, 15} \\\\\n",
    "Y = {7, 11, 18, 19, 21, 25}$\n",
    "\n",
    "$leftX = X[:X/2] = X[:2] = \\{1, 3\\} \\\\\n",
    "rigthX = X[2:] = \\{8, 9, 15\\}$\n",
    "\n",
    "$leftY = Y[:(X + Y + 1)/2 - leftX] = Y[:6 - 2] = Y[:4] = \\{7, 11, 18, 19\\} \\\\\n",
    "rightY = Y[4:] = \\{21, 25\\}$\n",
    "\n",
    "$\\begin{array}{c|c}\n",
    "  \\{1, \\textbf{3}\\} & \\{\\textbf{8}, 9, 15\\} \\\\ \n",
    "  \\hline\n",
    "  \\{7, 11, 18, \\textbf{19}\\} & \\{\\textbf{21}, 25\\}\n",
    " \\end{array}$\n",
    "\n",
    "Here $maxLeftX = 3$, $maxLeftY = 19$, $minRightX = 8$, $minRightY = 21$. $maxLeftX < minRightY$ but $maxLeftY > minRightX$. And we have to increase left part of $X$ and also increase right part of $Y$:\n",
    "\n",
    "$leftX = X[:X/2 + 1] = X[:3] = \\{1, 3, 8\\} \\\\\n",
    "rigthX = X[3:] = \\{9, 15\\}$\n",
    "\n",
    "$leftY = Y[:(X + Y + 1)/2 - leftX] = Y[:6 - 3] = Y[:3] = \\{7, 11, 18\\} \\\\\n",
    "rightY = Y[3:] = \\{19, 21, 25\\}$\n",
    "\n",
    "$\\begin{array}{c|c}\n",
    "  \\{1, 3, \\textbf{8}\\} & \\{\\textbf{9}, 15\\} \\\\ \n",
    "  \\hline\n",
    "  \\{7, 11, \\textbf{18}\\} & \\{\\textbf{19}, 21, 25\\}\n",
    " \\end{array}$\n",
    " \n",
    "Now $maxLeftX = 8$, $maxLeftY = 18$, $minRightX = 9$, $minRightY = 19$. $maxLeftX < minRightY$ but $maxLeftY > minRightX$. And we have to again increase left part of $X$ and increase right part of $Y$:\n",
    "\n",
    "$leftX = X[:X/2 + 2] = X[:4] = \\{1, 3, 8, 9\\} \\\\\n",
    "rigthX = X[4:] = \\{15\\}$\n",
    "\n",
    "$leftY = Y[:(X + Y + 1)/2 - leftX] = Y[:6 - 4] = Y[:2] = \\{7, 11\\} \\\\\n",
    "rightY = Y[2:] = \\{18, 19, 21, 25\\}$\n",
    "\n",
    "$\\begin{array}{c|c}\n",
    "  \\{1, 3, 8, \\textbf{9}\\} & \\{\\textbf{15}\\} \\\\ \n",
    "  \\hline\n",
    "  \\{7, \\textbf{11}\\} & \\{\\textbf{18}, 19, 21, 25\\}\n",
    " \\end{array}$\n",
    " \n",
    "$maxLeftX = 9$, $maxLeftY = 11$, $minRightX = 15$, $minRightY = 18$.\n",
    "$maxLeftX < minRightY$ and $maxLeftY < minRightX$.\n",
    "\n",
    "So, we can find the mean using the formula for odd length of $X + Y$ array:<br />\n",
    "$max(leftX, leftY) = max(9, 11) = 11$"
   ]
  }
 ],
 "metadata": {
  "celltoolbar": "Tags",
  "kernelspec": {
   "display_name": "Python 3",
   "language": "python",
   "name": "python3"
  },
  "language_info": {
   "codemirror_mode": {
    "name": "ipython",
    "version": 3
   },
   "file_extension": ".py",
   "mimetype": "text/x-python",
   "name": "python",
   "nbconvert_exporter": "python",
   "pygments_lexer": "ipython3",
   "version": "3.8.8"
  }
 },
 "nbformat": 4,
 "nbformat_minor": 5
}
