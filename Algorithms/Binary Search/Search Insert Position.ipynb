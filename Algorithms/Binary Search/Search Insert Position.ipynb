{
 "cells": [
  {
   "cell_type": "markdown",
   "id": "41ddbbe0",
   "metadata": {
    "tags": [
     "LeetCode",
     "Algorithms",
     "Binary_Search",
     "Easy"
    ]
   },
   "source": [
    "Given a sorted array of distinct integers and a target value, return the index if the target is found. If not, return the index where it would be if it were inserted in order.\n",
    "\n",
    "You must write an algorithm with $O(log n)$ runtime complexity.\n",
    "\n",
    "*Example 1*\n",
    "\n",
    "$\\textit{nums} = [1,3,5,6] \\\\\n",
    "\\textit{target} = 5 $\n",
    "Returns 2\n",
    "\n",
    "*Example 2*\n",
    "\n",
    "$\\textit{nums} = [1,3,5,6] \\\\\n",
    "\\textit{target} = 2 $\n",
    "Returns 1\n",
    "\n",
    "*Code*"
   ]
  },
  {
   "cell_type": "code",
   "execution_count": 7,
   "id": "e9b61b9a",
   "metadata": {},
   "outputs": [],
   "source": [
    "def search_insert(nums, target):\n",
    "    left = 0\n",
    "    right = len(nums) - 1\n",
    "    while left <= right:\n",
    "        mid = (left + right) // 2\n",
    "        if nums[mid] == target:\n",
    "            return mid\n",
    "        if nums[mid] > target:\n",
    "            right = mid - 1\n",
    "        else:\n",
    "            left = mid + 1\n",
    "    return left"
   ]
  },
  {
   "cell_type": "code",
   "execution_count": 8,
   "id": "cdb67764",
   "metadata": {},
   "outputs": [
    {
     "name": "stdout",
     "output_type": "stream",
     "text": [
      "2\n"
     ]
    }
   ],
   "source": [
    "print(search_insert([1, 3, 5, 6], 5))"
   ]
  },
  {
   "cell_type": "code",
   "execution_count": 11,
   "id": "e0eb5066",
   "metadata": {},
   "outputs": [
    {
     "name": "stdout",
     "output_type": "stream",
     "text": [
      "1\n"
     ]
    }
   ],
   "source": [
    "print(search_insert([1, 3, 5, 6], 2))"
   ]
  }
 ],
 "metadata": {
  "celltoolbar": "Tags",
  "kernelspec": {
   "display_name": "Python 3",
   "language": "python",
   "name": "python3"
  },
  "language_info": {
   "codemirror_mode": {
    "name": "ipython",
    "version": 3
   },
   "file_extension": ".py",
   "mimetype": "text/x-python",
   "name": "python",
   "nbconvert_exporter": "python",
   "pygments_lexer": "ipython3",
   "version": "3.8.8"
  }
 },
 "nbformat": 4,
 "nbformat_minor": 5
}
