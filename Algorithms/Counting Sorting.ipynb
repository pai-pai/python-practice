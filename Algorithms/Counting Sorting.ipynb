{
 "cells": [
  {
   "cell_type": "markdown",
   "id": "13f6f966",
   "metadata": {},
   "source": [
    "### Counting Sorting Algorithm ([video](https://youtu.be/OKd534EWcdk))\n",
    "\n",
    "- Stable (the same items appears in the same order as in the original array)\n",
    "- Time: O(n + k) (n -- is a number of items in array, k -- range of different numbers in it)\n",
    "- Auxiliary Space: O(n + k) (need to create additional output array the same size as original array and k-length array)"
   ]
  },
  {
   "cell_type": "markdown",
   "id": "cdff6cf8",
   "metadata": {},
   "source": [
    "**Given array**: 1 0 3 1 3 1"
   ]
  },
  {
   "cell_type": "code",
   "execution_count": 73,
   "id": "58c19ea5",
   "metadata": {},
   "outputs": [],
   "source": [
    "arr = [1, 0, 3, 1, 3, 1]"
   ]
  },
  {
   "cell_type": "markdown",
   "id": "bfcaa8fa",
   "metadata": {},
   "source": [
    "**Step 0**: initiate two arrays: `count` which lenght should be equal max number in the initial array + 1 and `output` array which length should be the same as lenght of the given array."
   ]
  },
  {
   "cell_type": "code",
   "execution_count": 74,
   "id": "0b97ff7a",
   "metadata": {},
   "outputs": [
    {
     "name": "stdout",
     "output_type": "stream",
     "text": [
      "[0, 0, 0, 0]\n",
      "[0, 0, 0, 0, 0, 0]\n"
     ]
    }
   ],
   "source": [
    "count = [0] * (max(arr) + 1)\n",
    "print(count)\n",
    "output = [0] * len(arr)\n",
    "print(output)"
   ]
  },
  {
   "cell_type": "markdown",
   "id": "3b796a16",
   "metadata": {},
   "source": [
    "**Step 1**: place count of each number to appropriate cell of `count` array (length of `count` array is max number in the initial array + 1)."
   ]
  },
  {
   "cell_type": "code",
   "execution_count": 75,
   "id": "afc609a3",
   "metadata": {},
   "outputs": [
    {
     "name": "stdout",
     "output_type": "stream",
     "text": [
      "[1, 3, 0, 2]\n"
     ]
    }
   ],
   "source": [
    "for item in arr:\n",
    "    count[item] += 1\n",
    "print(count)"
   ]
  },
  {
   "cell_type": "markdown",
   "id": "4b06a044",
   "metadata": {},
   "source": [
    "This means that number 0 appears 1 time, 1 -- 3 times, 2 -- 0, 3 -- 2:\n",
    "<br>\n",
    "&#160;0&#160;&#160;1&#160;&#160;2&#160;&#160;3\n",
    "<br>\n",
    "[1, 3, 0, 2]"
   ]
  },
  {
   "cell_type": "markdown",
   "id": "4e64a159",
   "metadata": {},
   "source": [
    "**Step 2**: add `i-1` value into `i` value:"
   ]
  },
  {
   "cell_type": "code",
   "execution_count": 76,
   "id": "b9799039",
   "metadata": {},
   "outputs": [
    {
     "name": "stdout",
     "output_type": "stream",
     "text": [
      "[1, 4, 4, 6]\n"
     ]
    }
   ],
   "source": [
    "for i in range(1, len(count)):\n",
    "    count[i] += count[i - 1]\n",
    "print(count)"
   ]
  },
  {
   "cell_type": "markdown",
   "id": "317afc56",
   "metadata": {},
   "source": [
    "This needs to get position of each number in the sorted result array. BUT it have to be shifted(&ast;) to right by 1 position and starts with 0:\n",
    "<br>\n",
    "&#160;0&#160;&#160;1&#160;&#160;2&#160;&#160;3\n",
    "<br>\n",
    "[0, 1, 4, 4]\n",
    "<br><br>(&ast;) It does not need to shift it in code."
   ]
  },
  {
   "cell_type": "markdown",
   "id": "d401d27c",
   "metadata": {},
   "source": [
    "**Step 3**: fill up `output` array."
   ]
  },
  {
   "cell_type": "code",
   "execution_count": 61,
   "id": "981020ac",
   "metadata": {},
   "outputs": [
    {
     "name": "stdout",
     "output_type": "stream",
     "text": [
      "Count array:  [0, 1, 4, 4]\n",
      "Result:  [0, 1, 1, 1, 3, 3]\n"
     ]
    }
   ],
   "source": [
    "for item in arr[::-1]:\n",
    "    output[count[item] - 1] = item  # Fill up `output` array from the end.\n",
    "    count[item] -= 1                # Do not forget to decrease position for this number in the \n",
    "                                    # `count` array. It is needed to place the same number to the right place. \n",
    "print('Count array: ', count)\n",
    "print('Result: ', output)"
   ]
  },
  {
   "cell_type": "markdown",
   "id": "9b0697f3",
   "metadata": {},
   "source": [
    "**Explanation**:\n",
    "<br> element from initial array&#160;&#160;&#160;|&#160;&#160;&#160;`count[item]` value&#160;&#160;&#160;|&#160;&#160;&#160;index in `output` array&#160;&#160;&#160;|&#160;&#160;&#160;`count` array state after iteration\n",
    "<br>1&#160;&#160;&#160;|&#160;&#160;&#160;`count[1]` is 4&#160;&#160;&#160;|&#160;&#160;&#160;3&#160;&#160;&#160;|&#160;&#160;&#160;[1, 3, 4, 6]\n",
    "<br>3&#160;&#160;&#160;|&#160;&#160;&#160;`count[3]` is 6&#160;&#160;&#160;|&#160;&#160;&#160;5&#160;&#160;&#160;|&#160;&#160;&#160;[1, 3, 4, 5]\n",
    "<br>1&#160;&#160;&#160;|&#160;&#160;&#160;`count[1]` is 3&#160;&#160;&#160;|&#160;&#160;&#160;2&#160;&#160;&#160;|&#160;&#160;&#160;[1, 2, 4, 5]\n",
    "<br>3&#160;&#160;&#160;|&#160;&#160;&#160;`count[3]` is 5&#160;&#160;&#160;|&#160;&#160;&#160;4&#160;&#160;&#160;|&#160;&#160;&#160;[1, 2, 4, 4]\n",
    "<br>0&#160;&#160;&#160;|&#160;&#160;&#160;`count[0]` is 1&#160;&#160;&#160;|&#160;&#160;&#160;0&#160;&#160;&#160;|&#160;&#160;&#160;[0, 2, 4, 4]\n",
    "<br>1&#160;&#160;&#160;|&#160;&#160;&#160;`count[1]` is 2&#160;&#160;&#160;|&#160;&#160;&#160;1&#160;&#160;&#160;|&#160;&#160;&#160;[0, 1, 4, 4]"
   ]
  },
  {
   "cell_type": "markdown",
   "id": "87ff9383",
   "metadata": {},
   "source": [
    "____________\n",
    "**OR** step 3 could be implemented another (more understandable from my point of view) way:"
   ]
  },
  {
   "cell_type": "code",
   "execution_count": 77,
   "id": "5cbe48b8",
   "metadata": {},
   "outputs": [
    {
     "name": "stdout",
     "output_type": "stream",
     "text": [
      "Count array:  [4, 4, 6, 1]\n",
      "Result:  [0, 1, 1, 1, 3, 3]\n"
     ]
    }
   ],
   "source": [
    "count[-1] = 0  # count[-1] is a '0' number case.\n",
    "for item in arr:\n",
    "    output[count[item - 1]] = item\n",
    "    count[item - 1] +=1\n",
    "    \n",
    "print('Count array: ', count)\n",
    "print('Result: ', output)"
   ]
  },
  {
   "cell_type": "code",
   "execution_count": null,
   "id": "19fa101a",
   "metadata": {},
   "outputs": [],
   "source": []
  }
 ],
 "metadata": {
  "kernelspec": {
   "display_name": "Python 3",
   "language": "python",
   "name": "python3"
  },
  "language_info": {
   "codemirror_mode": {
    "name": "ipython",
    "version": 3
   },
   "file_extension": ".py",
   "mimetype": "text/x-python",
   "name": "python",
   "nbconvert_exporter": "python",
   "pygments_lexer": "ipython3",
   "version": "3.8.8"
  }
 },
 "nbformat": 4,
 "nbformat_minor": 5
}
