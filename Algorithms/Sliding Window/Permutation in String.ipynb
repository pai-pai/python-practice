{
 "cells": [
  {
   "cell_type": "markdown",
   "id": "69ece681",
   "metadata": {
    "tags": [
     "LeetCode",
     "Algorithms",
     "Sliding_Window",
     "Medium"
    ]
   },
   "source": [
    "Given two strings $s1$ and $s2$, return `true` if $s2$ contains a permutation of $s1$, or `false` otherwise.\n",
    "\n",
    "In other words, return `true` if one of $s1$'s permutations is the substring of $s2$.\n",
    "\n",
    "\n",
    "*Example 1*\n",
    "\n",
    "$s1$ = \"ab\", $s2$ = \"eidbaooo\"<br />\n",
    "Returns `true`. $s2$ contains one permutation of $s1$ (\"eid**ba**ooo\").\n",
    "\n",
    "*Example 2*\n",
    "\n",
    "$s1$ = \"ab\", $s2$ = \"eidboaoo\"<br />\n",
    "Returns `false`\n",
    "\n",
    "\n",
    "*Code*"
   ]
  },
  {
   "cell_type": "code",
   "execution_count": 39,
   "id": "5185871d",
   "metadata": {},
   "outputs": [],
   "source": [
    "def check_inclusion(s1, s2):\n",
    "    if len(s2) < len(s1):\n",
    "        return False\n",
    "    left, right = 0, len(s1)\n",
    "    d1, d2 = {}, {}\n",
    "    for i in range(right):\n",
    "        d1[s1[i]] = d1.get(s1[i], 0) + 1\n",
    "        d2[s2[i]] = d2.get(s2[i], 0) + 1\n",
    "    for right in range(right,len(s2)):\n",
    "        if d1 == d2:\n",
    "            return True\n",
    "        d2[s2[left]] -= 1\n",
    "        if d2[s2[left]] == 0:\n",
    "            d2.pop(s2[left])\n",
    "        d2[s2[right]] = d2.get(s2[right], 0) + 1\n",
    "        left += 1\n",
    "    return d1 == d2"
   ]
  },
  {
   "cell_type": "code",
   "execution_count": 40,
   "id": "4486e034",
   "metadata": {},
   "outputs": [
    {
     "name": "stdout",
     "output_type": "stream",
     "text": [
      "True\n"
     ]
    }
   ],
   "source": [
    "print(check_inclusion(\"ab\", \"eidbaooo\"))"
   ]
  },
  {
   "cell_type": "code",
   "execution_count": 43,
   "id": "e5fa4d42",
   "metadata": {},
   "outputs": [
    {
     "name": "stdout",
     "output_type": "stream",
     "text": [
      "False\n"
     ]
    }
   ],
   "source": [
    "print(check_inclusion(\"ab\", \"eidboaoo\"))"
   ]
  },
  {
   "cell_type": "code",
   "execution_count": 41,
   "id": "e9d148ac",
   "metadata": {},
   "outputs": [
    {
     "name": "stdout",
     "output_type": "stream",
     "text": [
      "True\n"
     ]
    }
   ],
   "source": [
    "print(check_inclusion(\"adc\", \"dcda\"))"
   ]
  },
  {
   "cell_type": "code",
   "execution_count": 42,
   "id": "15538efb",
   "metadata": {},
   "outputs": [
    {
     "name": "stdout",
     "output_type": "stream",
     "text": [
      "False\n"
     ]
    }
   ],
   "source": [
    "print(check_inclusion(\"horse\", \"roc\"))"
   ]
  }
 ],
 "metadata": {
  "celltoolbar": "Tags",
  "kernelspec": {
   "display_name": "Python 3",
   "language": "python",
   "name": "python3"
  },
  "language_info": {
   "codemirror_mode": {
    "name": "ipython",
    "version": 3
   },
   "file_extension": ".py",
   "mimetype": "text/x-python",
   "name": "python",
   "nbconvert_exporter": "python",
   "pygments_lexer": "ipython3",
   "version": "3.8.8"
  }
 },
 "nbformat": 4,
 "nbformat_minor": 5
}
