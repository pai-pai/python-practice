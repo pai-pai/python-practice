{
 "cells": [
  {
   "cell_type": "markdown",
   "id": "d85c3119",
   "metadata": {
    "tags": [
     "LeetCode",
     "Algorithms",
     "Easy",
     "Sliding_Window"
    ]
   },
   "source": [
    "Implement `strStr()`.\n",
    "\n",
    "Return the index of the first occurrence of needle in haystack, or $-1$ if $needle$ is not part of $haystack$.\n",
    "\n",
    "**Clarification:**\n",
    "\n",
    "What should we return when $needle$ is an empty string? This is a great question to ask during an interview.\n",
    "\n",
    "For the purpose of this problem, we will return $0$ when $needle$ is an empty string. This is consistent to C's `strstr()` and Java's `indexOf()`.\n",
    "\n",
    "\n",
    "*Example 1*\n",
    "\n",
    "$haystack$ = \"hello\", $needle$ = \"ll\"<br />\n",
    "Returns $2$\n",
    "\n",
    "*Example 2*\n",
    "\n",
    "$haystack$ = \"aaaaa\", $needle$ = \"bba\"<br />\n",
    "Returns $-1$\n",
    "\n",
    "*Example 3*\n",
    "\n",
    "$haystack$ = \"\", $needle$ = \"\"<br />\n",
    "Returns $0$\n",
    "\n",
    "\n",
    "*Code*"
   ]
  },
  {
   "cell_type": "code",
   "execution_count": 45,
   "id": "f6a375b4",
   "metadata": {},
   "outputs": [],
   "source": [
    "def str_str(haystack, needle):\n",
    "    if not needle:\n",
    "        return 0    \n",
    "    for left in range(len(haystack)):\n",
    "        right = left + len(needle)\n",
    "        if haystack[left:right] == needle:\n",
    "            return left\n",
    "    return -1"
   ]
  },
  {
   "cell_type": "code",
   "execution_count": 46,
   "id": "9e80cecd",
   "metadata": {},
   "outputs": [
    {
     "name": "stdout",
     "output_type": "stream",
     "text": [
      "2\n"
     ]
    }
   ],
   "source": [
    "print(str_str(\"hello\", \"ll\"))"
   ]
  },
  {
   "cell_type": "code",
   "execution_count": 49,
   "id": "a7d9e629",
   "metadata": {},
   "outputs": [
    {
     "name": "stdout",
     "output_type": "stream",
     "text": [
      "-1\n"
     ]
    }
   ],
   "source": [
    "print(str_str(\"aaaaa\", \"bba\"))\n",
    "\n"
   ]
  },
  {
   "cell_type": "code",
   "execution_count": 50,
   "id": "82f737e5",
   "metadata": {},
   "outputs": [
    {
     "name": "stdout",
     "output_type": "stream",
     "text": [
      "0\n"
     ]
    }
   ],
   "source": [
    "print(str_str(\"\", \"\"))"
   ]
  }
 ],
 "metadata": {
  "celltoolbar": "Tags",
  "kernelspec": {
   "display_name": "Python 3",
   "language": "python",
   "name": "python3"
  },
  "language_info": {
   "codemirror_mode": {
    "name": "ipython",
    "version": 3
   },
   "file_extension": ".py",
   "mimetype": "text/x-python",
   "name": "python",
   "nbconvert_exporter": "python",
   "pygments_lexer": "ipython3",
   "version": "3.8.8"
  }
 },
 "nbformat": 4,
 "nbformat_minor": 5
}
