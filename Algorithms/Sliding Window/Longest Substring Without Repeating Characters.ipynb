{
 "cells": [
  {
   "cell_type": "markdown",
   "id": "8c9aa635",
   "metadata": {
    "tags": [
     "LeetCode",
     "Algorithms",
     "Sliding_Window",
     "Medium"
    ]
   },
   "source": [
    "Given a string $s$, find the length of the **longest substring** without repeating characters.\n",
    "\n",
    "*Example 1*\n",
    "\n",
    "$s$ = \"abcabcbb\"<br />\n",
    "Returns $3$. The answer is \"abc\", with the length of $3$.\n",
    "\n",
    "*Example 2*\n",
    "\n",
    "$s$ = \"bbbbb\"<br />\n",
    "Returns $1$. The answer is \"b\", with the length of $1$.\n",
    "\n",
    "*Example 3*\n",
    "\n",
    "$s$ = \"pwwkew\"<br />\n",
    "Returns $3$. The answer is \"wke\", with the length of $3$.\n",
    "\n",
    "*Code*"
   ]
  },
  {
   "cell_type": "code",
   "execution_count": 123,
   "id": "d7bdca01",
   "metadata": {},
   "outputs": [],
   "source": [
    "def length_of_longest_substring(s):\n",
    "    n = len(s)\n",
    "    if n < 2:\n",
    "        return n\n",
    "    max_len = 0\n",
    "    left = 0\n",
    "    digits = {}\n",
    "    for right, digit in enumerate(s):\n",
    "        if digit in digits and left <= digits[digit]:\n",
    "            left = digits[digit] + 1\n",
    "        else:\n",
    "            max_len = max(max_len, right - left + 1)\n",
    "        digits[digit] = right\n",
    "    return max_len"
   ]
  },
  {
   "cell_type": "code",
   "execution_count": 124,
   "id": "d3c72e63",
   "metadata": {},
   "outputs": [
    {
     "name": "stdout",
     "output_type": "stream",
     "text": [
      "3\n"
     ]
    }
   ],
   "source": [
    "print(length_of_longest_substring(\"abcabcbb\"))"
   ]
  },
  {
   "cell_type": "code",
   "execution_count": 125,
   "id": "7f87cc90",
   "metadata": {},
   "outputs": [
    {
     "name": "stdout",
     "output_type": "stream",
     "text": [
      "3\n"
     ]
    }
   ],
   "source": [
    "print(length_of_longest_substring(\"pwwkew\"))"
   ]
  },
  {
   "cell_type": "code",
   "execution_count": 126,
   "id": "6555442e",
   "metadata": {},
   "outputs": [
    {
     "name": "stdout",
     "output_type": "stream",
     "text": [
      "1\n"
     ]
    }
   ],
   "source": [
    "print(length_of_longest_substring(\"bbbbbb\"))"
   ]
  },
  {
   "cell_type": "code",
   "execution_count": 127,
   "id": "4416bf4c",
   "metadata": {},
   "outputs": [
    {
     "name": "stdout",
     "output_type": "stream",
     "text": [
      "1\n"
     ]
    }
   ],
   "source": [
    "print(length_of_longest_substring(\"aa\"))"
   ]
  },
  {
   "cell_type": "code",
   "execution_count": 128,
   "id": "12f55a87",
   "metadata": {},
   "outputs": [
    {
     "name": "stdout",
     "output_type": "stream",
     "text": [
      "2\n"
     ]
    }
   ],
   "source": [
    "print(length_of_longest_substring(\"aab\"))"
   ]
  },
  {
   "cell_type": "code",
   "execution_count": 129,
   "id": "3ab8a459",
   "metadata": {},
   "outputs": [
    {
     "name": "stdout",
     "output_type": "stream",
     "text": [
      "3\n"
     ]
    }
   ],
   "source": [
    "print(length_of_longest_substring(\"dvdf\"))"
   ]
  }
 ],
 "metadata": {
  "celltoolbar": "Tags",
  "kernelspec": {
   "display_name": "Python 3",
   "language": "python",
   "name": "python3"
  },
  "language_info": {
   "codemirror_mode": {
    "name": "ipython",
    "version": 3
   },
   "file_extension": ".py",
   "mimetype": "text/x-python",
   "name": "python",
   "nbconvert_exporter": "python",
   "pygments_lexer": "ipython3",
   "version": "3.8.8"
  }
 },
 "nbformat": 4,
 "nbformat_minor": 5
}
