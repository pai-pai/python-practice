{
 "cells": [
  {
   "cell_type": "markdown",
   "id": "9dd8ff9e",
   "metadata": {
    "tags": [
     "LeetCode",
     "Algorithms",
     "Sliding_Window",
     "Medium"
    ]
   },
   "source": [
    "Given two strings $s$ and $p$, return an array of all the start indices of $p$'s anagrams in $s$. You may return the answer in **any order**.\n",
    "\n",
    "An **Anagram** is a word or phrase formed by rearranging the letters of a different word or phrase, typically using all the original letters exactly once.\n",
    "\n",
    "\n",
    "*Example 1*\n",
    "\n",
    "$s$ = \"cbaebabacd\", $p$ = \"abc\"<br />\n",
    "Returns [0,6]\n",
    "Explanation:\n",
    "The substring with start index = $0$ is \"cba\", which is an anagram of \"abc\".\n",
    "The substring with start index = $6$ is \"bac\", which is an anagram of \"abc\".\n",
    "\n",
    "*Example 2*\n",
    "\n",
    "$s$ = \"abab\", $p$ = \"ab\"<br />\n",
    "Returns [0,1,2]\n",
    "Explanation:\n",
    "The substring with start index = 0 is \"ab\", which is an anagram of \"ab\".\n",
    "The substring with start index = 1 is \"ba\", which is an anagram of \"ab\".\n",
    "The substring with start index = 2 is \"ab\", which is an anagram of \"ab\".\n",
    "\n",
    "\n",
    "*Code*"
   ]
  },
  {
   "cell_type": "code",
   "execution_count": 1,
   "id": "0b1cc118",
   "metadata": {},
   "outputs": [],
   "source": [
    "def find_anagrams(s, p):\n",
    "    result = []\n",
    "    if len(s) < len(p):\n",
    "        return result\n",
    "    left, right = 0, len(p)\n",
    "    ds, dp = {}, {}\n",
    "    for i in range(right):\n",
    "        ds[s[i]] = ds.get(s[i], 0) + 1\n",
    "        dp[p[i]] = dp.get(p[i], 0) + 1\n",
    "    if dp == ds:\n",
    "        result.append(left)\n",
    "    for right in range(right,len(s)):\n",
    "        ds[s[left]] -= 1\n",
    "        if ds[s[left]] == 0:\n",
    "            ds.pop(s[left])\n",
    "        ds[s[right]] = ds.get(s[right], 0) + 1\n",
    "        left += 1\n",
    "        if dp == ds:\n",
    "            result.append(left)\n",
    "    return result"
   ]
  },
  {
   "cell_type": "code",
   "execution_count": 2,
   "id": "2e2b7fd9",
   "metadata": {},
   "outputs": [
    {
     "name": "stdout",
     "output_type": "stream",
     "text": [
      "[0, 6]\n"
     ]
    }
   ],
   "source": [
    "print(find_anagrams(\"cbaebabacd\", \"abc\"))"
   ]
  },
  {
   "cell_type": "code",
   "execution_count": 3,
   "id": "9d58a7bf",
   "metadata": {},
   "outputs": [
    {
     "name": "stdout",
     "output_type": "stream",
     "text": [
      "[0, 1, 2]\n"
     ]
    }
   ],
   "source": [
    "print(find_anagrams(\"abab\", \"ab\"))"
   ]
  }
 ],
 "metadata": {
  "celltoolbar": "Tags",
  "kernelspec": {
   "display_name": "Python 3",
   "language": "python",
   "name": "python3"
  },
  "language_info": {
   "codemirror_mode": {
    "name": "ipython",
    "version": 3
   },
   "file_extension": ".py",
   "mimetype": "text/x-python",
   "name": "python",
   "nbconvert_exporter": "python",
   "pygments_lexer": "ipython3",
   "version": "3.8.8"
  }
 },
 "nbformat": 4,
 "nbformat_minor": 5
}
