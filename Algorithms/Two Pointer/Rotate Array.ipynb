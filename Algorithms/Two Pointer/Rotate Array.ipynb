{
 "cells": [
  {
   "cell_type": "markdown",
   "id": "75c16017",
   "metadata": {
    "tags": [
     "LeetCode",
     "Algorithms",
     "Two_Pointer",
     "Medium"
    ]
   },
   "source": [
    "Given an array, rotate the array to the right by $k$ steps, where $k$ is non-negative.\n",
    "\n",
    "*Example 1*\n",
    "\n",
    "$\\textit{nums} = [1,2,3,4,5,6,7], k = 3$<br />\n",
    "Returns $[5,6,7,1,2,3,4]$:<br />\n",
    "rotate 1 steps to the right: $[7,1,2,3,4,5,6]$<br />\n",
    "rotate 2 steps to the right: $[6,7,1,2,3,4,5]$<br />\n",
    "rotate 3 steps to the right: $[5,6,7,1,2,3,4]$\n",
    "\n",
    "*Example 2*\n",
    "\n",
    "$\\textit{nums} = [1,2], k = 3$<br />\n",
    "Returns $[2, 1]$:<br />\n",
    "rotate 1 steps to the right: $[2,1]$<br />\n",
    "rotate 2 steps to the right: $[1,2]$<br />\n",
    "rotate 3 steps to the right: $[2,1]$\n",
    "\n",
    "*Code (using Two Pointer algo)*"
   ]
  },
  {
   "cell_type": "code",
   "execution_count": 89,
   "id": "614375ac",
   "metadata": {},
   "outputs": [],
   "source": [
    "def rotate(nums, k):\n",
    "    n = len(nums)\n",
    "    k = k % n\n",
    "    if n < 2 or k == 0 or k == n:\n",
    "        return\n",
    "    sep = n - k\n",
    "    for i in range(sep // 2):\n",
    "        nums[i], nums[sep - 1 - i] = nums[sep - 1 - i], nums[i]\n",
    "    for ind, i in enumerate(range(sep, n - k // 2)):\n",
    "        nums[i], nums[n - 1 - ind] = nums[n - 1 - ind], nums[i]\n",
    "    for i in range(n // 2):\n",
    "        nums[i], nums[n - 1 - i] = nums[n - 1 - i], nums[i]"
   ]
  },
  {
   "cell_type": "code",
   "execution_count": 90,
   "id": "06c5f6d8",
   "metadata": {},
   "outputs": [
    {
     "name": "stdout",
     "output_type": "stream",
     "text": [
      "[5, 6, 7, 1, 2, 3, 4]\n"
     ]
    }
   ],
   "source": [
    "nums = [1,2,3,4,5,6,7]\n",
    "k = 3\n",
    "rotate(nums, k)\n",
    "print(nums)"
   ]
  },
  {
   "cell_type": "code",
   "execution_count": 91,
   "id": "d73ab1fc",
   "metadata": {},
   "outputs": [
    {
     "name": "stdout",
     "output_type": "stream",
     "text": [
      "[2, 1]\n"
     ]
    }
   ],
   "source": [
    "nums = [1, 2]\n",
    "k = 5\n",
    "rotate(nums, k)\n",
    "print(nums)"
   ]
  },
  {
   "cell_type": "markdown",
   "id": "6f849901",
   "metadata": {},
   "source": [
    "*Code 2 (Pythonic way)*"
   ]
  },
  {
   "cell_type": "code",
   "execution_count": 20,
   "id": "db9a6a32",
   "metadata": {},
   "outputs": [],
   "source": [
    "def rotate(nums, k):\n",
    "    n = len(nums)\n",
    "    k = k % n\n",
    "    nums[:] = nums[n-k:] + nums[:n-k]"
   ]
  },
  {
   "cell_type": "code",
   "execution_count": 22,
   "id": "99d5e2f2",
   "metadata": {},
   "outputs": [
    {
     "name": "stdout",
     "output_type": "stream",
     "text": [
      "[5, 6, 7, 1, 2, 3, 4]\n"
     ]
    }
   ],
   "source": [
    "nums = [1,2,3,4,5,6,7]\n",
    "k = 3\n",
    "rotate(nums, k)\n",
    "print(nums)"
   ]
  },
  {
   "cell_type": "code",
   "execution_count": 24,
   "id": "94eee170",
   "metadata": {},
   "outputs": [
    {
     "name": "stdout",
     "output_type": "stream",
     "text": [
      "[1, 2]\n"
     ]
    }
   ],
   "source": [
    "nums = [1, 2]\n",
    "k = 5\n",
    "rotate(nums, k)\n",
    "print(nums)"
   ]
  }
 ],
 "metadata": {
  "celltoolbar": "Tags",
  "kernelspec": {
   "display_name": "Python 3",
   "language": "python",
   "name": "python3"
  },
  "language_info": {
   "codemirror_mode": {
    "name": "ipython",
    "version": 3
   },
   "file_extension": ".py",
   "mimetype": "text/x-python",
   "name": "python",
   "nbconvert_exporter": "python",
   "pygments_lexer": "ipython3",
   "version": "3.8.8"
  }
 },
 "nbformat": 4,
 "nbformat_minor": 5
}
