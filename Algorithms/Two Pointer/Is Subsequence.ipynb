{
 "cells": [
  {
   "cell_type": "markdown",
   "id": "3812e5d7",
   "metadata": {},
   "source": [
    "Given two strings $s$ and $t$, return `true` if $s$ is a **subsequence** of $t$, or `false` otherwise.\n",
    "\n",
    "A **subsequence** of a string is a new string that is formed from the original string by deleting some (can be none) of the characters without disturbing the relative positions of the remaining characters. (i.e., \"ace\" is a subsequence of \"abcde\" while \"aec\" is not).\n",
    "\n",
    "\n",
    "*Example 1*\n",
    "\n",
    "$s$ = \"abc\", $t$ = \"ahbgdc\"<br />\n",
    "Returns `true`\n",
    "\n",
    "*Example 2*\n",
    "\n",
    "$s$ = \"axc\", $t$ = \"ahbgdc\"<br />\n",
    "Returns `false`\n",
    "\n",
    "\n",
    "*Code*"
   ]
  },
  {
   "cell_type": "code",
   "execution_count": 56,
   "id": "1f97c460",
   "metadata": {},
   "outputs": [],
   "source": [
    "class Solution:\n",
    "    def isSubsequence(self, s, t):\n",
    "        ps = pt = 0\n",
    "        while ps < len(s) and pt < len(t):\n",
    "            if s[ps] == t[pt]:\n",
    "                ps += 1\n",
    "            pt += 1\n",
    "        return len(s) == ps"
   ]
  },
  {
   "cell_type": "code",
   "execution_count": 57,
   "id": "1e9ec26c",
   "metadata": {},
   "outputs": [
    {
     "data": {
      "text/plain": [
       "True"
      ]
     },
     "execution_count": 57,
     "metadata": {},
     "output_type": "execute_result"
    }
   ],
   "source": [
    "Solution().isSubsequence(s=\"abc\", t=\"ahbgdc\")"
   ]
  },
  {
   "cell_type": "code",
   "execution_count": 58,
   "id": "ac70e31b",
   "metadata": {},
   "outputs": [
    {
     "data": {
      "text/plain": [
       "False"
      ]
     },
     "execution_count": 58,
     "metadata": {},
     "output_type": "execute_result"
    }
   ],
   "source": [
    "Solution().isSubsequence(s=\"axc\", t=\"ahbgdc\")"
   ]
  },
  {
   "cell_type": "code",
   "execution_count": 59,
   "id": "7f495622",
   "metadata": {},
   "outputs": [
    {
     "data": {
      "text/plain": [
       "True"
      ]
     },
     "execution_count": 59,
     "metadata": {},
     "output_type": "execute_result"
    }
   ],
   "source": [
    "Solution().isSubsequence(s=\"b\", t=\"abc\")"
   ]
  },
  {
   "cell_type": "code",
   "execution_count": 60,
   "id": "03e8fe9c",
   "metadata": {},
   "outputs": [
    {
     "data": {
      "text/plain": [
       "True"
      ]
     },
     "execution_count": 60,
     "metadata": {},
     "output_type": "execute_result"
    }
   ],
   "source": [
    "Solution().isSubsequence(s=\"\", t=\"abc\")"
   ]
  }
 ],
 "metadata": {
  "kernelspec": {
   "display_name": "Python 3",
   "language": "python",
   "name": "python3"
  },
  "language_info": {
   "codemirror_mode": {
    "name": "ipython",
    "version": 3
   },
   "file_extension": ".py",
   "mimetype": "text/x-python",
   "name": "python",
   "nbconvert_exporter": "python",
   "pygments_lexer": "ipython3",
   "version": "3.8.8"
  }
 },
 "nbformat": 4,
 "nbformat_minor": 5
}
