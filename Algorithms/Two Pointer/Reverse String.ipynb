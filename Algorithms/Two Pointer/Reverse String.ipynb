{
 "cells": [
  {
   "cell_type": "markdown",
   "id": "b4a31f96",
   "metadata": {
    "tags": [
     "LeetCode",
     "Algorithms",
     "Two_Pointer",
     "Easy"
    ]
   },
   "source": [
    "Write a function that reverses a string. The input string is given as an array of characters $s$.\n",
    "\n",
    "You must do this by modifying the input array in-place with $O(1)$ extra memory.\n",
    " \n",
    "*Example 1*\n",
    "\n",
    "$s$ = [\"h\",\"e\",\"l\",\"l\",\"o\"]<br />\n",
    "Returns [\"o\",\"l\",\"l\",\"e\",\"h\"]\n",
    "\n",
    "*Example 2*\n",
    "\n",
    "$s$ = [\"H\",\"a\",\"n\",\"n\",\"a\",\"h\"]<br />\n",
    "Returns [\"h\",\"a\",\"n\",\"n\",\"a\",\"H\"]\n",
    "\n",
    "*Code*"
   ]
  },
  {
   "cell_type": "code",
   "execution_count": 1,
   "id": "9b75f529",
   "metadata": {},
   "outputs": [],
   "source": [
    "def reverse_string(s):\n",
    "    l = len(s)\n",
    "    for left in range(l // 2):\n",
    "        right = l - 1 - left\n",
    "        s[left], s[right] = s[right], s[left]"
   ]
  },
  {
   "cell_type": "code",
   "execution_count": 2,
   "id": "8fc5d45e",
   "metadata": {},
   "outputs": [
    {
     "name": "stdout",
     "output_type": "stream",
     "text": [
      "['o', 'l', 'l', 'e', 'h']\n"
     ]
    }
   ],
   "source": [
    "s = [\"h\",\"e\",\"l\",\"l\",\"o\"]\n",
    "reverse_string(s)\n",
    "print(s)"
   ]
  },
  {
   "cell_type": "code",
   "execution_count": 3,
   "id": "dc7fcc6d",
   "metadata": {},
   "outputs": [
    {
     "name": "stdout",
     "output_type": "stream",
     "text": [
      "['h', 'a', 'n', 'n', 'a', 'H']\n"
     ]
    }
   ],
   "source": [
    "s = [\"H\",\"a\",\"n\",\"n\",\"a\",\"h\"]\n",
    "reverse_string(s)\n",
    "print(s)"
   ]
  }
 ],
 "metadata": {
  "celltoolbar": "Tags",
  "kernelspec": {
   "display_name": "Python 3",
   "language": "python",
   "name": "python3"
  },
  "language_info": {
   "codemirror_mode": {
    "name": "ipython",
    "version": 3
   },
   "file_extension": ".py",
   "mimetype": "text/x-python",
   "name": "python",
   "nbconvert_exporter": "python",
   "pygments_lexer": "ipython3",
   "version": "3.8.8"
  }
 },
 "nbformat": 4,
 "nbformat_minor": 5
}
