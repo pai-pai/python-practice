{
 "cells": [
  {
   "cell_type": "markdown",
   "id": "fe87d69c",
   "metadata": {
    "tags": [
     "LeetCode",
     "Algorithms",
     "Two_Pointer",
     "Easy"
    ]
   },
   "source": [
    "Given an integer array $\\textit{nums}$ sorted in **non-decreasing order**, return an array of **the squares of each number** sorted in non-decreasing order.\n",
    "\n",
    "*Example 1*\n",
    "\n",
    "$\\textit{nums} = [-4,-1,0,3,10]$<br />\n",
    "Returns $[-4,-1,0,3,10]$. Because after squaring, the array becomes $[16,1,0,9,100]$. After sorting, it becomes $[0,1,9,16,100]$.\n",
    "\n",
    "*Example 2*\n",
    "\n",
    "$\\textit{nums} = [-7,-3,2,3,11]$<br />\n",
    "Returns $[4,9,9,49,121]$."
   ]
  },
  {
   "cell_type": "code",
   "execution_count": 12,
   "id": "84adadc4",
   "metadata": {},
   "outputs": [],
   "source": [
    "def sorted_squares(nums):\n",
    "    result = [0] * len(nums)\n",
    "    p1, p2 = 0, len(nums) - 1\n",
    "    while p1 <= p2:\n",
    "        if abs(nums[p1]) >= abs(nums[p2]):\n",
    "            result[p2 - p1] = nums[p1]**2\n",
    "            p1 += 1\n",
    "        else:\n",
    "            result[p2 - p1] = nums[p2]**2\n",
    "            p2 -= 1\n",
    "    return result"
   ]
  },
  {
   "cell_type": "code",
   "execution_count": 13,
   "id": "95babf7f",
   "metadata": {},
   "outputs": [
    {
     "name": "stdout",
     "output_type": "stream",
     "text": [
      "[0, 1, 9, 16, 100]\n"
     ]
    }
   ],
   "source": [
    "print(sorted_squares([-4,-1,0,3,10]))"
   ]
  },
  {
   "cell_type": "code",
   "execution_count": 14,
   "id": "fffd0956",
   "metadata": {},
   "outputs": [
    {
     "name": "stdout",
     "output_type": "stream",
     "text": [
      "[4, 9, 9, 49, 121]\n"
     ]
    }
   ],
   "source": [
    "print(sorted_squares([-7,-3,2,3,11]))"
   ]
  }
 ],
 "metadata": {
  "celltoolbar": "Tags",
  "kernelspec": {
   "display_name": "Python 3",
   "language": "python",
   "name": "python3"
  },
  "language_info": {
   "codemirror_mode": {
    "name": "ipython",
    "version": 3
   },
   "file_extension": ".py",
   "mimetype": "text/x-python",
   "name": "python",
   "nbconvert_exporter": "python",
   "pygments_lexer": "ipython3",
   "version": "3.8.8"
  }
 },
 "nbformat": 4,
 "nbformat_minor": 5
}
