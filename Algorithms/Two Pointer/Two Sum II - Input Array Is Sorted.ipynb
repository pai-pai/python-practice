{
 "cells": [
  {
   "cell_type": "markdown",
   "id": "4b58ee8f",
   "metadata": {
    "tags": [
     "Algorithms",
     "Two_Pointer",
     "Easy"
    ]
   },
   "source": [
    "Given a **1-indexed** array of integers $\\textit{numbers}$ that is already **sorted in non-decreasing order**, find two numbers such that they add up to a specific $\\textit{target}$ number. Let these two numbers be $\\textit{numbers}[\\textit{index}_{1}]$ and $\\textit{numbers}[\\textit{index}_{2}]$ where $1 <= \\textit{index}_{1} < \\textit{index}_{2} <= \\textit{numbers.length}$.\n",
    "\n",
    "Return the indices of the two numbers, $\\textit{index}_{1}$ and $\\textit{index}_{2}$, *added by one* as an integer array $[\\textit{index}_{1}, \\textit{index}_{2}]$ of length $2$.\n",
    "\n",
    "The tests are generated such that there is *exactly one solution*. You *may not* use the same element twice.\n",
    "\n",
    "*Example 1*\n",
    "\n",
    "$\\textit{numbers} = [2,7,11,15]\\\\\n",
    "\\textit{target} = 9$\n",
    "The sum of $2$ and $7$ is $9$. Therefore, $\\textit{index}_{1} = 1$, $\\textit{index}_{2} = 2$. We return $[1, 2]$.\n",
    "\n",
    "*Example 2*\n",
    "\n",
    "$\\textit{numbers} = [2,3,4]\\\\\n",
    "\\textit{target} = 6$\n",
    "Result is $[1, 3]$.\n",
    "\n",
    "*Example 3*\n",
    "\n",
    "$\\textit{numbers} = [-1,0]\\\\\n",
    "\\textit{target} = -1$\n",
    "Result is $[1, 2]$.\n",
    "\n",
    "*Code*"
   ]
  },
  {
   "cell_type": "code",
   "execution_count": 15,
   "id": "2837a1c1",
   "metadata": {},
   "outputs": [],
   "source": [
    "def two_sum(numbers, target):\n",
    "    left = 0\n",
    "    right = len(numbers) - 1\n",
    "    while left <= right:\n",
    "        estimated = numbers[left] + numbers[right]\n",
    "        if estimated == target:\n",
    "            return [left+1, right+1]\n",
    "        if estimated > target:\n",
    "            right -= 1\n",
    "        else:\n",
    "            left += 1\n",
    "    return -1"
   ]
  },
  {
   "cell_type": "code",
   "execution_count": 16,
   "id": "882a07d4",
   "metadata": {},
   "outputs": [
    {
     "data": {
      "text/plain": [
       "[1, 2]"
      ]
     },
     "execution_count": 16,
     "metadata": {},
     "output_type": "execute_result"
    }
   ],
   "source": [
    "numbers = [2,7,11,15]\n",
    "target = 9\n",
    "two_sum(numbers, target)"
   ]
  },
  {
   "cell_type": "code",
   "execution_count": 17,
   "id": "a85f52bf",
   "metadata": {},
   "outputs": [
    {
     "data": {
      "text/plain": [
       "[1, 3]"
      ]
     },
     "execution_count": 17,
     "metadata": {},
     "output_type": "execute_result"
    }
   ],
   "source": [
    "numbers = [2, 3, 4]\n",
    "target = 6\n",
    "two_sum(numbers, target)"
   ]
  },
  {
   "cell_type": "code",
   "execution_count": 18,
   "id": "c17d399c",
   "metadata": {},
   "outputs": [
    {
     "data": {
      "text/plain": [
       "[1, 2]"
      ]
     },
     "execution_count": 18,
     "metadata": {},
     "output_type": "execute_result"
    }
   ],
   "source": [
    "numbers = [-1, 0]\n",
    "target = -1\n",
    "two_sum(numbers, target)"
   ]
  },
  {
   "cell_type": "markdown",
   "id": "edcf3f65",
   "metadata": {},
   "source": [
    "*Explanation*\n",
    "\n",
    "The Two Pointer Technique can be used here.\n",
    "1. Place one pointer at the front and another at the end of the array (they represent the smallest and the largest values of array).\n",
    "2. Each time calculate sum of two pointers.\n",
    "3. If sum is less than target value move left pointer to right at one point. If sum is greater, move right pointer to left at one point.\n",
    "4. If sum is equal to target loop should break. If left and right pointer point to the same number it means that there is no any solution."
   ]
  }
 ],
 "metadata": {
  "celltoolbar": "Tags",
  "kernelspec": {
   "display_name": "Python 3",
   "language": "python",
   "name": "python3"
  },
  "language_info": {
   "codemirror_mode": {
    "name": "ipython",
    "version": 3
   },
   "file_extension": ".py",
   "mimetype": "text/x-python",
   "name": "python",
   "nbconvert_exporter": "python",
   "pygments_lexer": "ipython3",
   "version": "3.8.8"
  }
 },
 "nbformat": 4,
 "nbformat_minor": 5
}
