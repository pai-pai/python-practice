{
 "cells": [
  {
   "cell_type": "markdown",
   "id": "a46053d3",
   "metadata": {
    "tags": [
     "Algorithms",
     "Two_Pointer",
     "Easy"
    ]
   },
   "source": [
    "Given an integer array $\\textit{nums}$ sorted in **non-decreasing order**, remove the duplicates **in-place** such that each unique element appears only **once**. The **relative order** of the elements should be kept the **same**.\n",
    "\n",
    "Since it is impossible to change the length of the array in some languages, you must instead have the result be placed in the **first part** of the array $\\textit{nums}$. More formally, if there are $k$ elements after removing the duplicates, then the first $k$ elements of $\\textit{nums}$ should hold the final result. It does not matter what you leave beyond the first $k$ elements.\n",
    "\n",
    "Return $k$ after placing the final result in the first $k$ slots of $\\textit{nums}$.\n",
    "\n",
    "Do **not** allocate extra space for another array. You must do this by **modifying the input array in-place** with $O(1)$ extra memory.\n",
    "\n",
    "**Custom Judge:**\n",
    "\n",
    "The judge will test your solution with the following code:\n",
    "\n",
    "```\n",
    "int[] nums = [...]; // Input array\n",
    "int[] expected_nums = [...]; // The expected answer with correct length\n",
    "\n",
    "int k = remove_duplicates(nums); // Calls your implementation\n",
    "\n",
    "assert k == expected_nums.length;\n",
    "for (int i = 0; i < k; i++) {\n",
    "    assert nums[i] == expected_nums[i];\n",
    "}\n",
    "```\n",
    "\n",
    "If all assertions pass, then your solution will be **accepted**.\n",
    "\n",
    "*Example 1*\n",
    "\n",
    "$\\textit{nums} = [1,1,2]$<br />\n",
    "Returns $2$, $\\textit{nums} = [1,2,\\_]$<br />\n",
    "Function should return $k = 2$, with the first two elements of nums being $1$ and $2$ respectively.\n",
    "It does not matter what is left beyond the returned $k$ (hence they are underscores).\n",
    "\n",
    "*Example 2*\n",
    "\n",
    "$\\textit{nums} = [0,0,1,1,1,2,2,3,3,4]$<br />\n",
    "Returns $5$, $\\textit{nums} = [0,1,2,3,4,\\_,\\_,\\_,\\_,\\_]$<br />\n",
    "Function should return $k = 5$, with the first five elements of nums being $0$, $1$, $2$, $3$, and $4$ respectively.\n",
    "It does not matter what is left beyond the returned $k$ (hence they are underscores).\n",
    "\n",
    "*Code*"
   ]
  },
  {
   "cell_type": "code",
   "execution_count": 58,
   "id": "02f4fd24",
   "metadata": {},
   "outputs": [],
   "source": [
    "def remove_duplicates(nums):\n",
    "    n = len(nums)\n",
    "    if n < 2:\n",
    "        return n\n",
    "    p1 = 0\n",
    "    p2 = 1\n",
    "    while p2 < n:\n",
    "        if nums[p1] != nums[p2]:\n",
    "            p1 += 1\n",
    "            nums[p1] = nums[p2]\n",
    "        p2 += 1\n",
    "    return p1 + 1"
   ]
  },
  {
   "cell_type": "code",
   "execution_count": 59,
   "id": "b419b2f7",
   "metadata": {},
   "outputs": [
    {
     "name": "stdout",
     "output_type": "stream",
     "text": [
      "2 [1, 2, 2]\n"
     ]
    }
   ],
   "source": [
    "nums = [1, 1, 2]\n",
    "print(remove_duplicates(nums), nums)"
   ]
  },
  {
   "cell_type": "code",
   "execution_count": 60,
   "id": "6f2c69a6",
   "metadata": {},
   "outputs": [
    {
     "name": "stdout",
     "output_type": "stream",
     "text": [
      "5 [0, 1, 2, 3, 4, 2, 2, 3, 3, 4]\n"
     ]
    }
   ],
   "source": [
    "nums = [0,0,1,1,1,2,2,3,3,4]\n",
    "print(remove_duplicates(nums), nums)"
   ]
  },
  {
   "cell_type": "code",
   "execution_count": 61,
   "id": "7dea16a8",
   "metadata": {},
   "outputs": [
    {
     "name": "stdout",
     "output_type": "stream",
     "text": [
      "2 [1, 2]\n"
     ]
    }
   ],
   "source": [
    "nums = [1,2]\n",
    "print(remove_duplicates(nums), nums)"
   ]
  }
 ],
 "metadata": {
  "celltoolbar": "Tags",
  "kernelspec": {
   "display_name": "Python 3",
   "language": "python",
   "name": "python3"
  },
  "language_info": {
   "codemirror_mode": {
    "name": "ipython",
    "version": 3
   },
   "file_extension": ".py",
   "mimetype": "text/x-python",
   "name": "python",
   "nbconvert_exporter": "python",
   "pygments_lexer": "ipython3",
   "version": "3.8.8"
  }
 },
 "nbformat": 4,
 "nbformat_minor": 5
}
