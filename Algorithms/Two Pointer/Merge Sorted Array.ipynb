{
 "cells": [
  {
   "cell_type": "markdown",
   "id": "09004df3",
   "metadata": {},
   "source": [
    "You are given two integer arrays $\\textit{nums1}$ and $\\textit{nums2}$, sorted in **non-decreasing** order, and two integers $m$ and $n$, representing the number of elements in $\\textit{nums1}$ and $\\textit{nums2}$ respectively.\n",
    "\n",
    "**Merge** $\\textit{nums1}$ and $\\textit{nums2}$ into a single array sorted in **non-decreasing** order.\n",
    "\n",
    "The final sorted array should not be returned by the function, but instead be stored inside the array $\\textit{nums1}$. To accommodate this, $\\textit{nums1}$ has a length of $m + n$, where the first $m$ elements denote the elements that should be merged, and the last $n$ elements are set to 0 and should be ignored. $\\textit{nums2}$ has a length of $n$.\n",
    "\n",
    "\n",
    "*Example 1*\n",
    "\n",
    "$\\textit{nums1}$ = [1,2,3,0,0,0], $m$ = 3, $\\textit{nums2}$ = [2,5,6], $n$ = 3<br />\n",
    "Returns [1,2,2,3,5,6]. The arrays we are merging are [1,2,3] and [2,5,6]. The result of the merge is [1,2,2,3,5,6] with the underlined elements coming from $\\textit{nums1}$.\n",
    "\n",
    "*Example 2*\n",
    "\n",
    "$\\textit{nums1}$ = [1], $m$ = 1, $\\textit{nums2}$ = [], $n$ = 0<br />\n",
    "Returns [1]. The arrays we are merging are [1] and []. The result of the merge is [1].\n",
    "\n",
    "*Example 3*\n",
    "\n",
    "$\\textit{nums1}$ = [0], $m$ = 0, $\\textit{nums2}$ = [1], $n$ = 1<br />\n",
    "Returns [1]. The arrays we are merging are [] and [1]. The result of the merge is [1].<br />\n",
    "Note that because $m$ = 0, there are no elements in $\\textit{nums1}$. The 0 is only there to ensure the merge result can fit in $\\textit{nums1}$.\n",
    "\n",
    "\n",
    "*Code*"
   ]
  },
  {
   "cell_type": "code",
   "execution_count": 140,
   "id": "bf8268e3",
   "metadata": {},
   "outputs": [],
   "source": [
    "class Solution:\n",
    "    def merge(self, nums1, m, nums2, n):\n",
    "        p1, p2, i = m - 1, n - 1, m + n - 1\n",
    "        while p1 >= 0 and p2 >= 0:\n",
    "            if nums2[p2] > nums1[p1]:\n",
    "                nums1[i] = nums2[p2]\n",
    "                p2 -= 1\n",
    "            else:\n",
    "                nums1[i] = nums1[p1]\n",
    "                p1 -= 1\n",
    "            i -= 1\n",
    "        while p2 >= 0:\n",
    "            nums1[i] = nums2[p2]\n",
    "            p2 -= 1\n",
    "            i -= 1\n",
    "        return nums1"
   ]
  },
  {
   "cell_type": "code",
   "execution_count": 134,
   "id": "8d8d3cc7",
   "metadata": {},
   "outputs": [
    {
     "data": {
      "text/plain": [
       "[1, 2, 2, 3, 5, 6]"
      ]
     },
     "execution_count": 134,
     "metadata": {},
     "output_type": "execute_result"
    }
   ],
   "source": [
    "Solution().merge(nums1=[1,2,3,0,0,0], m=3, nums2=[2,5,6], n=3)"
   ]
  },
  {
   "cell_type": "code",
   "execution_count": 135,
   "id": "c9f64264",
   "metadata": {},
   "outputs": [
    {
     "data": {
      "text/plain": [
       "[1]"
      ]
     },
     "execution_count": 135,
     "metadata": {},
     "output_type": "execute_result"
    }
   ],
   "source": [
    "Solution().merge(nums1=[1], m=1, nums2=[], n=0)"
   ]
  },
  {
   "cell_type": "code",
   "execution_count": 136,
   "id": "82c142ac",
   "metadata": {},
   "outputs": [
    {
     "data": {
      "text/plain": [
       "[1]"
      ]
     },
     "execution_count": 136,
     "metadata": {},
     "output_type": "execute_result"
    }
   ],
   "source": [
    "Solution().merge(nums1=[0], m=0, nums2=[1], n=1)"
   ]
  },
  {
   "cell_type": "code",
   "execution_count": 137,
   "id": "4cea025d",
   "metadata": {},
   "outputs": [
    {
     "data": {
      "text/plain": [
       "[1, 2]"
      ]
     },
     "execution_count": 137,
     "metadata": {},
     "output_type": "execute_result"
    }
   ],
   "source": [
    "Solution().merge(nums1=[2,0], m=1, nums2=[1], n=1)"
   ]
  },
  {
   "cell_type": "code",
   "execution_count": 138,
   "id": "27289f95",
   "metadata": {},
   "outputs": [
    {
     "data": {
      "text/plain": [
       "[1, 2, 3, 4, 5]"
      ]
     },
     "execution_count": 138,
     "metadata": {},
     "output_type": "execute_result"
    }
   ],
   "source": [
    "Solution().merge(nums1=[0,0,0,0,0], m=0, nums2=[1,2,3,4,5], n=5)"
   ]
  },
  {
   "cell_type": "code",
   "execution_count": 139,
   "id": "6332ce0a",
   "metadata": {},
   "outputs": [
    {
     "data": {
      "text/plain": [
       "[-1, 0, 0, 1, 1, 1, 2, 3, 3]"
      ]
     },
     "execution_count": 139,
     "metadata": {},
     "output_type": "execute_result"
    }
   ],
   "source": [
    "Solution().merge(nums1=[0,0,3,0,0,0,0,0,0], m=3, nums2=[-1,1,1,1,2,3], n=6)"
   ]
  },
  {
   "cell_type": "code",
   "execution_count": null,
   "id": "465e915d",
   "metadata": {},
   "outputs": [],
   "source": []
  }
 ],
 "metadata": {
  "kernelspec": {
   "display_name": "Python 3",
   "language": "python",
   "name": "python3"
  },
  "language_info": {
   "codemirror_mode": {
    "name": "ipython",
    "version": 3
   },
   "file_extension": ".py",
   "mimetype": "text/x-python",
   "name": "python",
   "nbconvert_exporter": "python",
   "pygments_lexer": "ipython3",
   "version": "3.8.8"
  }
 },
 "nbformat": 4,
 "nbformat_minor": 5
}
