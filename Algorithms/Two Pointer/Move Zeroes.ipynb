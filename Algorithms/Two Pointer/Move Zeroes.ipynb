{
 "cells": [
  {
   "cell_type": "markdown",
   "id": "09675b12",
   "metadata": {
    "tags": [
     "LeetCode",
     "Algorithms",
     "Two_Pointer",
     "Easy"
    ]
   },
   "source": [
    "Given an integer array $\\textit{nums}$, move all 0's to the end of it while maintaining the relative order of the non-zero elements.\n",
    "\n",
    "*Note* that you must do this in-place without making a copy of the array.\n",
    "\n",
    "*Example 1*\n",
    "\n",
    "$\\textit{nums} = [0,1,0,3,12]$<br />\n",
    "Returns: $[1,3,12,0,0]$\n",
    "\n",
    "*Example 2*\n",
    "\n",
    "$\\textit{nums} = [0]$<br />\n",
    "Returns: $[0]$\n",
    "\n",
    "*Code*"
   ]
  },
  {
   "cell_type": "code",
   "execution_count": 21,
   "id": "c5e26462",
   "metadata": {},
   "outputs": [],
   "source": [
    "def move_zeroes(nums):\n",
    "    n = len(nums)\n",
    "    if n < 2:\n",
    "        return\n",
    "    p1 = 0\n",
    "    for p2 in range(1, n):\n",
    "        if nums[p1] != 0:\n",
    "            p1 += 1\n",
    "        elif nums[p2] != 0:\n",
    "            nums[p1], nums[p2] = nums[p2], nums[p1]\n",
    "            p1 += 1"
   ]
  },
  {
   "cell_type": "code",
   "execution_count": 22,
   "id": "e3613660",
   "metadata": {},
   "outputs": [
    {
     "name": "stdout",
     "output_type": "stream",
     "text": [
      "[1, 3, 12, 0, 0]\n"
     ]
    }
   ],
   "source": [
    "nums = [0,1,0,3,12]\n",
    "move_zeroes(nums)\n",
    "print(nums)"
   ]
  },
  {
   "cell_type": "code",
   "execution_count": 23,
   "id": "aa8a12b8",
   "metadata": {},
   "outputs": [
    {
     "name": "stdout",
     "output_type": "stream",
     "text": [
      "[0]\n"
     ]
    }
   ],
   "source": [
    "nums = [0]\n",
    "move_zeroes(nums)\n",
    "print(nums)"
   ]
  },
  {
   "cell_type": "code",
   "execution_count": 24,
   "id": "97d644cd",
   "metadata": {},
   "outputs": [
    {
     "name": "stdout",
     "output_type": "stream",
     "text": [
      "[1, 1, 0]\n"
     ]
    }
   ],
   "source": [
    "nums = [1,0,1]\n",
    "move_zeroes(nums)\n",
    "print(nums)"
   ]
  },
  {
   "cell_type": "code",
   "execution_count": 25,
   "id": "cf677406",
   "metadata": {},
   "outputs": [
    {
     "name": "stdout",
     "output_type": "stream",
     "text": [
      "[4, 2, 4, 3, 5, 1, 0, 0, 0, 0]\n"
     ]
    }
   ],
   "source": [
    "nums = [4,2,4,0,0,3,0,5,1,0]\n",
    "move_zeroes(nums)\n",
    "print(nums)"
   ]
  }
 ],
 "metadata": {
  "celltoolbar": "Tags",
  "kernelspec": {
   "display_name": "Python 3",
   "language": "python",
   "name": "python3"
  },
  "language_info": {
   "codemirror_mode": {
    "name": "ipython",
    "version": 3
   },
   "file_extension": ".py",
   "mimetype": "text/x-python",
   "name": "python",
   "nbconvert_exporter": "python",
   "pygments_lexer": "ipython3",
   "version": "3.8.8"
  }
 },
 "nbformat": 4,
 "nbformat_minor": 5
}
