{
 "cells": [
  {
   "cell_type": "markdown",
   "id": "ee62108c",
   "metadata": {
    "tags": [
     "LeetCode",
     "Algorithms",
     "Two_Pointer",
     "Easy"
    ]
   },
   "source": [
    "Given a string $s$, reverse the order of characters in each word within a sentence while still preserving whitespace and initial word order.\n",
    "\n",
    "*Example 1*\n",
    "\n",
    "$s$ = \"Let's take LeetCode contest\"<br />\n",
    "Returns \"s'teL ekat edoCteeL tsetnoc\""
   ]
  },
  {
   "cell_type": "code",
   "execution_count": 5,
   "id": "5e610c28",
   "metadata": {},
   "outputs": [],
   "source": [
    "def reverse_words(s):\n",
    "    word, result = '', ''\n",
    "    for i in range(len(s)):\n",
    "        if s[i] != ' ':\n",
    "            word = s[i] + word\n",
    "        else:\n",
    "            result += (word + s[i])\n",
    "            word = ''\n",
    "    return result + word"
   ]
  },
  {
   "cell_type": "code",
   "execution_count": 6,
   "id": "1351f2b6",
   "metadata": {},
   "outputs": [
    {
     "name": "stdout",
     "output_type": "stream",
     "text": [
      "s'teL ekat edoCteeL tsetnoc\n"
     ]
    }
   ],
   "source": [
    "print(reverse_words(\"Let's take LeetCode contest\"))"
   ]
  },
  {
   "cell_type": "markdown",
   "id": "68212cac",
   "metadata": {},
   "source": [
    "*Code (Pythonic way)*"
   ]
  },
  {
   "cell_type": "code",
   "execution_count": 12,
   "id": "ec300aad",
   "metadata": {},
   "outputs": [],
   "source": [
    "def reverse_words(s):\n",
    "    return ' '.join((word[::-1] for word in s.split()))"
   ]
  },
  {
   "cell_type": "code",
   "execution_count": 10,
   "id": "17d99963",
   "metadata": {},
   "outputs": [
    {
     "name": "stdout",
     "output_type": "stream",
     "text": [
      "s'teL ekat edoCteeL tsetnoc\n"
     ]
    }
   ],
   "source": [
    "print(reverse_words(\"Let's take LeetCode contest\"))"
   ]
  }
 ],
 "metadata": {
  "celltoolbar": "Tags",
  "kernelspec": {
   "display_name": "Python 3",
   "language": "python",
   "name": "python3"
  },
  "language_info": {
   "codemirror_mode": {
    "name": "ipython",
    "version": 3
   },
   "file_extension": ".py",
   "mimetype": "text/x-python",
   "name": "python",
   "nbconvert_exporter": "python",
   "pygments_lexer": "ipython3",
   "version": "3.8.8"
  }
 },
 "nbformat": 4,
 "nbformat_minor": 5
}
