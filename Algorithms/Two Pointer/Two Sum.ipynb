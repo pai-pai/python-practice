{
 "cells": [
  {
   "cell_type": "markdown",
   "id": "4b58ee8f",
   "metadata": {
    "tags": [
     "Algorithms",
     "Two_Pointer",
     "Easy"
    ]
   },
   "source": [
    "Given an sorted array of integers $\\textit{nums}$ and an integer $\\textit{target}$, return indices of the two numbers such that they add up to $\\textit{target}$.\n",
    "\n",
    "You may assume that each input would have **exactly one solution**, and you may not use the same element twice.\n",
    "\n",
    "You can return the answer in any order.\n",
    "\n",
    "*Example 1*\n",
    "\n",
    "$\\textit{nums} = [2,7,11,15]\\\\\n",
    "\\textit{target} = 9$\n",
    "Because $\\textit{nums}[0] + \\textit{nums}[1] == 9$, we return $[0, 1]$.\n",
    "\n",
    "*Example 2*\n",
    "\n",
    "$\\textit{nums} = [2,3,4]\\\\\n",
    "\\textit{target} = 6$\n",
    "Result is $[0, 2]$.\n",
    "\n",
    "*Example 3*\n",
    "\n",
    "$\\textit{nums} = [3,3]\\\\\n",
    "\\textit{target} = 6$\n",
    "Result is $[0, 1]$.\n",
    "\n",
    "*Code*"
   ]
  },
  {
   "cell_type": "code",
   "execution_count": 8,
   "id": "2837a1c1",
   "metadata": {},
   "outputs": [],
   "source": [
    "def two_sum(nums, target):\n",
    "    nums = sorted(nums)\n",
    "    left = 0\n",
    "    right = len(nums) - 1\n",
    "    while left <= right:\n",
    "        estimated = nums[left] + nums[right]\n",
    "        if estimated == target:\n",
    "            return [left, right]\n",
    "        if estimated > target:\n",
    "            right -= 1\n",
    "        else:\n",
    "            left += 1\n",
    "    return -1"
   ]
  },
  {
   "cell_type": "code",
   "execution_count": 9,
   "id": "882a07d4",
   "metadata": {},
   "outputs": [
    {
     "data": {
      "text/plain": [
       "[0, 1]"
      ]
     },
     "execution_count": 9,
     "metadata": {},
     "output_type": "execute_result"
    }
   ],
   "source": [
    "nums = [2,7,11,15]\n",
    "target = 9\n",
    "two_sum(nums, target)"
   ]
  },
  {
   "cell_type": "code",
   "execution_count": 10,
   "id": "a85f52bf",
   "metadata": {},
   "outputs": [
    {
     "data": {
      "text/plain": [
       "[0, 2]"
      ]
     },
     "execution_count": 10,
     "metadata": {},
     "output_type": "execute_result"
    }
   ],
   "source": [
    "nums = [3, 2, 4]\n",
    "target = 6\n",
    "two_sum(nums, target)"
   ]
  },
  {
   "cell_type": "code",
   "execution_count": 7,
   "id": "c17d399c",
   "metadata": {},
   "outputs": [
    {
     "data": {
      "text/plain": [
       "[0, 1]"
      ]
     },
     "execution_count": 7,
     "metadata": {},
     "output_type": "execute_result"
    }
   ],
   "source": [
    "nums = [3, 3]\n",
    "target = 6\n",
    "two_sum(nums, target)"
   ]
  },
  {
   "cell_type": "markdown",
   "id": "edcf3f65",
   "metadata": {},
   "source": [
    "*Explanation*\n",
    "\n",
    "The Two Pointer Technique can be used here.\n",
    "1. Place one pointer at the front and another at the end of the array (they represent the smallest and the largest values of array).\n",
    "2. Each time calculate sum of two pointers.\n",
    "3. If sum is less than target value move left pointer to right at one point. If sum is greater, move right pointer to left at one point.\n",
    "4. If sum is equal to target loop should break. If left and right pointer point to the same number it means that there is no any solution."
   ]
  }
 ],
 "metadata": {
  "celltoolbar": "Tags",
  "kernelspec": {
   "display_name": "Python 3",
   "language": "python",
   "name": "python3"
  },
  "language_info": {
   "codemirror_mode": {
    "name": "ipython",
    "version": 3
   },
   "file_extension": ".py",
   "mimetype": "text/x-python",
   "name": "python",
   "nbconvert_exporter": "python",
   "pygments_lexer": "ipython3",
   "version": "3.8.8"
  }
 },
 "nbformat": 4,
 "nbformat_minor": 5
}
