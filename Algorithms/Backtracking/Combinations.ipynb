{
 "cells": [
  {
   "cell_type": "markdown",
   "id": "dd02316b",
   "metadata": {
    "tags": [
     "LeetCode",
     "Algorithms",
     "Backtracking",
     "Medium"
    ]
   },
   "source": [
    "Given two integers $n$ and $k$, return all possible combinations of $k$ numbers out of the range [1, $n$].\n",
    "\n",
    "You may return the answer in **any order**.\n",
    " \n",
    "\n",
    "*Example 1*\n",
    "\n",
    "$n$ = 4, $k$ = 2<br />\n",
    "Returns [[2,4], [3,4], [2,3], [1,2], [1,3], [1,4]]\n",
    "\n",
    "*Example 2*\n",
    "\n",
    "$n$ = 1, $k$ = 1<br />\n",
    "Returns: [[1]]\n",
    "\n",
    "\n",
    "*Code*"
   ]
  },
  {
   "cell_type": "code",
   "execution_count": 41,
   "id": "1a31ee0b",
   "metadata": {},
   "outputs": [],
   "source": [
    "class Solution:\n",
    "    def combine(self, n, k):\n",
    "        combs = []\n",
    "        self.backtrack(n, k, combs, [], 1)\n",
    "        return combs\n",
    "    \n",
    "    def backtrack(self, n, k, combs, path, index):\n",
    "        if len(path) == k:\n",
    "            combs.append(path)\n",
    "            return path\n",
    "        for i in range(index, n+1):\n",
    "            self.backtrack(n, k, combs, path+[i], i+1)"
   ]
  },
  {
   "cell_type": "code",
   "execution_count": 44,
   "id": "3f32bfed",
   "metadata": {},
   "outputs": [
    {
     "name": "stdout",
     "output_type": "stream",
     "text": [
      "[[1, 2], [1, 3], [1, 4], [2, 3], [2, 4], [3, 4]]\n"
     ]
    }
   ],
   "source": [
    "print(Solution().combine(4, 2))"
   ]
  },
  {
   "cell_type": "code",
   "execution_count": 45,
   "id": "4533c904",
   "metadata": {},
   "outputs": [
    {
     "name": "stdout",
     "output_type": "stream",
     "text": [
      "[[1]]\n"
     ]
    }
   ],
   "source": [
    "print(Solution().combine(1, 1))"
   ]
  }
 ],
 "metadata": {
  "celltoolbar": "Tags",
  "kernelspec": {
   "display_name": "Python 3",
   "language": "python",
   "name": "python3"
  },
  "language_info": {
   "codemirror_mode": {
    "name": "ipython",
    "version": 3
   },
   "file_extension": ".py",
   "mimetype": "text/x-python",
   "name": "python",
   "nbconvert_exporter": "python",
   "pygments_lexer": "ipython3",
   "version": "3.8.8"
  }
 },
 "nbformat": 4,
 "nbformat_minor": 5
}
