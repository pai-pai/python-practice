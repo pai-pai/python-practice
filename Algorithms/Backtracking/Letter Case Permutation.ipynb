{
 "cells": [
  {
   "cell_type": "markdown",
   "id": "51f4c18d",
   "metadata": {
    "tags": [
     "LeetCode",
     "Algorithms",
     "Backtracking",
     "Medium"
    ]
   },
   "source": [
    "Given a string $s$, you can transform every letter individually to be lowercase or uppercase to create another string.\n",
    "\n",
    "Return a list of all possible strings we could create. Return the output in **any order**.\n",
    "\n",
    "\n",
    "*Example 1*\n",
    "\n",
    "$s$ = \"a1b2\"<br />\n",
    "Returns [\"a1b2\",\"a1B2\",\"A1b2\",\"A1B2\"]\n",
    "\n",
    "*Example 2*\n",
    "\n",
    "$s$ = \"3z4\"<br />\n",
    "Returns [\"3z4\",\"3Z4\"]\n",
    "\n",
    "\n",
    "*Code*"
   ]
  },
  {
   "cell_type": "code",
   "execution_count": 57,
   "id": "191557ea",
   "metadata": {},
   "outputs": [],
   "source": [
    "class Solution:\n",
    "    def letterCasePermutation(self, s):\n",
    "        return self.backtrack(s)\n",
    "        \n",
    "    def backtrack(self, s, res=None, path=None, i=0):\n",
    "        res = [] if res is None else res\n",
    "        path = '' if path is None else path\n",
    "        if len(path) == len(s):\n",
    "            res.append(path)\n",
    "            return\n",
    "        if s[i].isalpha():\n",
    "            self.backtrack(s, res, path+s[i].swapcase(), i+1)\n",
    "        self.backtrack(s, res, path+s[i], i+1)\n",
    "        return res"
   ]
  },
  {
   "cell_type": "code",
   "execution_count": 59,
   "id": "0b9f0fa4",
   "metadata": {},
   "outputs": [
    {
     "name": "stdout",
     "output_type": "stream",
     "text": [
      "['A1B2', 'A1b2', 'a1B2', 'a1b2']\n"
     ]
    }
   ],
   "source": [
    "print(Solution().letterCasePermutation(\"a1b2\"))"
   ]
  },
  {
   "cell_type": "code",
   "execution_count": 60,
   "id": "239dbae0",
   "metadata": {},
   "outputs": [
    {
     "name": "stdout",
     "output_type": "stream",
     "text": [
      "['3Z4', '3z4']\n"
     ]
    }
   ],
   "source": [
    "print(Solution().letterCasePermutation(\"3z4\"))"
   ]
  }
 ],
 "metadata": {
  "celltoolbar": "Tags",
  "kernelspec": {
   "display_name": "Python 3",
   "language": "python",
   "name": "python3"
  },
  "language_info": {
   "codemirror_mode": {
    "name": "ipython",
    "version": 3
   },
   "file_extension": ".py",
   "mimetype": "text/x-python",
   "name": "python",
   "nbconvert_exporter": "python",
   "pygments_lexer": "ipython3",
   "version": "3.8.8"
  }
 },
 "nbformat": 4,
 "nbformat_minor": 5
}
