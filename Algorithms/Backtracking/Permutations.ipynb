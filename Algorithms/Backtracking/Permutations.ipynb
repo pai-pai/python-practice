{
 "cells": [
  {
   "cell_type": "markdown",
   "id": "5960cc1e",
   "metadata": {
    "tags": [
     "LeetCode",
     "Algorithms",
     "Backtracking",
     "Medium"
    ]
   },
   "source": [
    "Given an array $nums$ of distinct integers, return all the possible permutations. You can return the answer in **any order**.\n",
    "\n",
    "\n",
    "*Example 1*\n",
    "\n",
    "$\\textit{nums}$ = [1,2,3]<br />\n",
    "Returns [[1,2,3],[1,3,2],[2,1,3],[2,3,1],[3,1,2],[3,2,1]]\n",
    "\n",
    "*Example 2*\n",
    "\n",
    "$\\textit{nums}$ = [0,1]<br />\n",
    "Returns [[0,1],[1,0]]\n",
    "\n",
    "*Example 3*\n",
    "\n",
    "$\\textit{nums}$ = [1]<br />\n",
    "Returns [[1]]\n",
    "\n",
    "\n",
    "*Code*"
   ]
  },
  {
   "cell_type": "code",
   "execution_count": 38,
   "id": "92f15599",
   "metadata": {},
   "outputs": [],
   "source": [
    "class Solution:\n",
    "    def permute(self, nums):\n",
    "        return self.backtrack(nums)\n",
    "    \n",
    "    def backtrack(self, nums, res=None, path=None):\n",
    "        res = [] if res is None else res\n",
    "        path = [] if path is None else path\n",
    "        if not nums:\n",
    "            res.append(path)\n",
    "            return\n",
    "        for i in range(len(nums)):\n",
    "            self.backtrack(nums[:i]+nums[i+1:], res, path+[nums[i]])\n",
    "        return res"
   ]
  },
  {
   "cell_type": "code",
   "execution_count": 40,
   "id": "1b39142b",
   "metadata": {},
   "outputs": [
    {
     "name": "stdout",
     "output_type": "stream",
     "text": [
      "[[1, 2, 3], [1, 3, 2], [2, 1, 3], [2, 3, 1], [3, 1, 2], [3, 2, 1]]\n"
     ]
    }
   ],
   "source": [
    "print(Solution().permute([1, 2, 3]))"
   ]
  },
  {
   "cell_type": "code",
   "execution_count": 41,
   "id": "a84dc842",
   "metadata": {},
   "outputs": [
    {
     "name": "stdout",
     "output_type": "stream",
     "text": [
      "[[0, 1], [1, 0]]\n"
     ]
    }
   ],
   "source": [
    "print(Solution().permute([0, 1]))"
   ]
  },
  {
   "cell_type": "code",
   "execution_count": 42,
   "id": "8a9f95b3",
   "metadata": {},
   "outputs": [
    {
     "name": "stdout",
     "output_type": "stream",
     "text": [
      "[[1]]\n"
     ]
    }
   ],
   "source": [
    "print(Solution().permute([1]))"
   ]
  }
 ],
 "metadata": {
  "celltoolbar": "Tags",
  "kernelspec": {
   "display_name": "Python 3",
   "language": "python",
   "name": "python3"
  },
  "language_info": {
   "codemirror_mode": {
    "name": "ipython",
    "version": 3
   },
   "file_extension": ".py",
   "mimetype": "text/x-python",
   "name": "python",
   "nbconvert_exporter": "python",
   "pygments_lexer": "ipython3",
   "version": "3.8.8"
  }
 },
 "nbformat": 4,
 "nbformat_minor": 5
}
