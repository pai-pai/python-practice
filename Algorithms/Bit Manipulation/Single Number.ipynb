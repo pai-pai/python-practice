{
 "cells": [
  {
   "cell_type": "markdown",
   "id": "872150ba",
   "metadata": {
    "tags": [
     "LeetCode",
     "Algorithms",
     "Bit_Manipulation",
     "Easy"
    ]
   },
   "source": [
    "Given a **non-empty** array of integers $\\textit{nums}$, every element appears twice except for one. Find that single one.\n",
    "\n",
    "You must implement a solution with a linear runtime complexity and use only constant extra space.\n",
    " \n",
    "\n",
    "*Example 1*\n",
    "\n",
    "$\\textit{nums}$ = [2,2,1]<br />\n",
    "Returns 1\n",
    "\n",
    "*Example 2*\n",
    "\n",
    "$\\textit{nums}$ = [4,1,2,1,2]<br />\n",
    "Returns 4\n",
    "\n",
    "*Example 3*\n",
    "\n",
    "$\\textit{nums}$ = [1]<br />\n",
    "Returns 1\n",
    "\n",
    "\n",
    "*Code*"
   ]
  },
  {
   "cell_type": "code",
   "execution_count": 1,
   "id": "32f8d7a4",
   "metadata": {},
   "outputs": [],
   "source": [
    "class Solution:\n",
    "    def singleNumber(self, nums):\n",
    "        result = 0\n",
    "        for num in nums:\n",
    "            print(f\"{result:08b}\", f\"{num:08b}\")\n",
    "            result ^= num\n",
    "        return result"
   ]
  },
  {
   "cell_type": "code",
   "execution_count": 2,
   "id": "a4f8024b",
   "metadata": {},
   "outputs": [
    {
     "name": "stdout",
     "output_type": "stream",
     "text": [
      "00000000 00000100\n",
      "00000100 00000001\n",
      "00000101 00000010\n",
      "00000111 00000001\n",
      "00000110 00000010\n",
      "4\n"
     ]
    }
   ],
   "source": [
    "print(Solution().singleNumber([4,1,2,1,2]))"
   ]
  },
  {
   "cell_type": "code",
   "execution_count": 3,
   "id": "54bf5fc5",
   "metadata": {},
   "outputs": [
    {
     "name": "stdout",
     "output_type": "stream",
     "text": [
      "00000000 00000010\n",
      "00000010 00000001\n",
      "00000011 00000010\n",
      "1\n"
     ]
    }
   ],
   "source": [
    "print(Solution().singleNumber([2,1,2]))"
   ]
  }
 ],
 "metadata": {
  "celltoolbar": "Tags",
  "kernelspec": {
   "display_name": "Python 3",
   "language": "python",
   "name": "python3"
  },
  "language_info": {
   "codemirror_mode": {
    "name": "ipython",
    "version": 3
   },
   "file_extension": ".py",
   "mimetype": "text/x-python",
   "name": "python",
   "nbconvert_exporter": "python",
   "pygments_lexer": "ipython3",
   "version": "3.8.8"
  }
 },
 "nbformat": 4,
 "nbformat_minor": 5
}
