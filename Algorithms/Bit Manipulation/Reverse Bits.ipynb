{
 "cells": [
  {
   "cell_type": "markdown",
   "id": "1b929b8a",
   "metadata": {
    "tags": [
     "LeetCode",
     "Algorithms",
     "Bit_Manipulation",
     "Easy"
    ]
   },
   "source": [
    "Reverse bits of a given 32 bits unsigned integer.\n",
    "\n",
    "**Note:**\n",
    "\n",
    "- Note that in some languages, such as Java, there is no unsigned integer type. In this case, both input and output will be given as a signed integer type. They should not affect your implementation, as the integer's internal binary representation is the same, whether it is signed or unsigned.\n",
    "- In Java, the compiler represents the signed integers using 2's complement notation. Therefore, in **Example 2** above, the input represents the signed integer -3 and the output represents the signed integer -1073741825.\n",
    " \n",
    "\n",
    "*Example 1*\n",
    "\n",
    "$n$ = 00000010100101000001111010011100<br />\n",
    "Returns 964176192 (00111001011110000010100101000000)<br />\n",
    "Explanation: The input binary string 00000010100101000001111010011100 represents the unsigned integer 43261596, so return 964176192 which its binary representation is 00111001011110000010100101000000.\n",
    "\n",
    "*Example 2*\n",
    "\n",
    "$n$ = 11111111111111111111111111111101<br />\n",
    "Returns 3221225471 (10111111111111111111111111111111)<br />\n",
    "Explanation: The input binary string 11111111111111111111111111111101 represents the unsigned integer 4294967293, so return 3221225471 which its binary representation is 10111111111111111111111111111111.\n",
    " \n",
    "\n",
    "**Constraints:**\n",
    "\n",
    "- The input must be a **binary string** of length 32.\n",
    "\n",
    "\n",
    "*Code*"
   ]
  },
  {
   "cell_type": "code",
   "execution_count": 18,
   "id": "0bc6a7bd",
   "metadata": {},
   "outputs": [],
   "source": [
    "class Solution:\n",
    "    def reverseBits(self, n):\n",
    "        reversed = 0\n",
    "        for _ in range(32):\n",
    "            reversed <<= 1\n",
    "            reversed += n & 1\n",
    "            n >>= 1\n",
    "        return reversed"
   ]
  },
  {
   "cell_type": "code",
   "execution_count": 19,
   "id": "234a51c8",
   "metadata": {},
   "outputs": [
    {
     "name": "stdout",
     "output_type": "stream",
     "text": [
      "00111001011110000010100101000000\n"
     ]
    }
   ],
   "source": [
    "n = 0b00000010100101000001111010011100\n",
    "print(f\"{Solution().reverseBits(n):032b}\")"
   ]
  },
  {
   "cell_type": "code",
   "execution_count": 20,
   "id": "613f5318",
   "metadata": {},
   "outputs": [
    {
     "name": "stdout",
     "output_type": "stream",
     "text": [
      "10111111111111111111111111111111\n"
     ]
    }
   ],
   "source": [
    "n = 0b11111111111111111111111111111101\n",
    "print(f\"{Solution().reverseBits(n):032b}\")"
   ]
  }
 ],
 "metadata": {
  "celltoolbar": "Tags",
  "kernelspec": {
   "display_name": "Python 3",
   "language": "python",
   "name": "python3"
  },
  "language_info": {
   "codemirror_mode": {
    "name": "ipython",
    "version": 3
   },
   "file_extension": ".py",
   "mimetype": "text/x-python",
   "name": "python",
   "nbconvert_exporter": "python",
   "pygments_lexer": "ipython3",
   "version": "3.8.8"
  }
 },
 "nbformat": 4,
 "nbformat_minor": 5
}
