{
 "cells": [
  {
   "cell_type": "markdown",
   "id": "052c6f86",
   "metadata": {
    "tags": [
     "LeetCode",
     "Algorithms",
     "Bit_Manipulation",
     "Easy"
    ]
   },
   "source": [
    "Given an integer $n$, return `true` if it is a power of two. Otherwise, return `false`.\n",
    "\n",
    "An integer $n$ is a power of two, if there exists an integer $x$ such that $n == 2x$.\n",
    "\n",
    "\n",
    "*Example 1*\n",
    "\n",
    "$n$ = 1<br />\n",
    "Returns `true`. $2^{0} = 1$\n",
    "\n",
    "*Example 2*\n",
    "\n",
    "$n$ = 16<br />\n",
    "Returns `true`. $2^{4} = 16$\n",
    "\n",
    "*Example 2*\n",
    "\n",
    "$n$ = 3<br />\n",
    "Returns `false`\n",
    "\n",
    "\n",
    "*Code*"
   ]
  },
  {
   "cell_type": "code",
   "execution_count": 82,
   "id": "d5702c83",
   "metadata": {},
   "outputs": [],
   "source": [
    "class Solution:\n",
    "    def isPowerOfTwo(self, n):\n",
    "        if n == 0:\n",
    "            return False\n",
    "        print(n, n-1, f\"{n:05b}\", f\"{n-1:05b}\")\n",
    "        return (n & (n-1)) == 0"
   ]
  },
  {
   "cell_type": "code",
   "execution_count": 83,
   "id": "db3fee4d",
   "metadata": {},
   "outputs": [
    {
     "name": "stdout",
     "output_type": "stream",
     "text": [
      "2 1 00010 00001\n",
      "True\n"
     ]
    }
   ],
   "source": [
    "print(Solution().isPowerOfTwo(2))"
   ]
  },
  {
   "cell_type": "code",
   "execution_count": 84,
   "id": "272a06de",
   "metadata": {},
   "outputs": [
    {
     "name": "stdout",
     "output_type": "stream",
     "text": [
      "3 2 00011 00010\n",
      "False\n"
     ]
    }
   ],
   "source": [
    "print(Solution().isPowerOfTwo(3))"
   ]
  },
  {
   "cell_type": "code",
   "execution_count": 85,
   "id": "88c61666",
   "metadata": {},
   "outputs": [
    {
     "name": "stdout",
     "output_type": "stream",
     "text": [
      "16 15 10000 01111\n",
      "True\n"
     ]
    }
   ],
   "source": [
    "print(Solution().isPowerOfTwo(16))"
   ]
  },
  {
   "cell_type": "code",
   "execution_count": 86,
   "id": "23b7ad59",
   "metadata": {},
   "outputs": [
    {
     "name": "stdout",
     "output_type": "stream",
     "text": [
      "7 6 00111 00110\n",
      "False\n"
     ]
    }
   ],
   "source": [
    "print(Solution().isPowerOfTwo(7))"
   ]
  }
 ],
 "metadata": {
  "celltoolbar": "Tags",
  "kernelspec": {
   "display_name": "Python 3",
   "language": "python",
   "name": "python3"
  },
  "language_info": {
   "codemirror_mode": {
    "name": "ipython",
    "version": 3
   },
   "file_extension": ".py",
   "mimetype": "text/x-python",
   "name": "python",
   "nbconvert_exporter": "python",
   "pygments_lexer": "ipython3",
   "version": "3.8.8"
  }
 },
 "nbformat": 4,
 "nbformat_minor": 5
}
