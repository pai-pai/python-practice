{
 "cells": [
  {
   "cell_type": "markdown",
   "id": "71017f35",
   "metadata": {
    "tags": [
     "LeetCode",
     "Algorithms",
     "Bit_Manipulation",
     "Easy"
    ]
   },
   "source": [
    "Write a function that takes an unsigned integer and returns the number of '1' bits it has (also known as the Hamming weight).\n",
    "\n",
    "**Note:**\n",
    "- Note that in some languages, such as Java, there is no unsigned integer type. In this case, the input will be given as a signed integer type. It should not affect your implementation, as the integer's internal binary representation is the same, whether it is signed or unsigned.\n",
    "- In Java, the compiler represents the signed integers using 2's complement notation. Therefore, in Example 3, the input represents the signed integer. -3.\n",
    "\n",
    "\n",
    "*Example 1*\n",
    "\n",
    "$n$ = 00000000000000000000000000001011<br />\n",
    "Returns 3. The input binary string 00000000000000000000000000001011 has a total of three '1' bits.\n",
    "\n",
    "*Example 2*\n",
    "\n",
    "n = 00000000000000000000000010000000\n",
    "Returns 1. The input binary string 00000000000000000000000010000000 has a total of one '1' bit.\n",
    "\n",
    "*Example 3*\n",
    "\n",
    "n = 11111111111111111111111111111101\n",
    "Returns 31. The input binary string 11111111111111111111111111111101 has a total of thirty one '1' bits.\n",
    "\n",
    "\n",
    "*Code*"
   ]
  },
  {
   "cell_type": "code",
   "execution_count": 16,
   "id": "e4908802",
   "metadata": {},
   "outputs": [],
   "source": [
    "class Solution:\n",
    "    def hammingWeight(self, n):\n",
    "        count = 0\n",
    "        while n:\n",
    "            count += n & 1\n",
    "            n = n >> 1\n",
    "        return count"
   ]
  },
  {
   "cell_type": "code",
   "execution_count": 17,
   "id": "7b657d28",
   "metadata": {},
   "outputs": [
    {
     "name": "stdout",
     "output_type": "stream",
     "text": [
      "1\n"
     ]
    }
   ],
   "source": [
    "print(Solution().hammingWeight(4))"
   ]
  },
  {
   "cell_type": "code",
   "execution_count": 18,
   "id": "4cbaee14",
   "metadata": {},
   "outputs": [
    {
     "name": "stdout",
     "output_type": "stream",
     "text": [
      "2\n"
     ]
    }
   ],
   "source": [
    "print(Solution().hammingWeight(3))"
   ]
  },
  {
   "cell_type": "code",
   "execution_count": 19,
   "id": "563a1a07",
   "metadata": {},
   "outputs": [
    {
     "name": "stdout",
     "output_type": "stream",
     "text": [
      "31\n"
     ]
    }
   ],
   "source": [
    "print(Solution().hammingWeight(0b11111111111111111111111111111101))"
   ]
  }
 ],
 "metadata": {
  "celltoolbar": "Tags",
  "kernelspec": {
   "display_name": "Python 3",
   "language": "python",
   "name": "python3"
  },
  "language_info": {
   "codemirror_mode": {
    "name": "ipython",
    "version": 3
   },
   "file_extension": ".py",
   "mimetype": "text/x-python",
   "name": "python",
   "nbconvert_exporter": "python",
   "pygments_lexer": "ipython3",
   "version": "3.8.8"
  }
 },
 "nbformat": 4,
 "nbformat_minor": 5
}
