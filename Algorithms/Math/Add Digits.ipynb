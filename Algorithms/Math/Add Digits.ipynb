{
 "cells": [
  {
   "cell_type": "markdown",
   "id": "20f154c8",
   "metadata": {},
   "source": [
    "Given an integer $\\textit{num}$, repeatedly add all its digits until the result has only one digit, and return it.\n",
    "\n",
    "\n",
    "*Example 1*\n",
    "\n",
    "$\\textit{num}$ = 38<br />\n",
    "Returns 2<br />\n",
    "Explanation: The process is:\n",
    "1. 38 --> 3 + 8 --> 11\n",
    "2. 11 --> 1 + 1 --> 2 \n",
    "Since 2 has only one digit, return it.\n",
    "\n",
    "Example 2:\n",
    "\n",
    "$\\textit{num}$ = 0<br />\n",
    "Returns 0\n",
    "\n",
    "\n",
    "*Code*"
   ]
  },
  {
   "cell_type": "code",
   "execution_count": 46,
   "id": "fe21c5f0",
   "metadata": {},
   "outputs": [],
   "source": [
    "class Solution:\n",
    "    def addDigits(self, num):\n",
    "        res = 0\n",
    "        while num > 0:\n",
    "            res, num = res + num%10, num//10\n",
    "            if res >= 10 and num == 0:\n",
    "                num, res = res, 0\n",
    "        return res\n",
    "        \n",
    "    def addDigits2(self, num):\n",
    "        while num >= 10:\n",
    "            res = 0\n",
    "            while num:\n",
    "                res, num = res + num%10, num//10\n",
    "            num = res\n",
    "        return num\n",
    "\n",
    "    \n",
    "solution = Solution()\n",
    "s = lambda num: print(\"addDigits:  {}\".format(solution.addDigits(num)),\n",
    "                      \"addDigits2: {}\".format(solution.addDigits2(num)), sep=\"\\n\")"
   ]
  },
  {
   "cell_type": "code",
   "execution_count": 47,
   "id": "cf907c98",
   "metadata": {},
   "outputs": [
    {
     "name": "stdout",
     "output_type": "stream",
     "text": [
      "addDigits:  2\n",
      "addDigits2: 2\n"
     ]
    }
   ],
   "source": [
    "s(38)"
   ]
  },
  {
   "cell_type": "code",
   "execution_count": 48,
   "id": "e5812f96",
   "metadata": {},
   "outputs": [
    {
     "name": "stdout",
     "output_type": "stream",
     "text": [
      "addDigits:  0\n",
      "addDigits2: 0\n"
     ]
    }
   ],
   "source": [
    "s(0)"
   ]
  },
  {
   "cell_type": "code",
   "execution_count": 49,
   "id": "b1323117",
   "metadata": {},
   "outputs": [
    {
     "name": "stdout",
     "output_type": "stream",
     "text": [
      "addDigits:  1\n",
      "addDigits2: 1\n"
     ]
    }
   ],
   "source": [
    "s(19)"
   ]
  },
  {
   "cell_type": "code",
   "execution_count": 50,
   "id": "d965d9c4",
   "metadata": {},
   "outputs": [
    {
     "name": "stdout",
     "output_type": "stream",
     "text": [
      "addDigits:  1\n",
      "addDigits2: 1\n"
     ]
    }
   ],
   "source": [
    "s(10)"
   ]
  }
 ],
 "metadata": {
  "kernelspec": {
   "display_name": "Python 3",
   "language": "python",
   "name": "python3"
  },
  "language_info": {
   "codemirror_mode": {
    "name": "ipython",
    "version": 3
   },
   "file_extension": ".py",
   "mimetype": "text/x-python",
   "name": "python",
   "nbconvert_exporter": "python",
   "pygments_lexer": "ipython3",
   "version": "3.8.8"
  }
 },
 "nbformat": 4,
 "nbformat_minor": 5
}
